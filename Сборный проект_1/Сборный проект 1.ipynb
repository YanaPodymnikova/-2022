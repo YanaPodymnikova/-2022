{
 "cells": [
  {
   "cell_type": "markdown",
   "metadata": {},
   "source": [
    "# Перспективная игра\n"
   ]
  },
  {
   "cell_type": "markdown",
   "metadata": {},
   "source": [
    "##### Описание проекта:\n",
    "Интернет-магазин «Стримчик», продаёт по всему миру компьютерные игры. Из открытых источников доступны исторические данные о продажах игр, оценки пользователей и экспертов, жанры и платформы (например, Xbox или PlayStation).\n",
    "\n",
    "##### Задача:\n",
    "Выявить определяющие успешность игры закономерности и определить потенциально популярный продукт для дальнейшего планирования  рекламных кампаний.\n",
    "\n",
    "##### Этапы анализа:\n",
    "\n",
    "- первичный анализ данных\n",
    "- предобработка данных (устранение дубликатов, если имеются, выбросов, исправление типов данных, заполнение пропусков, добавление необходимых данных в датасет)\n",
    "- исследовательский анализ: пределение факторов, влияющих на продажи, определение лидеров продаж\n",
    "- составление портретов регионов (самые популярные жанры и платформы, факторы популярности)\n",
    "- проверка гипотез о том, что средние пользовательские рейтинги платформ Xbox One и PC одинаковые; редкие пользовательские рейтинги жанров Action и Sports разные)\n",
    "- общий вывод и решение поставленной задачи\n"
   ]
  },
  {
   "cell_type": "markdown",
   "metadata": {},
   "source": [
    "# Шаг 1: Изучим общую информацию из имеющихся данных"
   ]
  },
  {
   "cell_type": "code",
   "execution_count": 1,
   "metadata": {},
   "outputs": [
    {
     "name": "stdout",
     "output_type": "stream",
     "text": [
      "<class 'pandas.core.frame.DataFrame'>\n",
      "RangeIndex: 16715 entries, 0 to 16714\n",
      "Data columns (total 11 columns):\n",
      " #   Column           Non-Null Count  Dtype  \n",
      "---  ------           --------------  -----  \n",
      " 0   Name             16713 non-null  object \n",
      " 1   Platform         16715 non-null  object \n",
      " 2   Year_of_Release  16446 non-null  float64\n",
      " 3   Genre            16713 non-null  object \n",
      " 4   NA_sales         16715 non-null  float64\n",
      " 5   EU_sales         16715 non-null  float64\n",
      " 6   JP_sales         16715 non-null  float64\n",
      " 7   Other_sales      16715 non-null  float64\n",
      " 8   Critic_Score     8137 non-null   float64\n",
      " 9   User_Score       10014 non-null  object \n",
      " 10  Rating           9949 non-null   object \n",
      "dtypes: float64(6), object(5)\n",
      "memory usage: 1.4+ MB\n",
      "None\n"
     ]
    },
    {
     "data": {
      "text/html": [
       "<div>\n",
       "<style scoped>\n",
       "    .dataframe tbody tr th:only-of-type {\n",
       "        vertical-align: middle;\n",
       "    }\n",
       "\n",
       "    .dataframe tbody tr th {\n",
       "        vertical-align: top;\n",
       "    }\n",
       "\n",
       "    .dataframe thead th {\n",
       "        text-align: right;\n",
       "    }\n",
       "</style>\n",
       "<table border=\"1\" class=\"dataframe\">\n",
       "  <thead>\n",
       "    <tr style=\"text-align: right;\">\n",
       "      <th></th>\n",
       "      <th>Name</th>\n",
       "      <th>Platform</th>\n",
       "      <th>Year_of_Release</th>\n",
       "      <th>Genre</th>\n",
       "      <th>NA_sales</th>\n",
       "      <th>EU_sales</th>\n",
       "      <th>JP_sales</th>\n",
       "      <th>Other_sales</th>\n",
       "      <th>Critic_Score</th>\n",
       "      <th>User_Score</th>\n",
       "      <th>Rating</th>\n",
       "    </tr>\n",
       "  </thead>\n",
       "  <tbody>\n",
       "    <tr>\n",
       "      <th>0</th>\n",
       "      <td>Wii Sports</td>\n",
       "      <td>Wii</td>\n",
       "      <td>2006.0</td>\n",
       "      <td>Sports</td>\n",
       "      <td>41.36</td>\n",
       "      <td>28.96</td>\n",
       "      <td>3.77</td>\n",
       "      <td>8.45</td>\n",
       "      <td>76.0</td>\n",
       "      <td>8</td>\n",
       "      <td>E</td>\n",
       "    </tr>\n",
       "    <tr>\n",
       "      <th>1</th>\n",
       "      <td>Super Mario Bros.</td>\n",
       "      <td>NES</td>\n",
       "      <td>1985.0</td>\n",
       "      <td>Platform</td>\n",
       "      <td>29.08</td>\n",
       "      <td>3.58</td>\n",
       "      <td>6.81</td>\n",
       "      <td>0.77</td>\n",
       "      <td>NaN</td>\n",
       "      <td>NaN</td>\n",
       "      <td>NaN</td>\n",
       "    </tr>\n",
       "    <tr>\n",
       "      <th>2</th>\n",
       "      <td>Mario Kart Wii</td>\n",
       "      <td>Wii</td>\n",
       "      <td>2008.0</td>\n",
       "      <td>Racing</td>\n",
       "      <td>15.68</td>\n",
       "      <td>12.76</td>\n",
       "      <td>3.79</td>\n",
       "      <td>3.29</td>\n",
       "      <td>82.0</td>\n",
       "      <td>8.3</td>\n",
       "      <td>E</td>\n",
       "    </tr>\n",
       "    <tr>\n",
       "      <th>3</th>\n",
       "      <td>Wii Sports Resort</td>\n",
       "      <td>Wii</td>\n",
       "      <td>2009.0</td>\n",
       "      <td>Sports</td>\n",
       "      <td>15.61</td>\n",
       "      <td>10.93</td>\n",
       "      <td>3.28</td>\n",
       "      <td>2.95</td>\n",
       "      <td>80.0</td>\n",
       "      <td>8</td>\n",
       "      <td>E</td>\n",
       "    </tr>\n",
       "    <tr>\n",
       "      <th>4</th>\n",
       "      <td>Pokemon Red/Pokemon Blue</td>\n",
       "      <td>GB</td>\n",
       "      <td>1996.0</td>\n",
       "      <td>Role-Playing</td>\n",
       "      <td>11.27</td>\n",
       "      <td>8.89</td>\n",
       "      <td>10.22</td>\n",
       "      <td>1.00</td>\n",
       "      <td>NaN</td>\n",
       "      <td>NaN</td>\n",
       "      <td>NaN</td>\n",
       "    </tr>\n",
       "    <tr>\n",
       "      <th>...</th>\n",
       "      <td>...</td>\n",
       "      <td>...</td>\n",
       "      <td>...</td>\n",
       "      <td>...</td>\n",
       "      <td>...</td>\n",
       "      <td>...</td>\n",
       "      <td>...</td>\n",
       "      <td>...</td>\n",
       "      <td>...</td>\n",
       "      <td>...</td>\n",
       "      <td>...</td>\n",
       "    </tr>\n",
       "    <tr>\n",
       "      <th>16710</th>\n",
       "      <td>Samurai Warriors: Sanada Maru</td>\n",
       "      <td>PS3</td>\n",
       "      <td>2016.0</td>\n",
       "      <td>Action</td>\n",
       "      <td>0.00</td>\n",
       "      <td>0.00</td>\n",
       "      <td>0.01</td>\n",
       "      <td>0.00</td>\n",
       "      <td>NaN</td>\n",
       "      <td>NaN</td>\n",
       "      <td>NaN</td>\n",
       "    </tr>\n",
       "    <tr>\n",
       "      <th>16711</th>\n",
       "      <td>LMA Manager 2007</td>\n",
       "      <td>X360</td>\n",
       "      <td>2006.0</td>\n",
       "      <td>Sports</td>\n",
       "      <td>0.00</td>\n",
       "      <td>0.01</td>\n",
       "      <td>0.00</td>\n",
       "      <td>0.00</td>\n",
       "      <td>NaN</td>\n",
       "      <td>NaN</td>\n",
       "      <td>NaN</td>\n",
       "    </tr>\n",
       "    <tr>\n",
       "      <th>16712</th>\n",
       "      <td>Haitaka no Psychedelica</td>\n",
       "      <td>PSV</td>\n",
       "      <td>2016.0</td>\n",
       "      <td>Adventure</td>\n",
       "      <td>0.00</td>\n",
       "      <td>0.00</td>\n",
       "      <td>0.01</td>\n",
       "      <td>0.00</td>\n",
       "      <td>NaN</td>\n",
       "      <td>NaN</td>\n",
       "      <td>NaN</td>\n",
       "    </tr>\n",
       "    <tr>\n",
       "      <th>16713</th>\n",
       "      <td>Spirits &amp; Spells</td>\n",
       "      <td>GBA</td>\n",
       "      <td>2003.0</td>\n",
       "      <td>Platform</td>\n",
       "      <td>0.01</td>\n",
       "      <td>0.00</td>\n",
       "      <td>0.00</td>\n",
       "      <td>0.00</td>\n",
       "      <td>NaN</td>\n",
       "      <td>NaN</td>\n",
       "      <td>NaN</td>\n",
       "    </tr>\n",
       "    <tr>\n",
       "      <th>16714</th>\n",
       "      <td>Winning Post 8 2016</td>\n",
       "      <td>PSV</td>\n",
       "      <td>2016.0</td>\n",
       "      <td>Simulation</td>\n",
       "      <td>0.00</td>\n",
       "      <td>0.00</td>\n",
       "      <td>0.01</td>\n",
       "      <td>0.00</td>\n",
       "      <td>NaN</td>\n",
       "      <td>NaN</td>\n",
       "      <td>NaN</td>\n",
       "    </tr>\n",
       "  </tbody>\n",
       "</table>\n",
       "<p>16715 rows × 11 columns</p>\n",
       "</div>"
      ],
      "text/plain": [
       "                                Name Platform  Year_of_Release         Genre  \\\n",
       "0                         Wii Sports      Wii           2006.0        Sports   \n",
       "1                  Super Mario Bros.      NES           1985.0      Platform   \n",
       "2                     Mario Kart Wii      Wii           2008.0        Racing   \n",
       "3                  Wii Sports Resort      Wii           2009.0        Sports   \n",
       "4           Pokemon Red/Pokemon Blue       GB           1996.0  Role-Playing   \n",
       "...                              ...      ...              ...           ...   \n",
       "16710  Samurai Warriors: Sanada Maru      PS3           2016.0        Action   \n",
       "16711               LMA Manager 2007     X360           2006.0        Sports   \n",
       "16712        Haitaka no Psychedelica      PSV           2016.0     Adventure   \n",
       "16713               Spirits & Spells      GBA           2003.0      Platform   \n",
       "16714            Winning Post 8 2016      PSV           2016.0    Simulation   \n",
       "\n",
       "       NA_sales  EU_sales  JP_sales  Other_sales  Critic_Score User_Score  \\\n",
       "0         41.36     28.96      3.77         8.45          76.0          8   \n",
       "1         29.08      3.58      6.81         0.77           NaN        NaN   \n",
       "2         15.68     12.76      3.79         3.29          82.0        8.3   \n",
       "3         15.61     10.93      3.28         2.95          80.0          8   \n",
       "4         11.27      8.89     10.22         1.00           NaN        NaN   \n",
       "...         ...       ...       ...          ...           ...        ...   \n",
       "16710      0.00      0.00      0.01         0.00           NaN        NaN   \n",
       "16711      0.00      0.01      0.00         0.00           NaN        NaN   \n",
       "16712      0.00      0.00      0.01         0.00           NaN        NaN   \n",
       "16713      0.01      0.00      0.00         0.00           NaN        NaN   \n",
       "16714      0.00      0.00      0.01         0.00           NaN        NaN   \n",
       "\n",
       "      Rating  \n",
       "0          E  \n",
       "1        NaN  \n",
       "2          E  \n",
       "3          E  \n",
       "4        NaN  \n",
       "...      ...  \n",
       "16710    NaN  \n",
       "16711    NaN  \n",
       "16712    NaN  \n",
       "16713    NaN  \n",
       "16714    NaN  \n",
       "\n",
       "[16715 rows x 11 columns]"
      ]
     },
     "execution_count": 1,
     "metadata": {},
     "output_type": "execute_result"
    }
   ],
   "source": [
    "\n",
    "import pandas as pd\n",
    "import numpy as np\n",
    "import scipy.stats as st\n",
    "import matplotlib.pyplot as plt\n",
    "from datetime import datetime\n",
    "import seaborn as sns\n",
    "\n",
    "import warnings\n",
    "warnings.filterwarnings('ignore')\n",
    "\n",
    "#Импортируем данные:\n",
    "\n",
    "df = pd.read_csv('/datasets/games.csv')\n",
    "print(df.info())\n",
    "df\n"
   ]
  },
  {
   "cell_type": "code",
   "execution_count": 2,
   "metadata": {},
   "outputs": [
    {
     "data": {
      "text/plain": [
       "Index(['Name', 'Platform', 'Year_of_Release', 'Genre', 'NA_sales', 'EU_sales',\n",
       "       'JP_sales', 'Other_sales', 'Critic_Score', 'User_Score', 'Rating'],\n",
       "      dtype='object')"
      ]
     },
     "execution_count": 2,
     "metadata": {},
     "output_type": "execute_result"
    }
   ],
   "source": [
    "#Посмотрим какие столбцы у нас имеются и все ли с ними впорядке\n",
    "df.columns"
   ]
  },
  {
   "cell_type": "code",
   "execution_count": 3,
   "metadata": {},
   "outputs": [
    {
     "data": {
      "text/plain": [
       "Name                  2\n",
       "Platform              0\n",
       "Year_of_Release     269\n",
       "Genre                 2\n",
       "NA_sales              0\n",
       "EU_sales              0\n",
       "JP_sales              0\n",
       "Other_sales           0\n",
       "Critic_Score       8578\n",
       "User_Score         6701\n",
       "Rating             6766\n",
       "dtype: int64"
      ]
     },
     "execution_count": 3,
     "metadata": {},
     "output_type": "execute_result"
    }
   ],
   "source": [
    "#Посчитаем количество пустых значений\n",
    "df.isna().sum()"
   ]
  },
  {
   "cell_type": "code",
   "execution_count": 4,
   "metadata": {},
   "outputs": [
    {
     "data": {
      "text/html": [
       "<div>\n",
       "<style scoped>\n",
       "    .dataframe tbody tr th:only-of-type {\n",
       "        vertical-align: middle;\n",
       "    }\n",
       "\n",
       "    .dataframe tbody tr th {\n",
       "        vertical-align: top;\n",
       "    }\n",
       "\n",
       "    .dataframe thead th {\n",
       "        text-align: right;\n",
       "    }\n",
       "</style>\n",
       "<table border=\"1\" class=\"dataframe\">\n",
       "  <thead>\n",
       "    <tr style=\"text-align: right;\">\n",
       "      <th></th>\n",
       "      <th>Name</th>\n",
       "      <th>Platform</th>\n",
       "      <th>Year_of_Release</th>\n",
       "      <th>Genre</th>\n",
       "      <th>NA_sales</th>\n",
       "      <th>EU_sales</th>\n",
       "      <th>JP_sales</th>\n",
       "      <th>Other_sales</th>\n",
       "      <th>Critic_Score</th>\n",
       "      <th>User_Score</th>\n",
       "      <th>Rating</th>\n",
       "    </tr>\n",
       "  </thead>\n",
       "  <tbody>\n",
       "    <tr>\n",
       "      <th>1</th>\n",
       "      <td>Super Mario Bros.</td>\n",
       "      <td>NES</td>\n",
       "      <td>1985.0</td>\n",
       "      <td>Platform</td>\n",
       "      <td>29.08</td>\n",
       "      <td>3.58</td>\n",
       "      <td>6.81</td>\n",
       "      <td>0.77</td>\n",
       "      <td>NaN</td>\n",
       "      <td>NaN</td>\n",
       "      <td>NaN</td>\n",
       "    </tr>\n",
       "    <tr>\n",
       "      <th>4</th>\n",
       "      <td>Pokemon Red/Pokemon Blue</td>\n",
       "      <td>GB</td>\n",
       "      <td>1996.0</td>\n",
       "      <td>Role-Playing</td>\n",
       "      <td>11.27</td>\n",
       "      <td>8.89</td>\n",
       "      <td>10.22</td>\n",
       "      <td>1.00</td>\n",
       "      <td>NaN</td>\n",
       "      <td>NaN</td>\n",
       "      <td>NaN</td>\n",
       "    </tr>\n",
       "    <tr>\n",
       "      <th>5</th>\n",
       "      <td>Tetris</td>\n",
       "      <td>GB</td>\n",
       "      <td>1989.0</td>\n",
       "      <td>Puzzle</td>\n",
       "      <td>23.20</td>\n",
       "      <td>2.26</td>\n",
       "      <td>4.22</td>\n",
       "      <td>0.58</td>\n",
       "      <td>NaN</td>\n",
       "      <td>NaN</td>\n",
       "      <td>NaN</td>\n",
       "    </tr>\n",
       "    <tr>\n",
       "      <th>9</th>\n",
       "      <td>Duck Hunt</td>\n",
       "      <td>NES</td>\n",
       "      <td>1984.0</td>\n",
       "      <td>Shooter</td>\n",
       "      <td>26.93</td>\n",
       "      <td>0.63</td>\n",
       "      <td>0.28</td>\n",
       "      <td>0.47</td>\n",
       "      <td>NaN</td>\n",
       "      <td>NaN</td>\n",
       "      <td>NaN</td>\n",
       "    </tr>\n",
       "    <tr>\n",
       "      <th>10</th>\n",
       "      <td>Nintendogs</td>\n",
       "      <td>DS</td>\n",
       "      <td>2005.0</td>\n",
       "      <td>Simulation</td>\n",
       "      <td>9.05</td>\n",
       "      <td>10.95</td>\n",
       "      <td>1.93</td>\n",
       "      <td>2.74</td>\n",
       "      <td>NaN</td>\n",
       "      <td>NaN</td>\n",
       "      <td>NaN</td>\n",
       "    </tr>\n",
       "    <tr>\n",
       "      <th>...</th>\n",
       "      <td>...</td>\n",
       "      <td>...</td>\n",
       "      <td>...</td>\n",
       "      <td>...</td>\n",
       "      <td>...</td>\n",
       "      <td>...</td>\n",
       "      <td>...</td>\n",
       "      <td>...</td>\n",
       "      <td>...</td>\n",
       "      <td>...</td>\n",
       "      <td>...</td>\n",
       "    </tr>\n",
       "    <tr>\n",
       "      <th>16710</th>\n",
       "      <td>Samurai Warriors: Sanada Maru</td>\n",
       "      <td>PS3</td>\n",
       "      <td>2016.0</td>\n",
       "      <td>Action</td>\n",
       "      <td>0.00</td>\n",
       "      <td>0.00</td>\n",
       "      <td>0.01</td>\n",
       "      <td>0.00</td>\n",
       "      <td>NaN</td>\n",
       "      <td>NaN</td>\n",
       "      <td>NaN</td>\n",
       "    </tr>\n",
       "    <tr>\n",
       "      <th>16711</th>\n",
       "      <td>LMA Manager 2007</td>\n",
       "      <td>X360</td>\n",
       "      <td>2006.0</td>\n",
       "      <td>Sports</td>\n",
       "      <td>0.00</td>\n",
       "      <td>0.01</td>\n",
       "      <td>0.00</td>\n",
       "      <td>0.00</td>\n",
       "      <td>NaN</td>\n",
       "      <td>NaN</td>\n",
       "      <td>NaN</td>\n",
       "    </tr>\n",
       "    <tr>\n",
       "      <th>16712</th>\n",
       "      <td>Haitaka no Psychedelica</td>\n",
       "      <td>PSV</td>\n",
       "      <td>2016.0</td>\n",
       "      <td>Adventure</td>\n",
       "      <td>0.00</td>\n",
       "      <td>0.00</td>\n",
       "      <td>0.01</td>\n",
       "      <td>0.00</td>\n",
       "      <td>NaN</td>\n",
       "      <td>NaN</td>\n",
       "      <td>NaN</td>\n",
       "    </tr>\n",
       "    <tr>\n",
       "      <th>16713</th>\n",
       "      <td>Spirits &amp; Spells</td>\n",
       "      <td>GBA</td>\n",
       "      <td>2003.0</td>\n",
       "      <td>Platform</td>\n",
       "      <td>0.01</td>\n",
       "      <td>0.00</td>\n",
       "      <td>0.00</td>\n",
       "      <td>0.00</td>\n",
       "      <td>NaN</td>\n",
       "      <td>NaN</td>\n",
       "      <td>NaN</td>\n",
       "    </tr>\n",
       "    <tr>\n",
       "      <th>16714</th>\n",
       "      <td>Winning Post 8 2016</td>\n",
       "      <td>PSV</td>\n",
       "      <td>2016.0</td>\n",
       "      <td>Simulation</td>\n",
       "      <td>0.00</td>\n",
       "      <td>0.00</td>\n",
       "      <td>0.01</td>\n",
       "      <td>0.00</td>\n",
       "      <td>NaN</td>\n",
       "      <td>NaN</td>\n",
       "      <td>NaN</td>\n",
       "    </tr>\n",
       "  </tbody>\n",
       "</table>\n",
       "<p>8578 rows × 11 columns</p>\n",
       "</div>"
      ],
      "text/plain": [
       "                                Name Platform  Year_of_Release         Genre  \\\n",
       "1                  Super Mario Bros.      NES           1985.0      Platform   \n",
       "4           Pokemon Red/Pokemon Blue       GB           1996.0  Role-Playing   \n",
       "5                             Tetris       GB           1989.0        Puzzle   \n",
       "9                          Duck Hunt      NES           1984.0       Shooter   \n",
       "10                        Nintendogs       DS           2005.0    Simulation   \n",
       "...                              ...      ...              ...           ...   \n",
       "16710  Samurai Warriors: Sanada Maru      PS3           2016.0        Action   \n",
       "16711               LMA Manager 2007     X360           2006.0        Sports   \n",
       "16712        Haitaka no Psychedelica      PSV           2016.0     Adventure   \n",
       "16713               Spirits & Spells      GBA           2003.0      Platform   \n",
       "16714            Winning Post 8 2016      PSV           2016.0    Simulation   \n",
       "\n",
       "       NA_sales  EU_sales  JP_sales  Other_sales  Critic_Score User_Score  \\\n",
       "1         29.08      3.58      6.81         0.77           NaN        NaN   \n",
       "4         11.27      8.89     10.22         1.00           NaN        NaN   \n",
       "5         23.20      2.26      4.22         0.58           NaN        NaN   \n",
       "9         26.93      0.63      0.28         0.47           NaN        NaN   \n",
       "10         9.05     10.95      1.93         2.74           NaN        NaN   \n",
       "...         ...       ...       ...          ...           ...        ...   \n",
       "16710      0.00      0.00      0.01         0.00           NaN        NaN   \n",
       "16711      0.00      0.01      0.00         0.00           NaN        NaN   \n",
       "16712      0.00      0.00      0.01         0.00           NaN        NaN   \n",
       "16713      0.01      0.00      0.00         0.00           NaN        NaN   \n",
       "16714      0.00      0.00      0.01         0.00           NaN        NaN   \n",
       "\n",
       "      Rating  \n",
       "1        NaN  \n",
       "4        NaN  \n",
       "5        NaN  \n",
       "9        NaN  \n",
       "10       NaN  \n",
       "...      ...  \n",
       "16710    NaN  \n",
       "16711    NaN  \n",
       "16712    NaN  \n",
       "16713    NaN  \n",
       "16714    NaN  \n",
       "\n",
       "[8578 rows x 11 columns]"
      ]
     },
     "execution_count": 4,
     "metadata": {},
     "output_type": "execute_result"
    }
   ],
   "source": [
    "#Посмотрим на таблицу, где имеются пустые значения в столбце critic_score\n",
    "df[df['Critic_Score'].isna()]"
   ]
  },
  {
   "cell_type": "code",
   "execution_count": 5,
   "metadata": {},
   "outputs": [
    {
     "data": {
      "text/html": [
       "<div>\n",
       "<style scoped>\n",
       "    .dataframe tbody tr th:only-of-type {\n",
       "        vertical-align: middle;\n",
       "    }\n",
       "\n",
       "    .dataframe tbody tr th {\n",
       "        vertical-align: top;\n",
       "    }\n",
       "\n",
       "    .dataframe thead th {\n",
       "        text-align: right;\n",
       "    }\n",
       "</style>\n",
       "<table border=\"1\" class=\"dataframe\">\n",
       "  <thead>\n",
       "    <tr style=\"text-align: right;\">\n",
       "      <th></th>\n",
       "      <th>Name</th>\n",
       "      <th>Platform</th>\n",
       "      <th>Year_of_Release</th>\n",
       "      <th>Genre</th>\n",
       "      <th>NA_sales</th>\n",
       "      <th>EU_sales</th>\n",
       "      <th>JP_sales</th>\n",
       "      <th>Other_sales</th>\n",
       "      <th>Critic_Score</th>\n",
       "      <th>User_Score</th>\n",
       "      <th>Rating</th>\n",
       "    </tr>\n",
       "  </thead>\n",
       "  <tbody>\n",
       "    <tr>\n",
       "      <th>1</th>\n",
       "      <td>Super Mario Bros.</td>\n",
       "      <td>NES</td>\n",
       "      <td>1985.0</td>\n",
       "      <td>Platform</td>\n",
       "      <td>29.08</td>\n",
       "      <td>3.58</td>\n",
       "      <td>6.81</td>\n",
       "      <td>0.77</td>\n",
       "      <td>NaN</td>\n",
       "      <td>NaN</td>\n",
       "      <td>NaN</td>\n",
       "    </tr>\n",
       "    <tr>\n",
       "      <th>4</th>\n",
       "      <td>Pokemon Red/Pokemon Blue</td>\n",
       "      <td>GB</td>\n",
       "      <td>1996.0</td>\n",
       "      <td>Role-Playing</td>\n",
       "      <td>11.27</td>\n",
       "      <td>8.89</td>\n",
       "      <td>10.22</td>\n",
       "      <td>1.00</td>\n",
       "      <td>NaN</td>\n",
       "      <td>NaN</td>\n",
       "      <td>NaN</td>\n",
       "    </tr>\n",
       "    <tr>\n",
       "      <th>5</th>\n",
       "      <td>Tetris</td>\n",
       "      <td>GB</td>\n",
       "      <td>1989.0</td>\n",
       "      <td>Puzzle</td>\n",
       "      <td>23.20</td>\n",
       "      <td>2.26</td>\n",
       "      <td>4.22</td>\n",
       "      <td>0.58</td>\n",
       "      <td>NaN</td>\n",
       "      <td>NaN</td>\n",
       "      <td>NaN</td>\n",
       "    </tr>\n",
       "    <tr>\n",
       "      <th>9</th>\n",
       "      <td>Duck Hunt</td>\n",
       "      <td>NES</td>\n",
       "      <td>1984.0</td>\n",
       "      <td>Shooter</td>\n",
       "      <td>26.93</td>\n",
       "      <td>0.63</td>\n",
       "      <td>0.28</td>\n",
       "      <td>0.47</td>\n",
       "      <td>NaN</td>\n",
       "      <td>NaN</td>\n",
       "      <td>NaN</td>\n",
       "    </tr>\n",
       "    <tr>\n",
       "      <th>10</th>\n",
       "      <td>Nintendogs</td>\n",
       "      <td>DS</td>\n",
       "      <td>2005.0</td>\n",
       "      <td>Simulation</td>\n",
       "      <td>9.05</td>\n",
       "      <td>10.95</td>\n",
       "      <td>1.93</td>\n",
       "      <td>2.74</td>\n",
       "      <td>NaN</td>\n",
       "      <td>NaN</td>\n",
       "      <td>NaN</td>\n",
       "    </tr>\n",
       "    <tr>\n",
       "      <th>...</th>\n",
       "      <td>...</td>\n",
       "      <td>...</td>\n",
       "      <td>...</td>\n",
       "      <td>...</td>\n",
       "      <td>...</td>\n",
       "      <td>...</td>\n",
       "      <td>...</td>\n",
       "      <td>...</td>\n",
       "      <td>...</td>\n",
       "      <td>...</td>\n",
       "      <td>...</td>\n",
       "    </tr>\n",
       "    <tr>\n",
       "      <th>16710</th>\n",
       "      <td>Samurai Warriors: Sanada Maru</td>\n",
       "      <td>PS3</td>\n",
       "      <td>2016.0</td>\n",
       "      <td>Action</td>\n",
       "      <td>0.00</td>\n",
       "      <td>0.00</td>\n",
       "      <td>0.01</td>\n",
       "      <td>0.00</td>\n",
       "      <td>NaN</td>\n",
       "      <td>NaN</td>\n",
       "      <td>NaN</td>\n",
       "    </tr>\n",
       "    <tr>\n",
       "      <th>16711</th>\n",
       "      <td>LMA Manager 2007</td>\n",
       "      <td>X360</td>\n",
       "      <td>2006.0</td>\n",
       "      <td>Sports</td>\n",
       "      <td>0.00</td>\n",
       "      <td>0.01</td>\n",
       "      <td>0.00</td>\n",
       "      <td>0.00</td>\n",
       "      <td>NaN</td>\n",
       "      <td>NaN</td>\n",
       "      <td>NaN</td>\n",
       "    </tr>\n",
       "    <tr>\n",
       "      <th>16712</th>\n",
       "      <td>Haitaka no Psychedelica</td>\n",
       "      <td>PSV</td>\n",
       "      <td>2016.0</td>\n",
       "      <td>Adventure</td>\n",
       "      <td>0.00</td>\n",
       "      <td>0.00</td>\n",
       "      <td>0.01</td>\n",
       "      <td>0.00</td>\n",
       "      <td>NaN</td>\n",
       "      <td>NaN</td>\n",
       "      <td>NaN</td>\n",
       "    </tr>\n",
       "    <tr>\n",
       "      <th>16713</th>\n",
       "      <td>Spirits &amp; Spells</td>\n",
       "      <td>GBA</td>\n",
       "      <td>2003.0</td>\n",
       "      <td>Platform</td>\n",
       "      <td>0.01</td>\n",
       "      <td>0.00</td>\n",
       "      <td>0.00</td>\n",
       "      <td>0.00</td>\n",
       "      <td>NaN</td>\n",
       "      <td>NaN</td>\n",
       "      <td>NaN</td>\n",
       "    </tr>\n",
       "    <tr>\n",
       "      <th>16714</th>\n",
       "      <td>Winning Post 8 2016</td>\n",
       "      <td>PSV</td>\n",
       "      <td>2016.0</td>\n",
       "      <td>Simulation</td>\n",
       "      <td>0.00</td>\n",
       "      <td>0.00</td>\n",
       "      <td>0.01</td>\n",
       "      <td>0.00</td>\n",
       "      <td>NaN</td>\n",
       "      <td>NaN</td>\n",
       "      <td>NaN</td>\n",
       "    </tr>\n",
       "  </tbody>\n",
       "</table>\n",
       "<p>6701 rows × 11 columns</p>\n",
       "</div>"
      ],
      "text/plain": [
       "                                Name Platform  Year_of_Release         Genre  \\\n",
       "1                  Super Mario Bros.      NES           1985.0      Platform   \n",
       "4           Pokemon Red/Pokemon Blue       GB           1996.0  Role-Playing   \n",
       "5                             Tetris       GB           1989.0        Puzzle   \n",
       "9                          Duck Hunt      NES           1984.0       Shooter   \n",
       "10                        Nintendogs       DS           2005.0    Simulation   \n",
       "...                              ...      ...              ...           ...   \n",
       "16710  Samurai Warriors: Sanada Maru      PS3           2016.0        Action   \n",
       "16711               LMA Manager 2007     X360           2006.0        Sports   \n",
       "16712        Haitaka no Psychedelica      PSV           2016.0     Adventure   \n",
       "16713               Spirits & Spells      GBA           2003.0      Platform   \n",
       "16714            Winning Post 8 2016      PSV           2016.0    Simulation   \n",
       "\n",
       "       NA_sales  EU_sales  JP_sales  Other_sales  Critic_Score User_Score  \\\n",
       "1         29.08      3.58      6.81         0.77           NaN        NaN   \n",
       "4         11.27      8.89     10.22         1.00           NaN        NaN   \n",
       "5         23.20      2.26      4.22         0.58           NaN        NaN   \n",
       "9         26.93      0.63      0.28         0.47           NaN        NaN   \n",
       "10         9.05     10.95      1.93         2.74           NaN        NaN   \n",
       "...         ...       ...       ...          ...           ...        ...   \n",
       "16710      0.00      0.00      0.01         0.00           NaN        NaN   \n",
       "16711      0.00      0.01      0.00         0.00           NaN        NaN   \n",
       "16712      0.00      0.00      0.01         0.00           NaN        NaN   \n",
       "16713      0.01      0.00      0.00         0.00           NaN        NaN   \n",
       "16714      0.00      0.00      0.01         0.00           NaN        NaN   \n",
       "\n",
       "      Rating  \n",
       "1        NaN  \n",
       "4        NaN  \n",
       "5        NaN  \n",
       "9        NaN  \n",
       "10       NaN  \n",
       "...      ...  \n",
       "16710    NaN  \n",
       "16711    NaN  \n",
       "16712    NaN  \n",
       "16713    NaN  \n",
       "16714    NaN  \n",
       "\n",
       "[6701 rows x 11 columns]"
      ]
     },
     "execution_count": 5,
     "metadata": {},
     "output_type": "execute_result"
    }
   ],
   "source": [
    "#Посмотрим на таблицу, где имеются пустые значения в столбце user_score\n",
    "df[df['User_Score'].isna()]"
   ]
  },
  {
   "cell_type": "code",
   "execution_count": 6,
   "metadata": {
    "scrolled": false
   },
   "outputs": [
    {
     "data": {
      "text/html": [
       "<div>\n",
       "<style scoped>\n",
       "    .dataframe tbody tr th:only-of-type {\n",
       "        vertical-align: middle;\n",
       "    }\n",
       "\n",
       "    .dataframe tbody tr th {\n",
       "        vertical-align: top;\n",
       "    }\n",
       "\n",
       "    .dataframe thead th {\n",
       "        text-align: right;\n",
       "    }\n",
       "</style>\n",
       "<table border=\"1\" class=\"dataframe\">\n",
       "  <thead>\n",
       "    <tr style=\"text-align: right;\">\n",
       "      <th></th>\n",
       "      <th>Name</th>\n",
       "      <th>Platform</th>\n",
       "      <th>Year_of_Release</th>\n",
       "      <th>Genre</th>\n",
       "      <th>NA_sales</th>\n",
       "      <th>EU_sales</th>\n",
       "      <th>JP_sales</th>\n",
       "      <th>Other_sales</th>\n",
       "      <th>Critic_Score</th>\n",
       "      <th>User_Score</th>\n",
       "      <th>Rating</th>\n",
       "    </tr>\n",
       "  </thead>\n",
       "  <tbody>\n",
       "    <tr>\n",
       "      <th>1</th>\n",
       "      <td>Super Mario Bros.</td>\n",
       "      <td>NES</td>\n",
       "      <td>1985.0</td>\n",
       "      <td>Platform</td>\n",
       "      <td>29.08</td>\n",
       "      <td>3.58</td>\n",
       "      <td>6.81</td>\n",
       "      <td>0.77</td>\n",
       "      <td>NaN</td>\n",
       "      <td>NaN</td>\n",
       "      <td>NaN</td>\n",
       "    </tr>\n",
       "    <tr>\n",
       "      <th>4</th>\n",
       "      <td>Pokemon Red/Pokemon Blue</td>\n",
       "      <td>GB</td>\n",
       "      <td>1996.0</td>\n",
       "      <td>Role-Playing</td>\n",
       "      <td>11.27</td>\n",
       "      <td>8.89</td>\n",
       "      <td>10.22</td>\n",
       "      <td>1.00</td>\n",
       "      <td>NaN</td>\n",
       "      <td>NaN</td>\n",
       "      <td>NaN</td>\n",
       "    </tr>\n",
       "    <tr>\n",
       "      <th>5</th>\n",
       "      <td>Tetris</td>\n",
       "      <td>GB</td>\n",
       "      <td>1989.0</td>\n",
       "      <td>Puzzle</td>\n",
       "      <td>23.20</td>\n",
       "      <td>2.26</td>\n",
       "      <td>4.22</td>\n",
       "      <td>0.58</td>\n",
       "      <td>NaN</td>\n",
       "      <td>NaN</td>\n",
       "      <td>NaN</td>\n",
       "    </tr>\n",
       "    <tr>\n",
       "      <th>9</th>\n",
       "      <td>Duck Hunt</td>\n",
       "      <td>NES</td>\n",
       "      <td>1984.0</td>\n",
       "      <td>Shooter</td>\n",
       "      <td>26.93</td>\n",
       "      <td>0.63</td>\n",
       "      <td>0.28</td>\n",
       "      <td>0.47</td>\n",
       "      <td>NaN</td>\n",
       "      <td>NaN</td>\n",
       "      <td>NaN</td>\n",
       "    </tr>\n",
       "    <tr>\n",
       "      <th>10</th>\n",
       "      <td>Nintendogs</td>\n",
       "      <td>DS</td>\n",
       "      <td>2005.0</td>\n",
       "      <td>Simulation</td>\n",
       "      <td>9.05</td>\n",
       "      <td>10.95</td>\n",
       "      <td>1.93</td>\n",
       "      <td>2.74</td>\n",
       "      <td>NaN</td>\n",
       "      <td>NaN</td>\n",
       "      <td>NaN</td>\n",
       "    </tr>\n",
       "    <tr>\n",
       "      <th>...</th>\n",
       "      <td>...</td>\n",
       "      <td>...</td>\n",
       "      <td>...</td>\n",
       "      <td>...</td>\n",
       "      <td>...</td>\n",
       "      <td>...</td>\n",
       "      <td>...</td>\n",
       "      <td>...</td>\n",
       "      <td>...</td>\n",
       "      <td>...</td>\n",
       "      <td>...</td>\n",
       "    </tr>\n",
       "    <tr>\n",
       "      <th>16710</th>\n",
       "      <td>Samurai Warriors: Sanada Maru</td>\n",
       "      <td>PS3</td>\n",
       "      <td>2016.0</td>\n",
       "      <td>Action</td>\n",
       "      <td>0.00</td>\n",
       "      <td>0.00</td>\n",
       "      <td>0.01</td>\n",
       "      <td>0.00</td>\n",
       "      <td>NaN</td>\n",
       "      <td>NaN</td>\n",
       "      <td>NaN</td>\n",
       "    </tr>\n",
       "    <tr>\n",
       "      <th>16711</th>\n",
       "      <td>LMA Manager 2007</td>\n",
       "      <td>X360</td>\n",
       "      <td>2006.0</td>\n",
       "      <td>Sports</td>\n",
       "      <td>0.00</td>\n",
       "      <td>0.01</td>\n",
       "      <td>0.00</td>\n",
       "      <td>0.00</td>\n",
       "      <td>NaN</td>\n",
       "      <td>NaN</td>\n",
       "      <td>NaN</td>\n",
       "    </tr>\n",
       "    <tr>\n",
       "      <th>16712</th>\n",
       "      <td>Haitaka no Psychedelica</td>\n",
       "      <td>PSV</td>\n",
       "      <td>2016.0</td>\n",
       "      <td>Adventure</td>\n",
       "      <td>0.00</td>\n",
       "      <td>0.00</td>\n",
       "      <td>0.01</td>\n",
       "      <td>0.00</td>\n",
       "      <td>NaN</td>\n",
       "      <td>NaN</td>\n",
       "      <td>NaN</td>\n",
       "    </tr>\n",
       "    <tr>\n",
       "      <th>16713</th>\n",
       "      <td>Spirits &amp; Spells</td>\n",
       "      <td>GBA</td>\n",
       "      <td>2003.0</td>\n",
       "      <td>Platform</td>\n",
       "      <td>0.01</td>\n",
       "      <td>0.00</td>\n",
       "      <td>0.00</td>\n",
       "      <td>0.00</td>\n",
       "      <td>NaN</td>\n",
       "      <td>NaN</td>\n",
       "      <td>NaN</td>\n",
       "    </tr>\n",
       "    <tr>\n",
       "      <th>16714</th>\n",
       "      <td>Winning Post 8 2016</td>\n",
       "      <td>PSV</td>\n",
       "      <td>2016.0</td>\n",
       "      <td>Simulation</td>\n",
       "      <td>0.00</td>\n",
       "      <td>0.00</td>\n",
       "      <td>0.01</td>\n",
       "      <td>0.00</td>\n",
       "      <td>NaN</td>\n",
       "      <td>NaN</td>\n",
       "      <td>NaN</td>\n",
       "    </tr>\n",
       "  </tbody>\n",
       "</table>\n",
       "<p>6766 rows × 11 columns</p>\n",
       "</div>"
      ],
      "text/plain": [
       "                                Name Platform  Year_of_Release         Genre  \\\n",
       "1                  Super Mario Bros.      NES           1985.0      Platform   \n",
       "4           Pokemon Red/Pokemon Blue       GB           1996.0  Role-Playing   \n",
       "5                             Tetris       GB           1989.0        Puzzle   \n",
       "9                          Duck Hunt      NES           1984.0       Shooter   \n",
       "10                        Nintendogs       DS           2005.0    Simulation   \n",
       "...                              ...      ...              ...           ...   \n",
       "16710  Samurai Warriors: Sanada Maru      PS3           2016.0        Action   \n",
       "16711               LMA Manager 2007     X360           2006.0        Sports   \n",
       "16712        Haitaka no Psychedelica      PSV           2016.0     Adventure   \n",
       "16713               Spirits & Spells      GBA           2003.0      Platform   \n",
       "16714            Winning Post 8 2016      PSV           2016.0    Simulation   \n",
       "\n",
       "       NA_sales  EU_sales  JP_sales  Other_sales  Critic_Score User_Score  \\\n",
       "1         29.08      3.58      6.81         0.77           NaN        NaN   \n",
       "4         11.27      8.89     10.22         1.00           NaN        NaN   \n",
       "5         23.20      2.26      4.22         0.58           NaN        NaN   \n",
       "9         26.93      0.63      0.28         0.47           NaN        NaN   \n",
       "10         9.05     10.95      1.93         2.74           NaN        NaN   \n",
       "...         ...       ...       ...          ...           ...        ...   \n",
       "16710      0.00      0.00      0.01         0.00           NaN        NaN   \n",
       "16711      0.00      0.01      0.00         0.00           NaN        NaN   \n",
       "16712      0.00      0.00      0.01         0.00           NaN        NaN   \n",
       "16713      0.01      0.00      0.00         0.00           NaN        NaN   \n",
       "16714      0.00      0.00      0.01         0.00           NaN        NaN   \n",
       "\n",
       "      Rating  \n",
       "1        NaN  \n",
       "4        NaN  \n",
       "5        NaN  \n",
       "9        NaN  \n",
       "10       NaN  \n",
       "...      ...  \n",
       "16710    NaN  \n",
       "16711    NaN  \n",
       "16712    NaN  \n",
       "16713    NaN  \n",
       "16714    NaN  \n",
       "\n",
       "[6766 rows x 11 columns]"
      ]
     },
     "execution_count": 6,
     "metadata": {},
     "output_type": "execute_result"
    }
   ],
   "source": [
    "#Посмотрим на таблицу, где имеются пустые значения в столбце rating\n",
    "df[df['Rating'].isna()]"
   ]
  },
  {
   "cell_type": "code",
   "execution_count": 7,
   "metadata": {},
   "outputs": [
    {
     "data": {
      "text/html": [
       "<div>\n",
       "<style scoped>\n",
       "    .dataframe tbody tr th:only-of-type {\n",
       "        vertical-align: middle;\n",
       "    }\n",
       "\n",
       "    .dataframe tbody tr th {\n",
       "        vertical-align: top;\n",
       "    }\n",
       "\n",
       "    .dataframe thead th {\n",
       "        text-align: right;\n",
       "    }\n",
       "</style>\n",
       "<table border=\"1\" class=\"dataframe\">\n",
       "  <thead>\n",
       "    <tr style=\"text-align: right;\">\n",
       "      <th></th>\n",
       "      <th>Name</th>\n",
       "      <th>Platform</th>\n",
       "      <th>Year_of_Release</th>\n",
       "      <th>Genre</th>\n",
       "      <th>NA_sales</th>\n",
       "      <th>EU_sales</th>\n",
       "      <th>JP_sales</th>\n",
       "      <th>Other_sales</th>\n",
       "      <th>Critic_Score</th>\n",
       "      <th>User_Score</th>\n",
       "      <th>Rating</th>\n",
       "    </tr>\n",
       "  </thead>\n",
       "  <tbody>\n",
       "    <tr>\n",
       "      <th>183</th>\n",
       "      <td>Madden NFL 2004</td>\n",
       "      <td>PS2</td>\n",
       "      <td>NaN</td>\n",
       "      <td>Sports</td>\n",
       "      <td>4.26</td>\n",
       "      <td>0.26</td>\n",
       "      <td>0.01</td>\n",
       "      <td>0.71</td>\n",
       "      <td>94.0</td>\n",
       "      <td>8.5</td>\n",
       "      <td>E</td>\n",
       "    </tr>\n",
       "    <tr>\n",
       "      <th>377</th>\n",
       "      <td>FIFA Soccer 2004</td>\n",
       "      <td>PS2</td>\n",
       "      <td>NaN</td>\n",
       "      <td>Sports</td>\n",
       "      <td>0.59</td>\n",
       "      <td>2.36</td>\n",
       "      <td>0.04</td>\n",
       "      <td>0.51</td>\n",
       "      <td>84.0</td>\n",
       "      <td>6.4</td>\n",
       "      <td>E</td>\n",
       "    </tr>\n",
       "    <tr>\n",
       "      <th>456</th>\n",
       "      <td>LEGO Batman: The Videogame</td>\n",
       "      <td>Wii</td>\n",
       "      <td>NaN</td>\n",
       "      <td>Action</td>\n",
       "      <td>1.80</td>\n",
       "      <td>0.97</td>\n",
       "      <td>0.00</td>\n",
       "      <td>0.29</td>\n",
       "      <td>74.0</td>\n",
       "      <td>7.9</td>\n",
       "      <td>E10+</td>\n",
       "    </tr>\n",
       "    <tr>\n",
       "      <th>475</th>\n",
       "      <td>wwe Smackdown vs. Raw 2006</td>\n",
       "      <td>PS2</td>\n",
       "      <td>NaN</td>\n",
       "      <td>Fighting</td>\n",
       "      <td>1.57</td>\n",
       "      <td>1.02</td>\n",
       "      <td>0.00</td>\n",
       "      <td>0.41</td>\n",
       "      <td>NaN</td>\n",
       "      <td>NaN</td>\n",
       "      <td>NaN</td>\n",
       "    </tr>\n",
       "    <tr>\n",
       "      <th>609</th>\n",
       "      <td>Space Invaders</td>\n",
       "      <td>2600</td>\n",
       "      <td>NaN</td>\n",
       "      <td>Shooter</td>\n",
       "      <td>2.36</td>\n",
       "      <td>0.14</td>\n",
       "      <td>0.00</td>\n",
       "      <td>0.03</td>\n",
       "      <td>NaN</td>\n",
       "      <td>NaN</td>\n",
       "      <td>NaN</td>\n",
       "    </tr>\n",
       "    <tr>\n",
       "      <th>...</th>\n",
       "      <td>...</td>\n",
       "      <td>...</td>\n",
       "      <td>...</td>\n",
       "      <td>...</td>\n",
       "      <td>...</td>\n",
       "      <td>...</td>\n",
       "      <td>...</td>\n",
       "      <td>...</td>\n",
       "      <td>...</td>\n",
       "      <td>...</td>\n",
       "      <td>...</td>\n",
       "    </tr>\n",
       "    <tr>\n",
       "      <th>16373</th>\n",
       "      <td>PDC World Championship Darts 2008</td>\n",
       "      <td>PSP</td>\n",
       "      <td>NaN</td>\n",
       "      <td>Sports</td>\n",
       "      <td>0.01</td>\n",
       "      <td>0.00</td>\n",
       "      <td>0.00</td>\n",
       "      <td>0.00</td>\n",
       "      <td>43.0</td>\n",
       "      <td>tbd</td>\n",
       "      <td>E10+</td>\n",
       "    </tr>\n",
       "    <tr>\n",
       "      <th>16405</th>\n",
       "      <td>Freaky Flyers</td>\n",
       "      <td>GC</td>\n",
       "      <td>NaN</td>\n",
       "      <td>Racing</td>\n",
       "      <td>0.01</td>\n",
       "      <td>0.00</td>\n",
       "      <td>0.00</td>\n",
       "      <td>0.00</td>\n",
       "      <td>69.0</td>\n",
       "      <td>6.5</td>\n",
       "      <td>T</td>\n",
       "    </tr>\n",
       "    <tr>\n",
       "      <th>16448</th>\n",
       "      <td>Inversion</td>\n",
       "      <td>PC</td>\n",
       "      <td>NaN</td>\n",
       "      <td>Shooter</td>\n",
       "      <td>0.01</td>\n",
       "      <td>0.00</td>\n",
       "      <td>0.00</td>\n",
       "      <td>0.00</td>\n",
       "      <td>59.0</td>\n",
       "      <td>6.7</td>\n",
       "      <td>M</td>\n",
       "    </tr>\n",
       "    <tr>\n",
       "      <th>16458</th>\n",
       "      <td>Hakuouki: Shinsengumi Kitan</td>\n",
       "      <td>PS3</td>\n",
       "      <td>NaN</td>\n",
       "      <td>Adventure</td>\n",
       "      <td>0.01</td>\n",
       "      <td>0.00</td>\n",
       "      <td>0.00</td>\n",
       "      <td>0.00</td>\n",
       "      <td>NaN</td>\n",
       "      <td>NaN</td>\n",
       "      <td>NaN</td>\n",
       "    </tr>\n",
       "    <tr>\n",
       "      <th>16522</th>\n",
       "      <td>Virtua Quest</td>\n",
       "      <td>GC</td>\n",
       "      <td>NaN</td>\n",
       "      <td>Role-Playing</td>\n",
       "      <td>0.01</td>\n",
       "      <td>0.00</td>\n",
       "      <td>0.00</td>\n",
       "      <td>0.00</td>\n",
       "      <td>55.0</td>\n",
       "      <td>5.5</td>\n",
       "      <td>T</td>\n",
       "    </tr>\n",
       "  </tbody>\n",
       "</table>\n",
       "<p>269 rows × 11 columns</p>\n",
       "</div>"
      ],
      "text/plain": [
       "                                    Name Platform  Year_of_Release  \\\n",
       "183                      Madden NFL 2004      PS2              NaN   \n",
       "377                     FIFA Soccer 2004      PS2              NaN   \n",
       "456           LEGO Batman: The Videogame      Wii              NaN   \n",
       "475           wwe Smackdown vs. Raw 2006      PS2              NaN   \n",
       "609                       Space Invaders     2600              NaN   \n",
       "...                                  ...      ...              ...   \n",
       "16373  PDC World Championship Darts 2008      PSP              NaN   \n",
       "16405                      Freaky Flyers       GC              NaN   \n",
       "16448                          Inversion       PC              NaN   \n",
       "16458        Hakuouki: Shinsengumi Kitan      PS3              NaN   \n",
       "16522                       Virtua Quest       GC              NaN   \n",
       "\n",
       "              Genre  NA_sales  EU_sales  JP_sales  Other_sales  Critic_Score  \\\n",
       "183          Sports      4.26      0.26      0.01         0.71          94.0   \n",
       "377          Sports      0.59      2.36      0.04         0.51          84.0   \n",
       "456          Action      1.80      0.97      0.00         0.29          74.0   \n",
       "475        Fighting      1.57      1.02      0.00         0.41           NaN   \n",
       "609         Shooter      2.36      0.14      0.00         0.03           NaN   \n",
       "...             ...       ...       ...       ...          ...           ...   \n",
       "16373        Sports      0.01      0.00      0.00         0.00          43.0   \n",
       "16405        Racing      0.01      0.00      0.00         0.00          69.0   \n",
       "16448       Shooter      0.01      0.00      0.00         0.00          59.0   \n",
       "16458     Adventure      0.01      0.00      0.00         0.00           NaN   \n",
       "16522  Role-Playing      0.01      0.00      0.00         0.00          55.0   \n",
       "\n",
       "      User_Score Rating  \n",
       "183          8.5      E  \n",
       "377          6.4      E  \n",
       "456          7.9   E10+  \n",
       "475          NaN    NaN  \n",
       "609          NaN    NaN  \n",
       "...          ...    ...  \n",
       "16373        tbd   E10+  \n",
       "16405        6.5      T  \n",
       "16448        6.7      M  \n",
       "16458        NaN    NaN  \n",
       "16522        5.5      T  \n",
       "\n",
       "[269 rows x 11 columns]"
      ]
     },
     "execution_count": 7,
     "metadata": {},
     "output_type": "execute_result"
    }
   ],
   "source": [
    "#Посмотрим на таблицу, где имеются пустые значения в столбце year_of_release\n",
    "df[df['Year_of_Release'].isna()]"
   ]
  },
  {
   "cell_type": "code",
   "execution_count": 8,
   "metadata": {},
   "outputs": [
    {
     "data": {
      "text/plain": [
       "PS2     2161\n",
       "DS      2151\n",
       "PS3     1331\n",
       "Wii     1320\n",
       "X360    1262\n",
       "PSP     1209\n",
       "PS      1197\n",
       "PC       974\n",
       "XB       824\n",
       "GBA      822\n",
       "GC       556\n",
       "3DS      520\n",
       "PSV      430\n",
       "PS4      392\n",
       "N64      319\n",
       "XOne     247\n",
       "SNES     239\n",
       "SAT      173\n",
       "WiiU     147\n",
       "2600     133\n",
       "GB        98\n",
       "NES       98\n",
       "DC        52\n",
       "GEN       29\n",
       "NG        12\n",
       "SCD        6\n",
       "WS         6\n",
       "3DO        3\n",
       "TG16       2\n",
       "PCFX       1\n",
       "GG         1\n",
       "Name: Platform, dtype: int64"
      ]
     },
     "execution_count": 8,
     "metadata": {},
     "output_type": "execute_result"
    }
   ],
   "source": [
    "#Посмотрим какие платформы для игры у нас имеются\n",
    "df['Platform'].value_counts()"
   ]
  },
  {
   "cell_type": "code",
   "execution_count": 9,
   "metadata": {},
   "outputs": [
    {
     "data": {
      "text/plain": [
       "Action          3369\n",
       "Sports          2348\n",
       "Misc            1750\n",
       "Role-Playing    1498\n",
       "Shooter         1323\n",
       "Adventure       1303\n",
       "Racing          1249\n",
       "Platform         888\n",
       "Simulation       873\n",
       "Fighting         849\n",
       "Strategy         683\n",
       "Puzzle           580\n",
       "Name: Genre, dtype: int64"
      ]
     },
     "execution_count": 9,
     "metadata": {},
     "output_type": "execute_result"
    }
   ],
   "source": [
    "#Посмотрим какие жанры игр мы имеем и нет ли повторений\n",
    "df['Genre'].value_counts()"
   ]
  },
  {
   "cell_type": "code",
   "execution_count": 10,
   "metadata": {},
   "outputs": [
    {
     "data": {
      "text/plain": [
       "0"
      ]
     },
     "execution_count": 10,
     "metadata": {},
     "output_type": "execute_result"
    }
   ],
   "source": [
    "# Посчитаем количество дубликатов\n",
    "df.duplicated().sum()"
   ]
  },
  {
   "cell_type": "markdown",
   "metadata": {},
   "source": [
    "1. Необходимо привести к правильному типу столбец : Year of Release.\n",
    "2. Также нужно привести к нижнему регистру столбцы нашей таблицы, а так же сами названия колонок.\n",
    "3. Имеются пустые значения в столбцах rating, user_score, critic_score. Мы можем заменить имеющиеся пустые значения в таблице: year of release на года от той же игры только другой платформы, в остальных случаях решим в процессе предобработки.\n",
    "4. Дубликатов не имеется."
   ]
  },
  {
   "cell_type": "markdown",
   "metadata": {},
   "source": [
    "# Шаг 2. Подготовим данные"
   ]
  },
  {
   "cell_type": "markdown",
   "metadata": {},
   "source": [
    "### TO DO LIST:\n",
    "\n",
    "Заменить названия столбцов (приведем к нижнему регистру);\n",
    "\n",
    "Преобразовать данные в нужные типы. Описать, в каких столбцах заменила тип данных и почему;\n",
    "\n",
    "Обработать пропуски при необходимости:\n",
    "Объяснить, почему заполнила пропуски определённым образом или почему не стала это делать;\n",
    "Описать причины, которые могли привести к пропускам;\n",
    "\n",
    "Обратить внимание на аббревиатуру 'tbd' в столбцах с рейтингом. Отдельно разобрать это значение и описать, как его обработать;\n",
    "\n",
    "Посчитать суммарные продажи во всех регионах и записать их в отдельный столбец."
   ]
  },
  {
   "cell_type": "code",
   "execution_count": 11,
   "metadata": {},
   "outputs": [
    {
     "data": {
      "text/plain": [
       "Index(['name', 'platform', 'year_of_release', 'genre', 'na_sales', 'eu_sales',\n",
       "       'jp_sales', 'other_sales', 'critic_score', 'user_score', 'rating'],\n",
       "      dtype='object')"
      ]
     },
     "execution_count": 11,
     "metadata": {},
     "output_type": "execute_result"
    }
   ],
   "source": [
    "# Заменим названия столбцов (приведем к нижнему регистру) \n",
    "df.columns = df.columns.str.lower()\n",
    "df.columns"
   ]
  },
  {
   "cell_type": "code",
   "execution_count": 12,
   "metadata": {},
   "outputs": [],
   "source": [
    "df['rating'] = df['rating'].fillna(0)"
   ]
  },
  {
   "cell_type": "code",
   "execution_count": 13,
   "metadata": {},
   "outputs": [],
   "source": [
    "# Изменим тип данных в столбце year_of_release \n",
    "df['year_of_release'] = df['year_of_release'].astype('Int64')"
   ]
  },
  {
   "cell_type": "code",
   "execution_count": 14,
   "metadata": {},
   "outputs": [
    {
     "data": {
      "text/html": [
       "<div>\n",
       "<style scoped>\n",
       "    .dataframe tbody tr th:only-of-type {\n",
       "        vertical-align: middle;\n",
       "    }\n",
       "\n",
       "    .dataframe tbody tr th {\n",
       "        vertical-align: top;\n",
       "    }\n",
       "\n",
       "    .dataframe thead th {\n",
       "        text-align: right;\n",
       "    }\n",
       "</style>\n",
       "<table border=\"1\" class=\"dataframe\">\n",
       "  <thead>\n",
       "    <tr style=\"text-align: right;\">\n",
       "      <th></th>\n",
       "      <th>name</th>\n",
       "      <th>platform</th>\n",
       "      <th>year_of_release</th>\n",
       "      <th>genre</th>\n",
       "      <th>na_sales</th>\n",
       "      <th>eu_sales</th>\n",
       "      <th>jp_sales</th>\n",
       "      <th>other_sales</th>\n",
       "      <th>critic_score</th>\n",
       "      <th>user_score</th>\n",
       "      <th>rating</th>\n",
       "    </tr>\n",
       "  </thead>\n",
       "  <tbody>\n",
       "    <tr>\n",
       "      <th>4488</th>\n",
       "      <td>Hyrule Warriors</td>\n",
       "      <td>3DS</td>\n",
       "      <td>2016</td>\n",
       "      <td>Action</td>\n",
       "      <td>0.17</td>\n",
       "      <td>0.13</td>\n",
       "      <td>0.11</td>\n",
       "      <td>0.03</td>\n",
       "      <td>NaN</td>\n",
       "      <td>NaN</td>\n",
       "      <td>0</td>\n",
       "    </tr>\n",
       "    <tr>\n",
       "      <th>5788</th>\n",
       "      <td>SD Gundam G Generation: Overworld</td>\n",
       "      <td>PSP</td>\n",
       "      <td>2012</td>\n",
       "      <td>Strategy</td>\n",
       "      <td>0.00</td>\n",
       "      <td>0.00</td>\n",
       "      <td>0.31</td>\n",
       "      <td>0.00</td>\n",
       "      <td>NaN</td>\n",
       "      <td>NaN</td>\n",
       "      <td>0</td>\n",
       "    </tr>\n",
       "    <tr>\n",
       "      <th>3929</th>\n",
       "      <td>Silent Hill 4: The Room</td>\n",
       "      <td>PS2</td>\n",
       "      <td>2004</td>\n",
       "      <td>Action</td>\n",
       "      <td>0.25</td>\n",
       "      <td>0.19</td>\n",
       "      <td>0.00</td>\n",
       "      <td>0.06</td>\n",
       "      <td>76.0</td>\n",
       "      <td>7.8</td>\n",
       "      <td>M</td>\n",
       "    </tr>\n",
       "    <tr>\n",
       "      <th>8822</th>\n",
       "      <td>Shadow Ops: Red Mercury</td>\n",
       "      <td>XB</td>\n",
       "      <td>2004</td>\n",
       "      <td>Shooter</td>\n",
       "      <td>0.11</td>\n",
       "      <td>0.03</td>\n",
       "      <td>0.00</td>\n",
       "      <td>0.01</td>\n",
       "      <td>61.0</td>\n",
       "      <td>6.1</td>\n",
       "      <td>T</td>\n",
       "    </tr>\n",
       "    <tr>\n",
       "      <th>1791</th>\n",
       "      <td>Pilotwings</td>\n",
       "      <td>SNES</td>\n",
       "      <td>1990</td>\n",
       "      <td>Simulation</td>\n",
       "      <td>0.46</td>\n",
       "      <td>0.17</td>\n",
       "      <td>0.48</td>\n",
       "      <td>0.02</td>\n",
       "      <td>NaN</td>\n",
       "      <td>NaN</td>\n",
       "      <td>0</td>\n",
       "    </tr>\n",
       "    <tr>\n",
       "      <th>15509</th>\n",
       "      <td>Dragon Ball Z: Buu's Fury / Dragon Ball GT: Tr...</td>\n",
       "      <td>GBA</td>\n",
       "      <td>2006</td>\n",
       "      <td>Action</td>\n",
       "      <td>0.01</td>\n",
       "      <td>0.01</td>\n",
       "      <td>0.00</td>\n",
       "      <td>0.00</td>\n",
       "      <td>NaN</td>\n",
       "      <td>NaN</td>\n",
       "      <td>0</td>\n",
       "    </tr>\n",
       "    <tr>\n",
       "      <th>12400</th>\n",
       "      <td>TrackMania Turbo</td>\n",
       "      <td>XOne</td>\n",
       "      <td>2016</td>\n",
       "      <td>Action</td>\n",
       "      <td>0.02</td>\n",
       "      <td>0.04</td>\n",
       "      <td>0.00</td>\n",
       "      <td>0.00</td>\n",
       "      <td>76.0</td>\n",
       "      <td>7.7</td>\n",
       "      <td>E</td>\n",
       "    </tr>\n",
       "    <tr>\n",
       "      <th>15996</th>\n",
       "      <td>Harukanaru Toki no Naka de 6</td>\n",
       "      <td>PSP</td>\n",
       "      <td>2015</td>\n",
       "      <td>Action</td>\n",
       "      <td>0.00</td>\n",
       "      <td>0.00</td>\n",
       "      <td>0.02</td>\n",
       "      <td>0.00</td>\n",
       "      <td>NaN</td>\n",
       "      <td>NaN</td>\n",
       "      <td>0</td>\n",
       "    </tr>\n",
       "    <tr>\n",
       "      <th>6778</th>\n",
       "      <td>Ben 10 Ultimate Alien: Cosmic Destruction</td>\n",
       "      <td>PS3</td>\n",
       "      <td>2010</td>\n",
       "      <td>Platform</td>\n",
       "      <td>0.12</td>\n",
       "      <td>0.08</td>\n",
       "      <td>0.00</td>\n",
       "      <td>0.04</td>\n",
       "      <td>NaN</td>\n",
       "      <td>8.6</td>\n",
       "      <td>E10+</td>\n",
       "    </tr>\n",
       "    <tr>\n",
       "      <th>437</th>\n",
       "      <td>Club Penguin: Elite Penguin Force</td>\n",
       "      <td>DS</td>\n",
       "      <td>2008</td>\n",
       "      <td>Adventure</td>\n",
       "      <td>1.87</td>\n",
       "      <td>0.97</td>\n",
       "      <td>0.00</td>\n",
       "      <td>0.30</td>\n",
       "      <td>NaN</td>\n",
       "      <td>8</td>\n",
       "      <td>E</td>\n",
       "    </tr>\n",
       "    <tr>\n",
       "      <th>1706</th>\n",
       "      <td>Metal Gear Solid VR Missions</td>\n",
       "      <td>PS</td>\n",
       "      <td>1999</td>\n",
       "      <td>Adventure</td>\n",
       "      <td>0.66</td>\n",
       "      <td>0.45</td>\n",
       "      <td>0.00</td>\n",
       "      <td>0.08</td>\n",
       "      <td>NaN</td>\n",
       "      <td>NaN</td>\n",
       "      <td>0</td>\n",
       "    </tr>\n",
       "    <tr>\n",
       "      <th>10883</th>\n",
       "      <td>Raven Squad: Operation Hidden Dagger</td>\n",
       "      <td>X360</td>\n",
       "      <td>2009</td>\n",
       "      <td>Shooter</td>\n",
       "      <td>0.08</td>\n",
       "      <td>0.01</td>\n",
       "      <td>0.00</td>\n",
       "      <td>0.01</td>\n",
       "      <td>38.0</td>\n",
       "      <td>3.5</td>\n",
       "      <td>T</td>\n",
       "    </tr>\n",
       "    <tr>\n",
       "      <th>9900</th>\n",
       "      <td>A.C.E.: Another Century's Episode Portable</td>\n",
       "      <td>PSP</td>\n",
       "      <td>2011</td>\n",
       "      <td>Simulation</td>\n",
       "      <td>0.00</td>\n",
       "      <td>0.00</td>\n",
       "      <td>0.12</td>\n",
       "      <td>0.00</td>\n",
       "      <td>NaN</td>\n",
       "      <td>NaN</td>\n",
       "      <td>0</td>\n",
       "    </tr>\n",
       "    <tr>\n",
       "      <th>15511</th>\n",
       "      <td>Backyard Baseball '09</td>\n",
       "      <td>PS2</td>\n",
       "      <td>2008</td>\n",
       "      <td>Sports</td>\n",
       "      <td>0.01</td>\n",
       "      <td>0.01</td>\n",
       "      <td>0.00</td>\n",
       "      <td>0.00</td>\n",
       "      <td>NaN</td>\n",
       "      <td>tbd</td>\n",
       "      <td>E</td>\n",
       "    </tr>\n",
       "    <tr>\n",
       "      <th>131</th>\n",
       "      <td>Pokémon Emerald Version</td>\n",
       "      <td>GBA</td>\n",
       "      <td>2004</td>\n",
       "      <td>Role-Playing</td>\n",
       "      <td>2.57</td>\n",
       "      <td>1.58</td>\n",
       "      <td>2.06</td>\n",
       "      <td>0.21</td>\n",
       "      <td>76.0</td>\n",
       "      <td>9</td>\n",
       "      <td>E</td>\n",
       "    </tr>\n",
       "    <tr>\n",
       "      <th>12015</th>\n",
       "      <td>Shadowgate 64: Trials of the Four Towers</td>\n",
       "      <td>N64</td>\n",
       "      <td>1999</td>\n",
       "      <td>Adventure</td>\n",
       "      <td>0.06</td>\n",
       "      <td>0.01</td>\n",
       "      <td>0.00</td>\n",
       "      <td>0.00</td>\n",
       "      <td>NaN</td>\n",
       "      <td>NaN</td>\n",
       "      <td>0</td>\n",
       "    </tr>\n",
       "    <tr>\n",
       "      <th>6777</th>\n",
       "      <td>Onechanbara Z2: Chaos</td>\n",
       "      <td>PS4</td>\n",
       "      <td>2014</td>\n",
       "      <td>Action</td>\n",
       "      <td>0.14</td>\n",
       "      <td>0.03</td>\n",
       "      <td>0.04</td>\n",
       "      <td>0.04</td>\n",
       "      <td>57.0</td>\n",
       "      <td>6.5</td>\n",
       "      <td>M</td>\n",
       "    </tr>\n",
       "    <tr>\n",
       "      <th>6168</th>\n",
       "      <td>Guitar Hero: Van Halen</td>\n",
       "      <td>Wii</td>\n",
       "      <td>2009</td>\n",
       "      <td>Misc</td>\n",
       "      <td>0.13</td>\n",
       "      <td>0.12</td>\n",
       "      <td>0.00</td>\n",
       "      <td>0.03</td>\n",
       "      <td>50.0</td>\n",
       "      <td>5.2</td>\n",
       "      <td>T</td>\n",
       "    </tr>\n",
       "    <tr>\n",
       "      <th>87</th>\n",
       "      <td>Star Wars Battlefront (2015)</td>\n",
       "      <td>PS4</td>\n",
       "      <td>2015</td>\n",
       "      <td>Shooter</td>\n",
       "      <td>2.99</td>\n",
       "      <td>3.49</td>\n",
       "      <td>0.22</td>\n",
       "      <td>1.28</td>\n",
       "      <td>NaN</td>\n",
       "      <td>NaN</td>\n",
       "      <td>0</td>\n",
       "    </tr>\n",
       "    <tr>\n",
       "      <th>6174</th>\n",
       "      <td>Mega Man 7</td>\n",
       "      <td>SNES</td>\n",
       "      <td>1995</td>\n",
       "      <td>Platform</td>\n",
       "      <td>0.03</td>\n",
       "      <td>0.01</td>\n",
       "      <td>0.23</td>\n",
       "      <td>0.01</td>\n",
       "      <td>NaN</td>\n",
       "      <td>NaN</td>\n",
       "      <td>0</td>\n",
       "    </tr>\n",
       "  </tbody>\n",
       "</table>\n",
       "</div>"
      ],
      "text/plain": [
       "                                                    name platform  \\\n",
       "4488                                     Hyrule Warriors      3DS   \n",
       "5788                   SD Gundam G Generation: Overworld      PSP   \n",
       "3929                             Silent Hill 4: The Room      PS2   \n",
       "8822                             Shadow Ops: Red Mercury       XB   \n",
       "1791                                          Pilotwings     SNES   \n",
       "15509  Dragon Ball Z: Buu's Fury / Dragon Ball GT: Tr...      GBA   \n",
       "12400                                   TrackMania Turbo     XOne   \n",
       "15996                       Harukanaru Toki no Naka de 6      PSP   \n",
       "6778           Ben 10 Ultimate Alien: Cosmic Destruction      PS3   \n",
       "437                    Club Penguin: Elite Penguin Force       DS   \n",
       "1706                        Metal Gear Solid VR Missions       PS   \n",
       "10883               Raven Squad: Operation Hidden Dagger     X360   \n",
       "9900          A.C.E.: Another Century's Episode Portable      PSP   \n",
       "15511                              Backyard Baseball '09      PS2   \n",
       "131                              Pokémon Emerald Version      GBA   \n",
       "12015           Shadowgate 64: Trials of the Four Towers      N64   \n",
       "6777                               Onechanbara Z2: Chaos      PS4   \n",
       "6168                              Guitar Hero: Van Halen      Wii   \n",
       "87                          Star Wars Battlefront (2015)      PS4   \n",
       "6174                                          Mega Man 7     SNES   \n",
       "\n",
       "       year_of_release         genre  na_sales  eu_sales  jp_sales  \\\n",
       "4488              2016        Action      0.17      0.13      0.11   \n",
       "5788              2012      Strategy      0.00      0.00      0.31   \n",
       "3929              2004        Action      0.25      0.19      0.00   \n",
       "8822              2004       Shooter      0.11      0.03      0.00   \n",
       "1791              1990    Simulation      0.46      0.17      0.48   \n",
       "15509             2006        Action      0.01      0.01      0.00   \n",
       "12400             2016        Action      0.02      0.04      0.00   \n",
       "15996             2015        Action      0.00      0.00      0.02   \n",
       "6778              2010      Platform      0.12      0.08      0.00   \n",
       "437               2008     Adventure      1.87      0.97      0.00   \n",
       "1706              1999     Adventure      0.66      0.45      0.00   \n",
       "10883             2009       Shooter      0.08      0.01      0.00   \n",
       "9900              2011    Simulation      0.00      0.00      0.12   \n",
       "15511             2008        Sports      0.01      0.01      0.00   \n",
       "131               2004  Role-Playing      2.57      1.58      2.06   \n",
       "12015             1999     Adventure      0.06      0.01      0.00   \n",
       "6777              2014        Action      0.14      0.03      0.04   \n",
       "6168              2009          Misc      0.13      0.12      0.00   \n",
       "87                2015       Shooter      2.99      3.49      0.22   \n",
       "6174              1995      Platform      0.03      0.01      0.23   \n",
       "\n",
       "       other_sales  critic_score user_score rating  \n",
       "4488          0.03           NaN        NaN      0  \n",
       "5788          0.00           NaN        NaN      0  \n",
       "3929          0.06          76.0        7.8      M  \n",
       "8822          0.01          61.0        6.1      T  \n",
       "1791          0.02           NaN        NaN      0  \n",
       "15509         0.00           NaN        NaN      0  \n",
       "12400         0.00          76.0        7.7      E  \n",
       "15996         0.00           NaN        NaN      0  \n",
       "6778          0.04           NaN        8.6   E10+  \n",
       "437           0.30           NaN          8      E  \n",
       "1706          0.08           NaN        NaN      0  \n",
       "10883         0.01          38.0        3.5      T  \n",
       "9900          0.00           NaN        NaN      0  \n",
       "15511         0.00           NaN        tbd      E  \n",
       "131           0.21          76.0          9      E  \n",
       "12015         0.00           NaN        NaN      0  \n",
       "6777          0.04          57.0        6.5      M  \n",
       "6168          0.03          50.0        5.2      T  \n",
       "87            1.28           NaN        NaN      0  \n",
       "6174          0.01           NaN        NaN      0  "
      ]
     },
     "execution_count": 14,
     "metadata": {},
     "output_type": "execute_result"
    }
   ],
   "source": [
    "#Посмотрим как выглядит теперь наша таблица\n",
    "df.sample(20)"
   ]
  },
  {
   "cell_type": "code",
   "execution_count": 15,
   "metadata": {},
   "outputs": [
    {
     "data": {
      "text/plain": [
       "269"
      ]
     },
     "execution_count": 15,
     "metadata": {},
     "output_type": "execute_result"
    }
   ],
   "source": [
    "# Посчитаем количество пустых значений в столбце year_of_release\n",
    "df['year_of_release'].isna().sum()"
   ]
  },
  {
   "cell_type": "code",
   "execution_count": 16,
   "metadata": {},
   "outputs": [],
   "source": [
    "#Напишем цикл где будем делать замену на года тех у кого совпадает название с игрой, но в графе year_of_release пусто\n",
    "for i in df[df['year_of_release'].isnull() == True].index:  \n",
    "    df['year_of_release'][i] = df.loc[df['name'] == df['name'][i], 'year_of_release'].max()"
   ]
  },
  {
   "cell_type": "code",
   "execution_count": 17,
   "metadata": {},
   "outputs": [
    {
     "data": {
      "text/plain": [
       "146"
      ]
     },
     "execution_count": 17,
     "metadata": {},
     "output_type": "execute_result"
    }
   ],
   "source": [
    "#Посмотрим сколько удалось заполнить пустых значений\n",
    "df['year_of_release'].isna().sum()"
   ]
  },
  {
   "cell_type": "code",
   "execution_count": 18,
   "metadata": {},
   "outputs": [],
   "source": [
    "#Аббревиатура tbd значит to be determined, to be done. \n",
    "#То есть, данные были нарочно не заполнены, так как не определились с рейтингом. \n",
    "#Поэтому заменим tbd на Nan\n",
    "\n",
    "#Заменим tbd на Nan\n",
    "df['user_score'] = df['user_score'].replace('tbd', np.nan, regex=True)"
   ]
  },
  {
   "cell_type": "code",
   "execution_count": 19,
   "metadata": {},
   "outputs": [
    {
     "data": {
      "text/plain": [
       "dtype('float64')"
      ]
     },
     "execution_count": 19,
     "metadata": {},
     "output_type": "execute_result"
    }
   ],
   "source": [
    "# Поменяем формат столбца user_score на float\n",
    "df['user_score'] = df['user_score'].astype(float)\n",
    "df['user_score'].dtype\n"
   ]
  },
  {
   "cell_type": "code",
   "execution_count": 20,
   "metadata": {},
   "outputs": [],
   "source": [
    "df['total_sales'] = df[['na_sales','eu_sales','jp_sales', 'other_sales']].sum(axis='columns')"
   ]
  },
  {
   "cell_type": "code",
   "execution_count": 21,
   "metadata": {},
   "outputs": [
    {
     "data": {
      "text/html": [
       "<div>\n",
       "<style scoped>\n",
       "    .dataframe tbody tr th:only-of-type {\n",
       "        vertical-align: middle;\n",
       "    }\n",
       "\n",
       "    .dataframe tbody tr th {\n",
       "        vertical-align: top;\n",
       "    }\n",
       "\n",
       "    .dataframe thead th {\n",
       "        text-align: right;\n",
       "    }\n",
       "</style>\n",
       "<table border=\"1\" class=\"dataframe\">\n",
       "  <thead>\n",
       "    <tr style=\"text-align: right;\">\n",
       "      <th></th>\n",
       "      <th>name</th>\n",
       "      <th>platform</th>\n",
       "      <th>year_of_release</th>\n",
       "      <th>genre</th>\n",
       "      <th>na_sales</th>\n",
       "      <th>eu_sales</th>\n",
       "      <th>jp_sales</th>\n",
       "      <th>other_sales</th>\n",
       "      <th>critic_score</th>\n",
       "      <th>user_score</th>\n",
       "      <th>rating</th>\n",
       "      <th>total_sales</th>\n",
       "    </tr>\n",
       "  </thead>\n",
       "  <tbody>\n",
       "    <tr>\n",
       "      <th>0</th>\n",
       "      <td>Wii Sports</td>\n",
       "      <td>Wii</td>\n",
       "      <td>2006</td>\n",
       "      <td>Sports</td>\n",
       "      <td>41.36</td>\n",
       "      <td>28.96</td>\n",
       "      <td>3.77</td>\n",
       "      <td>8.45</td>\n",
       "      <td>76.0</td>\n",
       "      <td>8.0</td>\n",
       "      <td>E</td>\n",
       "      <td>82.54</td>\n",
       "    </tr>\n",
       "    <tr>\n",
       "      <th>1</th>\n",
       "      <td>Super Mario Bros.</td>\n",
       "      <td>NES</td>\n",
       "      <td>1985</td>\n",
       "      <td>Platform</td>\n",
       "      <td>29.08</td>\n",
       "      <td>3.58</td>\n",
       "      <td>6.81</td>\n",
       "      <td>0.77</td>\n",
       "      <td>NaN</td>\n",
       "      <td>NaN</td>\n",
       "      <td>0</td>\n",
       "      <td>40.24</td>\n",
       "    </tr>\n",
       "    <tr>\n",
       "      <th>2</th>\n",
       "      <td>Mario Kart Wii</td>\n",
       "      <td>Wii</td>\n",
       "      <td>2008</td>\n",
       "      <td>Racing</td>\n",
       "      <td>15.68</td>\n",
       "      <td>12.76</td>\n",
       "      <td>3.79</td>\n",
       "      <td>3.29</td>\n",
       "      <td>82.0</td>\n",
       "      <td>8.3</td>\n",
       "      <td>E</td>\n",
       "      <td>35.52</td>\n",
       "    </tr>\n",
       "    <tr>\n",
       "      <th>3</th>\n",
       "      <td>Wii Sports Resort</td>\n",
       "      <td>Wii</td>\n",
       "      <td>2009</td>\n",
       "      <td>Sports</td>\n",
       "      <td>15.61</td>\n",
       "      <td>10.93</td>\n",
       "      <td>3.28</td>\n",
       "      <td>2.95</td>\n",
       "      <td>80.0</td>\n",
       "      <td>8.0</td>\n",
       "      <td>E</td>\n",
       "      <td>32.77</td>\n",
       "    </tr>\n",
       "    <tr>\n",
       "      <th>4</th>\n",
       "      <td>Pokemon Red/Pokemon Blue</td>\n",
       "      <td>GB</td>\n",
       "      <td>1996</td>\n",
       "      <td>Role-Playing</td>\n",
       "      <td>11.27</td>\n",
       "      <td>8.89</td>\n",
       "      <td>10.22</td>\n",
       "      <td>1.00</td>\n",
       "      <td>NaN</td>\n",
       "      <td>NaN</td>\n",
       "      <td>0</td>\n",
       "      <td>31.38</td>\n",
       "    </tr>\n",
       "    <tr>\n",
       "      <th>...</th>\n",
       "      <td>...</td>\n",
       "      <td>...</td>\n",
       "      <td>...</td>\n",
       "      <td>...</td>\n",
       "      <td>...</td>\n",
       "      <td>...</td>\n",
       "      <td>...</td>\n",
       "      <td>...</td>\n",
       "      <td>...</td>\n",
       "      <td>...</td>\n",
       "      <td>...</td>\n",
       "      <td>...</td>\n",
       "    </tr>\n",
       "    <tr>\n",
       "      <th>16710</th>\n",
       "      <td>Samurai Warriors: Sanada Maru</td>\n",
       "      <td>PS3</td>\n",
       "      <td>2016</td>\n",
       "      <td>Action</td>\n",
       "      <td>0.00</td>\n",
       "      <td>0.00</td>\n",
       "      <td>0.01</td>\n",
       "      <td>0.00</td>\n",
       "      <td>NaN</td>\n",
       "      <td>NaN</td>\n",
       "      <td>0</td>\n",
       "      <td>0.01</td>\n",
       "    </tr>\n",
       "    <tr>\n",
       "      <th>16711</th>\n",
       "      <td>LMA Manager 2007</td>\n",
       "      <td>X360</td>\n",
       "      <td>2006</td>\n",
       "      <td>Sports</td>\n",
       "      <td>0.00</td>\n",
       "      <td>0.01</td>\n",
       "      <td>0.00</td>\n",
       "      <td>0.00</td>\n",
       "      <td>NaN</td>\n",
       "      <td>NaN</td>\n",
       "      <td>0</td>\n",
       "      <td>0.01</td>\n",
       "    </tr>\n",
       "    <tr>\n",
       "      <th>16712</th>\n",
       "      <td>Haitaka no Psychedelica</td>\n",
       "      <td>PSV</td>\n",
       "      <td>2016</td>\n",
       "      <td>Adventure</td>\n",
       "      <td>0.00</td>\n",
       "      <td>0.00</td>\n",
       "      <td>0.01</td>\n",
       "      <td>0.00</td>\n",
       "      <td>NaN</td>\n",
       "      <td>NaN</td>\n",
       "      <td>0</td>\n",
       "      <td>0.01</td>\n",
       "    </tr>\n",
       "    <tr>\n",
       "      <th>16713</th>\n",
       "      <td>Spirits &amp; Spells</td>\n",
       "      <td>GBA</td>\n",
       "      <td>2003</td>\n",
       "      <td>Platform</td>\n",
       "      <td>0.01</td>\n",
       "      <td>0.00</td>\n",
       "      <td>0.00</td>\n",
       "      <td>0.00</td>\n",
       "      <td>NaN</td>\n",
       "      <td>NaN</td>\n",
       "      <td>0</td>\n",
       "      <td>0.01</td>\n",
       "    </tr>\n",
       "    <tr>\n",
       "      <th>16714</th>\n",
       "      <td>Winning Post 8 2016</td>\n",
       "      <td>PSV</td>\n",
       "      <td>2016</td>\n",
       "      <td>Simulation</td>\n",
       "      <td>0.00</td>\n",
       "      <td>0.00</td>\n",
       "      <td>0.01</td>\n",
       "      <td>0.00</td>\n",
       "      <td>NaN</td>\n",
       "      <td>NaN</td>\n",
       "      <td>0</td>\n",
       "      <td>0.01</td>\n",
       "    </tr>\n",
       "  </tbody>\n",
       "</table>\n",
       "<p>16715 rows × 12 columns</p>\n",
       "</div>"
      ],
      "text/plain": [
       "                                name platform  year_of_release         genre  \\\n",
       "0                         Wii Sports      Wii             2006        Sports   \n",
       "1                  Super Mario Bros.      NES             1985      Platform   \n",
       "2                     Mario Kart Wii      Wii             2008        Racing   \n",
       "3                  Wii Sports Resort      Wii             2009        Sports   \n",
       "4           Pokemon Red/Pokemon Blue       GB             1996  Role-Playing   \n",
       "...                              ...      ...              ...           ...   \n",
       "16710  Samurai Warriors: Sanada Maru      PS3             2016        Action   \n",
       "16711               LMA Manager 2007     X360             2006        Sports   \n",
       "16712        Haitaka no Psychedelica      PSV             2016     Adventure   \n",
       "16713               Spirits & Spells      GBA             2003      Platform   \n",
       "16714            Winning Post 8 2016      PSV             2016    Simulation   \n",
       "\n",
       "       na_sales  eu_sales  jp_sales  other_sales  critic_score  user_score  \\\n",
       "0         41.36     28.96      3.77         8.45          76.0         8.0   \n",
       "1         29.08      3.58      6.81         0.77           NaN         NaN   \n",
       "2         15.68     12.76      3.79         3.29          82.0         8.3   \n",
       "3         15.61     10.93      3.28         2.95          80.0         8.0   \n",
       "4         11.27      8.89     10.22         1.00           NaN         NaN   \n",
       "...         ...       ...       ...          ...           ...         ...   \n",
       "16710      0.00      0.00      0.01         0.00           NaN         NaN   \n",
       "16711      0.00      0.01      0.00         0.00           NaN         NaN   \n",
       "16712      0.00      0.00      0.01         0.00           NaN         NaN   \n",
       "16713      0.01      0.00      0.00         0.00           NaN         NaN   \n",
       "16714      0.00      0.00      0.01         0.00           NaN         NaN   \n",
       "\n",
       "      rating  total_sales  \n",
       "0          E        82.54  \n",
       "1          0        40.24  \n",
       "2          E        35.52  \n",
       "3          E        32.77  \n",
       "4          0        31.38  \n",
       "...      ...          ...  \n",
       "16710      0         0.01  \n",
       "16711      0         0.01  \n",
       "16712      0         0.01  \n",
       "16713      0         0.01  \n",
       "16714      0         0.01  \n",
       "\n",
       "[16715 rows x 12 columns]"
      ]
     },
     "execution_count": 21,
     "metadata": {},
     "output_type": "execute_result"
    }
   ],
   "source": [
    "df"
   ]
  },
  {
   "cell_type": "markdown",
   "metadata": {},
   "source": [
    "# Шаг 3. Проведем исследовательский анализ данных"
   ]
  },
  {
   "cell_type": "markdown",
   "metadata": {},
   "source": [
    "## TO DO LIST:\n",
    "\n",
    "Посмотрим, сколько игр выпускалось в разные годы. Важны ли данные за все периоды?\n",
    "\n",
    "Посмотрим, как менялись продажи по платформам. Выберем платформы с наибольшими суммарными продажами и построим распределение по годам. За какой характерный срок появляются новые и исчезают старые платформы?\n",
    "\n",
    "Возьмем данные за соответствующий актуальный период. Актуальный период определим самостоятельно в результате исследования предыдущих вопросов. Основной фактор — эти данные помогут построить прогноз на 2017 год. Не будем учитывать в работе данные за предыдущие годы.\n",
    "\n",
    "Какие платформы лидируют по продажам, растут или падают? Выберем несколько потенциально прибыльных платформ.\n",
    "\n",
    "Построим график «ящик с усами» по глобальным продажам игр в разбивке по платформам. Опишем результат.\n",
    "\n",
    "Посмотрим, как влияют на продажи внутри одной популярной платформы отзывы пользователей и критиков. Построем диаграмму рассеяния и посчитаем корреляцию между отзывами и продажами. Сформулируем выводы.\n",
    "\n",
    "Соотнесем выводы с продажами игр на других платформах.\n",
    "\n",
    "Посмотрим на общее распределение игр по жанрам. Что можно сказать о самых прибыльных жанрах? Выделяются ли жанры с высокими и низкими продажами?"
   ]
  },
  {
   "cell_type": "code",
   "execution_count": 22,
   "metadata": {},
   "outputs": [
    {
     "data": {
      "image/png": "[encoded data removed]",
      "text/plain": [
       "<Figure size 864x432 with 1 Axes>"
      ]
     },
     "metadata": {
      "needs_background": "light"
     },
     "output_type": "display_data"
    }
   ],
   "source": [
    "# Методом пивот отсортируем таблицы и отрисуем график, чтобы просмотреть как менялось количество выпускаемых игр\n",
    "games_on_period = df.pivot_table(index='year_of_release', values='name', aggfunc='count')\n",
    "plt.figure(figsize=(12,6))\n",
    "sns.lineplot(data=games_on_period)\n",
    "plt.title(\"Количество игр выпускаемые в разные года\")\n",
    "plt.xlabel(\"Год выпуска\")\n",
    "plt.ylabel(\"Количество выпущенных игр\")\n",
    "plt.legend('');"
   ]
  },
  {
   "cell_type": "markdown",
   "metadata": {},
   "source": [
    "### Вывод:\n",
    "\n",
    "- Из графика видно, что количество игр на игровые приставки и компьютеры начало расти с большой скоростью с 90х годов до 2008 года. \n",
    "- С 2008 года, после того как массово начали создавать мобильные приложения и мобильные игры, виден резкий спад консольных игр."
   ]
  },
  {
   "cell_type": "markdown",
   "metadata": {},
   "source": [
    "\n",
    "Какие платформы лидируют по продажам, растут или падают? Выберем несколько потенциально прибыльных платформ."
   ]
  },
  {
   "cell_type": "code",
   "execution_count": 23,
   "metadata": {},
   "outputs": [
    {
     "data": {
      "image/png": "[encoded data removed]",
      "text/plain": [
       "<Figure size 936x432 with 1 Axes>"
      ]
     },
     "metadata": {
      "needs_background": "light"
     },
     "output_type": "display_data"
    }
   ],
   "source": [
    "platform_on_sales = df.pivot_table(\n",
    "    index='platform', values='total_sales', aggfunc='sum').sort_values(by='total_sales', \n",
    "                                                                       ascending=False)\n",
    "\n",
    "plt.figure(figsize=(13,6))\n",
    "sns.barplot(x=platform_on_sales.index,y=platform_on_sales['total_sales'])\n",
    "plt.title(\"Продажи по платформам за весь период\")\n",
    "plt.xlabel(\"Название платформы\")\n",
    "plt.ylabel(\"Количество продаж\");"
   ]
  },
  {
   "cell_type": "markdown",
   "metadata": {},
   "source": [
    "Из графика видно, что самые популярные игровые платформы за весь период это PS2, X360, PS3, WII, DS, PS.\n"
   ]
  },
  {
   "cell_type": "code",
   "execution_count": 24,
   "metadata": {},
   "outputs": [],
   "source": [
    "# Напишем функцию, которая будет возвращать нужную сводную таблицу \n",
    "# и выводить данные с 2005 года\n",
    "def year_total_sale_for_platform(name, data):\n",
    "    slicee = data[(data['platform'] == name) & (data['year_of_release'] > 2005)]\n",
    "    total = slicee.pivot_table(index='year_of_release', values='total_sales', \n",
    "                               aggfunc='sum').sort_values('year_of_release', ascending=False)\n",
    "    return total"
   ]
  },
  {
   "cell_type": "code",
   "execution_count": 25,
   "metadata": {},
   "outputs": [],
   "source": [
    "# Создадим свою таблицу по платформам и их обшим продажам\n",
    "# отсортируем их по убыванию и оставим только топ 5.\n",
    "top_5_platforms = df.pivot_table(index='platform', values='total_sales', \n",
    "                                 aggfunc='sum').sort_values(by='total_sales', ascending=False).head(5)\n",
    "top_5_platforms = top_5_platforms.reset_index().rename_axis(None, axis=1)"
   ]
  },
  {
   "cell_type": "code",
   "execution_count": 26,
   "metadata": {},
   "outputs": [
    {
     "data": {
      "text/html": [
       "<div>\n",
       "<style scoped>\n",
       "    .dataframe tbody tr th:only-of-type {\n",
       "        vertical-align: middle;\n",
       "    }\n",
       "\n",
       "    .dataframe tbody tr th {\n",
       "        vertical-align: top;\n",
       "    }\n",
       "\n",
       "    .dataframe thead th {\n",
       "        text-align: right;\n",
       "    }\n",
       "</style>\n",
       "<table border=\"1\" class=\"dataframe\">\n",
       "  <thead>\n",
       "    <tr style=\"text-align: right;\">\n",
       "      <th></th>\n",
       "      <th>platform</th>\n",
       "      <th>total_sales</th>\n",
       "    </tr>\n",
       "  </thead>\n",
       "  <tbody>\n",
       "    <tr>\n",
       "      <th>0</th>\n",
       "      <td>PS2</td>\n",
       "      <td>1255.77</td>\n",
       "    </tr>\n",
       "    <tr>\n",
       "      <th>1</th>\n",
       "      <td>X360</td>\n",
       "      <td>971.42</td>\n",
       "    </tr>\n",
       "    <tr>\n",
       "      <th>2</th>\n",
       "      <td>PS3</td>\n",
       "      <td>939.65</td>\n",
       "    </tr>\n",
       "    <tr>\n",
       "      <th>3</th>\n",
       "      <td>Wii</td>\n",
       "      <td>907.51</td>\n",
       "    </tr>\n",
       "    <tr>\n",
       "      <th>4</th>\n",
       "      <td>DS</td>\n",
       "      <td>806.12</td>\n",
       "    </tr>\n",
       "  </tbody>\n",
       "</table>\n",
       "</div>"
      ],
      "text/plain": [
       "  platform  total_sales\n",
       "0      PS2      1255.77\n",
       "1     X360       971.42\n",
       "2      PS3       939.65\n",
       "3      Wii       907.51\n",
       "4       DS       806.12"
      ]
     },
     "execution_count": 26,
     "metadata": {},
     "output_type": "execute_result"
    }
   ],
   "source": [
    "top_5_platforms"
   ]
  },
  {
   "cell_type": "code",
   "execution_count": 27,
   "metadata": {},
   "outputs": [
    {
     "data": {
      "image/png": "[encoded data removed]",
      "text/plain": [
       "<Figure size 864x432 with 1 Axes>"
      ]
     },
     "metadata": {
      "needs_background": "light"
     },
     "output_type": "display_data"
    }
   ],
   "source": [
    "#Отрисуем все игровые платформы и их поведение за последние 10 лет\n",
    "plt.figure(figsize=(12,6))\n",
    "plt.title('Количество продаж популярных игровых платформ')\n",
    "plt.xlabel('Годы игровых релизов')\n",
    "plt.ylabel('Продажи')\n",
    "\n",
    "for i in list(top_5_platforms['platform']):\n",
    "    sns.lineplot(data=year_total_sale_for_platform(i,df)['total_sales'], label=i)\n",
    "    plt.legend()"
   ]
  },
  {
   "cell_type": "markdown",
   "metadata": {},
   "source": [
    "Вывод:\n",
    "\n",
    "- Практически все игровые платформы в среднем существуют по 10 лет. \n",
    "- Cамые продаваемые это Sony Play Station и XBOX. \n",
    "- Самый пик наступает примерно через 5 лет после выхода приставки.\n",
    "- у Nintento WII был быстрый скачок в 2009 году и такой же резкий провал."
   ]
  },
  {
   "cell_type": "code",
   "execution_count": 28,
   "metadata": {},
   "outputs": [],
   "source": [
    "# Теперь внутри данных за актуальный период выберем наиболее прибыльные платформы\n",
    "actual_data = df.query('year_of_release > 2013') #возьмем все данные после 2013 года\n",
    "\n",
    "\n"
   ]
  },
  {
   "cell_type": "code",
   "execution_count": 29,
   "metadata": {},
   "outputs": [
    {
     "data": {
      "image/png": "[encoded data removed]",
      "text/plain": [
       "<Figure size 864x432 with 1 Axes>"
      ]
     },
     "metadata": {
      "needs_background": "light"
     },
     "output_type": "display_data"
    }
   ],
   "source": [
    "plt.figure(figsize=(12,6))\n",
    "plt.title('Количество продаж популярных игровых платформ после 2010 года')\n",
    "plt.xlabel('Годы игровых релизов')\n",
    "plt.ylabel('Продажи')\n",
    "\n",
    "for i in list(top_5_platforms['platform']):\n",
    "    sns.lineplot(data=year_total_sale_for_platform(i,df.query('year_of_release > 2010'))['total_sales'], label=i)\n",
    "    plt.legend();"
   ]
  },
  {
   "cell_type": "code",
   "execution_count": 30,
   "metadata": {},
   "outputs": [
    {
     "data": {
      "image/png": "[encoded data removed]",
      "text/plain": [
       "<Figure size 1296x360 with 1 Axes>"
      ]
     },
     "metadata": {},
     "output_type": "display_data"
    }
   ],
   "source": [
    "# Какие платформы лидируют по продажам, растут или падают \n",
    "# Выберем несколько потенциально прибыльных платформ\n",
    "\n",
    "actual_2016_pvt = actual_data.pivot_table(index=['platform'], values='total_sales', aggfunc='sum').reset_index().sort_values(by='total_sales', ascending=False)\n",
    "\n",
    "sns.set_style('whitegrid')\n",
    "plt.figure(figsize=(18, 5))\n",
    "sns.barplot(data = actual_2016_pvt, x='platform', y='total_sales');"
   ]
  },
  {
   "cell_type": "code",
   "execution_count": 31,
   "metadata": {},
   "outputs": [
    {
     "data": {
      "text/html": [
       "<div>\n",
       "<style scoped>\n",
       "    .dataframe tbody tr th:only-of-type {\n",
       "        vertical-align: middle;\n",
       "    }\n",
       "\n",
       "    .dataframe tbody tr th {\n",
       "        vertical-align: top;\n",
       "    }\n",
       "\n",
       "    .dataframe thead th {\n",
       "        text-align: right;\n",
       "    }\n",
       "</style>\n",
       "<table border=\"1\" class=\"dataframe\">\n",
       "  <thead>\n",
       "    <tr style=\"text-align: right;\">\n",
       "      <th></th>\n",
       "      <th>name</th>\n",
       "      <th>platform</th>\n",
       "      <th>year_of_release</th>\n",
       "      <th>genre</th>\n",
       "      <th>na_sales</th>\n",
       "      <th>eu_sales</th>\n",
       "      <th>jp_sales</th>\n",
       "      <th>other_sales</th>\n",
       "      <th>critic_score</th>\n",
       "      <th>user_score</th>\n",
       "      <th>rating</th>\n",
       "      <th>total_sales</th>\n",
       "    </tr>\n",
       "  </thead>\n",
       "  <tbody>\n",
       "    <tr>\n",
       "      <th>31</th>\n",
       "      <td>Call of Duty: Black Ops 3</td>\n",
       "      <td>PS4</td>\n",
       "      <td>2015</td>\n",
       "      <td>Shooter</td>\n",
       "      <td>6.03</td>\n",
       "      <td>5.86</td>\n",
       "      <td>0.36</td>\n",
       "      <td>2.38</td>\n",
       "      <td>NaN</td>\n",
       "      <td>NaN</td>\n",
       "      <td>0</td>\n",
       "      <td>14.63</td>\n",
       "    </tr>\n",
       "    <tr>\n",
       "      <th>42</th>\n",
       "      <td>Grand Theft Auto V</td>\n",
       "      <td>PS4</td>\n",
       "      <td>2014</td>\n",
       "      <td>Action</td>\n",
       "      <td>3.96</td>\n",
       "      <td>6.31</td>\n",
       "      <td>0.38</td>\n",
       "      <td>1.97</td>\n",
       "      <td>97.0</td>\n",
       "      <td>8.3</td>\n",
       "      <td>M</td>\n",
       "      <td>12.62</td>\n",
       "    </tr>\n",
       "    <tr>\n",
       "      <th>47</th>\n",
       "      <td>Pokemon Omega Ruby/Pokemon Alpha Sapphire</td>\n",
       "      <td>3DS</td>\n",
       "      <td>2014</td>\n",
       "      <td>Role-Playing</td>\n",
       "      <td>4.35</td>\n",
       "      <td>3.49</td>\n",
       "      <td>3.10</td>\n",
       "      <td>0.74</td>\n",
       "      <td>NaN</td>\n",
       "      <td>NaN</td>\n",
       "      <td>0</td>\n",
       "      <td>11.68</td>\n",
       "    </tr>\n",
       "    <tr>\n",
       "      <th>77</th>\n",
       "      <td>FIFA 16</td>\n",
       "      <td>PS4</td>\n",
       "      <td>2015</td>\n",
       "      <td>Sports</td>\n",
       "      <td>1.12</td>\n",
       "      <td>6.12</td>\n",
       "      <td>0.06</td>\n",
       "      <td>1.28</td>\n",
       "      <td>82.0</td>\n",
       "      <td>4.3</td>\n",
       "      <td>E</td>\n",
       "      <td>8.58</td>\n",
       "    </tr>\n",
       "    <tr>\n",
       "      <th>87</th>\n",
       "      <td>Star Wars Battlefront (2015)</td>\n",
       "      <td>PS4</td>\n",
       "      <td>2015</td>\n",
       "      <td>Shooter</td>\n",
       "      <td>2.99</td>\n",
       "      <td>3.49</td>\n",
       "      <td>0.22</td>\n",
       "      <td>1.28</td>\n",
       "      <td>NaN</td>\n",
       "      <td>NaN</td>\n",
       "      <td>0</td>\n",
       "      <td>7.98</td>\n",
       "    </tr>\n",
       "  </tbody>\n",
       "</table>\n",
       "</div>"
      ],
      "text/plain": [
       "                                         name platform  year_of_release  \\\n",
       "31                  Call of Duty: Black Ops 3      PS4             2015   \n",
       "42                         Grand Theft Auto V      PS4             2014   \n",
       "47  Pokemon Omega Ruby/Pokemon Alpha Sapphire      3DS             2014   \n",
       "77                                    FIFA 16      PS4             2015   \n",
       "87               Star Wars Battlefront (2015)      PS4             2015   \n",
       "\n",
       "           genre  na_sales  eu_sales  jp_sales  other_sales  critic_score  \\\n",
       "31       Shooter      6.03      5.86      0.36         2.38           NaN   \n",
       "42        Action      3.96      6.31      0.38         1.97          97.0   \n",
       "47  Role-Playing      4.35      3.49      3.10         0.74           NaN   \n",
       "77        Sports      1.12      6.12      0.06         1.28          82.0   \n",
       "87       Shooter      2.99      3.49      0.22         1.28           NaN   \n",
       "\n",
       "    user_score rating  total_sales  \n",
       "31         NaN      0        14.63  \n",
       "42         8.3      M        12.62  \n",
       "47         NaN      0        11.68  \n",
       "77         4.3      E         8.58  \n",
       "87         NaN      0         7.98  "
      ]
     },
     "execution_count": 31,
     "metadata": {},
     "output_type": "execute_result"
    }
   ],
   "source": [
    "# возьмем некий датафрейм\n",
    "\n",
    "actual_data.head()"
   ]
  },
  {
   "cell_type": "code",
   "execution_count": 32,
   "metadata": {},
   "outputs": [
    {
     "data": {
      "text/html": [
       "<div>\n",
       "<style scoped>\n",
       "    .dataframe tbody tr th:only-of-type {\n",
       "        vertical-align: middle;\n",
       "    }\n",
       "\n",
       "    .dataframe tbody tr th {\n",
       "        vertical-align: top;\n",
       "    }\n",
       "\n",
       "    .dataframe thead th {\n",
       "        text-align: right;\n",
       "    }\n",
       "</style>\n",
       "<table border=\"1\" class=\"dataframe\">\n",
       "  <thead>\n",
       "    <tr style=\"text-align: right;\">\n",
       "      <th></th>\n",
       "      <th>platform</th>\n",
       "      <th>total_sales</th>\n",
       "    </tr>\n",
       "  </thead>\n",
       "  <tbody>\n",
       "    <tr>\n",
       "      <th>3</th>\n",
       "      <td>PS4</td>\n",
       "      <td>288.15</td>\n",
       "    </tr>\n",
       "    <tr>\n",
       "      <th>9</th>\n",
       "      <td>XOne</td>\n",
       "      <td>140.36</td>\n",
       "    </tr>\n",
       "    <tr>\n",
       "      <th>0</th>\n",
       "      <td>3DS</td>\n",
       "      <td>86.68</td>\n",
       "    </tr>\n",
       "    <tr>\n",
       "      <th>2</th>\n",
       "      <td>PS3</td>\n",
       "      <td>68.18</td>\n",
       "    </tr>\n",
       "    <tr>\n",
       "      <th>8</th>\n",
       "      <td>X360</td>\n",
       "      <td>48.22</td>\n",
       "    </tr>\n",
       "    <tr>\n",
       "      <th>7</th>\n",
       "      <td>WiiU</td>\n",
       "      <td>42.98</td>\n",
       "    </tr>\n",
       "    <tr>\n",
       "      <th>1</th>\n",
       "      <td>PC</td>\n",
       "      <td>27.40</td>\n",
       "    </tr>\n",
       "    <tr>\n",
       "      <th>5</th>\n",
       "      <td>PSV</td>\n",
       "      <td>22.40</td>\n",
       "    </tr>\n",
       "    <tr>\n",
       "      <th>6</th>\n",
       "      <td>Wii</td>\n",
       "      <td>5.07</td>\n",
       "    </tr>\n",
       "    <tr>\n",
       "      <th>4</th>\n",
       "      <td>PSP</td>\n",
       "      <td>0.36</td>\n",
       "    </tr>\n",
       "  </tbody>\n",
       "</table>\n",
       "</div>"
      ],
      "text/plain": [
       "  platform  total_sales\n",
       "3      PS4       288.15\n",
       "9     XOne       140.36\n",
       "0      3DS        86.68\n",
       "2      PS3        68.18\n",
       "8     X360        48.22\n",
       "7     WiiU        42.98\n",
       "1       PC        27.40\n",
       "5      PSV        22.40\n",
       "6      Wii         5.07\n",
       "4      PSP         0.36"
      ]
     },
     "execution_count": 32,
     "metadata": {},
     "output_type": "execute_result"
    }
   ],
   "source": [
    "# сделаем группировку по платформам для того, чтобы определить топ-5 платформ с макисмальными продажами\n",
    "\n",
    "actual_groupby = actual_data \\\n",
    "                        .pivot_table(index=['platform'], values='total_sales', aggfunc='sum') \\\n",
    "                        .reset_index() \\\n",
    "                        .sort_values(by='total_sales', ascending=False)\n",
    "\n",
    "actual_groupby"
   ]
  },
  {
   "cell_type": "code",
   "execution_count": 33,
   "metadata": {},
   "outputs": [
    {
     "data": {
      "text/plain": [
       "['PS4', 'XOne', '3DS', 'PS3', 'X360']"
      ]
     },
     "execution_count": 33,
     "metadata": {},
     "output_type": "execute_result"
    }
   ],
   "source": [
    "# а теперь - названия платформ нам надо сохранить в список (чтобы дальше фильтровать данные только по этим платформам)\n",
    "# но сделать это НЕ руками, НЕ ТАК: list_of_top5 = ['PS2','X360','PS3','Wii','DS'], а автоматизированно, в коде\n",
    "\n",
    "list_of_top5 = actual_groupby['platform'].head().tolist()\n",
    "\n",
    "list_of_top5"
   ]
  },
  {
   "cell_type": "code",
   "execution_count": 34,
   "metadata": {},
   "outputs": [],
   "source": [
    "df_top_5_platforms = df[df['platform'].isin(['PS4', 'XOne', '3DS', 'PS3', 'X360'])]"
   ]
  },
  {
   "cell_type": "code",
   "execution_count": 35,
   "metadata": {},
   "outputs": [
    {
     "data": {
      "text/plain": [
       "count    3752.000000\n",
       "mean        0.704566\n",
       "std         1.482098\n",
       "min         0.000000\n",
       "25%         0.090000\n",
       "50%         0.240000\n",
       "75%         0.700000\n",
       "max        21.820000\n",
       "Name: total_sales, dtype: float64"
      ]
     },
     "execution_count": 35,
     "metadata": {},
     "output_type": "execute_result"
    }
   ],
   "source": [
    "df_top_5_platforms['total_sales'].describe()"
   ]
  },
  {
   "cell_type": "code",
   "execution_count": 36,
   "metadata": {},
   "outputs": [
    {
     "data": {
      "image/png": "[encoded data removed]",
      "text/plain": [
       "<Figure size 864x432 with 1 Axes>"
      ]
     },
     "metadata": {},
     "output_type": "display_data"
    }
   ],
   "source": [
    "#Отрисуем ящики с усами \n",
    "plt.figure(figsize=(12,6))\n",
    "sns.boxplot(data=df_top_5_platforms, x='platform', y='total_sales')\n",
    "plt.title('Ящик с усами', fontsize=15)\n",
    "plt.xlabel('Платформа', fontsize=12)\n",
    "plt.ylabel('Глобальные продажи',fontsize=12);"
   ]
  },
  {
   "cell_type": "code",
   "execution_count": 37,
   "metadata": {},
   "outputs": [
    {
     "data": {
      "image/png": "[encoded data removed]",
      "text/plain": [
       "<Figure size 1440x720 with 1 Axes>"
      ]
     },
     "metadata": {},
     "output_type": "display_data"
    }
   ],
   "source": [
    "plt.figure(figsize=(20, 10))\n",
    "\n",
    "sns.boxplot(data=df_top_5_platforms, x='platform', y='total_sales')\n",
    "\n",
    "plt.ylim(0, 0.85)\n",
    "\n",
    "plt.title('\"Ящики с усами\" по глобальным продажам игр')\n",
    "plt.xlabel('Платформы')\n",
    "plt.ylabel('Продажи, млн. шт.')\n",
    "\n",
    "plt.show()"
   ]
  },
  {
   "cell_type": "markdown",
   "metadata": {},
   "source": [
    "Вывод:\n",
    "\n",
    "- Провели срез данных для того, чтоыб отрисовать ящики с усами. \n",
    "- Исходя из графиков видно, что медиана протекает у всех по разному.\n",
    "- Больше всех продаж у PS4, затем у XOne, после у 3DS.\t"
   ]
  },
  {
   "cell_type": "code",
   "execution_count": 38,
   "metadata": {},
   "outputs": [
    {
     "data": {
      "text/plain": [
       "-0.0703839280647581"
      ]
     },
     "execution_count": 38,
     "metadata": {},
     "output_type": "execute_result"
    }
   ],
   "source": [
    "#Посмотрим, как влияют на продажи внутри одной популярной платформы отзывы пользователей и критиков. \n",
    "#Построем диаграмму рассеяния и посчитаем корреляцию между отзывами и продажами. \n",
    "#Сформулируем выводы.\n",
    "\n",
    "#Корреляция между оценками пользователей и продажами \n",
    "sony_play_station2 = actual_data[actual_data['platform']=='XOne']\n",
    "sony_play_station2['total_sales'].corr(sony_play_station2['user_score'])"
   ]
  },
  {
   "cell_type": "code",
   "execution_count": 39,
   "metadata": {},
   "outputs": [
    {
     "data": {
      "image/png": "[encoded data removed]",
      "text/plain": [
       "<Figure size 864x432 with 1 Axes>"
      ]
     },
     "metadata": {},
     "output_type": "display_data"
    }
   ],
   "source": [
    "#Построим диаграмму рассеяния\n",
    "plt.figure(figsize=(12,6))\n",
    "sns.scatterplot(x='user_score', y='total_sales', data=sony_play_station2)\n",
    "plt.title('test');"
   ]
  },
  {
   "cell_type": "code",
   "execution_count": 40,
   "metadata": {},
   "outputs": [
    {
     "data": {
      "text/plain": [
       "0.42867694370333226"
      ]
     },
     "execution_count": 40,
     "metadata": {},
     "output_type": "execute_result"
    }
   ],
   "source": [
    "#Корреляция между оценкой критиков и продажам\n",
    "sony_play_station2['critic_score'].corr(sony_play_station2['total_sales'])"
   ]
  },
  {
   "cell_type": "code",
   "execution_count": 41,
   "metadata": {},
   "outputs": [
    {
     "data": {
      "image/png": "[encoded data removed]",
      "text/plain": [
       "<Figure size 864x432 with 1 Axes>"
      ]
     },
     "metadata": {},
     "output_type": "display_data"
    }
   ],
   "source": [
    "#Построим диаграмму рассеяния по оценкам критиков \n",
    "plt.figure(figsize=(12,6))\n",
    "sns.scatterplot(x='critic_score', y='total_sales', data=sony_play_station2)\n",
    "plt.title('test');"
   ]
  },
  {
   "cell_type": "code",
   "execution_count": 42,
   "metadata": {},
   "outputs": [],
   "source": [
    "#Соотнесем выводы с продажами игр на других платформах.\n",
    "#Напишем функцию, которая будет отрисовывать графики рассеивания и считать корреляции\n",
    "def other_platform_matrix(name_of_platform):\n",
    "    platform = actual_data[actual_data['platform']==name_of_platform]\n",
    "    fig, ax = plt.subplots(1 ,2, figsize=(15,5))\n",
    "    sns.scatterplot(x='user_score', y='total_sales', data=platform, ax=ax[0])\n",
    "    sns.scatterplot(x='critic_score', y='total_sales', data=platform, ax=ax[1])\n",
    "    fig.suptitle(name_of_platform, fontsize=15)\n",
    "    ax[0].set(xlabel='Оценка пользователей')\n",
    "    ax[1].set(xlabel='Оценка критиков')\n",
    "    ax[0].set(ylabel='Количество продаж')\n",
    "    ax[1].set(ylabel='Количество продаж')\n",
    "    plt.show()\n",
    "    \n",
    "    correl = platform['user_score'].corr(platform['total_sales'])\n",
    "    critic_correl = platform['critic_score'].corr(platform['total_sales'])\n",
    "    \n",
    "    \n",
    "    if 0.3 >= critic_correl >= 0.1:\n",
    "        print('Корреляция между отзывами критиков и продажами ', name_of_platform.upper(), ': Слабая', critic_correl)\n",
    "    if 0.5 >= critic_correl >= 0.3:\n",
    "        print('Корреляция между отзывами критиков и продажами ', name_of_platform.upper(), ': Умеренная', critic_correl)\n",
    "    if 0.7 >= critic_correl >= 0.5:\n",
    "        print('Корреляция между отзывами критиков и продажами ', name_of_platform.upper(), ': Высокая', critic_correl)\n",
    "    if 0.9 >= critic_correl >= 0.7:\n",
    "        print('Корреляция между отзывами критиков и продажами ', name_of_platform.upper(), ': Весьма высокая', critic_correl)\n",
    "    if 1 >= critic_correl >= 0.9:\n",
    "        print('Корреляция между отзывами критиков и продажами ', name_of_platform.upper(), ': Сильная', critic_correl)\n",
    "    \n",
    "    if 0.3 >= correl >= 0.1:\n",
    "        print('Корреляция между отзывами пользователей и продажами ', name_of_platform.upper(), ': Слабая', correl)\n",
    "    if 0.5 >= correl >= 0.3:\n",
    "        print('Корреляция между отзывами пользователей и продажами ', name_of_platform.upper(), ': Умеренная', correl)\n",
    "    if 0.7 >= correl >= 0.5:\n",
    "        print('Корреляция между отзывами пользователей и продажами ', name_of_platform.upper(), ': Высокая', correl)\n",
    "    if 0.9 >= correl >= 0.7:\n",
    "        print('Корреляция между отзывами пользователей и продажами ', name_of_platform.upper(), ': Весьма высокая', correl)\n",
    "    if 1 >= correl >= 0.9:\n",
    "        print('Корреляция между отзывами пользователей и продажами ', name_of_platform.upper(), ': Сильная', correl)\n",
    "    print('\\n')"
   ]
  },
  {
   "cell_type": "code",
   "execution_count": 43,
   "metadata": {
    "scrolled": false
   },
   "outputs": [
    {
     "data": {
      "image/png": "[encoded data removed]",
      "text/plain": [
       "<Figure size 1080x360 with 2 Axes>"
      ]
     },
     "metadata": {},
     "output_type": "display_data"
    },
    {
     "name": "stdout",
     "output_type": "stream",
     "text": [
      "Корреляция между отзывами критиков и продажами  PS4 : Умеренная 0.40266141068104083\n",
      "\n",
      "\n"
     ]
    },
    {
     "data": {
      "image/png": "[encoded data removed]",
      "text/plain": [
       "<Figure size 1080x360 with 2 Axes>"
      ]
     },
     "metadata": {},
     "output_type": "display_data"
    },
    {
     "name": "stdout",
     "output_type": "stream",
     "text": [
      "Корреляция между отзывами критиков и продажами  XONE : Умеренная 0.42867694370333226\n",
      "\n",
      "\n"
     ]
    },
    {
     "data": {
      "image/png": "[encoded data removed]",
      "text/plain": [
       "<Figure size 1080x360 with 2 Axes>"
      ]
     },
     "metadata": {},
     "output_type": "display_data"
    },
    {
     "name": "stdout",
     "output_type": "stream",
     "text": [
      "Корреляция между отзывами критиков и продажами  3DS : Умеренная 0.314117492869051\n",
      "Корреляция между отзывами пользователей и продажами  3DS : Слабая 0.2151932718527028\n",
      "\n",
      "\n"
     ]
    },
    {
     "data": {
      "image/png": "[encoded data removed]",
      "text/plain": [
       "<Figure size 1080x360 with 2 Axes>"
      ]
     },
     "metadata": {},
     "output_type": "display_data"
    },
    {
     "name": "stdout",
     "output_type": "stream",
     "text": [
      "Корреляция между отзывами критиков и продажами  PS3 : Умеренная 0.44657460493190704\n",
      "\n",
      "\n"
     ]
    },
    {
     "data": {
      "image/png": "[encoded data removed]",
      "text/plain": [
       "<Figure size 1080x360 with 2 Axes>"
      ]
     },
     "metadata": {},
     "output_type": "display_data"
    },
    {
     "name": "stdout",
     "output_type": "stream",
     "text": [
      "Корреляция между отзывами критиков и продажами  X360 : Высокая 0.5257228356581523\n",
      "\n",
      "\n"
     ]
    }
   ],
   "source": [
    "#С помощью цикла выведем все 5 графиков\n",
    "for platform in list_of_top5:\n",
    "    other_platform_matrix(platform)"
   ]
  },
  {
   "cell_type": "code",
   "execution_count": 44,
   "metadata": {},
   "outputs": [
    {
     "name": "stdout",
     "output_type": "stream",
     "text": [
      "Дисперсия PS4 : 1.949210436445598\n",
      "Стандартное отклонение PS4 : 1.3961412666509065\n",
      "Среднее PS4 : 6.82809917355372\n",
      "Медиана PS4 : 7.1\n",
      "\n",
      "\n",
      "Дисперсия XONE : 1.879546005509642\n",
      "Стандартное отклонение XONE : 1.3709653553280046\n",
      "Среднее XONE : 6.594545454545454\n",
      "Медиана XONE : 6.8\n",
      "\n",
      "\n",
      "Дисперсия 3DS : 2.2194512396694215\n",
      "Стандартное отклонение 3DS : 1.4897822792842657\n",
      "Среднее 3DS : 7.138181818181819\n",
      "Медиана 3DS : 7.4\n",
      "\n",
      "\n",
      "Дисперсия PS3 : 3.39938775510204\n",
      "Стандартное отклонение PS3 : 1.843742865776581\n",
      "Среднее PS3 : 6.014285714285714\n",
      "Медиана PS3 : 6.550000000000001\n",
      "\n",
      "\n",
      "Дисперсия X360 : 2.8875976193932353\n",
      "Стандартное отклонение X360 : 1.6992932705666892\n",
      "Среднее X360 : 5.7710843373493965\n",
      "Медиана X360 : 6.0\n",
      "\n",
      "\n"
     ]
    }
   ],
   "source": [
    "#Посчитаем дисперсию, стандартное отклонение, среднее и медиану у топ 5 платформ к оценкам пользователей\n",
    "for platform in list_of_top5:\n",
    "    print('Дисперсия', platform.upper(),':', np.var(actual_data[actual_data['platform']==platform]['user_score']))\n",
    "    print('Стандартное отклонение', platform.upper(),':', np.std(actual_data[actual_data['platform']==platform]['user_score']))\n",
    "    print('Среднее',platform.upper(),':',  actual_data[actual_data['platform']==platform]['user_score'].mean())\n",
    "    print('Медиана',platform.upper(),':',  actual_data[actual_data['platform']==platform]['user_score'].median())\n",
    "    print('\\n')"
   ]
  },
  {
   "cell_type": "code",
   "execution_count": 45,
   "metadata": {},
   "outputs": [
    {
     "name": "stdout",
     "output_type": "stream",
     "text": [
      "Дисперсия PS4 : 148.57629653367516\n",
      "Стандартное отклонение PS4 : 12.189187689656565\n",
      "Среднее PS4 : 72.16455696202532\n",
      "Медиана PS4 : 73.0\n",
      "\n",
      "\n",
      "Дисперсия XONE : 149.15737773152964\n",
      "Стандартное отклонение XONE : 12.21300035746866\n",
      "Среднее XONE : 73.79354838709678\n",
      "Медиана XONE : 76.0\n",
      "\n",
      "\n",
      "Дисперсия 3DS : 162.09765474817377\n",
      "Стандартное отклонение 3DS : 12.731757724217571\n",
      "Среднее 3DS : 68.98039215686275\n",
      "Медиана 3DS : 69.0\n",
      "\n",
      "\n",
      "Дисперсия PS3 : 178.69135802469134\n",
      "Стандартное отклонение PS3 : 13.367548691689562\n",
      "Среднее PS3 : 66.55555555555556\n",
      "Медиана PS3 : 67.0\n",
      "\n",
      "\n",
      "Дисперсия X360 : 218.04289940828403\n",
      "Стандартное отклонение X360 : 14.766275746046599\n",
      "Среднее X360 : 63.73076923076923\n",
      "Медиана X360 : 67.0\n",
      "\n",
      "\n"
     ]
    }
   ],
   "source": [
    "#Посчитаем дисперсию, стандартное отклонение, среднее и медиану у топ 5 платформ к оценкам критиков\n",
    "for platform in list_of_top5:\n",
    "    print('Дисперсия', platform.upper(),':', np.var(actual_data[actual_data['platform']==platform]['critic_score']))\n",
    "    print('Стандартное отклонение', platform.upper(),':', np.std(actual_data[actual_data['platform']==platform]['critic_score']))\n",
    "    print('Среднее',platform.upper(),':',  actual_data[actual_data['platform']==platform]['critic_score'].mean())\n",
    "    print('Медиана',platform.upper(),':',  actual_data[actual_data['platform']==platform]['critic_score'].median())\n",
    "    print('\\n')"
   ]
  },
  {
   "cell_type": "code",
   "execution_count": 46,
   "metadata": {},
   "outputs": [
    {
     "data": {
      "text/html": [
       "<div>\n",
       "<style scoped>\n",
       "    .dataframe tbody tr th:only-of-type {\n",
       "        vertical-align: middle;\n",
       "    }\n",
       "\n",
       "    .dataframe tbody tr th {\n",
       "        vertical-align: top;\n",
       "    }\n",
       "\n",
       "    .dataframe thead th {\n",
       "        text-align: right;\n",
       "    }\n",
       "</style>\n",
       "<table border=\"1\" class=\"dataframe\">\n",
       "  <thead>\n",
       "    <tr style=\"text-align: right;\">\n",
       "      <th></th>\n",
       "      <th>genre</th>\n",
       "      <th>total_sales</th>\n",
       "    </tr>\n",
       "  </thead>\n",
       "  <tbody>\n",
       "    <tr>\n",
       "      <th>0</th>\n",
       "      <td>Shooter</td>\n",
       "      <td>1.335469</td>\n",
       "    </tr>\n",
       "    <tr>\n",
       "      <th>1</th>\n",
       "      <td>Sports</td>\n",
       "      <td>0.680000</td>\n",
       "    </tr>\n",
       "    <tr>\n",
       "      <th>2</th>\n",
       "      <td>Platform</td>\n",
       "      <td>0.476053</td>\n",
       "    </tr>\n",
       "    <tr>\n",
       "      <th>3</th>\n",
       "      <td>Fighting</td>\n",
       "      <td>0.470333</td>\n",
       "    </tr>\n",
       "    <tr>\n",
       "      <th>4</th>\n",
       "      <td>Role-Playing</td>\n",
       "      <td>0.459005</td>\n",
       "    </tr>\n",
       "    <tr>\n",
       "      <th>5</th>\n",
       "      <td>Racing</td>\n",
       "      <td>0.398841</td>\n",
       "    </tr>\n",
       "    <tr>\n",
       "      <th>6</th>\n",
       "      <td>Misc</td>\n",
       "      <td>0.332301</td>\n",
       "    </tr>\n",
       "    <tr>\n",
       "      <th>7</th>\n",
       "      <td>Action</td>\n",
       "      <td>0.322113</td>\n",
       "    </tr>\n",
       "    <tr>\n",
       "      <th>8</th>\n",
       "      <td>Simulation</td>\n",
       "      <td>0.298409</td>\n",
       "    </tr>\n",
       "    <tr>\n",
       "      <th>9</th>\n",
       "      <td>Puzzle</td>\n",
       "      <td>0.157857</td>\n",
       "    </tr>\n",
       "    <tr>\n",
       "      <th>10</th>\n",
       "      <td>Strategy</td>\n",
       "      <td>0.107027</td>\n",
       "    </tr>\n",
       "    <tr>\n",
       "      <th>11</th>\n",
       "      <td>Adventure</td>\n",
       "      <td>0.094865</td>\n",
       "    </tr>\n",
       "  </tbody>\n",
       "</table>\n",
       "</div>"
      ],
      "text/plain": [
       "           genre  total_sales\n",
       "0        Shooter     1.335469\n",
       "1         Sports     0.680000\n",
       "2       Platform     0.476053\n",
       "3       Fighting     0.470333\n",
       "4   Role-Playing     0.459005\n",
       "5         Racing     0.398841\n",
       "6           Misc     0.332301\n",
       "7         Action     0.322113\n",
       "8     Simulation     0.298409\n",
       "9         Puzzle     0.157857\n",
       "10      Strategy     0.107027\n",
       "11     Adventure     0.094865"
      ]
     },
     "execution_count": 46,
     "metadata": {},
     "output_type": "execute_result"
    }
   ],
   "source": [
    "#Посмотрим на общее распределение игр по жанрам. \n",
    "# Методом сводных таблиц выведем жанры и их продажи. Отсортируем по убыванию. \n",
    "distr_genre = actual_data.pivot_table(\n",
    "    index='genre', values='total_sales', aggfunc='mean').sort_values(by='total_sales', ascending=False)\n",
    "distr_genre = distr_genre.reset_index().rename_axis(None, axis=1)\n",
    "distr_genre"
   ]
  },
  {
   "cell_type": "code",
   "execution_count": 47,
   "metadata": {},
   "outputs": [
    {
     "data": {
      "image/png": "[encoded data removed]",
      "text/plain": [
       "<Figure size 864x432 with 1 Axes>"
      ]
     },
     "metadata": {},
     "output_type": "display_data"
    }
   ],
   "source": [
    "#Отрисуем барплот чтобы наглядно посмотреть какие жанры лидирует, а какие остаются внизу\n",
    "plt.figure(figsize=(12,6))\n",
    "plt.title('Распределение игр по жанрам ',fontsize=15)\n",
    "sns.barplot(data=distr_genre, x='genre', y='total_sales')\n",
    "plt.xlabel('Жанры игр',fontsize=12)\n",
    "plt.ylabel('Продажи',fontsize=12);"
   ]
  },
  {
   "cell_type": "markdown",
   "metadata": {},
   "source": [
    "Лучше всего продается жанр \"Шутер\". Жанр \"Приключения\" остается на последнем месте."
   ]
  },
  {
   "cell_type": "markdown",
   "metadata": {},
   "source": [
    "###### Вывод по исследовательскому анализу данных:\n",
    "\n",
    "Количество игр на игровые приставки и компьютеры начало расти с большой скоростью с 90х годов до 2008 года. С 2008 года, после того как массово начали создавать мобильные приложения и мобильные игры, произошел резкий спад разработок игр на игровые платформы.\n",
    "\n",
    "Самые популярные игровые платформы за весь период : Sony PlayStation 2, Xbox 360, Sony Playstation 3, Nintendo WII, Nintendo DS, Sony Playstation.\n",
    "\n",
    "Средняя жизнь игровой платформы составляет 10 лет. Пик продаж наступает примерно через 5 лет после выхода приставки.\n",
    "\n",
    "Больше всего продаются игры на Sony Playstation и Xbox 360.\n",
    "Nintendo WII как быстро появился также быстро и потух. Возможно потому что появился прям перед выходом мобильных приложений и игр.\n",
    "\n",
    "За последние 3 года было заметно,что больше всех продаж у PS4, затем у XOne, после у 3DS.\n",
    "\n",
    "У всех платформ наблюдается взаимосвязь между продажами и оценками критиков и пользователей. Заметнее всего корреляция между отзывами критиков и игровой платформой  X360. Это значит для людей мнение критиков важнее мнения других пользователей."
   ]
  },
  {
   "cell_type": "markdown",
   "metadata": {},
   "source": [
    "# Шаг 4. Составим портрет пользователя каждого региона"
   ]
  },
  {
   "cell_type": "markdown",
   "metadata": {},
   "source": [
    "TO DO:\n",
    "\n",
    "- Определим для пользователя каждого региона (NA, EU, JP):\n",
    "    - Самые популярные платформы (топ-5). Опишем различия в долях продаж.\n",
    "    - Самые популярные жанры (топ-5). Поясним разницу.\n",
    "    - Влияет ли рейтинг ESRB на продажи в отдельном регионе?"
   ]
  },
  {
   "cell_type": "code",
   "execution_count": 48,
   "metadata": {},
   "outputs": [],
   "source": [
    "#Напишем функции для создания сводных таблиц и отсривоки барплотов\n",
    "\n",
    "#Функция для создания сводной таблицы за период после 2013 года\n",
    "def for_pivot_2017(row, title):\n",
    "    temp = actual_data\n",
    "    fig, axes = plt.subplots(1, 3, figsize=(20, 4))\n",
    "    for pivot, ax in zip(list(['platform','genre','rating']), axes.flatten()[:3]):\n",
    "        ppivot = temp.pivot_table(index=pivot, values=row, aggfunc='sum').sort_values(by=row, ascending=False).reset_index().rename_axis(None, axis=1).head(5)\n",
    "        print(ppivot)\n",
    "        print('\\n\\n')\n",
    "        sns.set_palette(\"BuGn_r\")\n",
    "        sns.barplot(data=ppivot, x=pivot, y=row, ax=ax)\n",
    "        fig.suptitle(title, fontsize=15)\n",
    "        "
   ]
  },
  {
   "cell_type": "code",
   "execution_count": 49,
   "metadata": {},
   "outputs": [
    {
     "name": "stdout",
     "output_type": "stream",
     "text": [
      "  platform  na_sales\n",
      "0      PS4     98.61\n",
      "1     XOne     81.27\n",
      "2     X360     28.30\n",
      "3      3DS     22.64\n",
      "4      PS3     22.05\n",
      "\n",
      "\n",
      "\n",
      "          genre  na_sales\n",
      "0       Shooter     79.02\n",
      "1        Action     72.59\n",
      "2        Sports     46.13\n",
      "3  Role-Playing     33.47\n",
      "4          Misc     15.05\n",
      "\n",
      "\n",
      "\n",
      "  rating  na_sales\n",
      "0      M     96.48\n",
      "1      0     64.72\n",
      "2      E     50.74\n",
      "3      T     38.95\n",
      "4   E10+     33.23\n",
      "\n",
      "\n",
      "\n"
     ]
    },
    {
     "data": {
      "image/png": "[encoded data removed]",
      "text/plain": [
       "<Figure size 1440x288 with 3 Axes>"
      ]
     },
     "metadata": {},
     "output_type": "display_data"
    }
   ],
   "source": [
    "#Выведем топ 5 платформ, жанров и рейтингов после 2013 года для Северной Америки\n",
    "for_pivot_2017('na_sales','Топ 5 платформ, жанров и рейтингов после 2013 года для Северной Америки')"
   ]
  },
  {
   "cell_type": "markdown",
   "metadata": {},
   "source": [
    "Вывод:\n",
    "\n",
    "Самые популярные игровые платформы в Северной Америке за все время это: X360, PS4, XOne, 3DS, PS3.\n",
    "Топ 5 жанров в Северной Америке за все время: action, shooter, sports, role-playing, misc.\n",
    "По рейтингам видно, что больше всего продаж за все время у игр с рейтингом «от 17 лет», на втором месте игры с рейтингом \"для всех\" и на третьем месте игры с рейтингом «для всех старше 10 лет».\n"
   ]
  },
  {
   "cell_type": "code",
   "execution_count": 50,
   "metadata": {},
   "outputs": [
    {
     "name": "stdout",
     "output_type": "stream",
     "text": [
      "  platform  eu_sales\n",
      "0      PS4    130.04\n",
      "1     XOne     46.25\n",
      "2      PS3     25.54\n",
      "3       PC     18.22\n",
      "4      3DS     16.12\n",
      "\n",
      "\n",
      "\n",
      "          genre  eu_sales\n",
      "0        Action     74.93\n",
      "1       Shooter     65.52\n",
      "2        Sports     45.73\n",
      "3  Role-Playing     28.17\n",
      "4        Racing     14.13\n",
      "\n",
      "\n",
      "\n",
      "  rating  eu_sales\n",
      "0      M     93.69\n",
      "1      0     58.95\n",
      "2      E     58.06\n",
      "3      T     34.07\n",
      "4   E10+     26.16\n",
      "\n",
      "\n",
      "\n"
     ]
    },
    {
     "data": {
      "image/png": "[encoded data removed]",
      "text/plain": [
       "<Figure size 1440x288 with 3 Axes>"
      ]
     },
     "metadata": {},
     "output_type": "display_data"
    }
   ],
   "source": [
    "#Выведем топ 5 платформ, жанров и рейтингов после 2013 года для Европейского союза\n",
    "for_pivot_2017('eu_sales','Топ 5 платформ, жанров и рейтингов после 2013 года для Европейского союза')"
   ]
  },
  {
   "cell_type": "markdown",
   "metadata": {},
   "source": [
    "Вывод:\n",
    "\n",
    "Самые популярные игровые платформы в Европе после 2013 года это: PS3, PS4, XOne, 3DS, PC.\n",
    "Топ 5 жанров в Европе : action, sports, shooter, racing, role-playing.\n",
    "По рейтингам видно, что больше всего продаж у игр с рейтингом \"от 17 лет\", на втором месте игры с рейтингом \"для всех\" и на третьем месте игры с рейтингом «подросткам 13—19 лет».\n",
    "\n"
   ]
  },
  {
   "cell_type": "code",
   "execution_count": 51,
   "metadata": {},
   "outputs": [
    {
     "name": "stdout",
     "output_type": "stream",
     "text": [
      "  platform  jp_sales\n",
      "0      3DS     44.24\n",
      "1      PS4     15.02\n",
      "2      PSV     14.54\n",
      "3      PS3     11.22\n",
      "4     WiiU      7.31\n",
      "\n",
      "\n",
      "\n",
      "          genre  jp_sales\n",
      "0  Role-Playing     31.16\n",
      "1        Action     29.58\n",
      "2      Fighting      6.37\n",
      "3          Misc      5.61\n",
      "4       Shooter      4.87\n",
      "\n",
      "\n",
      "\n",
      "  rating  jp_sales\n",
      "0      0     56.90\n",
      "1      T     14.78\n",
      "2      E      8.94\n",
      "3      M      8.01\n",
      "4   E10+      4.46\n",
      "\n",
      "\n",
      "\n"
     ]
    },
    {
     "data": {
      "image/png": "[encoded data removed]",
      "text/plain": [
       "<Figure size 1440x288 with 3 Axes>"
      ]
     },
     "metadata": {},
     "output_type": "display_data"
    }
   ],
   "source": [
    "#Выведем топ 5 платформ, жанров и рейтингов после 2013 года для Японии\n",
    "for_pivot_2017('jp_sales','Топ 5 платформ, жанров и рейтингов после 2013 года для Японии')"
   ]
  },
  {
   "cell_type": "markdown",
   "metadata": {},
   "source": [
    "Вывод:\n",
    "\n",
    "Самые популярные игровые платформы в Японии это: 3DS, PS3, Wiiu, PSV, PS4.\n",
    "Топ 5 жанров в Японии : Role-Playing, action, fighting, shooter, misc.\n",
    "По рейтингам видно, что больше всего продаж у игр с рейтингом \"подросткам 13—19 лет\", на втором месте игры с рейтингом \"для всех\" и на третьем месте игры с рейтингом \"от 17 и выше\".\n"
   ]
  },
  {
   "cell_type": "markdown",
   "metadata": {},
   "source": [
    "#### Вывод по составлению портрета пользователя каждого региона\n",
    "\n",
    "Самые популярные игровые платформы в Северной Америке за все время это: X360, PS4, XOne, 3DS, PS3.\n",
    "Топ 5 жанров в Северной Америке за все время: action, shooter, sports, role-playing, misc.\n",
    "По рейтингам видно, что больше всего продаж за все время у игр с рейтингом «от 17 лет», на втором месте игры с рейтингом \"для всех\" и на третьем месте игры с рейтингом «для всех старше 10 лет».\n",
    "\n",
    "Самые популярные игровые платформы в Европе после 2013 года это: PS3, PS4, XOne, 3DS, PC.\n",
    "Топ 5 жанров в Европе : action, sports, shooter, racing, role-playing.\n",
    "По рейтингам видно, что больше всего продаж у игр с рейтингом \"от 17 лет\", на втором месте игры с рейтингом \"для всех\" и на третьем месте игры с рейтингом «подросткам 13—19 лет».\n",
    "\n",
    "\n",
    "Самые популярные игровые платформы в Японии это: 3DS, PS3, Wiiu, PSV, PS4.\n",
    "Топ 5 жанров в Японии : Role-Playing, action, fighting, shooter, misc.\n",
    "По рейтингам видно, что больше всего продаж у игр с рейтингом \"подросткам 13—19 лет\", на втором месте игры с рейтингом \"для всех\" и на третьем месте игры с рейтингом \"от 17 и выше\".\n",
    "\n",
    "Для прогноза будущих продаж лучше брать данные после 2013 года, так как технологии меняются с очень быстрыми темпами, и вкусы людей также могут меняться очень быстро. Соответственно, для 2017 года большую часть прибыли будут приносить игры жанра action, для платформы PS4 и с рейтингом \"от 17 и выше\"."
   ]
  },
  {
   "cell_type": "markdown",
   "metadata": {},
   "source": [
    "# Шаг 5. Проверим гипотезы"
   ]
  },
  {
   "cell_type": "markdown",
   "metadata": {},
   "source": [
    "TO DO:\n",
    "\n",
    "- Средние пользовательские рейтинги платформ Xbox One и PC одинаковые.\n",
    "- Средние пользовательские рейтинги жанров Action (англ. «действие», экшен-игры) и \n",
    "Sports (англ. «спортивные соревнования») разные.\n",
    "- Пороговое значение alpha зададим самостоятельно.\n",
    "- Поясним:\n",
    "    - Как мы сформулировали нулевую и альтернативную гипотезы;\n",
    "    - Какой критерий применили для проверки гипотез и почему.\n",
    "    \n",
    "Средние пользовательские рейтинги платформ Xbox One и PC одинаковые.\n",
    "\n",
    "Сформулируем нулевые гипотезы:\n",
    "Нулевая гипотеза H₀: Средние пользовательские рейтинги платформ Xbox One и PC одинаковые;\n",
    "Альтернативная гипотеза H₁: Средние пользовательские рейтинги платформ Xbox One и PC различаются"
   ]
  },
  {
   "cell_type": "code",
   "execution_count": 52,
   "metadata": {},
   "outputs": [
    {
     "data": {
      "text/plain": [
       "6.594545454545454"
      ]
     },
     "execution_count": 52,
     "metadata": {},
     "output_type": "execute_result"
    }
   ],
   "source": [
    "# Сохраним в переменных xbox_hyp и pc_hyp соответствующие данные (актуальные данные после 2010 года)\n",
    "xone_hyp = actual_data[(actual_data['platform']=='XOne')]['user_score']\n",
    "pc_hyp = actual_data[(actual_data['platform']=='PC')]['user_score']\n",
    "\n",
    "#Посчитаем средний рейтинг пользователя для xbox платформ\n",
    "xone_hyp.mean()"
   ]
  },
  {
   "cell_type": "code",
   "execution_count": 53,
   "metadata": {},
   "outputs": [
    {
     "data": {
      "text/plain": [
       "6.316260162601626"
      ]
     },
     "execution_count": 53,
     "metadata": {},
     "output_type": "execute_result"
    }
   ],
   "source": [
    "#Посчитаем средний рейтинг пользователя для PC платформ\n",
    "pc_hyp.mean()"
   ]
  },
  {
   "cell_type": "code",
   "execution_count": 54,
   "metadata": {},
   "outputs": [
    {
     "name": "stdout",
     "output_type": "stream",
     "text": [
      "p-значение: 0.13923712043548309\n",
      "Не получилось отвергнуть нулевую гипотезу\n"
     ]
    }
   ],
   "source": [
    "#Выполним проверку гипотезы. Будем использовать метод ttest_ind\n",
    "\n",
    "alpha = .01\n",
    "\n",
    "results = st.ttest_ind(xone_hyp.dropna(), pc_hyp.dropna(), equal_var=False)\n",
    "\n",
    "print('p-значение:', results.pvalue)\n",
    "\n",
    "\n",
    "if (results.pvalue < alpha):\n",
    "    print(\"Отвергаем нулевую гипотезу\")\n",
    "else:\n",
    "    print(\"Не получилось отвергнуть нулевую гипотезу\")"
   ]
  },
  {
   "cell_type": "markdown",
   "metadata": {},
   "source": [
    "### Вывод\n",
    "\n",
    "Значение p-value равно 13%. Таким образом, не получилось опровергнуть нулевую гипотезу. То есть, с вероятностью в 13% можно получить различность рейтингов двух платформ.\n",
    "\n",
    "Средние пользовательские рейтинги жанров Action (англ. «действие», экшен-игры) и Sports (англ. «спортивные соревнования») разные.\n",
    "\n",
    "Сформулируем нулевые гипотезы:\n",
    "Нулевая гипотеза H₀: Средние пользовательские рейтинги жанров Action и Sports одинаковые.\n",
    "Альтернативная гипотеза H₁: Средние пользовательские рейтинги жанров Action и Sports различаются."
   ]
  },
  {
   "cell_type": "code",
   "execution_count": 55,
   "metadata": {},
   "outputs": [
    {
     "data": {
      "text/plain": [
       "6.766442953020134"
      ]
     },
     "execution_count": 55,
     "metadata": {},
     "output_type": "execute_result"
    }
   ],
   "source": [
    "# Сохраним в переменных genre_action_hyp и genre_sports_hyp соответствующие данные с пользовательскими оценками\n",
    "genre_action_hyp = actual_data[(actual_data['genre']=='Action')]['user_score']\n",
    "genre_sports_hyp = actual_data[(actual_data['genre']=='Sports')]['user_score']\n",
    "\n",
    "#выведем среднюю оценку по жанру экшн\n",
    "genre_action_hyp.mean()"
   ]
  },
  {
   "cell_type": "code",
   "execution_count": 56,
   "metadata": {},
   "outputs": [
    {
     "data": {
      "text/plain": [
       "5.225196850393701"
      ]
     },
     "execution_count": 56,
     "metadata": {},
     "output_type": "execute_result"
    }
   ],
   "source": [
    "#выведем среднюю оценку по жанру спорт\n",
    "genre_sports_hyp.mean()"
   ]
  },
  {
   "cell_type": "code",
   "execution_count": 57,
   "metadata": {},
   "outputs": [
    {
     "name": "stdout",
     "output_type": "stream",
     "text": [
      "p-значение: 9.658176026869598e-15\n",
      "Отвергаем нулевую гипотезу\n"
     ]
    }
   ],
   "source": [
    "#Выполним проверку гипотезы. Будем использовать метод ttest_ind\n",
    "\n",
    "alpha = .01\n",
    "\n",
    "results = st.ttest_ind(genre_action_hyp.dropna(), genre_sports_hyp.dropna(), equal_var=False)\n",
    "\n",
    "print('p-значение:', results.pvalue)\n",
    "\n",
    "\n",
    "if (results.pvalue < alpha):\n",
    "    print(\"Отвергаем нулевую гипотезу\")\n",
    "else:\n",
    "    print(\"Не получилось отвергнуть нулевую гипотезу\")"
   ]
  },
  {
   "cell_type": "markdown",
   "metadata": {},
   "source": [
    "Вывод: Получив p-value, мы отвергли нулевую гипотезу. Таким образом, у нас практически нет вероятности получить одинакове средние рейнтинги по двум жанрам.\n",
    "\n"
   ]
  },
  {
   "cell_type": "markdown",
   "metadata": {},
   "source": [
    "Вывод по проверке гипотез\n",
    "\n",
    "Проверили гипотезы по ТЗ:\n",
    "\n",
    "- Гипотеза: \"Средние пользовательские рейтинги платформ Xbox one и PC одинаковые\". Нулевую гипотезу не удалось опровергнуть.\n",
    "- Гипотеза: \"Средние пользовательские рейтинги жанров Action и Sports разные\". Отвергаем нулевую гипотезу."
   ]
  },
  {
   "cell_type": "markdown",
   "metadata": {},
   "source": [
    "# Шаг 6. Общий вывод"
   ]
  },
  {
   "cell_type": "markdown",
   "metadata": {},
   "source": [
    "Перед анализом данных, мы подготовили наши данные, привели к правильным данным столбцы, привели к нижнему регистру таблицы и сами названия колонок и gривели к правильным типам данных необходимые столбцы.\n",
    "\n",
    "Определили, что аббревиатура TBD значит to be determined, to be done. То есть данные были нарочно не заполнены. Поэтому заменили tbd на nan для проведения дальнейшего анализа.\n",
    "\n",
    "Количество игр на игровые приставки и компьютеры начало расти с большой скоростью с 90х годов до 2008 года. С 2008 года, после того как массово начали создавать мобильные приложения и мобильные игры, произошел резкий спад разработок игр на игровые платформы.\n",
    "\n",
    "Самые популярные игровые платформы за весь период : Sony PlayStation 2, Xbox 360, Sony Playstation 3, Nintendo WII, Nintendo DS, Sony Playstation.\n",
    "\n",
    "Средняя жизнь игровой платформы составляет 10 лет. Пик продаж наступает примерно через 5 лет после выхода приставки.\n",
    "\n",
    "Больше всего продаются игры на Sony Playstation и Xbox 360.\n",
    "Nintendo WII как быстро появился также быстро и потух. Возможно потому что появился прям перед выходом мобильных приложений и игр.\n",
    "\n",
    "За последние 10 лет было заметно,что больше всех продаж у WII, затем у DS, после у X360. \n",
    "\n",
    "У всех платформ наблюдается взаимосвязь между продажами и оценками критиков и пользователей. Заметнее всего корреляция между оценками критиков и продажами. Это значит для людей мнение критиков важнее мнения других пользователей.\n",
    "\n",
    "Самые популярные игровые платформы в Северной Америке за все время это: X360, PS4, XOne, 3DS, PS3. Топ 5 жанров в Северной Америке за все время: action, shooter, sports, role-playing, misc. По рейтингам видно, что больше всего продаж за все время у игр с рейтингом «от 17 лет», на втором месте игры с рейтингом \"для всех\" и на третьем месте игры с рейтингом «для всех старше 10 лет».\n",
    "\n",
    "Самые популярные игровые платформы в Европе после 2013 года это: PS3, PS4, XOne, 3DS, PC. Топ 5 жанров в Европе : action, sports, shooter, racing, role-playing. По рейтингам видно, что больше всего продаж у игр с рейтингом \"от 17 лет\", на втором месте игры с рейтингом \"для всех\" и на третьем месте игры с рейтингом «подросткам 13—19 лет».\n",
    "\n",
    "Самые популярные игровые платформы в Японии это: 3DS, PS3, Wiiu, PSV, PS4. Топ 5 жанров в Японии : Role-Playing, action, fighting, shooter, misc. По рейтингам видно, что больше всего продаж у игр с рейтингом \"подросткам 13—19 лет\", на втором месте игры с рейтингом \"для всех\" и на третьем месте игры с рейтингом \"от 17 и выше\".\n",
    "\n",
    "Для прогноза будущих продаж лучше брать данные после 2013 года, так как технологии меняются с очень быстрыми темпами, и вкусы людей также могут меняться очень быстро. Соответственно, для 2017 года большую часть прибыли будут приносить игры жанра action, для платформы PS4 и с рейтингом \"от 17 и выше\".\n",
    "\n",
    "Проверили гипотезы по ТЗ:\n",
    "\n",
    "Гипотеза: \"Средние пользовательские рейтинги платформ Xbox one и PC одинаковые\". Нулевую гипотезу не удалось опровергнуть.\n",
    "Гипотеза: \"Средние пользовательские рейтинги жанров Action и Sports разные\". Отвергаем нулевую гипотезу.\n"
   ]
  }
 ],
 "metadata": {
  "ExecuteTimeLog": [
   {
    "duration": 1451,
    "start_time": "2022-04-29T19:07:12.545Z"
   },
   {
    "duration": 237,
    "start_time": "2022-04-29T19:07:32.075Z"
   },
   {
    "duration": 5,
    "start_time": "2022-04-29T19:07:37.677Z"
   },
   {
    "duration": 15,
    "start_time": "2022-04-29T19:07:44.396Z"
   },
   {
    "duration": 15,
    "start_time": "2022-04-29T19:07:55.845Z"
   },
   {
    "duration": 135,
    "start_time": "2022-04-29T19:12:09.982Z"
   },
   {
    "duration": 123,
    "start_time": "2022-04-29T19:12:20.486Z"
   },
   {
    "duration": 121,
    "start_time": "2022-04-29T19:13:10.335Z"
   },
   {
    "duration": 16,
    "start_time": "2022-04-29T19:13:19.791Z"
   },
   {
    "duration": 120,
    "start_time": "2022-04-29T19:14:18.669Z"
   },
   {
    "duration": 74,
    "start_time": "2022-04-29T19:14:24.221Z"
   },
   {
    "duration": 21,
    "start_time": "2022-04-29T19:14:30.935Z"
   },
   {
    "duration": 140,
    "start_time": "2022-04-29T19:15:32.041Z"
   },
   {
    "duration": 125,
    "start_time": "2022-04-29T19:15:47.168Z"
   },
   {
    "duration": 119,
    "start_time": "2022-04-29T19:15:52.692Z"
   },
   {
    "duration": 20,
    "start_time": "2022-04-29T19:16:00.011Z"
   },
   {
    "duration": 299,
    "start_time": "2022-04-29T19:17:18.977Z"
   },
   {
    "duration": 19,
    "start_time": "2022-04-29T19:17:27.625Z"
   },
   {
    "duration": 18,
    "start_time": "2022-04-29T19:17:33.612Z"
   },
   {
    "duration": 19,
    "start_time": "2022-04-29T19:18:37.384Z"
   },
   {
    "duration": 17,
    "start_time": "2022-04-29T19:18:59.998Z"
   },
   {
    "duration": 20,
    "start_time": "2022-04-29T19:19:05.347Z"
   },
   {
    "duration": 15,
    "start_time": "2022-04-29T19:19:19.059Z"
   },
   {
    "duration": 14,
    "start_time": "2022-04-29T19:19:25.063Z"
   },
   {
    "duration": 126,
    "start_time": "2022-04-29T19:21:23.723Z"
   },
   {
    "duration": 120,
    "start_time": "2022-04-29T19:21:33.252Z"
   },
   {
    "duration": 152,
    "start_time": "2022-04-29T19:23:17.756Z"
   },
   {
    "duration": 99,
    "start_time": "2022-04-29T19:23:30.588Z"
   },
   {
    "duration": 82,
    "start_time": "2022-04-29T19:25:01.675Z"
   },
   {
    "duration": 4,
    "start_time": "2022-04-29T19:29:11.184Z"
   },
   {
    "duration": 9,
    "start_time": "2022-04-29T19:29:29.567Z"
   },
   {
    "duration": 24,
    "start_time": "2022-04-29T19:29:57.158Z"
   },
   {
    "duration": 26,
    "start_time": "2022-04-29T19:30:27.605Z"
   },
   {
    "duration": 29,
    "start_time": "2022-04-29T19:30:42.733Z"
   },
   {
    "duration": 30,
    "start_time": "2022-04-29T19:30:55.299Z"
   },
   {
    "duration": 7,
    "start_time": "2022-04-29T19:31:09.781Z"
   },
   {
    "duration": 7,
    "start_time": "2022-04-29T19:31:21.377Z"
   },
   {
    "duration": 17,
    "start_time": "2022-04-29T19:31:32.902Z"
   },
   {
    "duration": 3,
    "start_time": "2022-04-29T19:33:24.323Z"
   },
   {
    "duration": 5,
    "start_time": "2022-04-29T19:36:13.912Z"
   },
   {
    "duration": 23,
    "start_time": "2022-04-29T19:36:37.829Z"
   },
   {
    "duration": 4,
    "start_time": "2022-04-29T19:37:59.045Z"
   },
   {
    "duration": 18,
    "start_time": "2022-04-29T19:38:13.248Z"
   },
   {
    "duration": 5,
    "start_time": "2022-04-29T19:38:40.515Z"
   },
   {
    "duration": 301,
    "start_time": "2022-04-29T19:39:46.602Z"
   },
   {
    "duration": 5,
    "start_time": "2022-04-29T19:39:58.987Z"
   },
   {
    "duration": 16,
    "start_time": "2022-04-29T19:40:59.452Z"
   },
   {
    "duration": 7,
    "start_time": "2022-04-29T19:41:31.372Z"
   },
   {
    "duration": 5,
    "start_time": "2022-04-29T19:42:06.235Z"
   },
   {
    "duration": 20,
    "start_time": "2022-04-29T19:42:13.904Z"
   },
   {
    "duration": 190,
    "start_time": "2022-04-29T19:45:52.581Z"
   },
   {
    "duration": 323,
    "start_time": "2022-04-29T19:47:50.415Z"
   },
   {
    "duration": 4,
    "start_time": "2022-04-29T19:49:44.803Z"
   },
   {
    "duration": 9,
    "start_time": "2022-04-29T19:51:21.072Z"
   },
   {
    "duration": 8,
    "start_time": "2022-04-29T19:51:25.190Z"
   },
   {
    "duration": 14,
    "start_time": "2022-04-29T19:51:31.040Z"
   },
   {
    "duration": 8,
    "start_time": "2022-04-29T19:51:32.522Z"
   },
   {
    "duration": 409,
    "start_time": "2022-04-29T19:51:49.426Z"
   },
   {
    "duration": 11,
    "start_time": "2022-04-29T19:53:54.752Z"
   },
   {
    "duration": 9,
    "start_time": "2022-04-29T19:54:04.603Z"
   },
   {
    "duration": 242,
    "start_time": "2022-04-29T19:54:24.665Z"
   },
   {
    "duration": 480,
    "start_time": "2022-04-29T19:54:38.295Z"
   },
   {
    "duration": 232,
    "start_time": "2022-04-29T19:54:48.001Z"
   },
   {
    "duration": 10,
    "start_time": "2022-04-29T19:55:48.240Z"
   },
   {
    "duration": 208,
    "start_time": "2022-04-29T19:56:50.465Z"
   },
   {
    "duration": 146,
    "start_time": "2022-04-29T19:56:59.601Z"
   },
   {
    "duration": 140,
    "start_time": "2022-04-29T19:57:15.418Z"
   },
   {
    "duration": 5,
    "start_time": "2022-04-29T19:57:47.419Z"
   },
   {
    "duration": 118,
    "start_time": "2022-04-29T19:58:11.229Z"
   },
   {
    "duration": 8,
    "start_time": "2022-04-29T19:58:16.084Z"
   },
   {
    "duration": 1179,
    "start_time": "2022-04-29T19:58:27.118Z"
   },
   {
    "duration": 56,
    "start_time": "2022-04-29T19:59:35.020Z"
   },
   {
    "duration": 58,
    "start_time": "2022-04-29T20:00:01.430Z"
   },
   {
    "duration": 18,
    "start_time": "2022-04-29T20:00:31.164Z"
   },
   {
    "duration": 192,
    "start_time": "2022-04-29T20:01:03.143Z"
   },
   {
    "duration": 352,
    "start_time": "2022-04-29T20:01:10.044Z"
   },
   {
    "duration": 152,
    "start_time": "2022-04-29T20:03:24.927Z"
   },
   {
    "duration": 7,
    "start_time": "2022-04-29T20:03:44.247Z"
   },
   {
    "duration": 346,
    "start_time": "2022-04-29T20:03:54.523Z"
   },
   {
    "duration": 380,
    "start_time": "2022-04-29T20:04:30.766Z"
   },
   {
    "duration": 362,
    "start_time": "2022-04-29T20:05:22.619Z"
   },
   {
    "duration": 364,
    "start_time": "2022-04-29T20:05:36.142Z"
   },
   {
    "duration": 139,
    "start_time": "2022-04-29T20:06:12.017Z"
   },
   {
    "duration": 375,
    "start_time": "2022-04-29T20:06:28.746Z"
   },
   {
    "duration": 475,
    "start_time": "2022-04-29T20:06:53.320Z"
   },
   {
    "duration": 12,
    "start_time": "2022-04-29T20:10:32.929Z"
   },
   {
    "duration": 5,
    "start_time": "2022-04-29T20:10:41.209Z"
   },
   {
    "duration": 6,
    "start_time": "2022-04-29T20:10:54.163Z"
   },
   {
    "duration": 10,
    "start_time": "2022-04-29T20:11:53.762Z"
   },
   {
    "duration": 4,
    "start_time": "2022-04-29T20:12:03.971Z"
   },
   {
    "duration": 5,
    "start_time": "2022-04-29T20:12:14.252Z"
   },
   {
    "duration": 1340,
    "start_time": "2022-05-04T18:11:27.629Z"
   },
   {
    "duration": 4,
    "start_time": "2022-05-04T18:11:28.970Z"
   },
   {
    "duration": 12,
    "start_time": "2022-05-04T18:11:28.976Z"
   },
   {
    "duration": 18,
    "start_time": "2022-05-04T18:11:28.990Z"
   },
   {
    "duration": 55,
    "start_time": "2022-05-04T18:11:29.010Z"
   },
   {
    "duration": 27,
    "start_time": "2022-05-04T18:11:29.067Z"
   },
   {
    "duration": 25,
    "start_time": "2022-05-04T18:11:29.095Z"
   },
   {
    "duration": 32,
    "start_time": "2022-05-04T18:11:29.122Z"
   },
   {
    "duration": 9,
    "start_time": "2022-05-04T18:11:29.156Z"
   },
   {
    "duration": 19,
    "start_time": "2022-05-04T18:11:29.168Z"
   },
   {
    "duration": 5,
    "start_time": "2022-05-04T18:11:29.189Z"
   },
   {
    "duration": 7,
    "start_time": "2022-05-04T18:11:29.195Z"
   },
   {
    "duration": 19,
    "start_time": "2022-05-04T18:11:29.204Z"
   },
   {
    "duration": 31,
    "start_time": "2022-05-04T18:11:29.225Z"
   },
   {
    "duration": 332,
    "start_time": "2022-05-04T18:11:29.258Z"
   },
   {
    "duration": 5,
    "start_time": "2022-05-04T18:11:29.592Z"
   },
   {
    "duration": 32,
    "start_time": "2022-05-04T18:11:29.599Z"
   },
   {
    "duration": 22,
    "start_time": "2022-05-04T18:11:29.633Z"
   },
   {
    "duration": 6,
    "start_time": "2022-05-04T18:11:29.657Z"
   },
   {
    "duration": 33,
    "start_time": "2022-05-04T18:11:29.664Z"
   },
   {
    "duration": 308,
    "start_time": "2022-05-04T18:11:29.699Z"
   },
   {
    "duration": 438,
    "start_time": "2022-05-04T18:11:30.010Z"
   },
   {
    "duration": 5,
    "start_time": "2022-05-04T18:11:30.454Z"
   },
   {
    "duration": 18,
    "start_time": "2022-05-04T18:11:30.461Z"
   },
   {
    "duration": 24,
    "start_time": "2022-05-04T18:11:30.482Z"
   },
   {
    "duration": 296,
    "start_time": "2022-05-04T18:11:30.508Z"
   },
   {
    "duration": 7,
    "start_time": "2022-05-04T18:11:30.806Z"
   },
   {
    "duration": 37,
    "start_time": "2022-05-04T18:11:30.817Z"
   },
   {
    "duration": 156,
    "start_time": "2022-05-04T18:11:30.856Z"
   },
   {
    "duration": 0,
    "start_time": "2022-05-04T18:11:31.015Z"
   },
   {
    "duration": 0,
    "start_time": "2022-05-04T18:11:31.016Z"
   },
   {
    "duration": 0,
    "start_time": "2022-05-04T18:11:31.018Z"
   },
   {
    "duration": 0,
    "start_time": "2022-05-04T18:11:31.019Z"
   },
   {
    "duration": 0,
    "start_time": "2022-05-04T18:11:31.020Z"
   },
   {
    "duration": 0,
    "start_time": "2022-05-04T18:11:31.021Z"
   },
   {
    "duration": 0,
    "start_time": "2022-05-04T18:11:31.023Z"
   },
   {
    "duration": 0,
    "start_time": "2022-05-04T18:11:31.025Z"
   },
   {
    "duration": 0,
    "start_time": "2022-05-04T18:11:31.026Z"
   },
   {
    "duration": 0,
    "start_time": "2022-05-04T18:11:31.027Z"
   },
   {
    "duration": 0,
    "start_time": "2022-05-04T18:11:31.028Z"
   },
   {
    "duration": 0,
    "start_time": "2022-05-04T18:11:31.030Z"
   },
   {
    "duration": 0,
    "start_time": "2022-05-04T18:11:31.031Z"
   },
   {
    "duration": 0,
    "start_time": "2022-05-04T18:11:31.055Z"
   },
   {
    "duration": 0,
    "start_time": "2022-05-04T18:11:31.056Z"
   },
   {
    "duration": 0,
    "start_time": "2022-05-04T18:11:31.058Z"
   },
   {
    "duration": 0,
    "start_time": "2022-05-04T18:11:31.059Z"
   },
   {
    "duration": 0,
    "start_time": "2022-05-04T18:11:31.061Z"
   },
   {
    "duration": 0,
    "start_time": "2022-05-04T18:11:31.062Z"
   },
   {
    "duration": 0,
    "start_time": "2022-05-04T18:11:31.063Z"
   },
   {
    "duration": 0,
    "start_time": "2022-05-04T18:11:31.064Z"
   },
   {
    "duration": 0,
    "start_time": "2022-05-04T18:11:31.065Z"
   },
   {
    "duration": 0,
    "start_time": "2022-05-04T18:11:31.066Z"
   },
   {
    "duration": 64,
    "start_time": "2022-05-04T18:19:30.307Z"
   },
   {
    "duration": 4,
    "start_time": "2022-05-04T18:19:30.374Z"
   },
   {
    "duration": 14,
    "start_time": "2022-05-04T18:19:30.380Z"
   },
   {
    "duration": 36,
    "start_time": "2022-05-04T18:19:30.396Z"
   },
   {
    "duration": 30,
    "start_time": "2022-05-04T18:19:30.434Z"
   },
   {
    "duration": 21,
    "start_time": "2022-05-04T18:19:30.466Z"
   },
   {
    "duration": 25,
    "start_time": "2022-05-04T18:19:30.489Z"
   },
   {
    "duration": 24,
    "start_time": "2022-05-04T18:19:30.516Z"
   },
   {
    "duration": 20,
    "start_time": "2022-05-04T18:19:30.542Z"
   },
   {
    "duration": 29,
    "start_time": "2022-05-04T18:19:30.565Z"
   },
   {
    "duration": 6,
    "start_time": "2022-05-04T18:19:30.595Z"
   },
   {
    "duration": 26,
    "start_time": "2022-05-04T18:19:30.602Z"
   },
   {
    "duration": 36,
    "start_time": "2022-05-04T18:19:30.630Z"
   },
   {
    "duration": 20,
    "start_time": "2022-05-04T18:19:30.667Z"
   },
   {
    "duration": 335,
    "start_time": "2022-05-04T18:19:30.689Z"
   },
   {
    "duration": 5,
    "start_time": "2022-05-04T18:19:31.026Z"
   },
   {
    "duration": 39,
    "start_time": "2022-05-04T18:19:31.032Z"
   },
   {
    "duration": 20,
    "start_time": "2022-05-04T18:19:31.073Z"
   },
   {
    "duration": 22,
    "start_time": "2022-05-04T18:19:31.095Z"
   },
   {
    "duration": 37,
    "start_time": "2022-05-04T18:19:31.119Z"
   },
   {
    "duration": 198,
    "start_time": "2022-05-04T18:19:31.157Z"
   },
   {
    "duration": 299,
    "start_time": "2022-05-04T18:19:31.357Z"
   },
   {
    "duration": 4,
    "start_time": "2022-05-04T18:19:31.658Z"
   },
   {
    "duration": 19,
    "start_time": "2022-05-04T18:19:31.663Z"
   },
   {
    "duration": 17,
    "start_time": "2022-05-04T18:19:31.684Z"
   },
   {
    "duration": 482,
    "start_time": "2022-05-04T18:19:31.703Z"
   },
   {
    "duration": 7,
    "start_time": "2022-05-04T18:19:32.188Z"
   },
   {
    "duration": 22,
    "start_time": "2022-05-04T18:19:32.199Z"
   },
   {
    "duration": 27,
    "start_time": "2022-05-04T18:19:32.224Z"
   },
   {
    "duration": 65,
    "start_time": "2022-05-04T18:20:05.869Z"
   },
   {
    "duration": 5,
    "start_time": "2022-05-04T18:20:05.936Z"
   },
   {
    "duration": 11,
    "start_time": "2022-05-04T18:20:05.955Z"
   },
   {
    "duration": 29,
    "start_time": "2022-05-04T18:20:05.969Z"
   },
   {
    "duration": 22,
    "start_time": "2022-05-04T18:20:06.000Z"
   },
   {
    "duration": 42,
    "start_time": "2022-05-04T18:20:06.024Z"
   },
   {
    "duration": 21,
    "start_time": "2022-05-04T18:20:06.068Z"
   },
   {
    "duration": 9,
    "start_time": "2022-05-04T18:20:06.091Z"
   },
   {
    "duration": 9,
    "start_time": "2022-05-04T18:20:06.102Z"
   },
   {
    "duration": 42,
    "start_time": "2022-05-04T18:20:06.113Z"
   },
   {
    "duration": 5,
    "start_time": "2022-05-04T18:20:06.157Z"
   },
   {
    "duration": 8,
    "start_time": "2022-05-04T18:20:06.164Z"
   },
   {
    "duration": 23,
    "start_time": "2022-05-04T18:20:06.173Z"
   },
   {
    "duration": 7,
    "start_time": "2022-05-04T18:20:06.197Z"
   },
   {
    "duration": 361,
    "start_time": "2022-05-04T18:20:06.205Z"
   },
   {
    "duration": 4,
    "start_time": "2022-05-04T18:20:06.568Z"
   },
   {
    "duration": 22,
    "start_time": "2022-05-04T18:20:06.574Z"
   },
   {
    "duration": 6,
    "start_time": "2022-05-04T18:20:06.598Z"
   },
   {
    "duration": 8,
    "start_time": "2022-05-04T18:20:06.606Z"
   },
   {
    "duration": 51,
    "start_time": "2022-05-04T18:20:06.616Z"
   },
   {
    "duration": 280,
    "start_time": "2022-05-04T18:20:06.669Z"
   },
   {
    "duration": 304,
    "start_time": "2022-05-04T18:20:06.953Z"
   },
   {
    "duration": 4,
    "start_time": "2022-05-04T18:20:07.259Z"
   },
   {
    "duration": 19,
    "start_time": "2022-05-04T18:20:07.264Z"
   },
   {
    "duration": 8,
    "start_time": "2022-05-04T18:20:07.284Z"
   },
   {
    "duration": 315,
    "start_time": "2022-05-04T18:20:07.293Z"
   },
   {
    "duration": 6,
    "start_time": "2022-05-04T18:20:07.610Z"
   },
   {
    "duration": 12,
    "start_time": "2022-05-04T18:20:07.619Z"
   },
   {
    "duration": 27,
    "start_time": "2022-05-04T18:20:07.632Z"
   },
   {
    "duration": 21,
    "start_time": "2022-05-04T18:21:08.387Z"
   },
   {
    "duration": 10,
    "start_time": "2022-05-04T18:21:26.972Z"
   },
   {
    "duration": 10,
    "start_time": "2022-05-04T18:21:38.172Z"
   },
   {
    "duration": 10,
    "start_time": "2022-05-04T18:21:54.238Z"
   },
   {
    "duration": 11,
    "start_time": "2022-05-04T18:22:01.195Z"
   },
   {
    "duration": 22,
    "start_time": "2022-05-04T18:23:11.991Z"
   },
   {
    "duration": 89,
    "start_time": "2022-05-04T18:27:18.807Z"
   },
   {
    "duration": 5,
    "start_time": "2022-05-04T18:27:18.898Z"
   },
   {
    "duration": 16,
    "start_time": "2022-05-04T18:27:18.905Z"
   },
   {
    "duration": 58,
    "start_time": "2022-05-04T18:27:18.924Z"
   },
   {
    "duration": 27,
    "start_time": "2022-05-04T18:27:18.984Z"
   },
   {
    "duration": 48,
    "start_time": "2022-05-04T18:27:19.013Z"
   },
   {
    "duration": 25,
    "start_time": "2022-05-04T18:27:19.063Z"
   },
   {
    "duration": 13,
    "start_time": "2022-05-04T18:27:19.089Z"
   },
   {
    "duration": 9,
    "start_time": "2022-05-04T18:27:19.104Z"
   },
   {
    "duration": 19,
    "start_time": "2022-05-04T18:27:19.115Z"
   },
   {
    "duration": 7,
    "start_time": "2022-05-04T18:27:19.155Z"
   },
   {
    "duration": 10,
    "start_time": "2022-05-04T18:27:19.164Z"
   },
   {
    "duration": 29,
    "start_time": "2022-05-04T18:27:19.176Z"
   },
   {
    "duration": 9,
    "start_time": "2022-05-04T18:27:19.207Z"
   },
   {
    "duration": 536,
    "start_time": "2022-05-04T18:27:19.218Z"
   },
   {
    "duration": 5,
    "start_time": "2022-05-04T18:27:19.756Z"
   },
   {
    "duration": 21,
    "start_time": "2022-05-04T18:27:19.762Z"
   },
   {
    "duration": 13,
    "start_time": "2022-05-04T18:27:19.785Z"
   },
   {
    "duration": 6,
    "start_time": "2022-05-04T18:27:19.800Z"
   },
   {
    "duration": 20,
    "start_time": "2022-05-04T18:27:19.808Z"
   },
   {
    "duration": 204,
    "start_time": "2022-05-04T18:27:19.830Z"
   },
   {
    "duration": 298,
    "start_time": "2022-05-04T18:27:20.036Z"
   },
   {
    "duration": 4,
    "start_time": "2022-05-04T18:27:20.336Z"
   },
   {
    "duration": 23,
    "start_time": "2022-05-04T18:27:20.342Z"
   },
   {
    "duration": 8,
    "start_time": "2022-05-04T18:27:20.367Z"
   },
   {
    "duration": 377,
    "start_time": "2022-05-04T18:27:20.377Z"
   },
   {
    "duration": 7,
    "start_time": "2022-05-04T18:27:20.756Z"
   },
   {
    "duration": 9,
    "start_time": "2022-05-04T18:27:20.767Z"
   },
   {
    "duration": 176,
    "start_time": "2022-05-04T18:27:20.778Z"
   },
   {
    "duration": 9,
    "start_time": "2022-05-04T18:27:20.956Z"
   },
   {
    "duration": 119,
    "start_time": "2022-05-04T18:27:20.966Z"
   },
   {
    "duration": 4,
    "start_time": "2022-05-04T18:27:21.087Z"
   },
   {
    "duration": 281,
    "start_time": "2022-05-04T18:27:21.093Z"
   },
   {
    "duration": 13,
    "start_time": "2022-05-04T18:27:21.377Z"
   },
   {
    "duration": 2087,
    "start_time": "2022-05-04T18:27:21.392Z"
   },
   {
    "duration": 73,
    "start_time": "2022-05-04T18:27:23.482Z"
   },
   {
    "duration": 71,
    "start_time": "2022-05-04T18:27:23.557Z"
   },
   {
    "duration": 36,
    "start_time": "2022-05-04T18:27:23.631Z"
   },
   {
    "duration": 195,
    "start_time": "2022-05-04T18:27:23.669Z"
   },
   {
    "duration": 7,
    "start_time": "2022-05-04T18:27:23.866Z"
   },
   {
    "duration": 469,
    "start_time": "2022-05-04T18:27:23.876Z"
   },
   {
    "duration": 371,
    "start_time": "2022-05-04T18:27:24.355Z"
   },
   {
    "duration": 372,
    "start_time": "2022-05-04T18:27:24.728Z"
   },
   {
    "duration": 377,
    "start_time": "2022-05-04T18:27:25.102Z"
   },
   {
    "duration": 402,
    "start_time": "2022-05-04T18:27:25.481Z"
   },
   {
    "duration": 504,
    "start_time": "2022-05-04T18:27:25.884Z"
   },
   {
    "duration": 12,
    "start_time": "2022-05-04T18:27:26.390Z"
   },
   {
    "duration": 7,
    "start_time": "2022-05-04T18:27:26.404Z"
   },
   {
    "duration": 9,
    "start_time": "2022-05-04T18:27:26.412Z"
   },
   {
    "duration": 34,
    "start_time": "2022-05-04T18:27:26.422Z"
   },
   {
    "duration": 4,
    "start_time": "2022-05-04T18:27:26.458Z"
   },
   {
    "duration": 9,
    "start_time": "2022-05-04T18:27:26.463Z"
   },
   {
    "duration": 9,
    "start_time": "2022-05-04T18:30:01.775Z"
   },
   {
    "duration": 9,
    "start_time": "2022-05-04T18:30:04.431Z"
   },
   {
    "duration": 67,
    "start_time": "2022-05-04T18:30:10.547Z"
   },
   {
    "duration": 5,
    "start_time": "2022-05-04T18:30:10.617Z"
   },
   {
    "duration": 40,
    "start_time": "2022-05-04T18:30:10.623Z"
   },
   {
    "duration": 26,
    "start_time": "2022-05-04T18:30:10.666Z"
   },
   {
    "duration": 27,
    "start_time": "2022-05-04T18:30:10.694Z"
   },
   {
    "duration": 154,
    "start_time": "2022-05-04T18:30:10.723Z"
   },
   {
    "duration": 20,
    "start_time": "2022-05-04T18:30:10.880Z"
   },
   {
    "duration": 10,
    "start_time": "2022-05-04T18:30:10.902Z"
   },
   {
    "duration": 9,
    "start_time": "2022-05-04T18:30:10.914Z"
   },
   {
    "duration": 17,
    "start_time": "2022-05-04T18:30:10.954Z"
   },
   {
    "duration": 6,
    "start_time": "2022-05-04T18:30:10.973Z"
   },
   {
    "duration": 9,
    "start_time": "2022-05-04T18:30:10.981Z"
   },
   {
    "duration": 23,
    "start_time": "2022-05-04T18:30:10.992Z"
   },
   {
    "duration": 9,
    "start_time": "2022-05-04T18:30:11.017Z"
   },
   {
    "duration": 604,
    "start_time": "2022-05-04T18:30:11.028Z"
   },
   {
    "duration": 8,
    "start_time": "2022-05-04T18:30:11.634Z"
   },
   {
    "duration": 36,
    "start_time": "2022-05-04T18:30:11.644Z"
   },
   {
    "duration": 9,
    "start_time": "2022-05-04T18:30:11.683Z"
   },
   {
    "duration": 6,
    "start_time": "2022-05-04T18:30:11.694Z"
   },
   {
    "duration": 55,
    "start_time": "2022-05-04T18:30:11.702Z"
   },
   {
    "duration": 297,
    "start_time": "2022-05-04T18:30:11.759Z"
   },
   {
    "duration": 344,
    "start_time": "2022-05-04T18:30:12.058Z"
   },
   {
    "duration": 5,
    "start_time": "2022-05-04T18:30:12.404Z"
   },
   {
    "duration": 16,
    "start_time": "2022-05-04T18:30:12.410Z"
   },
   {
    "duration": 7,
    "start_time": "2022-05-04T18:30:12.428Z"
   },
   {
    "duration": 324,
    "start_time": "2022-05-04T18:30:12.436Z"
   },
   {
    "duration": 8,
    "start_time": "2022-05-04T18:30:12.762Z"
   },
   {
    "duration": 66,
    "start_time": "2022-05-04T18:30:21.667Z"
   },
   {
    "duration": 21,
    "start_time": "2022-05-04T18:30:21.735Z"
   },
   {
    "duration": 11,
    "start_time": "2022-05-04T18:30:21.759Z"
   },
   {
    "duration": 23,
    "start_time": "2022-05-04T18:30:21.772Z"
   },
   {
    "duration": 31,
    "start_time": "2022-05-04T18:30:21.797Z"
   },
   {
    "duration": 54,
    "start_time": "2022-05-04T18:30:21.830Z"
   },
   {
    "duration": 30,
    "start_time": "2022-05-04T18:30:21.886Z"
   },
   {
    "duration": 16,
    "start_time": "2022-05-04T18:30:21.918Z"
   },
   {
    "duration": 26,
    "start_time": "2022-05-04T18:30:21.935Z"
   },
   {
    "duration": 24,
    "start_time": "2022-05-04T18:30:21.964Z"
   },
   {
    "duration": 6,
    "start_time": "2022-05-04T18:30:21.990Z"
   },
   {
    "duration": 9,
    "start_time": "2022-05-04T18:30:21.998Z"
   },
   {
    "duration": 46,
    "start_time": "2022-05-04T18:30:22.009Z"
   },
   {
    "duration": 7,
    "start_time": "2022-05-04T18:30:22.057Z"
   },
   {
    "duration": 359,
    "start_time": "2022-05-04T18:30:22.066Z"
   },
   {
    "duration": 5,
    "start_time": "2022-05-04T18:30:22.427Z"
   },
   {
    "duration": 31,
    "start_time": "2022-05-04T18:30:22.433Z"
   },
   {
    "duration": 9,
    "start_time": "2022-05-04T18:30:22.467Z"
   },
   {
    "duration": 6,
    "start_time": "2022-05-04T18:30:22.478Z"
   },
   {
    "duration": 28,
    "start_time": "2022-05-04T18:30:22.486Z"
   },
   {
    "duration": 249,
    "start_time": "2022-05-04T18:30:22.517Z"
   },
   {
    "duration": 344,
    "start_time": "2022-05-04T18:30:22.768Z"
   },
   {
    "duration": 4,
    "start_time": "2022-05-04T18:30:23.113Z"
   },
   {
    "duration": 23,
    "start_time": "2022-05-04T18:30:23.119Z"
   },
   {
    "duration": 22,
    "start_time": "2022-05-04T18:30:23.144Z"
   },
   {
    "duration": 299,
    "start_time": "2022-05-04T18:30:23.168Z"
   },
   {
    "duration": 7,
    "start_time": "2022-05-04T18:30:23.468Z"
   },
   {
    "duration": 12,
    "start_time": "2022-05-04T18:30:23.478Z"
   },
   {
    "duration": 21,
    "start_time": "2022-05-04T18:30:23.492Z"
   },
   {
    "duration": 63,
    "start_time": "2022-05-04T18:33:28.724Z"
   },
   {
    "duration": 5,
    "start_time": "2022-05-04T18:33:28.790Z"
   },
   {
    "duration": 14,
    "start_time": "2022-05-04T18:33:28.797Z"
   },
   {
    "duration": 57,
    "start_time": "2022-05-04T18:33:28.813Z"
   },
   {
    "duration": 116,
    "start_time": "2022-05-04T18:33:28.874Z"
   },
   {
    "duration": 20,
    "start_time": "2022-05-04T18:33:28.992Z"
   },
   {
    "duration": 20,
    "start_time": "2022-05-04T18:33:29.014Z"
   },
   {
    "duration": 7,
    "start_time": "2022-05-04T18:33:29.055Z"
   },
   {
    "duration": 9,
    "start_time": "2022-05-04T18:33:29.064Z"
   },
   {
    "duration": 19,
    "start_time": "2022-05-04T18:33:29.075Z"
   },
   {
    "duration": 5,
    "start_time": "2022-05-04T18:33:29.096Z"
   },
   {
    "duration": 4,
    "start_time": "2022-05-04T18:33:29.103Z"
   },
   {
    "duration": 49,
    "start_time": "2022-05-04T18:33:29.109Z"
   },
   {
    "duration": 21,
    "start_time": "2022-05-04T18:33:29.162Z"
   },
   {
    "duration": 519,
    "start_time": "2022-05-04T18:33:29.184Z"
   },
   {
    "duration": 5,
    "start_time": "2022-05-04T18:33:29.706Z"
   },
   {
    "duration": 26,
    "start_time": "2022-05-04T18:33:29.713Z"
   },
   {
    "duration": 9,
    "start_time": "2022-05-04T18:33:29.753Z"
   },
   {
    "duration": 12,
    "start_time": "2022-05-04T18:33:29.765Z"
   },
   {
    "duration": 29,
    "start_time": "2022-05-04T18:33:29.778Z"
   },
   {
    "duration": 226,
    "start_time": "2022-05-04T18:33:29.809Z"
   },
   {
    "duration": 346,
    "start_time": "2022-05-04T18:33:30.038Z"
   },
   {
    "duration": 5,
    "start_time": "2022-05-04T18:33:30.386Z"
   },
   {
    "duration": 18,
    "start_time": "2022-05-04T18:33:30.393Z"
   },
   {
    "duration": 9,
    "start_time": "2022-05-04T18:33:30.414Z"
   },
   {
    "duration": 522,
    "start_time": "2022-05-04T18:33:30.425Z"
   },
   {
    "duration": 11,
    "start_time": "2022-05-04T18:33:30.949Z"
   },
   {
    "duration": 14,
    "start_time": "2022-05-04T18:33:30.962Z"
   },
   {
    "duration": 393,
    "start_time": "2022-05-04T18:33:30.978Z"
   },
   {
    "duration": 8,
    "start_time": "2022-05-04T18:33:31.374Z"
   },
   {
    "duration": 413,
    "start_time": "2022-05-04T18:33:31.385Z"
   },
   {
    "duration": 5,
    "start_time": "2022-05-04T18:33:31.855Z"
   },
   {
    "duration": 411,
    "start_time": "2022-05-04T18:33:31.862Z"
   },
   {
    "duration": 12,
    "start_time": "2022-05-04T18:33:32.276Z"
   },
   {
    "duration": 1979,
    "start_time": "2022-05-04T18:33:32.291Z"
   },
   {
    "duration": 53,
    "start_time": "2022-05-04T18:33:34.272Z"
   },
   {
    "duration": 67,
    "start_time": "2022-05-04T18:33:34.328Z"
   },
   {
    "duration": 17,
    "start_time": "2022-05-04T18:33:34.397Z"
   },
   {
    "duration": 234,
    "start_time": "2022-05-04T18:33:34.416Z"
   },
   {
    "duration": 8,
    "start_time": "2022-05-04T18:33:34.652Z"
   },
   {
    "duration": 591,
    "start_time": "2022-05-04T18:33:34.666Z"
   },
   {
    "duration": 589,
    "start_time": "2022-05-04T18:33:35.259Z"
   },
   {
    "duration": 596,
    "start_time": "2022-05-04T18:33:35.854Z"
   },
   {
    "duration": 612,
    "start_time": "2022-05-04T18:33:36.454Z"
   },
   {
    "duration": 771,
    "start_time": "2022-05-04T18:33:37.069Z"
   },
   {
    "duration": 555,
    "start_time": "2022-05-04T18:33:37.843Z"
   },
   {
    "duration": 11,
    "start_time": "2022-05-04T18:33:38.400Z"
   },
   {
    "duration": 21,
    "start_time": "2022-05-04T18:33:38.413Z"
   },
   {
    "duration": 43,
    "start_time": "2022-05-04T18:33:38.436Z"
   },
   {
    "duration": 38,
    "start_time": "2022-05-04T18:33:38.481Z"
   },
   {
    "duration": 20,
    "start_time": "2022-05-04T18:33:38.520Z"
   },
   {
    "duration": 21,
    "start_time": "2022-05-04T18:33:38.542Z"
   },
   {
    "duration": 70,
    "start_time": "2022-05-05T17:32:46.166Z"
   },
   {
    "duration": 1886,
    "start_time": "2022-05-05T17:32:57.723Z"
   },
   {
    "duration": 80,
    "start_time": "2022-05-05T17:33:08.059Z"
   },
   {
    "duration": 23,
    "start_time": "2022-05-05T17:33:22.912Z"
   },
   {
    "duration": 3501,
    "start_time": "2022-05-05T17:48:24.534Z"
   },
   {
    "duration": 117,
    "start_time": "2022-05-05T17:48:40.594Z"
   },
   {
    "duration": 48,
    "start_time": "2022-05-05T17:48:46.290Z"
   },
   {
    "duration": 14,
    "start_time": "2022-05-05T17:48:54.084Z"
   },
   {
    "duration": 19,
    "start_time": "2022-05-05T17:48:58.147Z"
   },
   {
    "duration": 12,
    "start_time": "2022-05-05T17:49:01.131Z"
   },
   {
    "duration": 8,
    "start_time": "2022-05-05T17:49:04.875Z"
   },
   {
    "duration": 24,
    "start_time": "2022-05-05T17:49:08.118Z"
   },
   {
    "duration": 5,
    "start_time": "2022-05-05T17:49:16.756Z"
   },
   {
    "duration": 492,
    "start_time": "2022-05-05T17:49:19.482Z"
   },
   {
    "duration": 9,
    "start_time": "2022-05-05T17:49:22.389Z"
   },
   {
    "duration": 20,
    "start_time": "2022-05-05T17:49:23.932Z"
   },
   {
    "duration": 7,
    "start_time": "2022-05-05T17:49:25.435Z"
   },
   {
    "duration": 8,
    "start_time": "2022-05-05T17:49:26.921Z"
   },
   {
    "duration": 232,
    "start_time": "2022-05-05T17:49:32.248Z"
   },
   {
    "duration": 342,
    "start_time": "2022-05-05T17:50:24.443Z"
   },
   {
    "duration": 4,
    "start_time": "2022-05-05T17:50:48.522Z"
   },
   {
    "duration": 11,
    "start_time": "2022-05-05T17:50:53.475Z"
   },
   {
    "duration": 8,
    "start_time": "2022-05-05T17:50:54.444Z"
   },
   {
    "duration": 490,
    "start_time": "2022-05-05T17:51:20.431Z"
   },
   {
    "duration": 4,
    "start_time": "2022-05-05T17:51:50.240Z"
   },
   {
    "duration": 17,
    "start_time": "2022-05-05T17:52:03.590Z"
   },
   {
    "duration": 8,
    "start_time": "2022-05-05T17:52:23.922Z"
   },
   {
    "duration": 20,
    "start_time": "2022-05-05T18:07:28.825Z"
   },
   {
    "duration": 57,
    "start_time": "2022-05-05T18:07:56.571Z"
   },
   {
    "duration": 15,
    "start_time": "2022-05-05T18:08:40.944Z"
   },
   {
    "duration": 40,
    "start_time": "2022-05-05T18:09:42.691Z"
   },
   {
    "duration": 23,
    "start_time": "2022-05-05T18:14:39.478Z"
   },
   {
    "duration": 14,
    "start_time": "2022-05-05T18:14:45.447Z"
   },
   {
    "duration": 618,
    "start_time": "2022-05-05T18:16:11.165Z"
   },
   {
    "duration": 524,
    "start_time": "2022-05-05T18:16:22.043Z"
   },
   {
    "duration": 35,
    "start_time": "2022-05-05T18:17:34.490Z"
   },
   {
    "duration": 16,
    "start_time": "2022-05-05T18:18:05.058Z"
   },
   {
    "duration": 538,
    "start_time": "2022-05-05T18:18:17.144Z"
   },
   {
    "duration": 140,
    "start_time": "2022-05-05T18:18:36.886Z"
   },
   {
    "duration": 201,
    "start_time": "2022-05-05T18:18:44.706Z"
   },
   {
    "duration": 152,
    "start_time": "2022-05-05T18:19:51.652Z"
   },
   {
    "duration": 314,
    "start_time": "2022-05-05T18:20:16.744Z"
   },
   {
    "duration": 224,
    "start_time": "2022-05-05T18:20:43.233Z"
   },
   {
    "duration": 288,
    "start_time": "2022-05-05T18:21:03.931Z"
   },
   {
    "duration": 3324,
    "start_time": "2022-05-05T18:21:59.092Z"
   },
   {
    "duration": 227,
    "start_time": "2022-05-05T18:22:07.449Z"
   },
   {
    "duration": 43,
    "start_time": "2022-05-05T18:23:40.907Z"
   },
   {
    "duration": 151,
    "start_time": "2022-05-05T18:23:48.258Z"
   },
   {
    "duration": 189,
    "start_time": "2022-05-05T18:23:50.958Z"
   },
   {
    "duration": 16,
    "start_time": "2022-05-05T18:24:27.950Z"
   },
   {
    "duration": 26,
    "start_time": "2022-05-05T18:24:44.199Z"
   },
   {
    "duration": 147,
    "start_time": "2022-05-05T18:24:54.297Z"
   },
   {
    "duration": 144,
    "start_time": "2022-05-05T18:28:07.343Z"
   },
   {
    "duration": 1011,
    "start_time": "2022-05-05T18:28:15.556Z"
   },
   {
    "duration": 421,
    "start_time": "2022-05-05T18:29:13.135Z"
   },
   {
    "duration": 2904,
    "start_time": "2022-05-05T18:29:27.675Z"
   },
   {
    "duration": 338,
    "start_time": "2022-05-05T18:29:49.161Z"
   },
   {
    "duration": 353,
    "start_time": "2022-05-05T18:30:19.235Z"
   },
   {
    "duration": 312,
    "start_time": "2022-05-05T18:30:58.069Z"
   },
   {
    "duration": 317,
    "start_time": "2022-05-05T18:31:32.654Z"
   },
   {
    "duration": 340,
    "start_time": "2022-05-05T18:33:14.974Z"
   },
   {
    "duration": 273,
    "start_time": "2022-05-05T18:35:11.958Z"
   },
   {
    "duration": 248,
    "start_time": "2022-05-05T18:36:02.020Z"
   },
   {
    "duration": 403,
    "start_time": "2022-05-05T18:36:33.585Z"
   },
   {
    "duration": 3119,
    "start_time": "2022-05-05T18:39:27.744Z"
   },
   {
    "duration": 1318,
    "start_time": "2022-05-06T17:14:17.536Z"
   },
   {
    "duration": 5,
    "start_time": "2022-05-06T17:14:27.223Z"
   },
   {
    "duration": 4,
    "start_time": "2022-05-06T17:14:28.958Z"
   },
   {
    "duration": 18,
    "start_time": "2022-05-06T17:14:31.498Z"
   },
   {
    "duration": 4,
    "start_time": "2022-05-06T17:14:35.722Z"
   },
   {
    "duration": 302,
    "start_time": "2022-05-06T17:14:37.899Z"
   },
   {
    "duration": 4,
    "start_time": "2022-05-06T17:14:40.438Z"
   },
   {
    "duration": 16,
    "start_time": "2022-05-06T17:14:42.725Z"
   },
   {
    "duration": 6,
    "start_time": "2022-05-06T17:14:44.045Z"
   },
   {
    "duration": 4,
    "start_time": "2022-05-06T17:14:45.502Z"
   },
   {
    "duration": 176,
    "start_time": "2022-05-06T17:14:51.080Z"
   },
   {
    "duration": 268,
    "start_time": "2022-05-06T17:14:54.463Z"
   },
   {
    "duration": 3,
    "start_time": "2022-05-06T17:14:58.309Z"
   },
   {
    "duration": 10,
    "start_time": "2022-05-06T17:15:10.823Z"
   },
   {
    "duration": 8,
    "start_time": "2022-05-06T17:15:12.188Z"
   },
   {
    "duration": 249,
    "start_time": "2022-05-06T17:15:13.942Z"
   },
   {
    "duration": 256,
    "start_time": "2022-05-06T17:15:22.165Z"
   },
   {
    "duration": 184,
    "start_time": "2022-05-06T17:15:47.556Z"
   },
   {
    "duration": 6,
    "start_time": "2022-05-06T17:15:57.091Z"
   },
   {
    "duration": 1506,
    "start_time": "2022-05-07T19:16:49.790Z"
   },
   {
    "duration": 5,
    "start_time": "2022-05-07T19:17:02.282Z"
   },
   {
    "duration": 5,
    "start_time": "2022-05-07T19:17:03.961Z"
   },
   {
    "duration": 23,
    "start_time": "2022-05-07T19:17:05.579Z"
   },
   {
    "duration": 6,
    "start_time": "2022-05-07T19:17:07.846Z"
   },
   {
    "duration": 400,
    "start_time": "2022-05-07T19:17:08.950Z"
   },
   {
    "duration": 5,
    "start_time": "2022-05-07T19:17:11.930Z"
   },
   {
    "duration": 6,
    "start_time": "2022-05-07T19:17:16.112Z"
   },
   {
    "duration": 19,
    "start_time": "2022-05-07T19:17:17.867Z"
   },
   {
    "duration": 8,
    "start_time": "2022-05-07T19:17:18.747Z"
   },
   {
    "duration": 5,
    "start_time": "2022-05-07T19:17:20.572Z"
   },
   {
    "duration": 235,
    "start_time": "2022-05-07T19:17:26.350Z"
   },
   {
    "duration": 375,
    "start_time": "2022-05-07T19:17:31.387Z"
   },
   {
    "duration": 3,
    "start_time": "2022-05-07T19:17:35.109Z"
   },
   {
    "duration": 16,
    "start_time": "2022-05-07T19:17:38.688Z"
   },
   {
    "duration": 341,
    "start_time": "2022-05-07T19:17:41.864Z"
   },
   {
    "duration": 351,
    "start_time": "2022-05-07T19:18:11.518Z"
   },
   {
    "duration": 6,
    "start_time": "2022-05-07T19:18:20.827Z"
   },
   {
    "duration": 5,
    "start_time": "2022-05-07T19:19:42.854Z"
   },
   {
    "duration": 5,
    "start_time": "2022-05-07T19:22:11.596Z"
   },
   {
    "duration": 9,
    "start_time": "2022-05-07T19:22:15.872Z"
   },
   {
    "duration": 120,
    "start_time": "2022-05-07T19:22:18.790Z"
   },
   {
    "duration": 5,
    "start_time": "2022-05-07T19:22:56.911Z"
   },
   {
    "duration": 11,
    "start_time": "2022-05-07T19:23:00.530Z"
   },
   {
    "duration": 20,
    "start_time": "2022-05-07T19:23:10.366Z"
   },
   {
    "duration": 17,
    "start_time": "2022-05-07T19:24:16.964Z"
   },
   {
    "duration": 219,
    "start_time": "2022-05-07T19:24:29.549Z"
   },
   {
    "duration": 182,
    "start_time": "2022-05-07T19:24:50.221Z"
   },
   {
    "duration": 18,
    "start_time": "2022-05-07T19:25:02.197Z"
   },
   {
    "duration": 121,
    "start_time": "2022-05-07T19:25:09.055Z"
   },
   {
    "duration": 24,
    "start_time": "2022-05-07T19:25:15.345Z"
   },
   {
    "duration": 9,
    "start_time": "2022-05-07T19:25:25.615Z"
   },
   {
    "duration": 6,
    "start_time": "2022-05-07T19:28:22.841Z"
   },
   {
    "duration": 7,
    "start_time": "2022-05-07T19:28:28.623Z"
   },
   {
    "duration": 27,
    "start_time": "2022-05-07T19:28:34.359Z"
   },
   {
    "duration": 8,
    "start_time": "2022-05-07T19:30:04.837Z"
   },
   {
    "duration": 5,
    "start_time": "2022-05-07T19:30:09.528Z"
   },
   {
    "duration": 5,
    "start_time": "2022-05-07T19:31:49.014Z"
   },
   {
    "duration": 10,
    "start_time": "2022-05-07T19:31:55.458Z"
   },
   {
    "duration": 27,
    "start_time": "2022-05-07T19:32:15.378Z"
   },
   {
    "duration": 10,
    "start_time": "2022-05-07T19:32:19.428Z"
   },
   {
    "duration": 8,
    "start_time": "2022-05-07T19:32:30.340Z"
   },
   {
    "duration": 1134,
    "start_time": "2022-05-08T08:55:38.808Z"
   },
   {
    "duration": 4,
    "start_time": "2022-05-08T08:55:39.943Z"
   },
   {
    "duration": 10,
    "start_time": "2022-05-08T08:55:39.949Z"
   },
   {
    "duration": 18,
    "start_time": "2022-05-08T08:55:39.961Z"
   },
   {
    "duration": 18,
    "start_time": "2022-05-08T08:55:39.981Z"
   },
   {
    "duration": 19,
    "start_time": "2022-05-08T08:55:40.001Z"
   },
   {
    "duration": 18,
    "start_time": "2022-05-08T08:55:40.048Z"
   },
   {
    "duration": 7,
    "start_time": "2022-05-08T08:55:40.068Z"
   },
   {
    "duration": 8,
    "start_time": "2022-05-08T08:55:40.076Z"
   },
   {
    "duration": 16,
    "start_time": "2022-05-08T08:55:40.087Z"
   },
   {
    "duration": 4,
    "start_time": "2022-05-08T08:55:40.105Z"
   },
   {
    "duration": 38,
    "start_time": "2022-05-08T08:55:40.111Z"
   },
   {
    "duration": 18,
    "start_time": "2022-05-08T08:55:40.151Z"
   },
   {
    "duration": 6,
    "start_time": "2022-05-08T08:55:40.170Z"
   },
   {
    "duration": 314,
    "start_time": "2022-05-08T08:55:40.178Z"
   },
   {
    "duration": 4,
    "start_time": "2022-05-08T08:55:40.493Z"
   },
   {
    "duration": 18,
    "start_time": "2022-05-08T08:55:40.499Z"
   },
   {
    "duration": 9,
    "start_time": "2022-05-08T08:55:40.518Z"
   },
   {
    "duration": 21,
    "start_time": "2022-05-08T08:55:40.529Z"
   },
   {
    "duration": 21,
    "start_time": "2022-05-08T08:55:40.552Z"
   },
   {
    "duration": 193,
    "start_time": "2022-05-08T08:55:40.575Z"
   },
   {
    "duration": 285,
    "start_time": "2022-05-08T08:55:40.769Z"
   },
   {
    "duration": 4,
    "start_time": "2022-05-08T08:55:41.055Z"
   },
   {
    "duration": 16,
    "start_time": "2022-05-08T08:55:41.060Z"
   },
   {
    "duration": 8,
    "start_time": "2022-05-08T08:55:41.078Z"
   },
   {
    "duration": 285,
    "start_time": "2022-05-08T08:55:41.088Z"
   },
   {
    "duration": 281,
    "start_time": "2022-05-08T08:55:41.375Z"
   },
   {
    "duration": 188,
    "start_time": "2022-05-08T08:55:41.661Z"
   },
   {
    "duration": 5,
    "start_time": "2022-05-08T08:55:41.851Z"
   },
   {
    "duration": 8,
    "start_time": "2022-05-08T08:55:41.858Z"
   },
   {
    "duration": 115,
    "start_time": "2022-05-08T08:55:41.868Z"
   },
   {
    "duration": 0,
    "start_time": "2022-05-08T08:55:41.985Z"
   },
   {
    "duration": 0,
    "start_time": "2022-05-08T08:55:41.986Z"
   },
   {
    "duration": 0,
    "start_time": "2022-05-08T08:55:41.987Z"
   },
   {
    "duration": 0,
    "start_time": "2022-05-08T08:55:41.988Z"
   },
   {
    "duration": 0,
    "start_time": "2022-05-08T08:55:41.990Z"
   },
   {
    "duration": 0,
    "start_time": "2022-05-08T08:55:41.991Z"
   },
   {
    "duration": 0,
    "start_time": "2022-05-08T08:55:41.992Z"
   },
   {
    "duration": 0,
    "start_time": "2022-05-08T08:55:41.993Z"
   },
   {
    "duration": 0,
    "start_time": "2022-05-08T08:55:41.994Z"
   },
   {
    "duration": 0,
    "start_time": "2022-05-08T08:55:41.996Z"
   },
   {
    "duration": 0,
    "start_time": "2022-05-08T08:55:41.997Z"
   },
   {
    "duration": 0,
    "start_time": "2022-05-08T08:55:41.998Z"
   },
   {
    "duration": 0,
    "start_time": "2022-05-08T08:55:42.000Z"
   },
   {
    "duration": 0,
    "start_time": "2022-05-08T08:55:42.001Z"
   },
   {
    "duration": 0,
    "start_time": "2022-05-08T08:55:42.002Z"
   },
   {
    "duration": 0,
    "start_time": "2022-05-08T08:55:42.003Z"
   },
   {
    "duration": 0,
    "start_time": "2022-05-08T08:55:42.004Z"
   },
   {
    "duration": 0,
    "start_time": "2022-05-08T08:55:42.005Z"
   },
   {
    "duration": 0,
    "start_time": "2022-05-08T08:55:42.006Z"
   },
   {
    "duration": 0,
    "start_time": "2022-05-08T08:55:42.048Z"
   },
   {
    "duration": 0,
    "start_time": "2022-05-08T08:55:42.049Z"
   },
   {
    "duration": 0,
    "start_time": "2022-05-08T08:55:42.051Z"
   },
   {
    "duration": 0,
    "start_time": "2022-05-08T08:55:42.052Z"
   },
   {
    "duration": 7,
    "start_time": "2022-05-08T08:58:25.136Z"
   },
   {
    "duration": 21,
    "start_time": "2022-05-08T09:00:14.640Z"
   },
   {
    "duration": 12,
    "start_time": "2022-05-08T09:00:26.614Z"
   },
   {
    "duration": 8,
    "start_time": "2022-05-08T09:00:34.266Z"
   },
   {
    "duration": 14,
    "start_time": "2022-05-08T09:02:15.590Z"
   },
   {
    "duration": 11,
    "start_time": "2022-05-08T09:02:24.484Z"
   },
   {
    "duration": 6,
    "start_time": "2022-05-08T09:02:39.046Z"
   },
   {
    "duration": 13,
    "start_time": "2022-05-08T09:02:49.961Z"
   },
   {
    "duration": 6,
    "start_time": "2022-05-08T09:03:05.252Z"
   },
   {
    "duration": 31,
    "start_time": "2022-05-08T09:04:03.476Z"
   },
   {
    "duration": 1917,
    "start_time": "2022-05-11T17:51:07.624Z"
   },
   {
    "duration": 195,
    "start_time": "2022-05-11T17:54:30.258Z"
   },
   {
    "duration": 7,
    "start_time": "2022-05-11T17:54:45.884Z"
   },
   {
    "duration": 6,
    "start_time": "2022-05-11T17:54:47.966Z"
   },
   {
    "duration": 33,
    "start_time": "2022-05-11T17:54:49.681Z"
   },
   {
    "duration": 7,
    "start_time": "2022-05-11T17:54:52.451Z"
   },
   {
    "duration": 516,
    "start_time": "2022-05-11T17:54:53.104Z"
   },
   {
    "duration": 6,
    "start_time": "2022-05-11T17:54:55.695Z"
   },
   {
    "duration": 30,
    "start_time": "2022-05-11T17:55:00.564Z"
   },
   {
    "duration": 9,
    "start_time": "2022-05-11T17:55:01.220Z"
   },
   {
    "duration": 6,
    "start_time": "2022-05-11T17:55:02.550Z"
   },
   {
    "duration": 8,
    "start_time": "2022-05-11T17:55:05.183Z"
   },
   {
    "duration": 6,
    "start_time": "2022-05-11T17:55:09.725Z"
   },
   {
    "duration": 34,
    "start_time": "2022-05-11T17:55:19.230Z"
   },
   {
    "duration": 107,
    "start_time": "2022-05-11T17:57:38.574Z"
   },
   {
    "duration": 17,
    "start_time": "2022-05-11T17:57:56.766Z"
   },
   {
    "duration": 10,
    "start_time": "2022-05-11T17:57:59.297Z"
   },
   {
    "duration": 248,
    "start_time": "2022-05-11T17:58:00.606Z"
   },
   {
    "duration": 18,
    "start_time": "2022-05-11T17:58:10.319Z"
   },
   {
    "duration": 11,
    "start_time": "2022-05-11T17:58:11.766Z"
   },
   {
    "duration": 234,
    "start_time": "2022-05-11T17:58:14.647Z"
   },
   {
    "duration": 320,
    "start_time": "2022-05-11T17:58:31.462Z"
   },
   {
    "duration": 525,
    "start_time": "2022-05-11T17:58:35.543Z"
   },
   {
    "duration": 5,
    "start_time": "2022-05-11T17:58:38.727Z"
   },
   {
    "duration": 17,
    "start_time": "2022-05-11T17:58:41.933Z"
   },
   {
    "duration": 10,
    "start_time": "2022-05-11T17:58:42.942Z"
   },
   {
    "duration": 484,
    "start_time": "2022-05-11T17:58:43.943Z"
   },
   {
    "duration": 489,
    "start_time": "2022-05-11T17:59:28.280Z"
   },
   {
    "duration": 428,
    "start_time": "2022-05-11T17:59:35.312Z"
   },
   {
    "duration": 6,
    "start_time": "2022-05-11T17:59:41.766Z"
   },
   {
    "duration": 8,
    "start_time": "2022-05-11T18:03:29.972Z"
   },
   {
    "duration": 13,
    "start_time": "2022-05-11T18:04:02.826Z"
   },
   {
    "duration": 310,
    "start_time": "2022-05-11T18:04:05.925Z"
   },
   {
    "duration": 12,
    "start_time": "2022-05-11T18:15:28.582Z"
   },
   {
    "duration": 310,
    "start_time": "2022-05-11T18:15:30.863Z"
   },
   {
    "duration": 9,
    "start_time": "2022-05-11T18:16:38.841Z"
   },
   {
    "duration": 10,
    "start_time": "2022-05-11T18:16:45.971Z"
   },
   {
    "duration": 12,
    "start_time": "2022-05-11T18:18:22.680Z"
   },
   {
    "duration": 10,
    "start_time": "2022-05-11T18:19:08.737Z"
   },
   {
    "duration": 324,
    "start_time": "2022-05-11T18:19:35.144Z"
   },
   {
    "duration": 6,
    "start_time": "2022-05-11T18:19:39.761Z"
   },
   {
    "duration": 313,
    "start_time": "2022-05-11T18:19:48.539Z"
   },
   {
    "duration": 13,
    "start_time": "2022-05-11T18:20:04.137Z"
   },
   {
    "duration": 2686,
    "start_time": "2022-05-11T18:20:05.578Z"
   },
   {
    "duration": 115,
    "start_time": "2022-05-11T18:20:08.267Z"
   },
   {
    "duration": 78,
    "start_time": "2022-05-11T18:20:20.529Z"
   },
   {
    "duration": 78,
    "start_time": "2022-05-11T18:20:23.176Z"
   },
   {
    "duration": 25,
    "start_time": "2022-05-11T18:20:40.441Z"
   },
   {
    "duration": 365,
    "start_time": "2022-05-11T18:20:43.713Z"
   },
   {
    "duration": 24,
    "start_time": "2022-05-11T18:23:08.966Z"
   },
   {
    "duration": 25,
    "start_time": "2022-05-11T18:23:53.049Z"
   },
   {
    "duration": 464,
    "start_time": "2022-05-11T18:24:04.481Z"
   },
   {
    "duration": 12,
    "start_time": "2022-05-11T18:35:54.403Z"
   },
   {
    "duration": 7,
    "start_time": "2022-05-11T18:39:12.936Z"
   },
   {
    "duration": 632,
    "start_time": "2022-05-11T18:39:41.038Z"
   },
   {
    "duration": 630,
    "start_time": "2022-05-11T18:41:25.058Z"
   },
   {
    "duration": 613,
    "start_time": "2022-05-11T18:43:16.322Z"
   },
   {
    "duration": 8,
    "start_time": "2022-05-11T18:43:33.717Z"
   },
   {
    "duration": 631,
    "start_time": "2022-05-11T18:51:50.461Z"
   },
   {
    "duration": 1122,
    "start_time": "2022-05-11T18:52:30.884Z"
   },
   {
    "duration": 884,
    "start_time": "2022-05-11T18:52:55.372Z"
   },
   {
    "duration": 622,
    "start_time": "2022-05-11T18:53:10.018Z"
   },
   {
    "duration": 664,
    "start_time": "2022-05-11T18:57:06.495Z"
   },
   {
    "duration": 127,
    "start_time": "2022-05-11T19:05:37.220Z"
   },
   {
    "duration": 104,
    "start_time": "2022-05-11T19:05:42.618Z"
   },
   {
    "duration": 14,
    "start_time": "2022-05-11T19:11:25.555Z"
   },
   {
    "duration": 15,
    "start_time": "2022-05-11T19:11:57.416Z"
   },
   {
    "duration": 6,
    "start_time": "2022-05-11T19:12:30.190Z"
   },
   {
    "duration": 8,
    "start_time": "2022-05-11T19:12:39.423Z"
   },
   {
    "duration": 15,
    "start_time": "2022-05-11T19:15:58.696Z"
   },
   {
    "duration": 14,
    "start_time": "2022-05-11T19:16:44.800Z"
   },
   {
    "duration": 6,
    "start_time": "2022-05-11T19:16:52.229Z"
   },
   {
    "duration": 10,
    "start_time": "2022-05-11T19:16:59.893Z"
   },
   {
    "duration": 105,
    "start_time": "2022-05-11T19:21:23.384Z"
   },
   {
    "duration": 128,
    "start_time": "2022-05-11T19:21:37.845Z"
   },
   {
    "duration": 153,
    "start_time": "2022-05-11T19:22:22.382Z"
   },
   {
    "duration": 1968,
    "start_time": "2022-05-12T07:47:38.822Z"
   },
   {
    "duration": 4,
    "start_time": "2022-05-12T07:47:40.792Z"
   },
   {
    "duration": 14,
    "start_time": "2022-05-12T07:47:40.798Z"
   },
   {
    "duration": 24,
    "start_time": "2022-05-12T07:47:40.813Z"
   },
   {
    "duration": 23,
    "start_time": "2022-05-12T07:47:40.840Z"
   },
   {
    "duration": 23,
    "start_time": "2022-05-12T07:47:40.865Z"
   },
   {
    "duration": 35,
    "start_time": "2022-05-12T07:47:40.890Z"
   },
   {
    "duration": 8,
    "start_time": "2022-05-12T07:47:40.927Z"
   },
   {
    "duration": 9,
    "start_time": "2022-05-12T07:47:40.937Z"
   },
   {
    "duration": 35,
    "start_time": "2022-05-12T07:47:40.948Z"
   },
   {
    "duration": 5,
    "start_time": "2022-05-12T07:47:40.986Z"
   },
   {
    "duration": 9,
    "start_time": "2022-05-12T07:47:40.993Z"
   },
   {
    "duration": 22,
    "start_time": "2022-05-12T07:47:41.004Z"
   },
   {
    "duration": 5,
    "start_time": "2022-05-12T07:47:41.029Z"
   },
   {
    "duration": 579,
    "start_time": "2022-05-12T07:47:41.036Z"
   },
   {
    "duration": 6,
    "start_time": "2022-05-12T07:47:41.617Z"
   },
   {
    "duration": 29,
    "start_time": "2022-05-12T07:47:41.625Z"
   },
   {
    "duration": 9,
    "start_time": "2022-05-12T07:47:41.657Z"
   },
   {
    "duration": 8,
    "start_time": "2022-05-12T07:47:41.668Z"
   },
   {
    "duration": 32,
    "start_time": "2022-05-12T07:47:41.678Z"
   },
   {
    "duration": 329,
    "start_time": "2022-05-12T07:47:41.723Z"
   },
   {
    "duration": 475,
    "start_time": "2022-05-12T07:47:42.054Z"
   },
   {
    "duration": 5,
    "start_time": "2022-05-12T07:47:42.532Z"
   },
   {
    "duration": 17,
    "start_time": "2022-05-12T07:47:42.539Z"
   },
   {
    "duration": 10,
    "start_time": "2022-05-12T07:47:42.558Z"
   },
   {
    "duration": 456,
    "start_time": "2022-05-12T07:47:42.570Z"
   },
   {
    "duration": 467,
    "start_time": "2022-05-12T07:47:43.028Z"
   },
   {
    "duration": 334,
    "start_time": "2022-05-12T07:47:43.497Z"
   },
   {
    "duration": 8,
    "start_time": "2022-05-12T07:47:43.833Z"
   },
   {
    "duration": 23,
    "start_time": "2022-05-12T07:47:43.843Z"
   },
   {
    "duration": 22,
    "start_time": "2022-05-12T07:47:43.869Z"
   },
   {
    "duration": 6,
    "start_time": "2022-05-12T08:30:11.548Z"
   },
   {
    "duration": 273,
    "start_time": "2022-05-12T08:33:16.077Z"
   },
   {
    "duration": 379,
    "start_time": "2022-05-12T08:33:22.802Z"
   },
   {
    "duration": 74,
    "start_time": "2022-05-12T08:35:09.647Z"
   },
   {
    "duration": 6,
    "start_time": "2022-05-12T08:35:09.730Z"
   },
   {
    "duration": 25,
    "start_time": "2022-05-12T08:35:09.739Z"
   },
   {
    "duration": 25,
    "start_time": "2022-05-12T08:35:09.766Z"
   },
   {
    "duration": 37,
    "start_time": "2022-05-12T08:35:09.793Z"
   },
   {
    "duration": 39,
    "start_time": "2022-05-12T08:35:09.832Z"
   },
   {
    "duration": 22,
    "start_time": "2022-05-12T08:35:09.873Z"
   },
   {
    "duration": 44,
    "start_time": "2022-05-12T08:35:09.897Z"
   },
   {
    "duration": 22,
    "start_time": "2022-05-12T08:35:09.943Z"
   },
   {
    "duration": 60,
    "start_time": "2022-05-12T08:35:09.968Z"
   },
   {
    "duration": 6,
    "start_time": "2022-05-12T08:35:10.031Z"
   },
   {
    "duration": 12,
    "start_time": "2022-05-12T08:35:10.040Z"
   },
   {
    "duration": 40,
    "start_time": "2022-05-12T08:35:10.055Z"
   },
   {
    "duration": 10,
    "start_time": "2022-05-12T08:35:10.101Z"
   },
   {
    "duration": 497,
    "start_time": "2022-05-12T08:35:10.114Z"
   },
   {
    "duration": 10,
    "start_time": "2022-05-12T08:35:10.612Z"
   },
   {
    "duration": 27,
    "start_time": "2022-05-12T08:35:10.624Z"
   },
   {
    "duration": 10,
    "start_time": "2022-05-12T08:35:10.653Z"
   },
   {
    "duration": 7,
    "start_time": "2022-05-12T08:35:10.665Z"
   },
   {
    "duration": 22,
    "start_time": "2022-05-12T08:35:10.674Z"
   },
   {
    "duration": 370,
    "start_time": "2022-05-12T08:35:10.698Z"
   },
   {
    "duration": 636,
    "start_time": "2022-05-12T08:35:11.070Z"
   },
   {
    "duration": 3,
    "start_time": "2022-05-12T08:35:11.708Z"
   },
   {
    "duration": 33,
    "start_time": "2022-05-12T08:35:11.713Z"
   },
   {
    "duration": 11,
    "start_time": "2022-05-12T08:35:11.748Z"
   },
   {
    "duration": 410,
    "start_time": "2022-05-12T08:35:11.761Z"
   },
   {
    "duration": 381,
    "start_time": "2022-05-12T08:35:12.173Z"
   },
   {
    "duration": 248,
    "start_time": "2022-05-12T08:35:12.556Z"
   },
   {
    "duration": 8,
    "start_time": "2022-05-12T08:35:12.806Z"
   },
   {
    "duration": 27,
    "start_time": "2022-05-12T08:35:12.822Z"
   },
   {
    "duration": 17,
    "start_time": "2022-05-12T08:35:12.852Z"
   },
   {
    "duration": 5,
    "start_time": "2022-05-12T08:35:12.871Z"
   },
   {
    "duration": 9,
    "start_time": "2022-05-12T08:35:12.878Z"
   },
   {
    "duration": 255,
    "start_time": "2022-05-12T08:35:12.889Z"
   },
   {
    "duration": 280,
    "start_time": "2022-05-12T08:35:13.145Z"
   },
   {
    "duration": 23,
    "start_time": "2022-05-12T08:35:13.428Z"
   },
   {
    "duration": 320,
    "start_time": "2022-05-12T08:35:13.453Z"
   },
   {
    "duration": 5,
    "start_time": "2022-05-12T08:35:13.775Z"
   },
   {
    "duration": 220,
    "start_time": "2022-05-12T08:35:13.782Z"
   },
   {
    "duration": 10,
    "start_time": "2022-05-12T08:35:14.004Z"
   },
   {
    "duration": 2258,
    "start_time": "2022-05-12T08:35:14.028Z"
   },
   {
    "duration": 89,
    "start_time": "2022-05-12T08:35:16.288Z"
   },
   {
    "duration": 80,
    "start_time": "2022-05-12T08:35:16.378Z"
   },
   {
    "duration": 17,
    "start_time": "2022-05-12T08:35:16.459Z"
   },
   {
    "duration": 261,
    "start_time": "2022-05-12T08:35:16.478Z"
   },
   {
    "duration": 7,
    "start_time": "2022-05-12T08:35:16.742Z"
   },
   {
    "duration": 644,
    "start_time": "2022-05-12T08:35:16.751Z"
   },
   {
    "duration": 776,
    "start_time": "2022-05-12T08:35:17.397Z"
   },
   {
    "duration": 473,
    "start_time": "2022-05-12T08:35:18.175Z"
   },
   {
    "duration": 16,
    "start_time": "2022-05-12T08:35:18.650Z"
   },
   {
    "duration": 6,
    "start_time": "2022-05-12T08:35:18.668Z"
   },
   {
    "duration": 8,
    "start_time": "2022-05-12T08:35:18.676Z"
   },
   {
    "duration": 25,
    "start_time": "2022-05-12T08:35:18.686Z"
   },
   {
    "duration": 6,
    "start_time": "2022-05-12T08:35:18.727Z"
   },
   {
    "duration": 12,
    "start_time": "2022-05-12T08:35:18.735Z"
   },
   {
    "duration": 53,
    "start_time": "2022-05-12T11:14:57.357Z"
   },
   {
    "duration": 1447,
    "start_time": "2022-05-12T11:15:09.118Z"
   },
   {
    "duration": 5,
    "start_time": "2022-05-12T11:15:21.627Z"
   },
   {
    "duration": 4,
    "start_time": "2022-05-12T11:15:23.428Z"
   },
   {
    "duration": 21,
    "start_time": "2022-05-12T11:15:25.384Z"
   },
   {
    "duration": 5,
    "start_time": "2022-05-12T11:15:30.903Z"
   },
   {
    "duration": 347,
    "start_time": "2022-05-12T11:15:32.583Z"
   },
   {
    "duration": 4,
    "start_time": "2022-05-12T11:15:45.190Z"
   },
   {
    "duration": 19,
    "start_time": "2022-05-12T11:15:48.120Z"
   },
   {
    "duration": 8,
    "start_time": "2022-05-12T11:15:50.510Z"
   },
   {
    "duration": 6,
    "start_time": "2022-05-12T11:15:51.383Z"
   },
   {
    "duration": 216,
    "start_time": "2022-05-12T11:17:21.555Z"
   },
   {
    "duration": 322,
    "start_time": "2022-05-12T11:17:27.701Z"
   },
   {
    "duration": 3,
    "start_time": "2022-05-12T11:17:38.136Z"
   },
   {
    "duration": 13,
    "start_time": "2022-05-12T11:17:47.093Z"
   },
   {
    "duration": 7,
    "start_time": "2022-05-12T11:17:47.108Z"
   },
   {
    "duration": 299,
    "start_time": "2022-05-12T11:17:49.238Z"
   },
   {
    "duration": 9398,
    "start_time": "2022-05-12T11:17:59.310Z"
   },
   {
    "duration": 10839,
    "start_time": "2022-05-12T11:18:12.261Z"
   },
   {
    "duration": 202,
    "start_time": "2022-05-12T11:18:31.969Z"
   },
   {
    "duration": 6,
    "start_time": "2022-05-12T11:18:39.674Z"
   },
   {
    "duration": 1426,
    "start_time": "2022-05-13T07:49:16.840Z"
   },
   {
    "duration": 5,
    "start_time": "2022-05-13T07:49:28.267Z"
   },
   {
    "duration": 4,
    "start_time": "2022-05-13T07:49:30.442Z"
   },
   {
    "duration": 28,
    "start_time": "2022-05-13T07:49:31.280Z"
   },
   {
    "duration": 4,
    "start_time": "2022-05-13T07:49:37.162Z"
   },
   {
    "duration": 394,
    "start_time": "2022-05-13T07:49:37.948Z"
   },
   {
    "duration": 4,
    "start_time": "2022-05-13T07:49:46.802Z"
   },
   {
    "duration": 17,
    "start_time": "2022-05-13T07:49:47.633Z"
   },
   {
    "duration": 6,
    "start_time": "2022-05-13T07:49:48.411Z"
   },
   {
    "duration": 6,
    "start_time": "2022-05-13T07:49:49.255Z"
   },
   {
    "duration": 21,
    "start_time": "2022-05-13T07:49:54.124Z"
   },
   {
    "duration": 224,
    "start_time": "2022-05-13T07:50:01.703Z"
   },
   {
    "duration": 332,
    "start_time": "2022-05-13T07:50:33.243Z"
   },
   {
    "duration": 11,
    "start_time": "2022-05-13T07:51:15.172Z"
   },
   {
    "duration": 8,
    "start_time": "2022-05-13T07:51:16.048Z"
   },
   {
    "duration": 215,
    "start_time": "2022-05-13T07:51:18.513Z"
   },
   {
    "duration": 4,
    "start_time": "2022-05-13T07:51:37.559Z"
   },
   {
    "duration": 11,
    "start_time": "2022-05-13T07:51:44.183Z"
   },
   {
    "duration": 8,
    "start_time": "2022-05-13T07:51:45.307Z"
   },
   {
    "duration": 314,
    "start_time": "2022-05-13T07:51:46.554Z"
   },
   {
    "duration": 1952,
    "start_time": "2022-05-13T07:51:57.489Z"
   },
   {
    "duration": 4298,
    "start_time": "2022-05-13T07:52:17.837Z"
   },
   {
    "duration": 2097,
    "start_time": "2022-05-13T07:52:44.445Z"
   },
   {
    "duration": 7,
    "start_time": "2022-05-13T07:53:43.727Z"
   },
   {
    "duration": 400,
    "start_time": "2022-05-13T07:53:58.171Z"
   },
   {
    "duration": 3,
    "start_time": "2022-05-13T07:54:04.549Z"
   },
   {
    "duration": 12,
    "start_time": "2022-05-13T07:54:10.108Z"
   },
   {
    "duration": 9,
    "start_time": "2022-05-13T07:54:11.096Z"
   },
   {
    "duration": 308,
    "start_time": "2022-05-13T07:54:12.329Z"
   },
   {
    "duration": 2005,
    "start_time": "2022-05-13T07:54:22.987Z"
   },
   {
    "duration": 189,
    "start_time": "2022-05-13T07:54:40.165Z"
   },
   {
    "duration": 16309,
    "start_time": "2022-05-13T07:55:09.200Z"
   },
   {
    "duration": 14,
    "start_time": "2022-05-13T07:57:51.313Z"
   },
   {
    "duration": 15,
    "start_time": "2022-05-13T07:57:53.927Z"
   },
   {
    "duration": 4,
    "start_time": "2022-05-13T07:58:00.391Z"
   },
   {
    "duration": 2049,
    "start_time": "2022-05-13T07:58:21.026Z"
   },
   {
    "duration": 213,
    "start_time": "2022-05-13T08:00:32.188Z"
   },
   {
    "duration": 2485,
    "start_time": "2022-05-13T08:00:58.622Z"
   },
   {
    "duration": 680,
    "start_time": "2022-05-13T08:04:58.648Z"
   },
   {
    "duration": 4,
    "start_time": "2022-05-13T08:05:03.558Z"
   },
   {
    "duration": 10,
    "start_time": "2022-05-13T08:05:05.846Z"
   },
   {
    "duration": 19,
    "start_time": "2022-05-13T08:05:08.194Z"
   },
   {
    "duration": 22,
    "start_time": "2022-05-13T08:05:12.686Z"
   },
   {
    "duration": 19,
    "start_time": "2022-05-13T08:05:15.389Z"
   },
   {
    "duration": 6,
    "start_time": "2022-05-13T08:05:16.465Z"
   },
   {
    "duration": 7,
    "start_time": "2022-05-13T08:05:17.643Z"
   },
   {
    "duration": 16,
    "start_time": "2022-05-13T08:05:18.350Z"
   },
   {
    "duration": 5,
    "start_time": "2022-05-13T08:05:23.045Z"
   },
   {
    "duration": 5,
    "start_time": "2022-05-13T08:05:23.931Z"
   },
   {
    "duration": 19,
    "start_time": "2022-05-13T08:05:24.870Z"
   },
   {
    "duration": 5,
    "start_time": "2022-05-13T08:05:28.688Z"
   },
   {
    "duration": 373,
    "start_time": "2022-05-13T08:05:29.438Z"
   },
   {
    "duration": 5,
    "start_time": "2022-05-13T08:05:35.383Z"
   },
   {
    "duration": 16,
    "start_time": "2022-05-13T08:05:38.541Z"
   },
   {
    "duration": 7,
    "start_time": "2022-05-13T08:05:39.085Z"
   },
   {
    "duration": 5,
    "start_time": "2022-05-13T08:05:39.641Z"
   },
   {
    "duration": 21,
    "start_time": "2022-05-13T08:05:43.437Z"
   },
   {
    "duration": 210,
    "start_time": "2022-05-13T08:05:48.373Z"
   },
   {
    "duration": 401,
    "start_time": "2022-05-13T08:05:52.598Z"
   },
   {
    "duration": 3,
    "start_time": "2022-05-13T08:05:56.298Z"
   },
   {
    "duration": 11,
    "start_time": "2022-05-13T08:05:59.707Z"
   },
   {
    "duration": 7,
    "start_time": "2022-05-13T08:06:01.802Z"
   },
   {
    "duration": 326,
    "start_time": "2022-05-13T08:06:03.614Z"
   },
   {
    "duration": 2329,
    "start_time": "2022-05-13T08:06:09.167Z"
   },
   {
    "duration": 302,
    "start_time": "2022-05-13T08:06:26.232Z"
   },
   {
    "duration": 2242,
    "start_time": "2022-05-13T08:06:47.685Z"
   },
   {
    "duration": 2024,
    "start_time": "2022-05-13T08:06:56.088Z"
   },
   {
    "duration": 4163,
    "start_time": "2022-05-13T08:07:04.559Z"
   },
   {
    "duration": 2095,
    "start_time": "2022-05-13T08:08:01.409Z"
   },
   {
    "duration": 2137,
    "start_time": "2022-05-13T08:08:44.266Z"
   },
   {
    "duration": 20,
    "start_time": "2022-05-13T08:12:51.060Z"
   },
   {
    "duration": 18,
    "start_time": "2022-05-13T08:13:01.129Z"
   },
   {
    "duration": 315,
    "start_time": "2022-05-13T08:14:01.388Z"
   },
   {
    "duration": 2295,
    "start_time": "2022-05-13T08:14:13.410Z"
   },
   {
    "duration": 440,
    "start_time": "2022-05-13T08:15:57.245Z"
   },
   {
    "duration": 35,
    "start_time": "2022-05-13T08:18:07.222Z"
   },
   {
    "duration": 206,
    "start_time": "2022-05-13T08:18:20.527Z"
   },
   {
    "duration": 2198,
    "start_time": "2022-05-13T08:19:14.103Z"
   },
   {
    "duration": 318,
    "start_time": "2022-05-13T08:19:23.048Z"
   },
   {
    "duration": 6,
    "start_time": "2022-05-13T08:24:07.102Z"
   },
   {
    "duration": 195,
    "start_time": "2022-05-13T08:24:12.817Z"
   },
   {
    "duration": 1993,
    "start_time": "2022-05-13T08:24:20.651Z"
   },
   {
    "duration": 14,
    "start_time": "2022-05-13T08:26:44.679Z"
   },
   {
    "duration": 16,
    "start_time": "2022-05-13T08:26:45.836Z"
   },
   {
    "duration": 4,
    "start_time": "2022-05-13T08:26:46.385Z"
   },
   {
    "duration": 8,
    "start_time": "2022-05-13T08:26:50.366Z"
   },
   {
    "duration": 7,
    "start_time": "2022-05-13T08:27:40.981Z"
   },
   {
    "duration": 8,
    "start_time": "2022-05-13T08:28:49.756Z"
   },
   {
    "duration": 8,
    "start_time": "2022-05-13T08:28:55.794Z"
   },
   {
    "duration": 11,
    "start_time": "2022-05-13T08:28:59.558Z"
   },
   {
    "duration": 4,
    "start_time": "2022-05-13T08:29:07.103Z"
   },
   {
    "duration": 8,
    "start_time": "2022-05-13T08:29:13.770Z"
   },
   {
    "duration": 17,
    "start_time": "2022-05-13T08:29:47.737Z"
   },
   {
    "duration": 6,
    "start_time": "2022-05-13T08:32:03.701Z"
   },
   {
    "duration": 8,
    "start_time": "2022-05-13T08:32:14.733Z"
   },
   {
    "duration": 178,
    "start_time": "2022-05-13T08:32:33.380Z"
   },
   {
    "duration": 217,
    "start_time": "2022-05-13T08:34:03.002Z"
   },
   {
    "duration": 321,
    "start_time": "2022-05-13T08:34:48.365Z"
   },
   {
    "duration": 229,
    "start_time": "2022-05-13T08:36:31.741Z"
   },
   {
    "duration": 10,
    "start_time": "2022-05-13T08:38:12.411Z"
   },
   {
    "duration": 16,
    "start_time": "2022-05-13T08:39:14.789Z"
   },
   {
    "duration": 202,
    "start_time": "2022-05-13T08:39:22.493Z"
   },
   {
    "duration": 111,
    "start_time": "2022-05-13T08:41:05.552Z"
   },
   {
    "duration": 114,
    "start_time": "2022-05-13T08:41:30.818Z"
   },
   {
    "duration": 135,
    "start_time": "2022-05-13T08:44:02.543Z"
   },
   {
    "duration": 139,
    "start_time": "2022-05-13T08:48:15.764Z"
   },
   {
    "duration": 11,
    "start_time": "2022-05-13T08:48:41.037Z"
   },
   {
    "duration": 7,
    "start_time": "2022-05-13T08:48:53.628Z"
   },
   {
    "duration": 148,
    "start_time": "2022-05-13T08:49:00.107Z"
   },
   {
    "duration": 1236,
    "start_time": "2022-05-13T08:49:18.464Z"
   },
   {
    "duration": 11,
    "start_time": "2022-05-13T08:52:15.553Z"
   },
   {
    "duration": 3085,
    "start_time": "2022-05-13T08:52:47.071Z"
   },
   {
    "duration": 7,
    "start_time": "2022-05-13T08:53:09.695Z"
   },
   {
    "duration": 5,
    "start_time": "2022-05-13T08:53:16.093Z"
   },
   {
    "duration": 5,
    "start_time": "2022-05-13T08:53:23.516Z"
   },
   {
    "duration": 7,
    "start_time": "2022-05-13T08:54:26.268Z"
   },
   {
    "duration": 5,
    "start_time": "2022-05-13T08:54:28.884Z"
   },
   {
    "duration": 6,
    "start_time": "2022-05-13T08:54:31.408Z"
   },
   {
    "duration": 5,
    "start_time": "2022-05-13T08:55:34.828Z"
   },
   {
    "duration": 349,
    "start_time": "2022-05-13T08:55:40.056Z"
   },
   {
    "duration": 359,
    "start_time": "2022-05-13T08:55:47.016Z"
   },
   {
    "duration": 367,
    "start_time": "2022-05-13T08:55:52.574Z"
   },
   {
    "duration": 7,
    "start_time": "2022-05-13T08:58:48.742Z"
   },
   {
    "duration": 7,
    "start_time": "2022-05-13T09:00:28.927Z"
   },
   {
    "duration": 7,
    "start_time": "2022-05-13T09:01:04.690Z"
   },
   {
    "duration": 6,
    "start_time": "2022-05-13T09:02:12.123Z"
   },
   {
    "duration": 179,
    "start_time": "2022-05-13T09:02:26.428Z"
   },
   {
    "duration": 5,
    "start_time": "2022-05-13T09:02:39.300Z"
   },
   {
    "duration": 263,
    "start_time": "2022-05-13T09:02:43.132Z"
   },
   {
    "duration": 8,
    "start_time": "2022-05-13T09:03:17.145Z"
   },
   {
    "duration": 1596,
    "start_time": "2022-05-13T09:03:19.523Z"
   },
   {
    "duration": 33,
    "start_time": "2022-05-13T09:04:40.295Z"
   },
   {
    "duration": 35,
    "start_time": "2022-05-13T09:05:41.887Z"
   },
   {
    "duration": 15,
    "start_time": "2022-05-13T09:05:50.844Z"
   },
   {
    "duration": 226,
    "start_time": "2022-05-13T09:05:55.229Z"
   },
   {
    "duration": 5,
    "start_time": "2022-05-13T09:06:04.855Z"
   },
   {
    "duration": 352,
    "start_time": "2022-05-13T09:06:08.366Z"
   },
   {
    "duration": 444,
    "start_time": "2022-05-13T09:06:12.162Z"
   },
   {
    "duration": 356,
    "start_time": "2022-05-13T09:06:15.702Z"
   },
   {
    "duration": 7,
    "start_time": "2022-05-13T09:06:22.854Z"
   },
   {
    "duration": 4,
    "start_time": "2022-05-13T09:06:26.239Z"
   },
   {
    "duration": 6,
    "start_time": "2022-05-13T09:06:30.070Z"
   },
   {
    "duration": 8,
    "start_time": "2022-05-13T09:06:34.135Z"
   },
   {
    "duration": 5,
    "start_time": "2022-05-13T09:06:40.543Z"
   },
   {
    "duration": 5,
    "start_time": "2022-05-13T09:06:42.382Z"
   },
   {
    "duration": 314,
    "start_time": "2022-05-13T09:59:30.955Z"
   },
   {
    "duration": 339,
    "start_time": "2022-05-13T10:00:01.606Z"
   },
   {
    "duration": 2267,
    "start_time": "2022-05-13T10:08:02.588Z"
   },
   {
    "duration": 2144,
    "start_time": "2022-05-13T10:08:06.557Z"
   },
   {
    "duration": 2011,
    "start_time": "2022-05-13T10:08:09.241Z"
   },
   {
    "duration": 2182,
    "start_time": "2022-05-13T10:08:11.264Z"
   },
   {
    "duration": 2002,
    "start_time": "2022-05-13T10:08:16.355Z"
   },
   {
    "duration": 2090,
    "start_time": "2022-05-13T10:08:37.791Z"
   },
   {
    "duration": 1917,
    "start_time": "2022-05-13T10:09:41.570Z"
   },
   {
    "duration": 2417,
    "start_time": "2022-05-13T17:14:49.919Z"
   },
   {
    "duration": 7,
    "start_time": "2022-05-13T17:14:56.950Z"
   },
   {
    "duration": 14,
    "start_time": "2022-05-13T17:14:58.952Z"
   },
   {
    "duration": 41,
    "start_time": "2022-05-13T17:15:01.249Z"
   },
   {
    "duration": 33,
    "start_time": "2022-05-13T17:15:02.174Z"
   },
   {
    "duration": 35,
    "start_time": "2022-05-13T17:15:05.697Z"
   },
   {
    "duration": 6,
    "start_time": "2022-05-13T17:15:21.950Z"
   },
   {
    "duration": 192,
    "start_time": "2022-05-13T17:15:24.389Z"
   },
   {
    "duration": 28,
    "start_time": "2022-05-13T17:15:30.818Z"
   },
   {
    "duration": 17,
    "start_time": "2022-05-13T17:15:38.434Z"
   },
   {
    "duration": 6,
    "start_time": "2022-05-13T17:15:42.610Z"
   },
   {
    "duration": 15,
    "start_time": "2022-05-13T17:15:57.887Z"
   },
   {
    "duration": 99,
    "start_time": "2022-05-13T17:16:06.267Z"
   },
   {
    "duration": 6,
    "start_time": "2022-05-13T17:16:10.714Z"
   },
   {
    "duration": 12,
    "start_time": "2022-05-13T17:16:13.052Z"
   },
   {
    "duration": 32,
    "start_time": "2022-05-13T17:16:15.170Z"
   },
   {
    "duration": 40,
    "start_time": "2022-05-13T17:16:24.303Z"
   },
   {
    "duration": 38,
    "start_time": "2022-05-13T17:16:27.320Z"
   },
   {
    "duration": 6,
    "start_time": "2022-05-13T17:16:29.127Z"
   },
   {
    "duration": 16,
    "start_time": "2022-05-13T17:17:03.252Z"
   },
   {
    "duration": 18,
    "start_time": "2022-05-13T17:17:07.147Z"
   },
   {
    "duration": 16,
    "start_time": "2022-05-13T17:17:10.272Z"
   },
   {
    "duration": 7,
    "start_time": "2022-05-13T17:17:12.925Z"
   },
   {
    "duration": 21,
    "start_time": "2022-05-13T17:17:21.607Z"
   },
   {
    "duration": 118,
    "start_time": "2022-05-13T17:17:35.669Z"
   },
   {
    "duration": 6,
    "start_time": "2022-05-13T17:17:41.472Z"
   },
   {
    "duration": 19,
    "start_time": "2022-05-13T17:17:44.145Z"
   },
   {
    "duration": 42,
    "start_time": "2022-05-13T17:17:47.426Z"
   },
   {
    "duration": 52,
    "start_time": "2022-05-13T17:17:48.415Z"
   },
   {
    "duration": 33,
    "start_time": "2022-05-13T17:17:49.580Z"
   },
   {
    "duration": 6,
    "start_time": "2022-05-13T17:17:50.651Z"
   },
   {
    "duration": 15,
    "start_time": "2022-05-13T17:18:00.257Z"
   },
   {
    "duration": 20,
    "start_time": "2022-05-13T17:18:31.042Z"
   },
   {
    "duration": 35,
    "start_time": "2022-05-13T17:18:44.223Z"
   },
   {
    "duration": 24,
    "start_time": "2022-05-13T17:18:56.321Z"
   },
   {
    "duration": 15,
    "start_time": "2022-05-13T17:19:05.713Z"
   },
   {
    "duration": 16,
    "start_time": "2022-05-13T17:19:53.270Z"
   },
   {
    "duration": 19,
    "start_time": "2022-05-13T17:19:59.474Z"
   },
   {
    "duration": 112,
    "start_time": "2022-05-13T17:20:28.818Z"
   },
   {
    "duration": 32,
    "start_time": "2022-05-13T17:20:37.289Z"
   },
   {
    "duration": 38,
    "start_time": "2022-05-13T17:20:42.557Z"
   },
   {
    "duration": 15,
    "start_time": "2022-05-13T17:20:46.444Z"
   },
   {
    "duration": 13,
    "start_time": "2022-05-13T17:20:54.120Z"
   },
   {
    "duration": 51,
    "start_time": "2022-05-13T17:20:56.622Z"
   },
   {
    "duration": 8,
    "start_time": "2022-05-13T17:21:03.445Z"
   },
   {
    "duration": 13,
    "start_time": "2022-05-13T17:21:50.482Z"
   },
   {
    "duration": 17,
    "start_time": "2022-05-13T17:22:00.058Z"
   },
   {
    "duration": 21,
    "start_time": "2022-05-13T17:22:03.645Z"
   },
   {
    "duration": 16,
    "start_time": "2022-05-13T17:25:25.494Z"
   },
   {
    "duration": 21,
    "start_time": "2022-05-13T17:25:32.527Z"
   },
   {
    "duration": 17,
    "start_time": "2022-05-13T17:25:41.261Z"
   },
   {
    "duration": 15,
    "start_time": "2022-05-13T17:25:43.446Z"
   },
   {
    "duration": 5,
    "start_time": "2022-05-13T17:27:11.159Z"
   },
   {
    "duration": 18,
    "start_time": "2022-05-13T17:27:14.916Z"
   },
   {
    "duration": 18,
    "start_time": "2022-05-13T17:27:24.265Z"
   },
   {
    "duration": 13,
    "start_time": "2022-05-13T17:27:33.694Z"
   },
   {
    "duration": 14,
    "start_time": "2022-05-13T17:27:44.906Z"
   },
   {
    "duration": 12,
    "start_time": "2022-05-13T17:28:00.372Z"
   },
   {
    "duration": 9,
    "start_time": "2022-05-13T17:28:04.937Z"
   },
   {
    "duration": 7,
    "start_time": "2022-05-13T17:28:08.820Z"
   },
   {
    "duration": 158,
    "start_time": "2022-05-13T17:28:18.511Z"
   },
   {
    "duration": 6,
    "start_time": "2022-05-13T17:28:23.851Z"
   },
   {
    "duration": 17,
    "start_time": "2022-05-13T17:28:25.589Z"
   },
   {
    "duration": 34,
    "start_time": "2022-05-13T17:28:26.974Z"
   },
   {
    "duration": 33,
    "start_time": "2022-05-13T17:28:29.867Z"
   },
   {
    "duration": 34,
    "start_time": "2022-05-13T17:28:30.792Z"
   },
   {
    "duration": 34,
    "start_time": "2022-05-13T17:28:31.486Z"
   },
   {
    "duration": 13,
    "start_time": "2022-05-13T17:28:32.424Z"
   },
   {
    "duration": 11,
    "start_time": "2022-05-13T17:28:33.250Z"
   },
   {
    "duration": 34,
    "start_time": "2022-05-13T17:28:34.554Z"
   },
   {
    "duration": 13,
    "start_time": "2022-05-13T17:28:44.021Z"
   },
   {
    "duration": 7,
    "start_time": "2022-05-13T17:28:47.743Z"
   },
   {
    "duration": 41,
    "start_time": "2022-05-13T17:28:52.606Z"
   },
   {
    "duration": 6,
    "start_time": "2022-05-13T17:28:56.718Z"
   },
   {
    "duration": 546,
    "start_time": "2022-05-13T17:28:57.909Z"
   },
   {
    "duration": 6,
    "start_time": "2022-05-13T17:29:04.082Z"
   },
   {
    "duration": 46,
    "start_time": "2022-05-13T17:29:05.365Z"
   },
   {
    "duration": 8,
    "start_time": "2022-05-13T17:29:11.444Z"
   },
   {
    "duration": 367,
    "start_time": "2022-05-13T17:29:20.838Z"
   },
   {
    "duration": 12,
    "start_time": "2022-05-13T17:29:55.821Z"
   },
   {
    "duration": 16,
    "start_time": "2022-05-13T17:30:11.439Z"
   },
   {
    "duration": 1754,
    "start_time": "2022-05-13T17:30:16.528Z"
   },
   {
    "duration": 1941,
    "start_time": "2022-05-13T17:30:22.754Z"
   },
   {
    "duration": 2075,
    "start_time": "2022-05-13T17:31:03.131Z"
   },
   {
    "duration": 2263,
    "start_time": "2022-05-13T17:31:14.759Z"
   },
   {
    "duration": 2279,
    "start_time": "2022-05-13T17:32:25.682Z"
   },
   {
    "duration": 1916,
    "start_time": "2022-05-13T17:33:07.480Z"
   },
   {
    "duration": 1956,
    "start_time": "2022-05-13T17:33:11.558Z"
   },
   {
    "duration": 23,
    "start_time": "2022-05-13T17:33:27.954Z"
   },
   {
    "duration": 2010,
    "start_time": "2022-05-13T17:33:30.790Z"
   },
   {
    "duration": 1902,
    "start_time": "2022-05-13T17:34:16.581Z"
   },
   {
    "duration": 1925,
    "start_time": "2022-05-13T17:34:37.549Z"
   },
   {
    "duration": 250,
    "start_time": "2022-05-13T18:13:45.700Z"
   },
   {
    "duration": 12,
    "start_time": "2022-05-13T18:13:59.840Z"
   },
   {
    "duration": 374,
    "start_time": "2022-05-13T18:14:13.429Z"
   },
   {
    "duration": 484,
    "start_time": "2022-05-13T18:14:41.644Z"
   },
   {
    "duration": 345,
    "start_time": "2022-05-13T18:15:04.500Z"
   },
   {
    "duration": 100,
    "start_time": "2022-05-13T18:15:18.478Z"
   },
   {
    "duration": 6,
    "start_time": "2022-05-13T18:15:22.859Z"
   },
   {
    "duration": 13,
    "start_time": "2022-05-13T18:15:24.182Z"
   },
   {
    "duration": 36,
    "start_time": "2022-05-13T18:15:25.023Z"
   },
   {
    "duration": 48,
    "start_time": "2022-05-13T18:15:25.537Z"
   },
   {
    "duration": 37,
    "start_time": "2022-05-13T18:15:26.007Z"
   },
   {
    "duration": 34,
    "start_time": "2022-05-13T18:15:26.789Z"
   },
   {
    "duration": 10,
    "start_time": "2022-05-13T18:15:27.461Z"
   },
   {
    "duration": 9,
    "start_time": "2022-05-13T18:15:28.006Z"
   },
   {
    "duration": 33,
    "start_time": "2022-05-13T18:15:29.223Z"
   },
   {
    "duration": 10,
    "start_time": "2022-05-13T18:15:35.003Z"
   },
   {
    "duration": 7,
    "start_time": "2022-05-13T18:15:36.238Z"
   },
   {
    "duration": 34,
    "start_time": "2022-05-13T18:15:36.933Z"
   },
   {
    "duration": 8,
    "start_time": "2022-05-13T18:15:37.947Z"
   },
   {
    "duration": 866,
    "start_time": "2022-05-13T18:15:38.866Z"
   },
   {
    "duration": 8,
    "start_time": "2022-05-13T18:15:43.531Z"
   },
   {
    "duration": 30,
    "start_time": "2022-05-13T18:15:44.557Z"
   },
   {
    "duration": 10,
    "start_time": "2022-05-13T18:15:45.563Z"
   },
   {
    "duration": 8,
    "start_time": "2022-05-13T18:15:46.166Z"
   },
   {
    "duration": 36,
    "start_time": "2022-05-13T18:15:48.636Z"
   },
   {
    "duration": 337,
    "start_time": "2022-05-13T18:15:51.199Z"
   },
   {
    "duration": 568,
    "start_time": "2022-05-13T18:15:56.126Z"
   },
   {
    "duration": 5,
    "start_time": "2022-05-13T18:16:03.900Z"
   },
   {
    "duration": 19,
    "start_time": "2022-05-13T18:16:07.988Z"
   },
   {
    "duration": 11,
    "start_time": "2022-05-13T18:16:09.579Z"
   },
   {
    "duration": 796,
    "start_time": "2022-05-13T18:16:10.679Z"
   },
   {
    "duration": 10,
    "start_time": "2022-05-13T18:16:16.831Z"
   },
   {
    "duration": 560,
    "start_time": "2022-05-13T18:16:18.136Z"
   },
   {
    "duration": 15,
    "start_time": "2022-05-13T18:26:17.489Z"
   },
   {
    "duration": 9,
    "start_time": "2022-05-13T18:26:29.162Z"
   },
   {
    "duration": 598,
    "start_time": "2022-05-13T18:26:37.289Z"
   },
   {
    "duration": 801,
    "start_time": "2022-05-13T18:26:52.683Z"
   },
   {
    "duration": 667,
    "start_time": "2022-05-13T18:27:07.107Z"
   },
   {
    "duration": 14,
    "start_time": "2022-05-13T18:33:45.371Z"
   },
   {
    "duration": 11,
    "start_time": "2022-05-13T18:33:52.570Z"
   },
   {
    "duration": 6,
    "start_time": "2022-05-13T18:33:54.200Z"
   },
   {
    "duration": 11,
    "start_time": "2022-05-13T18:33:55.063Z"
   },
   {
    "duration": 1684,
    "start_time": "2022-05-13T18:36:55.299Z"
   },
   {
    "duration": 7,
    "start_time": "2022-05-13T18:44:04.552Z"
   },
   {
    "duration": 7,
    "start_time": "2022-05-13T18:44:06.547Z"
   },
   {
    "duration": 33,
    "start_time": "2022-05-13T18:44:07.655Z"
   },
   {
    "duration": 8,
    "start_time": "2022-05-13T18:44:17.276Z"
   },
   {
    "duration": 321,
    "start_time": "2022-05-13T18:44:18.443Z"
   },
   {
    "duration": 9,
    "start_time": "2022-05-13T18:44:23.452Z"
   },
   {
    "duration": 6,
    "start_time": "2022-05-13T18:44:24.355Z"
   },
   {
    "duration": 7,
    "start_time": "2022-05-13T18:44:25.082Z"
   },
   {
    "duration": 7,
    "start_time": "2022-05-13T18:44:27.687Z"
   },
   {
    "duration": 49,
    "start_time": "2022-05-13T18:44:31.312Z"
   },
   {
    "duration": 382,
    "start_time": "2022-05-13T18:44:35.674Z"
   },
   {
    "duration": 946,
    "start_time": "2022-05-13T18:44:40.160Z"
   },
   {
    "duration": 5,
    "start_time": "2022-05-13T18:44:46.387Z"
   },
   {
    "duration": 20,
    "start_time": "2022-05-13T18:44:49.409Z"
   },
   {
    "duration": 13,
    "start_time": "2022-05-13T18:44:51.011Z"
   },
   {
    "duration": 559,
    "start_time": "2022-05-13T18:44:54.693Z"
   },
   {
    "duration": 10,
    "start_time": "2022-05-13T18:45:17.868Z"
   },
   {
    "duration": 605,
    "start_time": "2022-05-13T18:45:19.228Z"
   },
   {
    "duration": 2189,
    "start_time": "2022-05-13T18:45:28.592Z"
   },
   {
    "duration": 580,
    "start_time": "2022-05-13T18:45:35.168Z"
   },
   {
    "duration": 372,
    "start_time": "2022-05-13T18:45:43.580Z"
   },
   {
    "duration": 39,
    "start_time": "2022-05-13T18:46:07.323Z"
   },
   {
    "duration": 39,
    "start_time": "2022-05-13T18:46:08.011Z"
   },
   {
    "duration": 7,
    "start_time": "2022-05-13T18:46:10.405Z"
   },
   {
    "duration": 10,
    "start_time": "2022-05-13T18:46:13.244Z"
   },
   {
    "duration": 20,
    "start_time": "2022-05-13T18:46:13.818Z"
   },
   {
    "duration": 346,
    "start_time": "2022-05-13T18:46:14.898Z"
   },
   {
    "duration": 477,
    "start_time": "2022-05-13T18:46:21.058Z"
   },
   {
    "duration": 15,
    "start_time": "2022-05-13T18:47:02.438Z"
   },
   {
    "duration": 337,
    "start_time": "2022-05-13T18:47:05.147Z"
   },
   {
    "duration": 7,
    "start_time": "2022-05-13T18:47:09.215Z"
   },
   {
    "duration": 130,
    "start_time": "2022-05-13T18:47:16.644Z"
   },
   {
    "duration": 3130,
    "start_time": "2022-05-13T18:47:17.867Z"
   },
   {
    "duration": 82,
    "start_time": "2022-05-13T18:47:21.000Z"
   },
   {
    "duration": 61,
    "start_time": "2022-05-13T18:47:21.802Z"
   },
   {
    "duration": 25,
    "start_time": "2022-05-13T18:47:24.268Z"
   },
   {
    "duration": 390,
    "start_time": "2022-05-13T18:47:26.752Z"
   },
   {
    "duration": 7,
    "start_time": "2022-05-13T18:48:56.479Z"
   },
   {
    "duration": 683,
    "start_time": "2022-05-13T18:48:57.270Z"
   },
   {
    "duration": 661,
    "start_time": "2022-05-13T18:49:17.223Z"
   },
   {
    "duration": 853,
    "start_time": "2022-05-13T18:49:21.046Z"
   },
   {
    "duration": 11,
    "start_time": "2022-05-13T18:49:46.019Z"
   },
   {
    "duration": 8,
    "start_time": "2022-05-13T18:49:49.525Z"
   },
   {
    "duration": 665,
    "start_time": "2022-05-13T18:50:14.269Z"
   },
   {
    "duration": 110,
    "start_time": "2022-05-13T18:50:54.677Z"
   },
   {
    "duration": 1330,
    "start_time": "2022-05-14T07:59:04.955Z"
   },
   {
    "duration": 4,
    "start_time": "2022-05-14T07:59:06.287Z"
   },
   {
    "duration": 11,
    "start_time": "2022-05-14T07:59:06.293Z"
   },
   {
    "duration": 20,
    "start_time": "2022-05-14T07:59:06.306Z"
   },
   {
    "duration": 36,
    "start_time": "2022-05-14T07:59:06.327Z"
   },
   {
    "duration": 26,
    "start_time": "2022-05-14T07:59:06.365Z"
   },
   {
    "duration": 22,
    "start_time": "2022-05-14T07:59:06.393Z"
   },
   {
    "duration": 6,
    "start_time": "2022-05-14T07:59:06.416Z"
   },
   {
    "duration": 7,
    "start_time": "2022-05-14T07:59:06.423Z"
   },
   {
    "duration": 15,
    "start_time": "2022-05-14T07:59:06.461Z"
   },
   {
    "duration": 5,
    "start_time": "2022-05-14T07:59:06.477Z"
   },
   {
    "duration": 9,
    "start_time": "2022-05-14T07:59:06.483Z"
   },
   {
    "duration": 5,
    "start_time": "2022-05-14T07:59:06.493Z"
   },
   {
    "duration": 17,
    "start_time": "2022-05-14T07:59:06.500Z"
   },
   {
    "duration": 6,
    "start_time": "2022-05-14T07:59:06.518Z"
   },
   {
    "duration": 336,
    "start_time": "2022-05-14T07:59:06.526Z"
   },
   {
    "duration": 4,
    "start_time": "2022-05-14T07:59:06.863Z"
   },
   {
    "duration": 18,
    "start_time": "2022-05-14T07:59:06.869Z"
   },
   {
    "duration": 5,
    "start_time": "2022-05-14T07:59:06.888Z"
   },
   {
    "duration": 11,
    "start_time": "2022-05-14T07:59:06.895Z"
   },
   {
    "duration": 26,
    "start_time": "2022-05-14T07:59:06.907Z"
   },
   {
    "duration": 193,
    "start_time": "2022-05-14T07:59:06.934Z"
   },
   {
    "duration": 277,
    "start_time": "2022-05-14T07:59:07.128Z"
   },
   {
    "duration": 3,
    "start_time": "2022-05-14T07:59:07.407Z"
   },
   {
    "duration": 12,
    "start_time": "2022-05-14T07:59:07.412Z"
   },
   {
    "duration": 6,
    "start_time": "2022-05-14T07:59:07.425Z"
   },
   {
    "duration": 277,
    "start_time": "2022-05-14T07:59:07.433Z"
   },
   {
    "duration": 6,
    "start_time": "2022-05-14T07:59:07.714Z"
   },
   {
    "duration": 291,
    "start_time": "2022-05-14T07:59:07.721Z"
   },
   {
    "duration": 179,
    "start_time": "2022-05-14T07:59:08.013Z"
   },
   {
    "duration": 13,
    "start_time": "2022-05-14T07:59:08.194Z"
   },
   {
    "duration": 21,
    "start_time": "2022-05-14T07:59:08.209Z"
   },
   {
    "duration": 11,
    "start_time": "2022-05-14T07:59:08.232Z"
   },
   {
    "duration": 20,
    "start_time": "2022-05-14T07:59:08.245Z"
   },
   {
    "duration": 15,
    "start_time": "2022-05-14T07:59:08.267Z"
   },
   {
    "duration": 155,
    "start_time": "2022-05-14T07:59:08.284Z"
   },
   {
    "duration": 272,
    "start_time": "2022-05-14T07:59:08.441Z"
   },
   {
    "duration": 7,
    "start_time": "2022-05-14T07:59:08.715Z"
   },
   {
    "duration": 176,
    "start_time": "2022-05-14T07:59:08.723Z"
   },
   {
    "duration": 5,
    "start_time": "2022-05-14T07:59:08.901Z"
   },
   {
    "duration": 183,
    "start_time": "2022-05-14T07:59:08.907Z"
   },
   {
    "duration": 10,
    "start_time": "2022-05-14T07:59:09.092Z"
   },
   {
    "duration": 1448,
    "start_time": "2022-05-14T07:59:09.104Z"
   },
   {
    "duration": 40,
    "start_time": "2022-05-14T07:59:10.563Z"
   },
   {
    "duration": 58,
    "start_time": "2022-05-14T07:59:10.605Z"
   },
   {
    "duration": 14,
    "start_time": "2022-05-14T07:59:10.664Z"
   },
   {
    "duration": 200,
    "start_time": "2022-05-14T07:59:10.679Z"
   },
   {
    "duration": 5,
    "start_time": "2022-05-14T07:59:10.880Z"
   },
   {
    "duration": 427,
    "start_time": "2022-05-14T07:59:10.886Z"
   },
   {
    "duration": 331,
    "start_time": "2022-05-14T07:59:11.315Z"
   },
   {
    "duration": 334,
    "start_time": "2022-05-14T07:59:11.648Z"
   },
   {
    "duration": 8,
    "start_time": "2022-05-14T07:59:11.984Z"
   },
   {
    "duration": 6,
    "start_time": "2022-05-14T07:59:11.994Z"
   },
   {
    "duration": 8,
    "start_time": "2022-05-14T07:59:12.001Z"
   },
   {
    "duration": 13,
    "start_time": "2022-05-14T07:59:12.010Z"
   },
   {
    "duration": 6,
    "start_time": "2022-05-14T07:59:12.025Z"
   },
   {
    "duration": 7,
    "start_time": "2022-05-14T07:59:12.032Z"
   }
  ],
  "kernelspec": {
   "display_name": "Python 3 (ipykernel)",
   "language": "python",
   "name": "python3"
  },
  "language_info": {
   "codemirror_mode": {
    "name": "ipython",
    "version": 3
   },
   "file_extension": ".py",
   "mimetype": "text/x-python",
   "name": "python",
   "nbconvert_exporter": "python",
   "pygments_lexer": "ipython3",
   "version": "3.9.5"
  },
  "toc": {
   "base_numbering": 1,
   "nav_menu": {},
   "number_sections": true,
   "sideBar": true,
   "skip_h1_title": true,
   "title_cell": "Table of Contents",
   "title_sidebar": "Contents",
   "toc_cell": false,
   "toc_position": {},
   "toc_section_display": true,
   "toc_window_display": true
  }
 },
 "nbformat": 4,
 "nbformat_minor": 2
}
