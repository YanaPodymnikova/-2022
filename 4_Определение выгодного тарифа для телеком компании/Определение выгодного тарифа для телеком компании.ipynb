{
 "cells": [
  {
   "cell_type": "markdown",
   "metadata": {},
   "source": [
    "# Определение выгодного тарифа для телеком компании"
   ]
  },
  {
   "cell_type": "markdown",
   "metadata": {},
   "source": [
    "### Постановка задачи\n",
    "Клиентам предлагают два тарифных плана: «Смарт» и «Ультра». Чтобы скорректировать рекламный бюджет, коммерческий департамент хочет понять, какой тариф приносит больше денег.\n",
    "\n",
    "Предстоит сделать предварительный анализ тарифов на небольшой выборке клиентов. В нашем распоряжении данные 500 пользователей «Мегалайна»: кто они, откуда, каким тарифом пользуются, сколько звонков и сообщений каждый отправил за 2018 год. Нужно проанализировать поведение клиентов и сделать вывод — какой тариф лучше.\n",
    "\n",
    "\n"
   ]
  },
  {
   "cell_type": "markdown",
   "metadata": {},
   "source": [
    "### Общая информация о данных"
   ]
  },
  {
   "cell_type": "code",
   "execution_count": 1,
   "metadata": {},
   "outputs": [
    {
     "data": {
      "text/html": [
       "<div>\n",
       "<style scoped>\n",
       "    .dataframe tbody tr th:only-of-type {\n",
       "        vertical-align: middle;\n",
       "    }\n",
       "\n",
       "    .dataframe tbody tr th {\n",
       "        vertical-align: top;\n",
       "    }\n",
       "\n",
       "    .dataframe thead th {\n",
       "        text-align: right;\n",
       "    }\n",
       "</style>\n",
       "<table border=\"1\" class=\"dataframe\">\n",
       "  <thead>\n",
       "    <tr style=\"text-align: right;\">\n",
       "      <th></th>\n",
       "      <th>messages_included</th>\n",
       "      <th>mb_per_month_included</th>\n",
       "      <th>minutes_included</th>\n",
       "      <th>rub_monthly_fee</th>\n",
       "      <th>rub_per_gb</th>\n",
       "      <th>rub_per_message</th>\n",
       "      <th>rub_per_minute</th>\n",
       "      <th>tariff_name</th>\n",
       "    </tr>\n",
       "  </thead>\n",
       "  <tbody>\n",
       "    <tr>\n",
       "      <th>0</th>\n",
       "      <td>50</td>\n",
       "      <td>15360</td>\n",
       "      <td>500</td>\n",
       "      <td>550</td>\n",
       "      <td>200</td>\n",
       "      <td>3</td>\n",
       "      <td>3</td>\n",
       "      <td>smart</td>\n",
       "    </tr>\n",
       "    <tr>\n",
       "      <th>1</th>\n",
       "      <td>1000</td>\n",
       "      <td>30720</td>\n",
       "      <td>3000</td>\n",
       "      <td>1950</td>\n",
       "      <td>150</td>\n",
       "      <td>1</td>\n",
       "      <td>1</td>\n",
       "      <td>ultra</td>\n",
       "    </tr>\n",
       "  </tbody>\n",
       "</table>\n",
       "</div>"
      ],
      "text/plain": [
       "   messages_included  mb_per_month_included  minutes_included  \\\n",
       "0                 50                  15360               500   \n",
       "1               1000                  30720              3000   \n",
       "\n",
       "   rub_monthly_fee  rub_per_gb  rub_per_message  rub_per_minute tariff_name  \n",
       "0              550         200                3               3       smart  \n",
       "1             1950         150                1               1       ultra  "
      ]
     },
     "execution_count": 1,
     "metadata": {},
     "output_type": "execute_result"
    }
   ],
   "source": [
    "import pandas as pd\n",
    "import math\n",
    "import numpy as np\n",
    "import matplotlib.pyplot as plt\n",
    "from scipy import stats as st\n",
    "\n",
    "# прочитаем файлы:\n",
    "\n",
    "df_tariffs = pd.read_csv('/datasets/tariffs.csv')\n",
    "df_users = pd.read_csv('/datasets/users.csv')\n",
    "df_calls = pd.read_csv('/datasets/calls.csv')\n",
    "df_messages = pd.read_csv('/datasets/messages.csv')\n",
    "df_internet = pd.read_csv('/datasets/internet.csv')\n",
    "df_tariffs"
   ]
  },
  {
   "cell_type": "code",
   "execution_count": 2,
   "metadata": {},
   "outputs": [
    {
     "name": "stdout",
     "output_type": "stream",
     "text": [
      "<class 'pandas.core.frame.DataFrame'>\n",
      "RangeIndex: 2 entries, 0 to 1\n",
      "Data columns (total 8 columns):\n",
      " #   Column                 Non-Null Count  Dtype \n",
      "---  ------                 --------------  ----- \n",
      " 0   messages_included      2 non-null      int64 \n",
      " 1   mb_per_month_included  2 non-null      int64 \n",
      " 2   minutes_included       2 non-null      int64 \n",
      " 3   rub_monthly_fee        2 non-null      int64 \n",
      " 4   rub_per_gb             2 non-null      int64 \n",
      " 5   rub_per_message        2 non-null      int64 \n",
      " 6   rub_per_minute         2 non-null      int64 \n",
      " 7   tariff_name            2 non-null      object\n",
      "dtypes: int64(7), object(1)\n",
      "memory usage: 256.0+ bytes\n"
     ]
    }
   ],
   "source": [
    "df_tariffs.info()"
   ]
  },
  {
   "cell_type": "code",
   "execution_count": 3,
   "metadata": {},
   "outputs": [
    {
     "data": {
      "text/html": [
       "<div>\n",
       "<style scoped>\n",
       "    .dataframe tbody tr th:only-of-type {\n",
       "        vertical-align: middle;\n",
       "    }\n",
       "\n",
       "    .dataframe tbody tr th {\n",
       "        vertical-align: top;\n",
       "    }\n",
       "\n",
       "    .dataframe thead th {\n",
       "        text-align: right;\n",
       "    }\n",
       "</style>\n",
       "<table border=\"1\" class=\"dataframe\">\n",
       "  <thead>\n",
       "    <tr style=\"text-align: right;\">\n",
       "      <th></th>\n",
       "      <th>user_id</th>\n",
       "      <th>age</th>\n",
       "      <th>churn_date</th>\n",
       "      <th>city</th>\n",
       "      <th>first_name</th>\n",
       "      <th>last_name</th>\n",
       "      <th>reg_date</th>\n",
       "      <th>tariff</th>\n",
       "    </tr>\n",
       "  </thead>\n",
       "  <tbody>\n",
       "    <tr>\n",
       "      <th>0</th>\n",
       "      <td>1000</td>\n",
       "      <td>52</td>\n",
       "      <td>NaN</td>\n",
       "      <td>Краснодар</td>\n",
       "      <td>Рафаил</td>\n",
       "      <td>Верещагин</td>\n",
       "      <td>2018-05-25</td>\n",
       "      <td>ultra</td>\n",
       "    </tr>\n",
       "    <tr>\n",
       "      <th>1</th>\n",
       "      <td>1001</td>\n",
       "      <td>41</td>\n",
       "      <td>NaN</td>\n",
       "      <td>Москва</td>\n",
       "      <td>Иван</td>\n",
       "      <td>Ежов</td>\n",
       "      <td>2018-11-01</td>\n",
       "      <td>smart</td>\n",
       "    </tr>\n",
       "    <tr>\n",
       "      <th>2</th>\n",
       "      <td>1002</td>\n",
       "      <td>59</td>\n",
       "      <td>NaN</td>\n",
       "      <td>Стерлитамак</td>\n",
       "      <td>Евгений</td>\n",
       "      <td>Абрамович</td>\n",
       "      <td>2018-06-17</td>\n",
       "      <td>smart</td>\n",
       "    </tr>\n",
       "    <tr>\n",
       "      <th>3</th>\n",
       "      <td>1003</td>\n",
       "      <td>23</td>\n",
       "      <td>NaN</td>\n",
       "      <td>Москва</td>\n",
       "      <td>Белла</td>\n",
       "      <td>Белякова</td>\n",
       "      <td>2018-08-17</td>\n",
       "      <td>ultra</td>\n",
       "    </tr>\n",
       "    <tr>\n",
       "      <th>4</th>\n",
       "      <td>1004</td>\n",
       "      <td>68</td>\n",
       "      <td>NaN</td>\n",
       "      <td>Новокузнецк</td>\n",
       "      <td>Татьяна</td>\n",
       "      <td>Авдеенко</td>\n",
       "      <td>2018-05-14</td>\n",
       "      <td>ultra</td>\n",
       "    </tr>\n",
       "  </tbody>\n",
       "</table>\n",
       "</div>"
      ],
      "text/plain": [
       "   user_id  age churn_date         city first_name  last_name    reg_date  \\\n",
       "0     1000   52        NaN    Краснодар     Рафаил  Верещагин  2018-05-25   \n",
       "1     1001   41        NaN       Москва       Иван       Ежов  2018-11-01   \n",
       "2     1002   59        NaN  Стерлитамак    Евгений  Абрамович  2018-06-17   \n",
       "3     1003   23        NaN       Москва      Белла   Белякова  2018-08-17   \n",
       "4     1004   68        NaN  Новокузнецк    Татьяна   Авдеенко  2018-05-14   \n",
       "\n",
       "  tariff  \n",
       "0  ultra  \n",
       "1  smart  \n",
       "2  smart  \n",
       "3  ultra  \n",
       "4  ultra  "
      ]
     },
     "execution_count": 3,
     "metadata": {},
     "output_type": "execute_result"
    }
   ],
   "source": [
    "df_users.head()"
   ]
  },
  {
   "cell_type": "code",
   "execution_count": 4,
   "metadata": {},
   "outputs": [
    {
     "name": "stdout",
     "output_type": "stream",
     "text": [
      "<class 'pandas.core.frame.DataFrame'>\n",
      "RangeIndex: 500 entries, 0 to 499\n",
      "Data columns (total 8 columns):\n",
      " #   Column      Non-Null Count  Dtype \n",
      "---  ------      --------------  ----- \n",
      " 0   user_id     500 non-null    int64 \n",
      " 1   age         500 non-null    int64 \n",
      " 2   churn_date  38 non-null     object\n",
      " 3   city        500 non-null    object\n",
      " 4   first_name  500 non-null    object\n",
      " 5   last_name   500 non-null    object\n",
      " 6   reg_date    500 non-null    object\n",
      " 7   tariff      500 non-null    object\n",
      "dtypes: int64(2), object(6)\n",
      "memory usage: 31.4+ KB\n"
     ]
    }
   ],
   "source": [
    "df_users.info()"
   ]
  },
  {
   "cell_type": "code",
   "execution_count": 5,
   "metadata": {},
   "outputs": [
    {
     "data": {
      "text/html": [
       "<div>\n",
       "<style scoped>\n",
       "    .dataframe tbody tr th:only-of-type {\n",
       "        vertical-align: middle;\n",
       "    }\n",
       "\n",
       "    .dataframe tbody tr th {\n",
       "        vertical-align: top;\n",
       "    }\n",
       "\n",
       "    .dataframe thead th {\n",
       "        text-align: right;\n",
       "    }\n",
       "</style>\n",
       "<table border=\"1\" class=\"dataframe\">\n",
       "  <thead>\n",
       "    <tr style=\"text-align: right;\">\n",
       "      <th></th>\n",
       "      <th>id</th>\n",
       "      <th>call_date</th>\n",
       "      <th>duration</th>\n",
       "      <th>user_id</th>\n",
       "    </tr>\n",
       "  </thead>\n",
       "  <tbody>\n",
       "    <tr>\n",
       "      <th>0</th>\n",
       "      <td>1000_0</td>\n",
       "      <td>2018-07-25</td>\n",
       "      <td>0.00</td>\n",
       "      <td>1000</td>\n",
       "    </tr>\n",
       "    <tr>\n",
       "      <th>1</th>\n",
       "      <td>1000_1</td>\n",
       "      <td>2018-08-17</td>\n",
       "      <td>0.00</td>\n",
       "      <td>1000</td>\n",
       "    </tr>\n",
       "    <tr>\n",
       "      <th>2</th>\n",
       "      <td>1000_2</td>\n",
       "      <td>2018-06-11</td>\n",
       "      <td>2.85</td>\n",
       "      <td>1000</td>\n",
       "    </tr>\n",
       "    <tr>\n",
       "      <th>3</th>\n",
       "      <td>1000_3</td>\n",
       "      <td>2018-09-21</td>\n",
       "      <td>13.80</td>\n",
       "      <td>1000</td>\n",
       "    </tr>\n",
       "    <tr>\n",
       "      <th>4</th>\n",
       "      <td>1000_4</td>\n",
       "      <td>2018-12-15</td>\n",
       "      <td>5.18</td>\n",
       "      <td>1000</td>\n",
       "    </tr>\n",
       "  </tbody>\n",
       "</table>\n",
       "</div>"
      ],
      "text/plain": [
       "       id   call_date  duration  user_id\n",
       "0  1000_0  2018-07-25      0.00     1000\n",
       "1  1000_1  2018-08-17      0.00     1000\n",
       "2  1000_2  2018-06-11      2.85     1000\n",
       "3  1000_3  2018-09-21     13.80     1000\n",
       "4  1000_4  2018-12-15      5.18     1000"
      ]
     },
     "execution_count": 5,
     "metadata": {},
     "output_type": "execute_result"
    }
   ],
   "source": [
    "df_calls.head()"
   ]
  },
  {
   "cell_type": "code",
   "execution_count": 6,
   "metadata": {},
   "outputs": [
    {
     "name": "stdout",
     "output_type": "stream",
     "text": [
      "<class 'pandas.core.frame.DataFrame'>\n",
      "RangeIndex: 202607 entries, 0 to 202606\n",
      "Data columns (total 4 columns):\n",
      " #   Column     Non-Null Count   Dtype  \n",
      "---  ------     --------------   -----  \n",
      " 0   id         202607 non-null  object \n",
      " 1   call_date  202607 non-null  object \n",
      " 2   duration   202607 non-null  float64\n",
      " 3   user_id    202607 non-null  int64  \n",
      "dtypes: float64(1), int64(1), object(2)\n",
      "memory usage: 6.2+ MB\n"
     ]
    }
   ],
   "source": [
    "df_calls.info()"
   ]
  },
  {
   "cell_type": "code",
   "execution_count": 7,
   "metadata": {},
   "outputs": [
    {
     "data": {
      "text/html": [
       "<div>\n",
       "<style scoped>\n",
       "    .dataframe tbody tr th:only-of-type {\n",
       "        vertical-align: middle;\n",
       "    }\n",
       "\n",
       "    .dataframe tbody tr th {\n",
       "        vertical-align: top;\n",
       "    }\n",
       "\n",
       "    .dataframe thead th {\n",
       "        text-align: right;\n",
       "    }\n",
       "</style>\n",
       "<table border=\"1\" class=\"dataframe\">\n",
       "  <thead>\n",
       "    <tr style=\"text-align: right;\">\n",
       "      <th></th>\n",
       "      <th>id</th>\n",
       "      <th>message_date</th>\n",
       "      <th>user_id</th>\n",
       "    </tr>\n",
       "  </thead>\n",
       "  <tbody>\n",
       "    <tr>\n",
       "      <th>0</th>\n",
       "      <td>1000_0</td>\n",
       "      <td>2018-06-27</td>\n",
       "      <td>1000</td>\n",
       "    </tr>\n",
       "    <tr>\n",
       "      <th>1</th>\n",
       "      <td>1000_1</td>\n",
       "      <td>2018-10-08</td>\n",
       "      <td>1000</td>\n",
       "    </tr>\n",
       "    <tr>\n",
       "      <th>2</th>\n",
       "      <td>1000_2</td>\n",
       "      <td>2018-08-04</td>\n",
       "      <td>1000</td>\n",
       "    </tr>\n",
       "    <tr>\n",
       "      <th>3</th>\n",
       "      <td>1000_3</td>\n",
       "      <td>2018-06-16</td>\n",
       "      <td>1000</td>\n",
       "    </tr>\n",
       "    <tr>\n",
       "      <th>4</th>\n",
       "      <td>1000_4</td>\n",
       "      <td>2018-12-05</td>\n",
       "      <td>1000</td>\n",
       "    </tr>\n",
       "  </tbody>\n",
       "</table>\n",
       "</div>"
      ],
      "text/plain": [
       "       id message_date  user_id\n",
       "0  1000_0   2018-06-27     1000\n",
       "1  1000_1   2018-10-08     1000\n",
       "2  1000_2   2018-08-04     1000\n",
       "3  1000_3   2018-06-16     1000\n",
       "4  1000_4   2018-12-05     1000"
      ]
     },
     "execution_count": 7,
     "metadata": {},
     "output_type": "execute_result"
    }
   ],
   "source": [
    "df_messages.head()"
   ]
  },
  {
   "cell_type": "code",
   "execution_count": 8,
   "metadata": {},
   "outputs": [
    {
     "name": "stdout",
     "output_type": "stream",
     "text": [
      "<class 'pandas.core.frame.DataFrame'>\n",
      "RangeIndex: 123036 entries, 0 to 123035\n",
      "Data columns (total 3 columns):\n",
      " #   Column        Non-Null Count   Dtype \n",
      "---  ------        --------------   ----- \n",
      " 0   id            123036 non-null  object\n",
      " 1   message_date  123036 non-null  object\n",
      " 2   user_id       123036 non-null  int64 \n",
      "dtypes: int64(1), object(2)\n",
      "memory usage: 2.8+ MB\n"
     ]
    }
   ],
   "source": [
    "df_messages.info()"
   ]
  },
  {
   "cell_type": "code",
   "execution_count": 9,
   "metadata": {},
   "outputs": [
    {
     "data": {
      "text/html": [
       "<div>\n",
       "<style scoped>\n",
       "    .dataframe tbody tr th:only-of-type {\n",
       "        vertical-align: middle;\n",
       "    }\n",
       "\n",
       "    .dataframe tbody tr th {\n",
       "        vertical-align: top;\n",
       "    }\n",
       "\n",
       "    .dataframe thead th {\n",
       "        text-align: right;\n",
       "    }\n",
       "</style>\n",
       "<table border=\"1\" class=\"dataframe\">\n",
       "  <thead>\n",
       "    <tr style=\"text-align: right;\">\n",
       "      <th></th>\n",
       "      <th>Unnamed: 0</th>\n",
       "      <th>id</th>\n",
       "      <th>mb_used</th>\n",
       "      <th>session_date</th>\n",
       "      <th>user_id</th>\n",
       "    </tr>\n",
       "  </thead>\n",
       "  <tbody>\n",
       "    <tr>\n",
       "      <th>0</th>\n",
       "      <td>0</td>\n",
       "      <td>1000_0</td>\n",
       "      <td>112.95</td>\n",
       "      <td>2018-11-25</td>\n",
       "      <td>1000</td>\n",
       "    </tr>\n",
       "    <tr>\n",
       "      <th>1</th>\n",
       "      <td>1</td>\n",
       "      <td>1000_1</td>\n",
       "      <td>1052.81</td>\n",
       "      <td>2018-09-07</td>\n",
       "      <td>1000</td>\n",
       "    </tr>\n",
       "    <tr>\n",
       "      <th>2</th>\n",
       "      <td>2</td>\n",
       "      <td>1000_2</td>\n",
       "      <td>1197.26</td>\n",
       "      <td>2018-06-25</td>\n",
       "      <td>1000</td>\n",
       "    </tr>\n",
       "    <tr>\n",
       "      <th>3</th>\n",
       "      <td>3</td>\n",
       "      <td>1000_3</td>\n",
       "      <td>550.27</td>\n",
       "      <td>2018-08-22</td>\n",
       "      <td>1000</td>\n",
       "    </tr>\n",
       "    <tr>\n",
       "      <th>4</th>\n",
       "      <td>4</td>\n",
       "      <td>1000_4</td>\n",
       "      <td>302.56</td>\n",
       "      <td>2018-09-24</td>\n",
       "      <td>1000</td>\n",
       "    </tr>\n",
       "  </tbody>\n",
       "</table>\n",
       "</div>"
      ],
      "text/plain": [
       "   Unnamed: 0      id  mb_used session_date  user_id\n",
       "0           0  1000_0   112.95   2018-11-25     1000\n",
       "1           1  1000_1  1052.81   2018-09-07     1000\n",
       "2           2  1000_2  1197.26   2018-06-25     1000\n",
       "3           3  1000_3   550.27   2018-08-22     1000\n",
       "4           4  1000_4   302.56   2018-09-24     1000"
      ]
     },
     "execution_count": 9,
     "metadata": {},
     "output_type": "execute_result"
    }
   ],
   "source": [
    "df_internet.head()"
   ]
  },
  {
   "cell_type": "code",
   "execution_count": 10,
   "metadata": {},
   "outputs": [
    {
     "name": "stdout",
     "output_type": "stream",
     "text": [
      "<class 'pandas.core.frame.DataFrame'>\n",
      "RangeIndex: 149396 entries, 0 to 149395\n",
      "Data columns (total 5 columns):\n",
      " #   Column        Non-Null Count   Dtype  \n",
      "---  ------        --------------   -----  \n",
      " 0   Unnamed: 0    149396 non-null  int64  \n",
      " 1   id            149396 non-null  object \n",
      " 2   mb_used       149396 non-null  float64\n",
      " 3   session_date  149396 non-null  object \n",
      " 4   user_id       149396 non-null  int64  \n",
      "dtypes: float64(1), int64(2), object(2)\n",
      "memory usage: 5.7+ MB\n"
     ]
    }
   ],
   "source": [
    "df_internet.info()"
   ]
  },
  {
   "cell_type": "markdown",
   "metadata": {},
   "source": [
    "#### В исходных файлах представленны нескелько таблиц, описывающих данные пользователей и тарифные планы, которые они используют, а также данные о звонках, сообщениях и интернет-трафике. Данные неоднородны по размеру. В некоторых таблицах есть пропуски, а так же типы данных в некоторых колонках неверны. Проведем предподготовку данных."
   ]
  },
  {
   "cell_type": "markdown",
   "metadata": {},
   "source": [
    "# Предобработка данных"
   ]
  },
  {
   "cell_type": "markdown",
   "metadata": {},
   "source": [
    "#### Проверка на отрицательные значения\n",
    "###### Проверим на отрицательные значения все числовые данные из всех таблиц. Отрицательных быть не должно."
   ]
  },
  {
   "cell_type": "code",
   "execution_count": 11,
   "metadata": {},
   "outputs": [
    {
     "name": "stdout",
     "output_type": "stream",
     "text": [
      "-----------------------------\n",
      "|df_tariffs                 |\n",
      "-----------------------------\n",
      "|messages_included     | Нет|\n",
      "|mb_per_month_included | Нет|\n",
      "|minutes_included      | Нет|\n",
      "|rub_monthly_fee       | Нет|\n",
      "|rub_per_gb            | Нет|\n",
      "|rub_per_message       | Нет|\n",
      "|rub_per_minute        | Нет|\n",
      "-----------------------------\n",
      "\n",
      "-----------------------------\n",
      "|df_users                   |\n",
      "-----------------------------\n",
      "|user_id               | Нет|\n",
      "|age                   | Нет|\n",
      "-----------------------------\n",
      "\n",
      "-----------------------------\n",
      "|df_calls                   |\n",
      "-----------------------------\n",
      "|duration              | Нет|\n",
      "|user_id               | Нет|\n",
      "-----------------------------\n",
      "\n",
      "-----------------------------\n",
      "|df_messages                |\n",
      "-----------------------------\n",
      "|user_id               | Нет|\n",
      "-----------------------------\n",
      "\n",
      "-----------------------------\n",
      "|df_internet                |\n",
      "-----------------------------\n",
      "|Unnamed: 0            | Нет|\n",
      "|mb_used               | Нет|\n",
      "|user_id               | Нет|\n",
      "-----------------------------\n",
      "\n"
     ]
    }
   ],
   "source": [
    "# список с таблицами где есть числовые значения\n",
    "list_tables = [df_tariffs, df_users, df_calls, df_messages, df_internet]\n",
    "\n",
    "# список с названиями тех же таблиц (нужно для вывода)\n",
    "list_nametables = ['df_tariffs', 'df_users', 'df_calls', 'df_messages', 'df_internet']\n",
    "\n",
    "# применим цикл перебирающий таблицы из первого списка, двигаемся по индексам списка\n",
    "for i in range(0, len(list_tables)):\n",
    "    print('-----------------------------')\n",
    "    print('|{: <27}|'.format(list_nametables[i]))# печатаем название таблицы в которой идет проверка\n",
    "    print('-----------------------------')\n",
    "    \n",
    "    # применим цикл перебирающий названия колонок в индексе метода dtype текущей таблицы\n",
    "    for column_name in list_tables[i].dtypes.index:\n",
    "        \n",
    "        # если тип данных для колонки соответсвует int или float, то применим к ним проверку на отрицательные значения\n",
    "        if list_tables[i][column_name].dtypes=='int64' or list_tables[i][column_name].dtypes=='float64':\n",
    "            if list_tables[i][list_tables[i][column_name] < 0][column_name].count() > 0:\n",
    "                print('|{: <22}|{: >4}|'.format(column_name, 'Есть'))\n",
    "            else:\n",
    "                print('|{: <22}|{: >4}|'.format(column_name, 'Нет'))\n",
    "    print('-----------------------------')\n",
    "    print()"
   ]
  },
  {
   "cell_type": "markdown",
   "metadata": {},
   "source": [
    "### Проверка на дубликаты"
   ]
  },
  {
   "cell_type": "code",
   "execution_count": 12,
   "metadata": {},
   "outputs": [
    {
     "name": "stdout",
     "output_type": "stream",
     "text": [
      "|df_tariffs  | дубликатов нет|\n",
      "|df_users    | дубликатов нет|\n",
      "|df_calls    | дубликатов нет|\n",
      "|df_messages | дубликатов нет|\n",
      "|df_internet | дубликатов нет|\n"
     ]
    }
   ],
   "source": [
    "# воспользуемся списком таблиц из предыдущего цикла, двигаемся по индексам списка\n",
    "for i in range(0, len(list_tables)):\n",
    "    if list_tables[i].duplicated().sum() == 0:\n",
    "        print('|{: <12}|{: >15}|'.format(list_nametables[i], 'дубликатов нет'))\n",
    "    elif list_tables[i].duplicated().sum() != 0:\n",
    "        print('|{: <12}|{: >15}|'.format(list_nametables[i], 'есть дубликаты'))"
   ]
  },
  {
   "cell_type": "markdown",
   "metadata": {},
   "source": [
    "### Приведение данных к нужным типам\n",
    "##### Рассмотрим каждую таблицу, приведем данные к нужным типам и обработаем пропуски где возможно.\n",
    "\n",
    "df_tariffs:\n",
    "Все в порядке\n",
    "\n",
    "df_users:\n",
    "Нужно привести колонки с датами к типу datetime. Т.к. в колонке churn_date очень много пропусков из-за того, что клиенты до сих пор пользуются тарифом, то привести ее к нужному типу не получится не избавившись от пропусков. Нам эта колонка в анализе не нужна, поэтому оставим и пропуски и тип данных как есть."
   ]
  },
  {
   "cell_type": "code",
   "execution_count": 13,
   "metadata": {},
   "outputs": [
    {
     "name": "stdout",
     "output_type": "stream",
     "text": [
      "<class 'pandas.core.frame.DataFrame'>\n",
      "RangeIndex: 500 entries, 0 to 499\n",
      "Data columns (total 8 columns):\n",
      " #   Column      Non-Null Count  Dtype         \n",
      "---  ------      --------------  -----         \n",
      " 0   user_id     500 non-null    int64         \n",
      " 1   age         500 non-null    int64         \n",
      " 2   churn_date  38 non-null     object        \n",
      " 3   city        500 non-null    object        \n",
      " 4   first_name  500 non-null    object        \n",
      " 5   last_name   500 non-null    object        \n",
      " 6   reg_date    500 non-null    datetime64[ns]\n",
      " 7   tariff      500 non-null    object        \n",
      "dtypes: datetime64[ns](1), int64(2), object(5)\n",
      "memory usage: 31.4+ KB\n"
     ]
    }
   ],
   "source": [
    "# применим метод pd.to_datetime чтобы привести временные данные в надлежащий вид\n",
    "\n",
    "df_users['reg_date'] = pd.to_datetime(df_users['reg_date'], format='%Y-%m-%d')\n",
    "df_users.info()"
   ]
  },
  {
   "cell_type": "markdown",
   "metadata": {},
   "source": [
    "df_calls:\n",
    "Колонку с датами приведем к типу datetime."
   ]
  },
  {
   "cell_type": "code",
   "execution_count": 14,
   "metadata": {},
   "outputs": [
    {
     "name": "stdout",
     "output_type": "stream",
     "text": [
      "<class 'pandas.core.frame.DataFrame'>\n",
      "RangeIndex: 202607 entries, 0 to 202606\n",
      "Data columns (total 4 columns):\n",
      " #   Column     Non-Null Count   Dtype         \n",
      "---  ------     --------------   -----         \n",
      " 0   id         202607 non-null  object        \n",
      " 1   call_date  202607 non-null  datetime64[ns]\n",
      " 2   duration   202607 non-null  float64       \n",
      " 3   user_id    202607 non-null  int64         \n",
      "dtypes: datetime64[ns](1), float64(1), int64(1), object(1)\n",
      "memory usage: 6.2+ MB\n"
     ]
    }
   ],
   "source": [
    "df_calls['call_date'] = pd.to_datetime(df_calls['call_date'], format='%Y-%m-%d')\n",
    "df_calls.info()"
   ]
  },
  {
   "cell_type": "markdown",
   "metadata": {},
   "source": [
    "df_messages:\n",
    "Колонку с датами приведем к типу datetime."
   ]
  },
  {
   "cell_type": "code",
   "execution_count": 15,
   "metadata": {},
   "outputs": [
    {
     "name": "stdout",
     "output_type": "stream",
     "text": [
      "<class 'pandas.core.frame.DataFrame'>\n",
      "RangeIndex: 123036 entries, 0 to 123035\n",
      "Data columns (total 3 columns):\n",
      " #   Column        Non-Null Count   Dtype         \n",
      "---  ------        --------------   -----         \n",
      " 0   id            123036 non-null  object        \n",
      " 1   message_date  123036 non-null  datetime64[ns]\n",
      " 2   user_id       123036 non-null  int64         \n",
      "dtypes: datetime64[ns](1), int64(1), object(1)\n",
      "memory usage: 2.8+ MB\n"
     ]
    }
   ],
   "source": [
    "df_messages['message_date'] = pd.to_datetime(df_messages['message_date'], format='%Y-%m-%d')\n",
    "df_messages.info()"
   ]
  },
  {
   "cell_type": "markdown",
   "metadata": {},
   "source": [
    "df_internet:\n",
    "Колонку с датами приведем к нужному типу."
   ]
  },
  {
   "cell_type": "code",
   "execution_count": 16,
   "metadata": {},
   "outputs": [
    {
     "name": "stdout",
     "output_type": "stream",
     "text": [
      "<class 'pandas.core.frame.DataFrame'>\n",
      "RangeIndex: 149396 entries, 0 to 149395\n",
      "Data columns (total 5 columns):\n",
      " #   Column        Non-Null Count   Dtype         \n",
      "---  ------        --------------   -----         \n",
      " 0   Unnamed: 0    149396 non-null  int64         \n",
      " 1   id            149396 non-null  object        \n",
      " 2   mb_used       149396 non-null  float64       \n",
      " 3   session_date  149396 non-null  datetime64[ns]\n",
      " 4   user_id       149396 non-null  int64         \n",
      "dtypes: datetime64[ns](1), float64(1), int64(2), object(1)\n",
      "memory usage: 5.7+ MB\n"
     ]
    }
   ],
   "source": [
    "df_internet['session_date'] = pd.to_datetime(df_internet['session_date'], format='%Y-%m-%d')\n",
    "df_internet.info()"
   ]
  },
  {
   "cell_type": "markdown",
   "metadata": {},
   "source": [
    "### Исправление ошибок\n",
    "В таблице df_internet есть столбец \"Unnamed: 0\", который повторяет индексы строк. Его можно удалить."
   ]
  },
  {
   "cell_type": "code",
   "execution_count": 17,
   "metadata": {},
   "outputs": [
    {
     "name": "stdout",
     "output_type": "stream",
     "text": [
      "<class 'pandas.core.frame.DataFrame'>\n",
      "RangeIndex: 149396 entries, 0 to 149395\n",
      "Data columns (total 4 columns):\n",
      " #   Column        Non-Null Count   Dtype         \n",
      "---  ------        --------------   -----         \n",
      " 0   id            149396 non-null  object        \n",
      " 1   mb_used       149396 non-null  float64       \n",
      " 2   session_date  149396 non-null  datetime64[ns]\n",
      " 3   user_id       149396 non-null  int64         \n",
      "dtypes: datetime64[ns](1), float64(1), int64(1), object(1)\n",
      "memory usage: 4.6+ MB\n"
     ]
    }
   ],
   "source": [
    "del df_internet['Unnamed: 0']\n",
    "df_internet.info()"
   ]
  },
  {
   "cell_type": "markdown",
   "metadata": {},
   "source": [
    "В датафрейме df_calls колонка с продолжительностью звонков содержит много нулевых значений."
   ]
  },
  {
   "cell_type": "code",
   "execution_count": 18,
   "metadata": {},
   "outputs": [
    {
     "data": {
      "text/plain": [
       "39613"
      ]
     },
     "execution_count": 18,
     "metadata": {},
     "output_type": "execute_result"
    }
   ],
   "source": [
    "df_calls[df_calls['duration']==0]['duration'].count()"
   ]
  },
  {
   "cell_type": "markdown",
   "metadata": {},
   "source": [
    "\n",
    "##### Это довольно большой объем данных чтобы просто удалить его.\n",
    "\n",
    "##### Нулевые значения могут быть либо ошибками в данных, либо звонивший не смог дозвониться. Т.к. все остальные данные предоставленны почти без ошибок, то я склонен считать, что здесь тоже ошибки маловероятны, т.е. звонивший не смог дозвониться.\n",
    "\n",
    "##### Задача - узнать какой тариф лучше. Поэтому я считаю, что для отдела коммерции более значимы данные с ненулевыми значениями, ведь тогда можно проводить различные оценки, считать суммы и прочее. А данные с нулевыми значениями более подходят для, например, технического отдела. Ведь ноль может быть звоночком, что с сетью что то не так и пользователи не могут совершить звонки.\n",
    "\n",
    "##### Трудно принять какое-либо аргументированное решение плохо представляя предметную область и не имея возможности проконсультироваться с заказчиком.\n",
    "\n",
    "##### Поэтому, т.к. в следющем разделе нам нужно будет посчитать количество звонков, я пока не буду удалять нулевые данные из таблицы. Возможно, это придется сделать при статистическом анализе, но там и посмотрим."
   ]
  },
  {
   "cell_type": "markdown",
   "metadata": {},
   "source": [
    "## Вычисление параметров для каждого пользователя\n",
    "\n",
    "#### Нам нужно посчитать для каждого пользователя следующие величины:\n",
    "\n",
    "###### количество сделанных звонков и израсходованных минут разговора по месяцам;\n",
    "###### количество отправленных сообщений по месяцам;\n",
    "###### объем израсходованного интернет-трафика по месяцам;\n",
    "###### помесячную выручку с каждого пользователя.\n",
    "###### Начнем с того, что добавим к каждой таблице колонку month, в которой будет отображен месяц совершения действия, чтобы потом можно было группировать по месяцам."
   ]
  },
  {
   "cell_type": "code",
   "execution_count": 19,
   "metadata": {},
   "outputs": [],
   "source": [
    "# определим переменную как список, в которм будет хранится название таблицы и колонки в ней, содержащей дату совершения действия\n",
    "date_list = []\n",
    "\n",
    "# нам нужны только три столбца со звонками, сообщениями и трафиком\n",
    "# поэтому начинаем двигаться со второго индекса в списке таблиц\n",
    "for i in range(2, len(list_tables)):\n",
    "    \n",
    "    # в списке колонок таблицы будем искать ту, у которой название заканчивается на 'date'\n",
    "    # методом включения определенных символов в срез строки\n",
    "    for j in range(0, len(list_tables[i].columns)):\n",
    "        if 'date' in list_tables[i].columns[j][-4:]:\n",
    "            date_list.append(list_tables[i].columns[j])\n",
    "            \n",
    "    # с помощью метода dt.month добавляем месяц в новую колонку 'month'\n",
    "    list_tables[i]['month'] = list_tables[i][date_list[i-2]].dt.month"
   ]
  },
  {
   "cell_type": "code",
   "execution_count": 20,
   "metadata": {},
   "outputs": [
    {
     "data": {
      "text/html": [
       "<div>\n",
       "<style scoped>\n",
       "    .dataframe tbody tr th:only-of-type {\n",
       "        vertical-align: middle;\n",
       "    }\n",
       "\n",
       "    .dataframe tbody tr th {\n",
       "        vertical-align: top;\n",
       "    }\n",
       "\n",
       "    .dataframe thead th {\n",
       "        text-align: right;\n",
       "    }\n",
       "</style>\n",
       "<table border=\"1\" class=\"dataframe\">\n",
       "  <thead>\n",
       "    <tr style=\"text-align: right;\">\n",
       "      <th></th>\n",
       "      <th>id</th>\n",
       "      <th>call_date</th>\n",
       "      <th>duration</th>\n",
       "      <th>user_id</th>\n",
       "      <th>month</th>\n",
       "    </tr>\n",
       "  </thead>\n",
       "  <tbody>\n",
       "    <tr>\n",
       "      <th>0</th>\n",
       "      <td>1000_0</td>\n",
       "      <td>2018-07-25</td>\n",
       "      <td>0.00</td>\n",
       "      <td>1000</td>\n",
       "      <td>7</td>\n",
       "    </tr>\n",
       "    <tr>\n",
       "      <th>1</th>\n",
       "      <td>1000_1</td>\n",
       "      <td>2018-08-17</td>\n",
       "      <td>0.00</td>\n",
       "      <td>1000</td>\n",
       "      <td>8</td>\n",
       "    </tr>\n",
       "    <tr>\n",
       "      <th>2</th>\n",
       "      <td>1000_2</td>\n",
       "      <td>2018-06-11</td>\n",
       "      <td>2.85</td>\n",
       "      <td>1000</td>\n",
       "      <td>6</td>\n",
       "    </tr>\n",
       "    <tr>\n",
       "      <th>3</th>\n",
       "      <td>1000_3</td>\n",
       "      <td>2018-09-21</td>\n",
       "      <td>13.80</td>\n",
       "      <td>1000</td>\n",
       "      <td>9</td>\n",
       "    </tr>\n",
       "    <tr>\n",
       "      <th>4</th>\n",
       "      <td>1000_4</td>\n",
       "      <td>2018-12-15</td>\n",
       "      <td>5.18</td>\n",
       "      <td>1000</td>\n",
       "      <td>12</td>\n",
       "    </tr>\n",
       "  </tbody>\n",
       "</table>\n",
       "</div>"
      ],
      "text/plain": [
       "       id  call_date  duration  user_id  month\n",
       "0  1000_0 2018-07-25      0.00     1000      7\n",
       "1  1000_1 2018-08-17      0.00     1000      8\n",
       "2  1000_2 2018-06-11      2.85     1000      6\n",
       "3  1000_3 2018-09-21     13.80     1000      9\n",
       "4  1000_4 2018-12-15      5.18     1000     12"
      ]
     },
     "execution_count": 20,
     "metadata": {},
     "output_type": "execute_result"
    }
   ],
   "source": [
    "df_calls.head()"
   ]
  },
  {
   "cell_type": "code",
   "execution_count": 21,
   "metadata": {},
   "outputs": [
    {
     "data": {
      "text/html": [
       "<div>\n",
       "<style scoped>\n",
       "    .dataframe tbody tr th:only-of-type {\n",
       "        vertical-align: middle;\n",
       "    }\n",
       "\n",
       "    .dataframe tbody tr th {\n",
       "        vertical-align: top;\n",
       "    }\n",
       "\n",
       "    .dataframe thead th {\n",
       "        text-align: right;\n",
       "    }\n",
       "</style>\n",
       "<table border=\"1\" class=\"dataframe\">\n",
       "  <thead>\n",
       "    <tr style=\"text-align: right;\">\n",
       "      <th></th>\n",
       "      <th>id</th>\n",
       "      <th>message_date</th>\n",
       "      <th>user_id</th>\n",
       "      <th>month</th>\n",
       "    </tr>\n",
       "  </thead>\n",
       "  <tbody>\n",
       "    <tr>\n",
       "      <th>0</th>\n",
       "      <td>1000_0</td>\n",
       "      <td>2018-06-27</td>\n",
       "      <td>1000</td>\n",
       "      <td>6</td>\n",
       "    </tr>\n",
       "    <tr>\n",
       "      <th>1</th>\n",
       "      <td>1000_1</td>\n",
       "      <td>2018-10-08</td>\n",
       "      <td>1000</td>\n",
       "      <td>10</td>\n",
       "    </tr>\n",
       "    <tr>\n",
       "      <th>2</th>\n",
       "      <td>1000_2</td>\n",
       "      <td>2018-08-04</td>\n",
       "      <td>1000</td>\n",
       "      <td>8</td>\n",
       "    </tr>\n",
       "    <tr>\n",
       "      <th>3</th>\n",
       "      <td>1000_3</td>\n",
       "      <td>2018-06-16</td>\n",
       "      <td>1000</td>\n",
       "      <td>6</td>\n",
       "    </tr>\n",
       "    <tr>\n",
       "      <th>4</th>\n",
       "      <td>1000_4</td>\n",
       "      <td>2018-12-05</td>\n",
       "      <td>1000</td>\n",
       "      <td>12</td>\n",
       "    </tr>\n",
       "  </tbody>\n",
       "</table>\n",
       "</div>"
      ],
      "text/plain": [
       "       id message_date  user_id  month\n",
       "0  1000_0   2018-06-27     1000      6\n",
       "1  1000_1   2018-10-08     1000     10\n",
       "2  1000_2   2018-08-04     1000      8\n",
       "3  1000_3   2018-06-16     1000      6\n",
       "4  1000_4   2018-12-05     1000     12"
      ]
     },
     "execution_count": 21,
     "metadata": {},
     "output_type": "execute_result"
    }
   ],
   "source": [
    "df_messages.head()"
   ]
  },
  {
   "cell_type": "code",
   "execution_count": 22,
   "metadata": {},
   "outputs": [
    {
     "data": {
      "text/html": [
       "<div>\n",
       "<style scoped>\n",
       "    .dataframe tbody tr th:only-of-type {\n",
       "        vertical-align: middle;\n",
       "    }\n",
       "\n",
       "    .dataframe tbody tr th {\n",
       "        vertical-align: top;\n",
       "    }\n",
       "\n",
       "    .dataframe thead th {\n",
       "        text-align: right;\n",
       "    }\n",
       "</style>\n",
       "<table border=\"1\" class=\"dataframe\">\n",
       "  <thead>\n",
       "    <tr style=\"text-align: right;\">\n",
       "      <th></th>\n",
       "      <th>id</th>\n",
       "      <th>mb_used</th>\n",
       "      <th>session_date</th>\n",
       "      <th>user_id</th>\n",
       "      <th>month</th>\n",
       "    </tr>\n",
       "  </thead>\n",
       "  <tbody>\n",
       "    <tr>\n",
       "      <th>0</th>\n",
       "      <td>1000_0</td>\n",
       "      <td>112.95</td>\n",
       "      <td>2018-11-25</td>\n",
       "      <td>1000</td>\n",
       "      <td>11</td>\n",
       "    </tr>\n",
       "    <tr>\n",
       "      <th>1</th>\n",
       "      <td>1000_1</td>\n",
       "      <td>1052.81</td>\n",
       "      <td>2018-09-07</td>\n",
       "      <td>1000</td>\n",
       "      <td>9</td>\n",
       "    </tr>\n",
       "    <tr>\n",
       "      <th>2</th>\n",
       "      <td>1000_2</td>\n",
       "      <td>1197.26</td>\n",
       "      <td>2018-06-25</td>\n",
       "      <td>1000</td>\n",
       "      <td>6</td>\n",
       "    </tr>\n",
       "    <tr>\n",
       "      <th>3</th>\n",
       "      <td>1000_3</td>\n",
       "      <td>550.27</td>\n",
       "      <td>2018-08-22</td>\n",
       "      <td>1000</td>\n",
       "      <td>8</td>\n",
       "    </tr>\n",
       "    <tr>\n",
       "      <th>4</th>\n",
       "      <td>1000_4</td>\n",
       "      <td>302.56</td>\n",
       "      <td>2018-09-24</td>\n",
       "      <td>1000</td>\n",
       "      <td>9</td>\n",
       "    </tr>\n",
       "  </tbody>\n",
       "</table>\n",
       "</div>"
      ],
      "text/plain": [
       "       id  mb_used session_date  user_id  month\n",
       "0  1000_0   112.95   2018-11-25     1000     11\n",
       "1  1000_1  1052.81   2018-09-07     1000      9\n",
       "2  1000_2  1197.26   2018-06-25     1000      6\n",
       "3  1000_3   550.27   2018-08-22     1000      8\n",
       "4  1000_4   302.56   2018-09-24     1000      9"
      ]
     },
     "execution_count": 22,
     "metadata": {},
     "output_type": "execute_result"
    }
   ],
   "source": [
    "df_internet.head()"
   ]
  },
  {
   "cell_type": "markdown",
   "metadata": {},
   "source": [
    "### С помощью сводных таблиц рассчитаем необходимые параметры:\n",
    "\n",
    "Сгруппируем данные по user_id и month, применим методы к соответствующим значениям."
   ]
  },
  {
   "cell_type": "code",
   "execution_count": 23,
   "metadata": {},
   "outputs": [
    {
     "data": {
      "text/html": [
       "<div>\n",
       "<style scoped>\n",
       "    .dataframe tbody tr th:only-of-type {\n",
       "        vertical-align: middle;\n",
       "    }\n",
       "\n",
       "    .dataframe tbody tr th {\n",
       "        vertical-align: top;\n",
       "    }\n",
       "\n",
       "    .dataframe thead th {\n",
       "        text-align: right;\n",
       "    }\n",
       "</style>\n",
       "<table border=\"1\" class=\"dataframe\">\n",
       "  <thead>\n",
       "    <tr style=\"text-align: right;\">\n",
       "      <th></th>\n",
       "      <th></th>\n",
       "      <th>calls_count</th>\n",
       "      <th>calls_duration</th>\n",
       "    </tr>\n",
       "    <tr>\n",
       "      <th>user_id</th>\n",
       "      <th>month</th>\n",
       "      <th></th>\n",
       "      <th></th>\n",
       "    </tr>\n",
       "  </thead>\n",
       "  <tbody>\n",
       "    <tr>\n",
       "      <th rowspan=\"5\" valign=\"top\">1000</th>\n",
       "      <th>5</th>\n",
       "      <td>22</td>\n",
       "      <td>159.0</td>\n",
       "    </tr>\n",
       "    <tr>\n",
       "      <th>6</th>\n",
       "      <td>43</td>\n",
       "      <td>172.0</td>\n",
       "    </tr>\n",
       "    <tr>\n",
       "      <th>7</th>\n",
       "      <td>47</td>\n",
       "      <td>340.0</td>\n",
       "    </tr>\n",
       "    <tr>\n",
       "      <th>8</th>\n",
       "      <td>52</td>\n",
       "      <td>408.0</td>\n",
       "    </tr>\n",
       "    <tr>\n",
       "      <th>9</th>\n",
       "      <td>58</td>\n",
       "      <td>466.0</td>\n",
       "    </tr>\n",
       "  </tbody>\n",
       "</table>\n",
       "</div>"
      ],
      "text/plain": [
       "               calls_count  calls_duration\n",
       "user_id month                             \n",
       "1000    5               22           159.0\n",
       "        6               43           172.0\n",
       "        7               47           340.0\n",
       "        8               52           408.0\n",
       "        9               58           466.0"
      ]
     },
     "execution_count": 23,
     "metadata": {},
     "output_type": "execute_result"
    }
   ],
   "source": [
    "# округлим значения продолжительности звонков в большую сторону с помощью np.ceil():\n",
    "\n",
    "df_calls['duration'] = np.ceil(df_calls['duration'])\n",
    "\n",
    "\n",
    "df_calls_pivot = df_calls.pivot_table(index=['user_id', 'month'], aggfunc={'call_date':'count', 'duration':sum}) \n",
    "df_calls_pivot.columns = ['calls_count', 'calls_duration']\n",
    "df_calls_pivot.head()"
   ]
  },
  {
   "cell_type": "code",
   "execution_count": 24,
   "metadata": {},
   "outputs": [
    {
     "data": {
      "text/html": [
       "<div>\n",
       "<style scoped>\n",
       "    .dataframe tbody tr th:only-of-type {\n",
       "        vertical-align: middle;\n",
       "    }\n",
       "\n",
       "    .dataframe tbody tr th {\n",
       "        vertical-align: top;\n",
       "    }\n",
       "\n",
       "    .dataframe thead th {\n",
       "        text-align: right;\n",
       "    }\n",
       "</style>\n",
       "<table border=\"1\" class=\"dataframe\">\n",
       "  <thead>\n",
       "    <tr style=\"text-align: right;\">\n",
       "      <th></th>\n",
       "      <th></th>\n",
       "      <th>messages_count</th>\n",
       "    </tr>\n",
       "    <tr>\n",
       "      <th>user_id</th>\n",
       "      <th>month</th>\n",
       "      <th></th>\n",
       "    </tr>\n",
       "  </thead>\n",
       "  <tbody>\n",
       "    <tr>\n",
       "      <th rowspan=\"5\" valign=\"top\">1000</th>\n",
       "      <th>5</th>\n",
       "      <td>22</td>\n",
       "    </tr>\n",
       "    <tr>\n",
       "      <th>6</th>\n",
       "      <td>60</td>\n",
       "    </tr>\n",
       "    <tr>\n",
       "      <th>7</th>\n",
       "      <td>75</td>\n",
       "    </tr>\n",
       "    <tr>\n",
       "      <th>8</th>\n",
       "      <td>81</td>\n",
       "    </tr>\n",
       "    <tr>\n",
       "      <th>9</th>\n",
       "      <td>57</td>\n",
       "    </tr>\n",
       "  </tbody>\n",
       "</table>\n",
       "</div>"
      ],
      "text/plain": [
       "               messages_count\n",
       "user_id month                \n",
       "1000    5                  22\n",
       "        6                  60\n",
       "        7                  75\n",
       "        8                  81\n",
       "        9                  57"
      ]
     },
     "execution_count": 24,
     "metadata": {},
     "output_type": "execute_result"
    }
   ],
   "source": [
    "df_messages_pivot = df_messages.pivot_table(index=['user_id', 'month'], aggfunc={'id':'count'})\n",
    "df_messages_pivot.columns = ['messages_count']\n",
    "df_messages_pivot.head()"
   ]
  },
  {
   "cell_type": "code",
   "execution_count": 25,
   "metadata": {},
   "outputs": [],
   "source": [
    "# # переведем из мегабайты в гигабайты и округлим значения объёма интернет-трафика в большую сторону с помощью np.ceil():\n",
    "# df_internet['mb_used'] = df_internet['mb_used']/1024\n",
    "# df_internet['gb_used'] = np.ceil(df_internet['mb_used'])\n",
    "# df_internet_pivot = df_internet.pivot_table(index=['user_id', 'month'], aggfunc={'gb_used':sum})\n",
    "# df_internet_pivot.columns = ['traffic_volume']\n",
    "# df_internet_pivot.head()"
   ]
  },
  {
   "cell_type": "code",
   "execution_count": 28,
   "metadata": {},
   "outputs": [
    {
     "data": {
      "text/html": [
       "<div>\n",
       "<style scoped>\n",
       "    .dataframe tbody tr th:only-of-type {\n",
       "        vertical-align: middle;\n",
       "    }\n",
       "\n",
       "    .dataframe tbody tr th {\n",
       "        vertical-align: top;\n",
       "    }\n",
       "\n",
       "    .dataframe thead th {\n",
       "        text-align: right;\n",
       "    }\n",
       "</style>\n",
       "<table border=\"1\" class=\"dataframe\">\n",
       "  <thead>\n",
       "    <tr style=\"text-align: right;\">\n",
       "      <th></th>\n",
       "      <th></th>\n",
       "      <th>traffic_volume</th>\n",
       "    </tr>\n",
       "    <tr>\n",
       "      <th>user_id</th>\n",
       "      <th>month</th>\n",
       "      <th></th>\n",
       "    </tr>\n",
       "  </thead>\n",
       "  <tbody>\n",
       "    <tr>\n",
       "      <th rowspan=\"5\" valign=\"top\">1000</th>\n",
       "      <th>5</th>\n",
       "      <td>3.0</td>\n",
       "    </tr>\n",
       "    <tr>\n",
       "      <th>6</th>\n",
       "      <td>23.0</td>\n",
       "    </tr>\n",
       "    <tr>\n",
       "      <th>7</th>\n",
       "      <td>14.0</td>\n",
       "    </tr>\n",
       "    <tr>\n",
       "      <th>8</th>\n",
       "      <td>14.0</td>\n",
       "    </tr>\n",
       "    <tr>\n",
       "      <th>9</th>\n",
       "      <td>15.0</td>\n",
       "    </tr>\n",
       "  </tbody>\n",
       "</table>\n",
       "</div>"
      ],
      "text/plain": [
       "               traffic_volume\n",
       "user_id month                \n",
       "1000    5                 3.0\n",
       "        6                23.0\n",
       "        7                14.0\n",
       "        8                14.0\n",
       "        9                15.0"
      ]
     },
     "execution_count": 28,
     "metadata": {},
     "output_type": "execute_result"
    }
   ],
   "source": [
    "# переведем из мегабайты в гигабайты и округлим значения объёма интернет-трафика в большую сторону с помощью np.ceil():\n",
    "df_internet['gb_used'] = df_internet['mb_used']/1024\n",
    "df_internet_pivot = df_internet.pivot_table(index=['user_id', 'month'], aggfunc={'gb_used':sum})\n",
    "df_internet_pivot.columns = ['traffic_volume']\n",
    "df_internet_pivot['traffic_volume'] = np.ceil(df_internet_pivot['traffic_volume'])\n",
    "df_internet_pivot.head()"
   ]
  },
  {
   "cell_type": "markdown",
   "metadata": {},
   "source": [
    "### Для рассчета помесячной выручки объеденим все сводные таблицы и таблицу df_users"
   ]
  },
  {
   "cell_type": "code",
   "execution_count": 29,
   "metadata": {},
   "outputs": [
    {
     "data": {
      "text/html": [
       "<div>\n",
       "<style scoped>\n",
       "    .dataframe tbody tr th:only-of-type {\n",
       "        vertical-align: middle;\n",
       "    }\n",
       "\n",
       "    .dataframe tbody tr th {\n",
       "        vertical-align: top;\n",
       "    }\n",
       "\n",
       "    .dataframe thead th {\n",
       "        text-align: right;\n",
       "    }\n",
       "</style>\n",
       "<table border=\"1\" class=\"dataframe\">\n",
       "  <thead>\n",
       "    <tr style=\"text-align: right;\">\n",
       "      <th></th>\n",
       "      <th>month</th>\n",
       "      <th>traffic_volume</th>\n",
       "      <th>calls_count</th>\n",
       "      <th>calls_duration</th>\n",
       "      <th>messages_count</th>\n",
       "    </tr>\n",
       "    <tr>\n",
       "      <th>user_id</th>\n",
       "      <th></th>\n",
       "      <th></th>\n",
       "      <th></th>\n",
       "      <th></th>\n",
       "      <th></th>\n",
       "    </tr>\n",
       "  </thead>\n",
       "  <tbody>\n",
       "    <tr>\n",
       "      <th>1000</th>\n",
       "      <td>5</td>\n",
       "      <td>3.0</td>\n",
       "      <td>22.0</td>\n",
       "      <td>159.0</td>\n",
       "      <td>22.0</td>\n",
       "    </tr>\n",
       "    <tr>\n",
       "      <th>1000</th>\n",
       "      <td>6</td>\n",
       "      <td>23.0</td>\n",
       "      <td>43.0</td>\n",
       "      <td>172.0</td>\n",
       "      <td>60.0</td>\n",
       "    </tr>\n",
       "    <tr>\n",
       "      <th>1000</th>\n",
       "      <td>7</td>\n",
       "      <td>14.0</td>\n",
       "      <td>47.0</td>\n",
       "      <td>340.0</td>\n",
       "      <td>75.0</td>\n",
       "    </tr>\n",
       "    <tr>\n",
       "      <th>1000</th>\n",
       "      <td>8</td>\n",
       "      <td>14.0</td>\n",
       "      <td>52.0</td>\n",
       "      <td>408.0</td>\n",
       "      <td>81.0</td>\n",
       "    </tr>\n",
       "    <tr>\n",
       "      <th>1000</th>\n",
       "      <td>9</td>\n",
       "      <td>15.0</td>\n",
       "      <td>58.0</td>\n",
       "      <td>466.0</td>\n",
       "      <td>57.0</td>\n",
       "    </tr>\n",
       "  </tbody>\n",
       "</table>\n",
       "</div>"
      ],
      "text/plain": [
       "         month  traffic_volume  calls_count  calls_duration  messages_count\n",
       "user_id                                                                    \n",
       "1000         5             3.0         22.0           159.0            22.0\n",
       "1000         6            23.0         43.0           172.0            60.0\n",
       "1000         7            14.0         47.0           340.0            75.0\n",
       "1000         8            14.0         52.0           408.0            81.0\n",
       "1000         9            15.0         58.0           466.0            57.0"
      ]
     },
     "execution_count": 29,
     "metadata": {},
     "output_type": "execute_result"
    }
   ],
   "source": [
    "\n",
    "# при помощи метода join объеденим сразу все сводные таблицы по индексам\n",
    "# и сбросим индекс month для последующего объединения с df_users\n",
    "df_cmi_pivot = df_internet_pivot.merge(df_calls_pivot,  on=['user_id', 'month'], how='outer')\n",
    "df_cmi_pivot2 = df_cmi_pivot.merge(df_messages_pivot,  on=['user_id', 'month'], how='outer').reset_index(level='month')\n",
    "\n",
    "df_cmi_pivot2.head()"
   ]
  },
  {
   "cell_type": "code",
   "execution_count": 30,
   "metadata": {},
   "outputs": [
    {
     "data": {
      "text/plain": [
       "(202607, 202607.0)"
      ]
     },
     "execution_count": 30,
     "metadata": {},
     "output_type": "execute_result"
    }
   ],
   "source": [
    "df_calls_pivot.calls_count.sum(), df_cmi_pivot2.calls_count.sum()"
   ]
  },
  {
   "cell_type": "code",
   "execution_count": 31,
   "metadata": {},
   "outputs": [
    {
     "data": {
      "text/plain": [
       "(123036, 123036.0)"
      ]
     },
     "execution_count": 31,
     "metadata": {},
     "output_type": "execute_result"
    }
   ],
   "source": [
    "df_messages_pivot.messages_count.sum(), df_cmi_pivot2.messages_count.sum()"
   ]
  },
  {
   "cell_type": "code",
   "execution_count": 32,
   "metadata": {},
   "outputs": [
    {
     "data": {
      "text/plain": [
       "(55599.0, 55599.0)"
      ]
     },
     "execution_count": 32,
     "metadata": {},
     "output_type": "execute_result"
    }
   ],
   "source": [
    "df_internet_pivot.traffic_volume.sum(), df_cmi_pivot2.traffic_volume.sum()"
   ]
  },
  {
   "cell_type": "code",
   "execution_count": 33,
   "metadata": {},
   "outputs": [
    {
     "data": {
      "text/html": [
       "<div>\n",
       "<style scoped>\n",
       "    .dataframe tbody tr th:only-of-type {\n",
       "        vertical-align: middle;\n",
       "    }\n",
       "\n",
       "    .dataframe tbody tr th {\n",
       "        vertical-align: top;\n",
       "    }\n",
       "\n",
       "    .dataframe thead th {\n",
       "        text-align: right;\n",
       "    }\n",
       "</style>\n",
       "<table border=\"1\" class=\"dataframe\">\n",
       "  <thead>\n",
       "    <tr style=\"text-align: right;\">\n",
       "      <th></th>\n",
       "      <th>user_id</th>\n",
       "      <th>age</th>\n",
       "      <th>churn_date</th>\n",
       "      <th>city</th>\n",
       "      <th>first_name</th>\n",
       "      <th>last_name</th>\n",
       "      <th>reg_date</th>\n",
       "      <th>tariff</th>\n",
       "      <th>month</th>\n",
       "      <th>traffic_volume</th>\n",
       "      <th>calls_count</th>\n",
       "      <th>calls_duration</th>\n",
       "      <th>messages_count</th>\n",
       "    </tr>\n",
       "  </thead>\n",
       "  <tbody>\n",
       "    <tr>\n",
       "      <th>0</th>\n",
       "      <td>1000</td>\n",
       "      <td>52</td>\n",
       "      <td>NaN</td>\n",
       "      <td>Краснодар</td>\n",
       "      <td>Рафаил</td>\n",
       "      <td>Верещагин</td>\n",
       "      <td>2018-05-25</td>\n",
       "      <td>ultra</td>\n",
       "      <td>5.0</td>\n",
       "      <td>3.0</td>\n",
       "      <td>22.0</td>\n",
       "      <td>159.0</td>\n",
       "      <td>22.0</td>\n",
       "    </tr>\n",
       "    <tr>\n",
       "      <th>1</th>\n",
       "      <td>1000</td>\n",
       "      <td>52</td>\n",
       "      <td>NaN</td>\n",
       "      <td>Краснодар</td>\n",
       "      <td>Рафаил</td>\n",
       "      <td>Верещагин</td>\n",
       "      <td>2018-05-25</td>\n",
       "      <td>ultra</td>\n",
       "      <td>6.0</td>\n",
       "      <td>23.0</td>\n",
       "      <td>43.0</td>\n",
       "      <td>172.0</td>\n",
       "      <td>60.0</td>\n",
       "    </tr>\n",
       "  </tbody>\n",
       "</table>\n",
       "</div>"
      ],
      "text/plain": [
       "   user_id  age churn_date       city first_name  last_name   reg_date tariff  \\\n",
       "0     1000   52        NaN  Краснодар     Рафаил  Верещагин 2018-05-25  ultra   \n",
       "1     1000   52        NaN  Краснодар     Рафаил  Верещагин 2018-05-25  ultra   \n",
       "\n",
       "   month  traffic_volume  calls_count  calls_duration  messages_count  \n",
       "0    5.0             3.0         22.0           159.0            22.0  \n",
       "1    6.0            23.0         43.0           172.0            60.0  "
      ]
     },
     "execution_count": 33,
     "metadata": {},
     "output_type": "execute_result"
    }
   ],
   "source": [
    "# объединяем df_users и df_cmi_pivot2 также методом join\n",
    "# параметру 'on' передаем значения df_users['user_id']\n",
    "# метод join будет искать совпадения этих значений с индексами df_cmi_pivot и объединять по ним\n",
    "\n",
    "df_cmiu_pivot = df_users.merge(df_cmi_pivot2,  on='user_id', how='outer')\n",
    "df_cmiu_pivot.head(2)"
   ]
  },
  {
   "cell_type": "code",
   "execution_count": 34,
   "metadata": {},
   "outputs": [],
   "source": [
    "# удалим столбцы, которые нам не пригодятся чтобы легче было ориентироваться в таблице\n",
    "\n",
    "df_cmiu_pivot = df_cmiu_pivot.drop(['churn_date', 'first_name', 'last_name', 'reg_date'], axis='columns')\n"
   ]
  },
  {
   "cell_type": "code",
   "execution_count": 35,
   "metadata": {},
   "outputs": [
    {
     "data": {
      "text/html": [
       "<div>\n",
       "<style scoped>\n",
       "    .dataframe tbody tr th:only-of-type {\n",
       "        vertical-align: middle;\n",
       "    }\n",
       "\n",
       "    .dataframe tbody tr th {\n",
       "        vertical-align: top;\n",
       "    }\n",
       "\n",
       "    .dataframe thead th {\n",
       "        text-align: right;\n",
       "    }\n",
       "</style>\n",
       "<table border=\"1\" class=\"dataframe\">\n",
       "  <thead>\n",
       "    <tr style=\"text-align: right;\">\n",
       "      <th></th>\n",
       "      <th>messages_included</th>\n",
       "      <th>mb_per_month_included</th>\n",
       "      <th>minutes_included</th>\n",
       "      <th>rub_monthly_fee</th>\n",
       "      <th>rub_per_gb</th>\n",
       "      <th>rub_per_message</th>\n",
       "      <th>rub_per_minute</th>\n",
       "      <th>tariff</th>\n",
       "    </tr>\n",
       "  </thead>\n",
       "  <tbody>\n",
       "    <tr>\n",
       "      <th>0</th>\n",
       "      <td>50</td>\n",
       "      <td>15360</td>\n",
       "      <td>500</td>\n",
       "      <td>550</td>\n",
       "      <td>200</td>\n",
       "      <td>3</td>\n",
       "      <td>3</td>\n",
       "      <td>smart</td>\n",
       "    </tr>\n",
       "    <tr>\n",
       "      <th>1</th>\n",
       "      <td>1000</td>\n",
       "      <td>30720</td>\n",
       "      <td>3000</td>\n",
       "      <td>1950</td>\n",
       "      <td>150</td>\n",
       "      <td>1</td>\n",
       "      <td>1</td>\n",
       "      <td>ultra</td>\n",
       "    </tr>\n",
       "  </tbody>\n",
       "</table>\n",
       "</div>"
      ],
      "text/plain": [
       "   messages_included  mb_per_month_included  minutes_included  \\\n",
       "0                 50                  15360               500   \n",
       "1               1000                  30720              3000   \n",
       "\n",
       "   rub_monthly_fee  rub_per_gb  rub_per_message  rub_per_minute tariff  \n",
       "0              550         200                3               3  smart  \n",
       "1             1950         150                1               1  ultra  "
      ]
     },
     "execution_count": 35,
     "metadata": {},
     "output_type": "execute_result"
    }
   ],
   "source": [
    "# добавим к df_cmiu_pivot информацию о тарифах из таблицы df_tariffs\n",
    "# объединим таблицы по колонке с названиями тарифов\n",
    "# для этого сначала в df_tariffs поменяем название нужного столбца на tariff\n",
    "\n",
    "df_tariffs.columns = ['messages_included', 'mb_per_month_included', 'minutes_included', 'rub_monthly_fee',\\\n",
    "                      'rub_per_gb', 'rub_per_message', 'rub_per_minute', 'tariff']\n",
    "df_tariffs"
   ]
  },
  {
   "cell_type": "code",
   "execution_count": 36,
   "metadata": {},
   "outputs": [
    {
     "data": {
      "text/html": [
       "<div>\n",
       "<style scoped>\n",
       "    .dataframe tbody tr th:only-of-type {\n",
       "        vertical-align: middle;\n",
       "    }\n",
       "\n",
       "    .dataframe tbody tr th {\n",
       "        vertical-align: top;\n",
       "    }\n",
       "\n",
       "    .dataframe thead th {\n",
       "        text-align: right;\n",
       "    }\n",
       "</style>\n",
       "<table border=\"1\" class=\"dataframe\">\n",
       "  <thead>\n",
       "    <tr style=\"text-align: right;\">\n",
       "      <th></th>\n",
       "      <th>user_id</th>\n",
       "      <th>age</th>\n",
       "      <th>city</th>\n",
       "      <th>tariff</th>\n",
       "      <th>month</th>\n",
       "      <th>traffic_volume</th>\n",
       "      <th>calls_count</th>\n",
       "      <th>calls_duration</th>\n",
       "      <th>messages_count</th>\n",
       "      <th>messages_included</th>\n",
       "      <th>mb_per_month_included</th>\n",
       "      <th>minutes_included</th>\n",
       "      <th>rub_monthly_fee</th>\n",
       "      <th>rub_per_gb</th>\n",
       "      <th>rub_per_message</th>\n",
       "      <th>rub_per_minute</th>\n",
       "    </tr>\n",
       "  </thead>\n",
       "  <tbody>\n",
       "    <tr>\n",
       "      <th>0</th>\n",
       "      <td>1000</td>\n",
       "      <td>52</td>\n",
       "      <td>Краснодар</td>\n",
       "      <td>ultra</td>\n",
       "      <td>5.0</td>\n",
       "      <td>3.0</td>\n",
       "      <td>22.0</td>\n",
       "      <td>159.0</td>\n",
       "      <td>22.0</td>\n",
       "      <td>1000</td>\n",
       "      <td>30720</td>\n",
       "      <td>3000</td>\n",
       "      <td>1950</td>\n",
       "      <td>150</td>\n",
       "      <td>1</td>\n",
       "      <td>1</td>\n",
       "    </tr>\n",
       "    <tr>\n",
       "      <th>1</th>\n",
       "      <td>1000</td>\n",
       "      <td>52</td>\n",
       "      <td>Краснодар</td>\n",
       "      <td>ultra</td>\n",
       "      <td>6.0</td>\n",
       "      <td>23.0</td>\n",
       "      <td>43.0</td>\n",
       "      <td>172.0</td>\n",
       "      <td>60.0</td>\n",
       "      <td>1000</td>\n",
       "      <td>30720</td>\n",
       "      <td>3000</td>\n",
       "      <td>1950</td>\n",
       "      <td>150</td>\n",
       "      <td>1</td>\n",
       "      <td>1</td>\n",
       "    </tr>\n",
       "    <tr>\n",
       "      <th>2</th>\n",
       "      <td>1000</td>\n",
       "      <td>52</td>\n",
       "      <td>Краснодар</td>\n",
       "      <td>ultra</td>\n",
       "      <td>7.0</td>\n",
       "      <td>14.0</td>\n",
       "      <td>47.0</td>\n",
       "      <td>340.0</td>\n",
       "      <td>75.0</td>\n",
       "      <td>1000</td>\n",
       "      <td>30720</td>\n",
       "      <td>3000</td>\n",
       "      <td>1950</td>\n",
       "      <td>150</td>\n",
       "      <td>1</td>\n",
       "      <td>1</td>\n",
       "    </tr>\n",
       "    <tr>\n",
       "      <th>3</th>\n",
       "      <td>1000</td>\n",
       "      <td>52</td>\n",
       "      <td>Краснодар</td>\n",
       "      <td>ultra</td>\n",
       "      <td>8.0</td>\n",
       "      <td>14.0</td>\n",
       "      <td>52.0</td>\n",
       "      <td>408.0</td>\n",
       "      <td>81.0</td>\n",
       "      <td>1000</td>\n",
       "      <td>30720</td>\n",
       "      <td>3000</td>\n",
       "      <td>1950</td>\n",
       "      <td>150</td>\n",
       "      <td>1</td>\n",
       "      <td>1</td>\n",
       "    </tr>\n",
       "    <tr>\n",
       "      <th>4</th>\n",
       "      <td>1000</td>\n",
       "      <td>52</td>\n",
       "      <td>Краснодар</td>\n",
       "      <td>ultra</td>\n",
       "      <td>9.0</td>\n",
       "      <td>15.0</td>\n",
       "      <td>58.0</td>\n",
       "      <td>466.0</td>\n",
       "      <td>57.0</td>\n",
       "      <td>1000</td>\n",
       "      <td>30720</td>\n",
       "      <td>3000</td>\n",
       "      <td>1950</td>\n",
       "      <td>150</td>\n",
       "      <td>1</td>\n",
       "      <td>1</td>\n",
       "    </tr>\n",
       "  </tbody>\n",
       "</table>\n",
       "</div>"
      ],
      "text/plain": [
       "   user_id  age       city tariff  month  traffic_volume  calls_count  \\\n",
       "0     1000   52  Краснодар  ultra    5.0             3.0         22.0   \n",
       "1     1000   52  Краснодар  ultra    6.0            23.0         43.0   \n",
       "2     1000   52  Краснодар  ultra    7.0            14.0         47.0   \n",
       "3     1000   52  Краснодар  ultra    8.0            14.0         52.0   \n",
       "4     1000   52  Краснодар  ultra    9.0            15.0         58.0   \n",
       "\n",
       "   calls_duration  messages_count  messages_included  mb_per_month_included  \\\n",
       "0           159.0            22.0               1000                  30720   \n",
       "1           172.0            60.0               1000                  30720   \n",
       "2           340.0            75.0               1000                  30720   \n",
       "3           408.0            81.0               1000                  30720   \n",
       "4           466.0            57.0               1000                  30720   \n",
       "\n",
       "   minutes_included  rub_monthly_fee  rub_per_gb  rub_per_message  \\\n",
       "0              3000             1950         150                1   \n",
       "1              3000             1950         150                1   \n",
       "2              3000             1950         150                1   \n",
       "3              3000             1950         150                1   \n",
       "4              3000             1950         150                1   \n",
       "\n",
       "   rub_per_minute  \n",
       "0               1  \n",
       "1               1  \n",
       "2               1  \n",
       "3               1  \n",
       "4               1  "
      ]
     },
     "execution_count": 36,
     "metadata": {},
     "output_type": "execute_result"
    }
   ],
   "source": [
    "# применим метод merge, параметру \"on\" передадим колонку с названиями тарифов, параметр \"how\" по умолчанию \"inner\"\n",
    "\n",
    "df_cmiu_pivot = df_cmiu_pivot.merge(df_tariffs, on='tariff')\n",
    "df_cmiu_pivot.head()"
   ]
  },
  {
   "cell_type": "markdown",
   "metadata": {},
   "source": [
    "### После объединения таблиц образовалось немало пропусков, особенно в messages_count. Это произошло из-за разницы в исходных данных (см. \"Общая информация о данных\"). Оставить как есть или отбросить их не вариант, т.к. в первом случае они повляют на дальнейшие расчеты, а во втором потеряем много данных. Поэтому заменим все пропуски на ноль."
   ]
  },
  {
   "cell_type": "code",
   "execution_count": 37,
   "metadata": {},
   "outputs": [
    {
     "data": {
      "text/plain": [
       "user_id                    0\n",
       "age                        0\n",
       "city                       0\n",
       "tariff                     0\n",
       "month                      2\n",
       "traffic_volume            13\n",
       "calls_count               42\n",
       "calls_duration            42\n",
       "messages_count           499\n",
       "messages_included          0\n",
       "mb_per_month_included      0\n",
       "minutes_included           0\n",
       "rub_monthly_fee            0\n",
       "rub_per_gb                 0\n",
       "rub_per_message            0\n",
       "rub_per_minute             0\n",
       "dtype: int64"
      ]
     },
     "execution_count": 37,
     "metadata": {},
     "output_type": "execute_result"
    }
   ],
   "source": [
    "# проверим на пропуски получившийся датафрейм\n",
    "\n",
    "df_cmiu_pivot.isnull().sum()"
   ]
  },
  {
   "cell_type": "code",
   "execution_count": 38,
   "metadata": {},
   "outputs": [
    {
     "data": {
      "text/html": [
       "<div>\n",
       "<style scoped>\n",
       "    .dataframe tbody tr th:only-of-type {\n",
       "        vertical-align: middle;\n",
       "    }\n",
       "\n",
       "    .dataframe tbody tr th {\n",
       "        vertical-align: top;\n",
       "    }\n",
       "\n",
       "    .dataframe thead th {\n",
       "        text-align: right;\n",
       "    }\n",
       "</style>\n",
       "<table border=\"1\" class=\"dataframe\">\n",
       "  <thead>\n",
       "    <tr style=\"text-align: right;\">\n",
       "      <th></th>\n",
       "      <th>user_id</th>\n",
       "      <th>age</th>\n",
       "      <th>city</th>\n",
       "      <th>tariff</th>\n",
       "      <th>month</th>\n",
       "      <th>traffic_volume</th>\n",
       "      <th>calls_count</th>\n",
       "      <th>calls_duration</th>\n",
       "      <th>messages_count</th>\n",
       "      <th>messages_included</th>\n",
       "      <th>mb_per_month_included</th>\n",
       "      <th>minutes_included</th>\n",
       "      <th>rub_monthly_fee</th>\n",
       "      <th>rub_per_gb</th>\n",
       "      <th>rub_per_message</th>\n",
       "      <th>rub_per_minute</th>\n",
       "    </tr>\n",
       "  </thead>\n",
       "  <tbody>\n",
       "    <tr>\n",
       "      <th>243</th>\n",
       "      <td>1128</td>\n",
       "      <td>51</td>\n",
       "      <td>Волжский</td>\n",
       "      <td>ultra</td>\n",
       "      <td>NaN</td>\n",
       "      <td>NaN</td>\n",
       "      <td>NaN</td>\n",
       "      <td>NaN</td>\n",
       "      <td>NaN</td>\n",
       "      <td>1000</td>\n",
       "      <td>30720</td>\n",
       "      <td>3000</td>\n",
       "      <td>1950</td>\n",
       "      <td>150</td>\n",
       "      <td>1</td>\n",
       "      <td>1</td>\n",
       "    </tr>\n",
       "    <tr>\n",
       "      <th>2619</th>\n",
       "      <td>1371</td>\n",
       "      <td>50</td>\n",
       "      <td>Омск</td>\n",
       "      <td>smart</td>\n",
       "      <td>NaN</td>\n",
       "      <td>NaN</td>\n",
       "      <td>NaN</td>\n",
       "      <td>NaN</td>\n",
       "      <td>NaN</td>\n",
       "      <td>50</td>\n",
       "      <td>15360</td>\n",
       "      <td>500</td>\n",
       "      <td>550</td>\n",
       "      <td>200</td>\n",
       "      <td>3</td>\n",
       "      <td>3</td>\n",
       "    </tr>\n",
       "  </tbody>\n",
       "</table>\n",
       "</div>"
      ],
      "text/plain": [
       "      user_id  age      city tariff  month  traffic_volume  calls_count  \\\n",
       "243      1128   51  Волжский  ultra    NaN             NaN          NaN   \n",
       "2619     1371   50      Омск  smart    NaN             NaN          NaN   \n",
       "\n",
       "      calls_duration  messages_count  messages_included  \\\n",
       "243              NaN             NaN               1000   \n",
       "2619             NaN             NaN                 50   \n",
       "\n",
       "      mb_per_month_included  minutes_included  rub_monthly_fee  rub_per_gb  \\\n",
       "243                   30720              3000             1950         150   \n",
       "2619                  15360               500              550         200   \n",
       "\n",
       "      rub_per_message  rub_per_minute  \n",
       "243                 1               1  \n",
       "2619                3               3  "
      ]
     },
     "execution_count": 38,
     "metadata": {},
     "output_type": "execute_result"
    }
   ],
   "source": [
    "# пропуски в колонке month заменить на ноль нельзя, всего три строки с пропусками, поэтому удалим их\n",
    "\n",
    "df_cmiu_pivot[df_cmiu_pivot['month'].isnull()]"
   ]
  },
  {
   "cell_type": "code",
   "execution_count": 39,
   "metadata": {},
   "outputs": [
    {
     "data": {
      "text/html": [
       "<div>\n",
       "<style scoped>\n",
       "    .dataframe tbody tr th:only-of-type {\n",
       "        vertical-align: middle;\n",
       "    }\n",
       "\n",
       "    .dataframe tbody tr th {\n",
       "        vertical-align: top;\n",
       "    }\n",
       "\n",
       "    .dataframe thead th {\n",
       "        text-align: right;\n",
       "    }\n",
       "</style>\n",
       "<table border=\"1\" class=\"dataframe\">\n",
       "  <thead>\n",
       "    <tr style=\"text-align: right;\">\n",
       "      <th></th>\n",
       "      <th>user_id</th>\n",
       "      <th>age</th>\n",
       "      <th>city</th>\n",
       "      <th>tariff</th>\n",
       "      <th>month</th>\n",
       "      <th>traffic_volume</th>\n",
       "      <th>calls_count</th>\n",
       "      <th>calls_duration</th>\n",
       "      <th>messages_count</th>\n",
       "      <th>messages_included</th>\n",
       "      <th>mb_per_month_included</th>\n",
       "      <th>minutes_included</th>\n",
       "      <th>rub_monthly_fee</th>\n",
       "      <th>rub_per_gb</th>\n",
       "      <th>rub_per_message</th>\n",
       "      <th>rub_per_minute</th>\n",
       "    </tr>\n",
       "  </thead>\n",
       "  <tbody>\n",
       "  </tbody>\n",
       "</table>\n",
       "</div>"
      ],
      "text/plain": [
       "Empty DataFrame\n",
       "Columns: [user_id, age, city, tariff, month, traffic_volume, calls_count, calls_duration, messages_count, messages_included, mb_per_month_included, minutes_included, rub_monthly_fee, rub_per_gb, rub_per_message, rub_per_minute]\n",
       "Index: []"
      ]
     },
     "execution_count": 39,
     "metadata": {},
     "output_type": "execute_result"
    }
   ],
   "source": [
    "df_cmiu_pivot = df_cmiu_pivot.dropna(subset=['month'])\n",
    "df_cmiu_pivot[df_cmiu_pivot['month'].isnull()]"
   ]
  },
  {
   "cell_type": "code",
   "execution_count": 40,
   "metadata": {
    "scrolled": true
   },
   "outputs": [
    {
     "data": {
      "text/plain": [
       "user_id                  0\n",
       "age                      0\n",
       "city                     0\n",
       "tariff                   0\n",
       "month                    0\n",
       "traffic_volume           0\n",
       "calls_count              0\n",
       "calls_duration           0\n",
       "messages_count           0\n",
       "messages_included        0\n",
       "mb_per_month_included    0\n",
       "minutes_included         0\n",
       "rub_monthly_fee          0\n",
       "rub_per_gb               0\n",
       "rub_per_message          0\n",
       "rub_per_minute           0\n",
       "dtype: int64"
      ]
     },
     "execution_count": 40,
     "metadata": {},
     "output_type": "execute_result"
    }
   ],
   "source": [
    "# остальные пропуски заменим на ноль\n",
    "\n",
    "df_cmiu_pivot = df_cmiu_pivot.fillna(0)\n",
    "df_cmiu_pivot.isnull().sum()"
   ]
  },
  {
   "cell_type": "markdown",
   "metadata": {},
   "source": [
    "### Рассчитаем помесячную выручку при помощи функции total_bill_monthly, в которой в качестве pd.Series будет выступать строка датафрейма."
   ]
  },
  {
   "cell_type": "code",
   "execution_count": 41,
   "metadata": {},
   "outputs": [],
   "source": [
    "def total_bill_monthly(row):\n",
    "    \n",
    "# определим переменные\n",
    "    \n",
    "    bill_minutes = 0\n",
    "    bill_sms = 0\n",
    "    bill_traffic = 0\n",
    "    minutes = row['calls_duration']\n",
    "    sms = row['messages_count']\n",
    "    traffic = row['traffic_volume']\n",
    "    tariff = row['tariff']\n",
    "    minutes_limit = row['minutes_included']\n",
    "    sms_limit = row['messages_included']\n",
    "    traffic_limit = row['mb_per_month_included']\n",
    "    monthly_fee = row['rub_monthly_fee']\n",
    "    rub_per_gb = row['rub_per_gb']\n",
    "    rub_per_message = row['rub_per_message']\n",
    "    rub_per_minute = row['rub_per_minute']\n",
    "    traffic_limit = traffic_limit/1024\n",
    "\n",
    "# проверим разницу между суммарными значениями звонков, сообщений, трафика и бесплатным лимитом тарифа\n",
    "# если эта разница меньше нуля, то возвращаем ноль - клиент не израсходовал бесплатный лимит\n",
    "# если больше - то разницу умножаем на стоимость сверх тарифного плана\n",
    "    \n",
    "    if minutes > minutes_limit:\n",
    "        bill_minutes += (minutes - minutes_limit) * rub_per_minute\n",
    "    if sms > sms_limit:\n",
    "        bill_sms += (sms - sms_limit) * rub_per_message\n",
    "    if traffic > traffic_limit:\n",
    "        bill_traffic += (np.ceil(traffic - traffic_limit)) * rub_per_gb# округляем мегабайты вверх до гигабайт\n",
    "\n",
    "        \n",
    "# функция возвращает итоговый счет за месяц для клиента,\n",
    "# в котором к сумме счетов за отдельные категории услуг прибавляется абонентская плата за тариф\n",
    "        \n",
    "    return bill_minutes + bill_sms + bill_traffic + monthly_fee"
   ]
  },
  {
   "cell_type": "code",
   "execution_count": 43,
   "metadata": {},
   "outputs": [
    {
     "data": {
      "text/html": [
       "<div>\n",
       "<style scoped>\n",
       "    .dataframe tbody tr th:only-of-type {\n",
       "        vertical-align: middle;\n",
       "    }\n",
       "\n",
       "    .dataframe tbody tr th {\n",
       "        vertical-align: top;\n",
       "    }\n",
       "\n",
       "    .dataframe thead th {\n",
       "        text-align: right;\n",
       "    }\n",
       "</style>\n",
       "<table border=\"1\" class=\"dataframe\">\n",
       "  <thead>\n",
       "    <tr style=\"text-align: right;\">\n",
       "      <th></th>\n",
       "      <th>user_id</th>\n",
       "      <th>age</th>\n",
       "      <th>city</th>\n",
       "      <th>tariff</th>\n",
       "      <th>month</th>\n",
       "      <th>traffic_volume</th>\n",
       "      <th>calls_count</th>\n",
       "      <th>calls_duration</th>\n",
       "      <th>messages_count</th>\n",
       "      <th>messages_included</th>\n",
       "      <th>mb_per_month_included</th>\n",
       "      <th>minutes_included</th>\n",
       "      <th>rub_monthly_fee</th>\n",
       "      <th>rub_per_gb</th>\n",
       "      <th>rub_per_message</th>\n",
       "      <th>rub_per_minute</th>\n",
       "      <th>total_bill</th>\n",
       "    </tr>\n",
       "  </thead>\n",
       "  <tbody>\n",
       "    <tr>\n",
       "      <th>0</th>\n",
       "      <td>1000</td>\n",
       "      <td>52</td>\n",
       "      <td>Краснодар</td>\n",
       "      <td>ultra</td>\n",
       "      <td>5.0</td>\n",
       "      <td>3.0</td>\n",
       "      <td>22.0</td>\n",
       "      <td>159.0</td>\n",
       "      <td>22.0</td>\n",
       "      <td>1000</td>\n",
       "      <td>30720</td>\n",
       "      <td>3000</td>\n",
       "      <td>1950</td>\n",
       "      <td>150</td>\n",
       "      <td>1</td>\n",
       "      <td>1</td>\n",
       "      <td>1950.0</td>\n",
       "    </tr>\n",
       "    <tr>\n",
       "      <th>1</th>\n",
       "      <td>1000</td>\n",
       "      <td>52</td>\n",
       "      <td>Краснодар</td>\n",
       "      <td>ultra</td>\n",
       "      <td>6.0</td>\n",
       "      <td>23.0</td>\n",
       "      <td>43.0</td>\n",
       "      <td>172.0</td>\n",
       "      <td>60.0</td>\n",
       "      <td>1000</td>\n",
       "      <td>30720</td>\n",
       "      <td>3000</td>\n",
       "      <td>1950</td>\n",
       "      <td>150</td>\n",
       "      <td>1</td>\n",
       "      <td>1</td>\n",
       "      <td>1950.0</td>\n",
       "    </tr>\n",
       "    <tr>\n",
       "      <th>2</th>\n",
       "      <td>1000</td>\n",
       "      <td>52</td>\n",
       "      <td>Краснодар</td>\n",
       "      <td>ultra</td>\n",
       "      <td>7.0</td>\n",
       "      <td>14.0</td>\n",
       "      <td>47.0</td>\n",
       "      <td>340.0</td>\n",
       "      <td>75.0</td>\n",
       "      <td>1000</td>\n",
       "      <td>30720</td>\n",
       "      <td>3000</td>\n",
       "      <td>1950</td>\n",
       "      <td>150</td>\n",
       "      <td>1</td>\n",
       "      <td>1</td>\n",
       "      <td>1950.0</td>\n",
       "    </tr>\n",
       "    <tr>\n",
       "      <th>3</th>\n",
       "      <td>1000</td>\n",
       "      <td>52</td>\n",
       "      <td>Краснодар</td>\n",
       "      <td>ultra</td>\n",
       "      <td>8.0</td>\n",
       "      <td>14.0</td>\n",
       "      <td>52.0</td>\n",
       "      <td>408.0</td>\n",
       "      <td>81.0</td>\n",
       "      <td>1000</td>\n",
       "      <td>30720</td>\n",
       "      <td>3000</td>\n",
       "      <td>1950</td>\n",
       "      <td>150</td>\n",
       "      <td>1</td>\n",
       "      <td>1</td>\n",
       "      <td>1950.0</td>\n",
       "    </tr>\n",
       "    <tr>\n",
       "      <th>4</th>\n",
       "      <td>1000</td>\n",
       "      <td>52</td>\n",
       "      <td>Краснодар</td>\n",
       "      <td>ultra</td>\n",
       "      <td>9.0</td>\n",
       "      <td>15.0</td>\n",
       "      <td>58.0</td>\n",
       "      <td>466.0</td>\n",
       "      <td>57.0</td>\n",
       "      <td>1000</td>\n",
       "      <td>30720</td>\n",
       "      <td>3000</td>\n",
       "      <td>1950</td>\n",
       "      <td>150</td>\n",
       "      <td>1</td>\n",
       "      <td>1</td>\n",
       "      <td>1950.0</td>\n",
       "    </tr>\n",
       "    <tr>\n",
       "      <th>...</th>\n",
       "      <td>...</td>\n",
       "      <td>...</td>\n",
       "      <td>...</td>\n",
       "      <td>...</td>\n",
       "      <td>...</td>\n",
       "      <td>...</td>\n",
       "      <td>...</td>\n",
       "      <td>...</td>\n",
       "      <td>...</td>\n",
       "      <td>...</td>\n",
       "      <td>...</td>\n",
       "      <td>...</td>\n",
       "      <td>...</td>\n",
       "      <td>...</td>\n",
       "      <td>...</td>\n",
       "      <td>...</td>\n",
       "      <td>...</td>\n",
       "    </tr>\n",
       "    <tr>\n",
       "      <th>3211</th>\n",
       "      <td>1498</td>\n",
       "      <td>68</td>\n",
       "      <td>Владикавказ</td>\n",
       "      <td>smart</td>\n",
       "      <td>10.0</td>\n",
       "      <td>21.0</td>\n",
       "      <td>41.0</td>\n",
       "      <td>247.0</td>\n",
       "      <td>42.0</td>\n",
       "      <td>50</td>\n",
       "      <td>15360</td>\n",
       "      <td>500</td>\n",
       "      <td>550</td>\n",
       "      <td>200</td>\n",
       "      <td>3</td>\n",
       "      <td>3</td>\n",
       "      <td>1750.0</td>\n",
       "    </tr>\n",
       "    <tr>\n",
       "      <th>3212</th>\n",
       "      <td>1499</td>\n",
       "      <td>35</td>\n",
       "      <td>Пермь</td>\n",
       "      <td>smart</td>\n",
       "      <td>9.0</td>\n",
       "      <td>2.0</td>\n",
       "      <td>9.0</td>\n",
       "      <td>70.0</td>\n",
       "      <td>11.0</td>\n",
       "      <td>50</td>\n",
       "      <td>15360</td>\n",
       "      <td>500</td>\n",
       "      <td>550</td>\n",
       "      <td>200</td>\n",
       "      <td>3</td>\n",
       "      <td>3</td>\n",
       "      <td>550.0</td>\n",
       "    </tr>\n",
       "    <tr>\n",
       "      <th>3213</th>\n",
       "      <td>1499</td>\n",
       "      <td>35</td>\n",
       "      <td>Пермь</td>\n",
       "      <td>smart</td>\n",
       "      <td>10.0</td>\n",
       "      <td>18.0</td>\n",
       "      <td>68.0</td>\n",
       "      <td>449.0</td>\n",
       "      <td>48.0</td>\n",
       "      <td>50</td>\n",
       "      <td>15360</td>\n",
       "      <td>500</td>\n",
       "      <td>550</td>\n",
       "      <td>200</td>\n",
       "      <td>3</td>\n",
       "      <td>3</td>\n",
       "      <td>1150.0</td>\n",
       "    </tr>\n",
       "    <tr>\n",
       "      <th>3214</th>\n",
       "      <td>1499</td>\n",
       "      <td>35</td>\n",
       "      <td>Пермь</td>\n",
       "      <td>smart</td>\n",
       "      <td>11.0</td>\n",
       "      <td>18.0</td>\n",
       "      <td>74.0</td>\n",
       "      <td>612.0</td>\n",
       "      <td>59.0</td>\n",
       "      <td>50</td>\n",
       "      <td>15360</td>\n",
       "      <td>500</td>\n",
       "      <td>550</td>\n",
       "      <td>200</td>\n",
       "      <td>3</td>\n",
       "      <td>3</td>\n",
       "      <td>1513.0</td>\n",
       "    </tr>\n",
       "    <tr>\n",
       "      <th>3215</th>\n",
       "      <td>1499</td>\n",
       "      <td>35</td>\n",
       "      <td>Пермь</td>\n",
       "      <td>smart</td>\n",
       "      <td>12.0</td>\n",
       "      <td>13.0</td>\n",
       "      <td>69.0</td>\n",
       "      <td>492.0</td>\n",
       "      <td>66.0</td>\n",
       "      <td>50</td>\n",
       "      <td>15360</td>\n",
       "      <td>500</td>\n",
       "      <td>550</td>\n",
       "      <td>200</td>\n",
       "      <td>3</td>\n",
       "      <td>3</td>\n",
       "      <td>598.0</td>\n",
       "    </tr>\n",
       "  </tbody>\n",
       "</table>\n",
       "<p>3214 rows × 17 columns</p>\n",
       "</div>"
      ],
      "text/plain": [
       "      user_id  age         city tariff  month  traffic_volume  calls_count  \\\n",
       "0        1000   52    Краснодар  ultra    5.0             3.0         22.0   \n",
       "1        1000   52    Краснодар  ultra    6.0            23.0         43.0   \n",
       "2        1000   52    Краснодар  ultra    7.0            14.0         47.0   \n",
       "3        1000   52    Краснодар  ultra    8.0            14.0         52.0   \n",
       "4        1000   52    Краснодар  ultra    9.0            15.0         58.0   \n",
       "...       ...  ...          ...    ...    ...             ...          ...   \n",
       "3211     1498   68  Владикавказ  smart   10.0            21.0         41.0   \n",
       "3212     1499   35        Пермь  smart    9.0             2.0          9.0   \n",
       "3213     1499   35        Пермь  smart   10.0            18.0         68.0   \n",
       "3214     1499   35        Пермь  smart   11.0            18.0         74.0   \n",
       "3215     1499   35        Пермь  smart   12.0            13.0         69.0   \n",
       "\n",
       "      calls_duration  messages_count  messages_included  \\\n",
       "0              159.0            22.0               1000   \n",
       "1              172.0            60.0               1000   \n",
       "2              340.0            75.0               1000   \n",
       "3              408.0            81.0               1000   \n",
       "4              466.0            57.0               1000   \n",
       "...              ...             ...                ...   \n",
       "3211           247.0            42.0                 50   \n",
       "3212            70.0            11.0                 50   \n",
       "3213           449.0            48.0                 50   \n",
       "3214           612.0            59.0                 50   \n",
       "3215           492.0            66.0                 50   \n",
       "\n",
       "      mb_per_month_included  minutes_included  rub_monthly_fee  rub_per_gb  \\\n",
       "0                     30720              3000             1950         150   \n",
       "1                     30720              3000             1950         150   \n",
       "2                     30720              3000             1950         150   \n",
       "3                     30720              3000             1950         150   \n",
       "4                     30720              3000             1950         150   \n",
       "...                     ...               ...              ...         ...   \n",
       "3211                  15360               500              550         200   \n",
       "3212                  15360               500              550         200   \n",
       "3213                  15360               500              550         200   \n",
       "3214                  15360               500              550         200   \n",
       "3215                  15360               500              550         200   \n",
       "\n",
       "      rub_per_message  rub_per_minute  total_bill  \n",
       "0                   1               1      1950.0  \n",
       "1                   1               1      1950.0  \n",
       "2                   1               1      1950.0  \n",
       "3                   1               1      1950.0  \n",
       "4                   1               1      1950.0  \n",
       "...               ...             ...         ...  \n",
       "3211                3               3      1750.0  \n",
       "3212                3               3       550.0  \n",
       "3213                3               3      1150.0  \n",
       "3214                3               3      1513.0  \n",
       "3215                3               3       598.0  \n",
       "\n",
       "[3214 rows x 17 columns]"
      ]
     },
     "execution_count": 43,
     "metadata": {},
     "output_type": "execute_result"
    }
   ],
   "source": [
    "# применим функцию к датафрейму\n",
    "# метод apply() применяем в нашем случае ко всему датафрейму\n",
    "# Чтобы на вход в функцию отправлялись строки, указываем параметр axis = 1 метода apply()\n",
    "\n",
    "df_cmiu_pivot['total_bill'] = df_cmiu_pivot.apply(total_bill_monthly, axis=1)\n",
    "df_cmiu_pivot"
   ]
  },
  {
   "cell_type": "markdown",
   "metadata": {},
   "source": [
    "##### –––––––––––– Начало ячеек ревьюера  ––––––––––––"
   ]
  },
  {
   "cell_type": "code",
   "execution_count": 44,
   "metadata": {},
   "outputs": [
    {
     "data": {
      "text/plain": [
       "array([1950., 3900., 2850., 2700., 4800., 3300., 2400., 2550., 2250.,\n",
       "       3150., 3750., 3000., 2100., 3450., 3600., 4650., 4200., 4050.])"
      ]
     },
     "execution_count": 44,
     "metadata": {},
     "output_type": "execute_result"
    }
   ],
   "source": [
    "df_cmiu_pivot[df_cmiu_pivot.tariff == 'ultra']['total_bill'].unique()"
   ]
  },
  {
   "cell_type": "markdown",
   "metadata": {},
   "source": [
    "<font color='darkorange'>В нынешней таблице у тарифа Ультра всегда одно значения выручки - 1950. Если же мы приведем лимит в гигабайты, увидим другую картину<font>"
   ]
  },
  {
   "cell_type": "code",
   "execution_count": 45,
   "metadata": {},
   "outputs": [
    {
     "data": {
      "text/html": [
       "<div>\n",
       "<style scoped>\n",
       "    .dataframe tbody tr th:only-of-type {\n",
       "        vertical-align: middle;\n",
       "    }\n",
       "\n",
       "    .dataframe tbody tr th {\n",
       "        vertical-align: top;\n",
       "    }\n",
       "\n",
       "    .dataframe thead th {\n",
       "        text-align: right;\n",
       "    }\n",
       "</style>\n",
       "<table border=\"1\" class=\"dataframe\">\n",
       "  <thead>\n",
       "    <tr style=\"text-align: right;\">\n",
       "      <th></th>\n",
       "      <th>user_id</th>\n",
       "      <th>age</th>\n",
       "      <th>city</th>\n",
       "      <th>tariff</th>\n",
       "      <th>month</th>\n",
       "      <th>traffic_volume</th>\n",
       "      <th>calls_count</th>\n",
       "      <th>calls_duration</th>\n",
       "      <th>messages_count</th>\n",
       "      <th>messages_included</th>\n",
       "      <th>mb_per_month_included</th>\n",
       "      <th>minutes_included</th>\n",
       "      <th>rub_monthly_fee</th>\n",
       "      <th>rub_per_gb</th>\n",
       "      <th>rub_per_message</th>\n",
       "      <th>rub_per_minute</th>\n",
       "      <th>total_bill</th>\n",
       "    </tr>\n",
       "  </thead>\n",
       "  <tbody>\n",
       "    <tr>\n",
       "      <th>50</th>\n",
       "      <td>1024</td>\n",
       "      <td>73</td>\n",
       "      <td>Санкт-Петербург</td>\n",
       "      <td>ultra</td>\n",
       "      <td>11.0</td>\n",
       "      <td>43.0</td>\n",
       "      <td>157.0</td>\n",
       "      <td>1146.0</td>\n",
       "      <td>0.0</td>\n",
       "      <td>1000</td>\n",
       "      <td>30720</td>\n",
       "      <td>3000</td>\n",
       "      <td>1950</td>\n",
       "      <td>150</td>\n",
       "      <td>1</td>\n",
       "      <td>1</td>\n",
       "      <td>3900.0</td>\n",
       "    </tr>\n",
       "    <tr>\n",
       "      <th>51</th>\n",
       "      <td>1024</td>\n",
       "      <td>73</td>\n",
       "      <td>Санкт-Петербург</td>\n",
       "      <td>ultra</td>\n",
       "      <td>12.0</td>\n",
       "      <td>36.0</td>\n",
       "      <td>136.0</td>\n",
       "      <td>949.0</td>\n",
       "      <td>0.0</td>\n",
       "      <td>1000</td>\n",
       "      <td>30720</td>\n",
       "      <td>3000</td>\n",
       "      <td>1950</td>\n",
       "      <td>150</td>\n",
       "      <td>1</td>\n",
       "      <td>1</td>\n",
       "      <td>2850.0</td>\n",
       "    </tr>\n",
       "    <tr>\n",
       "      <th>78</th>\n",
       "      <td>1050</td>\n",
       "      <td>44</td>\n",
       "      <td>Тюмень</td>\n",
       "      <td>ultra</td>\n",
       "      <td>7.0</td>\n",
       "      <td>35.0</td>\n",
       "      <td>35.0</td>\n",
       "      <td>209.0</td>\n",
       "      <td>52.0</td>\n",
       "      <td>1000</td>\n",
       "      <td>30720</td>\n",
       "      <td>3000</td>\n",
       "      <td>1950</td>\n",
       "      <td>150</td>\n",
       "      <td>1</td>\n",
       "      <td>1</td>\n",
       "      <td>2700.0</td>\n",
       "    </tr>\n",
       "    <tr>\n",
       "      <th>97</th>\n",
       "      <td>1060</td>\n",
       "      <td>46</td>\n",
       "      <td>Калуга</td>\n",
       "      <td>ultra</td>\n",
       "      <td>12.0</td>\n",
       "      <td>43.0</td>\n",
       "      <td>184.0</td>\n",
       "      <td>1233.0</td>\n",
       "      <td>52.0</td>\n",
       "      <td>1000</td>\n",
       "      <td>30720</td>\n",
       "      <td>3000</td>\n",
       "      <td>1950</td>\n",
       "      <td>150</td>\n",
       "      <td>1</td>\n",
       "      <td>1</td>\n",
       "      <td>3900.0</td>\n",
       "    </tr>\n",
       "    <tr>\n",
       "      <th>228</th>\n",
       "      <td>1124</td>\n",
       "      <td>54</td>\n",
       "      <td>Махачкала</td>\n",
       "      <td>ultra</td>\n",
       "      <td>10.0</td>\n",
       "      <td>49.0</td>\n",
       "      <td>152.0</td>\n",
       "      <td>1225.0</td>\n",
       "      <td>121.0</td>\n",
       "      <td>1000</td>\n",
       "      <td>30720</td>\n",
       "      <td>3000</td>\n",
       "      <td>1950</td>\n",
       "      <td>150</td>\n",
       "      <td>1</td>\n",
       "      <td>1</td>\n",
       "      <td>4800.0</td>\n",
       "    </tr>\n",
       "    <tr>\n",
       "      <th>...</th>\n",
       "      <td>...</td>\n",
       "      <td>...</td>\n",
       "      <td>...</td>\n",
       "      <td>...</td>\n",
       "      <td>...</td>\n",
       "      <td>...</td>\n",
       "      <td>...</td>\n",
       "      <td>...</td>\n",
       "      <td>...</td>\n",
       "      <td>...</td>\n",
       "      <td>...</td>\n",
       "      <td>...</td>\n",
       "      <td>...</td>\n",
       "      <td>...</td>\n",
       "      <td>...</td>\n",
       "      <td>...</td>\n",
       "      <td>...</td>\n",
       "    </tr>\n",
       "    <tr>\n",
       "      <th>3209</th>\n",
       "      <td>1498</td>\n",
       "      <td>68</td>\n",
       "      <td>Владикавказ</td>\n",
       "      <td>smart</td>\n",
       "      <td>8.0</td>\n",
       "      <td>24.0</td>\n",
       "      <td>57.0</td>\n",
       "      <td>400.0</td>\n",
       "      <td>62.0</td>\n",
       "      <td>50</td>\n",
       "      <td>15360</td>\n",
       "      <td>500</td>\n",
       "      <td>550</td>\n",
       "      <td>200</td>\n",
       "      <td>3</td>\n",
       "      <td>3</td>\n",
       "      <td>2386.0</td>\n",
       "    </tr>\n",
       "    <tr>\n",
       "      <th>3210</th>\n",
       "      <td>1498</td>\n",
       "      <td>68</td>\n",
       "      <td>Владикавказ</td>\n",
       "      <td>smart</td>\n",
       "      <td>9.0</td>\n",
       "      <td>22.0</td>\n",
       "      <td>59.0</td>\n",
       "      <td>471.0</td>\n",
       "      <td>44.0</td>\n",
       "      <td>50</td>\n",
       "      <td>15360</td>\n",
       "      <td>500</td>\n",
       "      <td>550</td>\n",
       "      <td>200</td>\n",
       "      <td>3</td>\n",
       "      <td>3</td>\n",
       "      <td>1950.0</td>\n",
       "    </tr>\n",
       "    <tr>\n",
       "      <th>3211</th>\n",
       "      <td>1498</td>\n",
       "      <td>68</td>\n",
       "      <td>Владикавказ</td>\n",
       "      <td>smart</td>\n",
       "      <td>10.0</td>\n",
       "      <td>21.0</td>\n",
       "      <td>41.0</td>\n",
       "      <td>247.0</td>\n",
       "      <td>42.0</td>\n",
       "      <td>50</td>\n",
       "      <td>15360</td>\n",
       "      <td>500</td>\n",
       "      <td>550</td>\n",
       "      <td>200</td>\n",
       "      <td>3</td>\n",
       "      <td>3</td>\n",
       "      <td>1750.0</td>\n",
       "    </tr>\n",
       "    <tr>\n",
       "      <th>3213</th>\n",
       "      <td>1499</td>\n",
       "      <td>35</td>\n",
       "      <td>Пермь</td>\n",
       "      <td>smart</td>\n",
       "      <td>10.0</td>\n",
       "      <td>18.0</td>\n",
       "      <td>68.0</td>\n",
       "      <td>449.0</td>\n",
       "      <td>48.0</td>\n",
       "      <td>50</td>\n",
       "      <td>15360</td>\n",
       "      <td>500</td>\n",
       "      <td>550</td>\n",
       "      <td>200</td>\n",
       "      <td>3</td>\n",
       "      <td>3</td>\n",
       "      <td>1150.0</td>\n",
       "    </tr>\n",
       "    <tr>\n",
       "      <th>3214</th>\n",
       "      <td>1499</td>\n",
       "      <td>35</td>\n",
       "      <td>Пермь</td>\n",
       "      <td>smart</td>\n",
       "      <td>11.0</td>\n",
       "      <td>18.0</td>\n",
       "      <td>74.0</td>\n",
       "      <td>612.0</td>\n",
       "      <td>59.0</td>\n",
       "      <td>50</td>\n",
       "      <td>15360</td>\n",
       "      <td>500</td>\n",
       "      <td>550</td>\n",
       "      <td>200</td>\n",
       "      <td>3</td>\n",
       "      <td>3</td>\n",
       "      <td>1513.0</td>\n",
       "    </tr>\n",
       "  </tbody>\n",
       "</table>\n",
       "<p>1438 rows × 17 columns</p>\n",
       "</div>"
      ],
      "text/plain": [
       "      user_id  age             city tariff  month  traffic_volume  \\\n",
       "50       1024   73  Санкт-Петербург  ultra   11.0            43.0   \n",
       "51       1024   73  Санкт-Петербург  ultra   12.0            36.0   \n",
       "78       1050   44           Тюмень  ultra    7.0            35.0   \n",
       "97       1060   46           Калуга  ultra   12.0            43.0   \n",
       "228      1124   54        Махачкала  ultra   10.0            49.0   \n",
       "...       ...  ...              ...    ...    ...             ...   \n",
       "3209     1498   68      Владикавказ  smart    8.0            24.0   \n",
       "3210     1498   68      Владикавказ  smart    9.0            22.0   \n",
       "3211     1498   68      Владикавказ  smart   10.0            21.0   \n",
       "3213     1499   35            Пермь  smart   10.0            18.0   \n",
       "3214     1499   35            Пермь  smart   11.0            18.0   \n",
       "\n",
       "      calls_count  calls_duration  messages_count  messages_included  \\\n",
       "50          157.0          1146.0             0.0               1000   \n",
       "51          136.0           949.0             0.0               1000   \n",
       "78           35.0           209.0            52.0               1000   \n",
       "97          184.0          1233.0            52.0               1000   \n",
       "228         152.0          1225.0           121.0               1000   \n",
       "...           ...             ...             ...                ...   \n",
       "3209         57.0           400.0            62.0                 50   \n",
       "3210         59.0           471.0            44.0                 50   \n",
       "3211         41.0           247.0            42.0                 50   \n",
       "3213         68.0           449.0            48.0                 50   \n",
       "3214         74.0           612.0            59.0                 50   \n",
       "\n",
       "      mb_per_month_included  minutes_included  rub_monthly_fee  rub_per_gb  \\\n",
       "50                    30720              3000             1950         150   \n",
       "51                    30720              3000             1950         150   \n",
       "78                    30720              3000             1950         150   \n",
       "97                    30720              3000             1950         150   \n",
       "228                   30720              3000             1950         150   \n",
       "...                     ...               ...              ...         ...   \n",
       "3209                  15360               500              550         200   \n",
       "3210                  15360               500              550         200   \n",
       "3211                  15360               500              550         200   \n",
       "3213                  15360               500              550         200   \n",
       "3214                  15360               500              550         200   \n",
       "\n",
       "      rub_per_message  rub_per_minute  total_bill  \n",
       "50                  1               1      3900.0  \n",
       "51                  1               1      2850.0  \n",
       "78                  1               1      2700.0  \n",
       "97                  1               1      3900.0  \n",
       "228                 1               1      4800.0  \n",
       "...               ...             ...         ...  \n",
       "3209                3               3      2386.0  \n",
       "3210                3               3      1950.0  \n",
       "3211                3               3      1750.0  \n",
       "3213                3               3      1150.0  \n",
       "3214                3               3      1513.0  \n",
       "\n",
       "[1438 rows x 17 columns]"
      ]
     },
     "execution_count": 45,
     "metadata": {},
     "output_type": "execute_result"
    }
   ],
   "source": [
    "df_cmiu_pivot[df_cmiu_pivot.traffic_volume > df_cmiu_pivot.mb_per_month_included/1024]"
   ]
  },
  {
   "cell_type": "markdown",
   "metadata": {},
   "source": [
    "### Анализ\n",
    "Чтобы посмотреть поведение клиентов посчитаем помесячную сумму исследуемых параметров для всех пользователей:"
   ]
  },
  {
   "cell_type": "code",
   "execution_count": 46,
   "metadata": {},
   "outputs": [
    {
     "data": {
      "text/html": [
       "<div>\n",
       "<style scoped>\n",
       "    .dataframe tbody tr th:only-of-type {\n",
       "        vertical-align: middle;\n",
       "    }\n",
       "\n",
       "    .dataframe tbody tr th {\n",
       "        vertical-align: top;\n",
       "    }\n",
       "\n",
       "    .dataframe thead th {\n",
       "        text-align: right;\n",
       "    }\n",
       "</style>\n",
       "<table border=\"1\" class=\"dataframe\">\n",
       "  <thead>\n",
       "    <tr style=\"text-align: right;\">\n",
       "      <th></th>\n",
       "      <th>month</th>\n",
       "      <th>calls_count</th>\n",
       "      <th>calls_duration</th>\n",
       "      <th>messages_count</th>\n",
       "      <th>total_bill</th>\n",
       "      <th>traffic_volume</th>\n",
       "    </tr>\n",
       "    <tr>\n",
       "      <th>tariff</th>\n",
       "      <th></th>\n",
       "      <th></th>\n",
       "      <th></th>\n",
       "      <th></th>\n",
       "      <th></th>\n",
       "      <th></th>\n",
       "    </tr>\n",
       "  </thead>\n",
       "  <tbody>\n",
       "    <tr>\n",
       "      <th>smart</th>\n",
       "      <td>1.0</td>\n",
       "      <td>941.0</td>\n",
       "      <td>6931.0</td>\n",
       "      <td>620.0</td>\n",
       "      <td>24525.0</td>\n",
       "      <td>297.0</td>\n",
       "    </tr>\n",
       "    <tr>\n",
       "      <th>smart</th>\n",
       "      <td>2.0</td>\n",
       "      <td>2331.0</td>\n",
       "      <td>17324.0</td>\n",
       "      <td>1397.0</td>\n",
       "      <td>48001.0</td>\n",
       "      <td>687.0</td>\n",
       "    </tr>\n",
       "    <tr>\n",
       "      <th>smart</th>\n",
       "      <td>3.0</td>\n",
       "      <td>4183.0</td>\n",
       "      <td>30034.0</td>\n",
       "      <td>2453.0</td>\n",
       "      <td>89676.0</td>\n",
       "      <td>1173.0</td>\n",
       "    </tr>\n",
       "    <tr>\n",
       "      <th>smart</th>\n",
       "      <td>4.0</td>\n",
       "      <td>5747.0</td>\n",
       "      <td>41119.0</td>\n",
       "      <td>3443.0</td>\n",
       "      <td>107866.0</td>\n",
       "      <td>1526.0</td>\n",
       "    </tr>\n",
       "    <tr>\n",
       "      <th>smart</th>\n",
       "      <td>5.0</td>\n",
       "      <td>7789.0</td>\n",
       "      <td>54618.0</td>\n",
       "      <td>4762.0</td>\n",
       "      <td>168849.0</td>\n",
       "      <td>2243.0</td>\n",
       "    </tr>\n",
       "    <tr>\n",
       "      <th>smart</th>\n",
       "      <td>6.0</td>\n",
       "      <td>9110.0</td>\n",
       "      <td>64885.0</td>\n",
       "      <td>5478.0</td>\n",
       "      <td>197459.0</td>\n",
       "      <td>2616.0</td>\n",
       "    </tr>\n",
       "    <tr>\n",
       "      <th>smart</th>\n",
       "      <td>7.0</td>\n",
       "      <td>11402.0</td>\n",
       "      <td>82079.0</td>\n",
       "      <td>6784.0</td>\n",
       "      <td>246014.0</td>\n",
       "      <td>3191.0</td>\n",
       "    </tr>\n",
       "    <tr>\n",
       "      <th>smart</th>\n",
       "      <td>8.0</td>\n",
       "      <td>13860.0</td>\n",
       "      <td>99045.0</td>\n",
       "      <td>7905.0</td>\n",
       "      <td>310340.0</td>\n",
       "      <td>3933.0</td>\n",
       "    </tr>\n",
       "    <tr>\n",
       "      <th>smart</th>\n",
       "      <td>9.0</td>\n",
       "      <td>15482.0</td>\n",
       "      <td>111439.0</td>\n",
       "      <td>8746.0</td>\n",
       "      <td>324986.0</td>\n",
       "      <td>4262.0</td>\n",
       "    </tr>\n",
       "    <tr>\n",
       "      <th>smart</th>\n",
       "      <td>10.0</td>\n",
       "      <td>17629.0</td>\n",
       "      <td>125284.0</td>\n",
       "      <td>9927.0</td>\n",
       "      <td>401267.0</td>\n",
       "      <td>4963.0</td>\n",
       "    </tr>\n",
       "    <tr>\n",
       "      <th>smart</th>\n",
       "      <td>11.0</td>\n",
       "      <td>19435.0</td>\n",
       "      <td>137544.0</td>\n",
       "      <td>10768.0</td>\n",
       "      <td>424403.0</td>\n",
       "      <td>5372.0</td>\n",
       "    </tr>\n",
       "    <tr>\n",
       "      <th>smart</th>\n",
       "      <td>12.0</td>\n",
       "      <td>22406.0</td>\n",
       "      <td>161275.0</td>\n",
       "      <td>12130.0</td>\n",
       "      <td>531965.0</td>\n",
       "      <td>6134.0</td>\n",
       "    </tr>\n",
       "    <tr>\n",
       "      <th>ultra</th>\n",
       "      <td>1.0</td>\n",
       "      <td>535.0</td>\n",
       "      <td>3853.0</td>\n",
       "      <td>304.0</td>\n",
       "      <td>17550.0</td>\n",
       "      <td>119.0</td>\n",
       "    </tr>\n",
       "    <tr>\n",
       "      <th>ultra</th>\n",
       "      <td>2.0</td>\n",
       "      <td>997.0</td>\n",
       "      <td>7131.0</td>\n",
       "      <td>527.0</td>\n",
       "      <td>47400.0</td>\n",
       "      <td>288.0</td>\n",
       "    </tr>\n",
       "    <tr>\n",
       "      <th>ultra</th>\n",
       "      <td>3.0</td>\n",
       "      <td>2504.0</td>\n",
       "      <td>18117.0</td>\n",
       "      <td>1195.0</td>\n",
       "      <td>74550.0</td>\n",
       "      <td>653.0</td>\n",
       "    </tr>\n",
       "    <tr>\n",
       "      <th>ultra</th>\n",
       "      <td>4.0</td>\n",
       "      <td>3525.0</td>\n",
       "      <td>25191.0</td>\n",
       "      <td>1736.0</td>\n",
       "      <td>110100.0</td>\n",
       "      <td>933.0</td>\n",
       "    </tr>\n",
       "    <tr>\n",
       "      <th>ultra</th>\n",
       "      <td>5.0</td>\n",
       "      <td>4858.0</td>\n",
       "      <td>34192.0</td>\n",
       "      <td>2536.0</td>\n",
       "      <td>138000.0</td>\n",
       "      <td>1298.0</td>\n",
       "    </tr>\n",
       "    <tr>\n",
       "      <th>ultra</th>\n",
       "      <td>6.0</td>\n",
       "      <td>5606.0</td>\n",
       "      <td>40295.0</td>\n",
       "      <td>3505.0</td>\n",
       "      <td>171300.0</td>\n",
       "      <td>1591.0</td>\n",
       "    </tr>\n",
       "    <tr>\n",
       "      <th>ultra</th>\n",
       "      <td>7.0</td>\n",
       "      <td>6896.0</td>\n",
       "      <td>49667.0</td>\n",
       "      <td>4536.0</td>\n",
       "      <td>192750.0</td>\n",
       "      <td>1866.0</td>\n",
       "    </tr>\n",
       "    <tr>\n",
       "      <th>ultra</th>\n",
       "      <td>8.0</td>\n",
       "      <td>7628.0</td>\n",
       "      <td>54653.0</td>\n",
       "      <td>5183.0</td>\n",
       "      <td>222900.0</td>\n",
       "      <td>2097.0</td>\n",
       "    </tr>\n",
       "    <tr>\n",
       "      <th>ultra</th>\n",
       "      <td>9.0</td>\n",
       "      <td>8579.0</td>\n",
       "      <td>62036.0</td>\n",
       "      <td>6013.0</td>\n",
       "      <td>232800.0</td>\n",
       "      <td>2213.0</td>\n",
       "    </tr>\n",
       "    <tr>\n",
       "      <th>ultra</th>\n",
       "      <td>10.0</td>\n",
       "      <td>9517.0</td>\n",
       "      <td>68644.0</td>\n",
       "      <td>7187.0</td>\n",
       "      <td>254100.0</td>\n",
       "      <td>2468.0</td>\n",
       "    </tr>\n",
       "    <tr>\n",
       "      <th>ultra</th>\n",
       "      <td>11.0</td>\n",
       "      <td>10066.0</td>\n",
       "      <td>72545.0</td>\n",
       "      <td>7476.0</td>\n",
       "      <td>280350.0</td>\n",
       "      <td>2654.0</td>\n",
       "    </tr>\n",
       "    <tr>\n",
       "      <th>ultra</th>\n",
       "      <td>12.0</td>\n",
       "      <td>11581.0</td>\n",
       "      <td>82400.0</td>\n",
       "      <td>8425.0</td>\n",
       "      <td>297300.0</td>\n",
       "      <td>3022.0</td>\n",
       "    </tr>\n",
       "  </tbody>\n",
       "</table>\n",
       "</div>"
      ],
      "text/plain": [
       "        month  calls_count  calls_duration  messages_count  total_bill  \\\n",
       "tariff                                                                   \n",
       "smart     1.0        941.0          6931.0           620.0     24525.0   \n",
       "smart     2.0       2331.0         17324.0          1397.0     48001.0   \n",
       "smart     3.0       4183.0         30034.0          2453.0     89676.0   \n",
       "smart     4.0       5747.0         41119.0          3443.0    107866.0   \n",
       "smart     5.0       7789.0         54618.0          4762.0    168849.0   \n",
       "smart     6.0       9110.0         64885.0          5478.0    197459.0   \n",
       "smart     7.0      11402.0         82079.0          6784.0    246014.0   \n",
       "smart     8.0      13860.0         99045.0          7905.0    310340.0   \n",
       "smart     9.0      15482.0        111439.0          8746.0    324986.0   \n",
       "smart    10.0      17629.0        125284.0          9927.0    401267.0   \n",
       "smart    11.0      19435.0        137544.0         10768.0    424403.0   \n",
       "smart    12.0      22406.0        161275.0         12130.0    531965.0   \n",
       "ultra     1.0        535.0          3853.0           304.0     17550.0   \n",
       "ultra     2.0        997.0          7131.0           527.0     47400.0   \n",
       "ultra     3.0       2504.0         18117.0          1195.0     74550.0   \n",
       "ultra     4.0       3525.0         25191.0          1736.0    110100.0   \n",
       "ultra     5.0       4858.0         34192.0          2536.0    138000.0   \n",
       "ultra     6.0       5606.0         40295.0          3505.0    171300.0   \n",
       "ultra     7.0       6896.0         49667.0          4536.0    192750.0   \n",
       "ultra     8.0       7628.0         54653.0          5183.0    222900.0   \n",
       "ultra     9.0       8579.0         62036.0          6013.0    232800.0   \n",
       "ultra    10.0       9517.0         68644.0          7187.0    254100.0   \n",
       "ultra    11.0      10066.0         72545.0          7476.0    280350.0   \n",
       "ultra    12.0      11581.0         82400.0          8425.0    297300.0   \n",
       "\n",
       "        traffic_volume  \n",
       "tariff                  \n",
       "smart            297.0  \n",
       "smart            687.0  \n",
       "smart           1173.0  \n",
       "smart           1526.0  \n",
       "smart           2243.0  \n",
       "smart           2616.0  \n",
       "smart           3191.0  \n",
       "smart           3933.0  \n",
       "smart           4262.0  \n",
       "smart           4963.0  \n",
       "smart           5372.0  \n",
       "smart           6134.0  \n",
       "ultra            119.0  \n",
       "ultra            288.0  \n",
       "ultra            653.0  \n",
       "ultra            933.0  \n",
       "ultra           1298.0  \n",
       "ultra           1591.0  \n",
       "ultra           1866.0  \n",
       "ultra           2097.0  \n",
       "ultra           2213.0  \n",
       "ultra           2468.0  \n",
       "ultra           2654.0  \n",
       "ultra           3022.0  "
      ]
     },
     "execution_count": 46,
     "metadata": {},
     "output_type": "execute_result"
    }
   ],
   "source": [
    "df_month_sum = (df_cmiu_pivot\n",
    "                .pivot_table(index=['tariff', 'month'],\n",
    "                             values=['calls_count', 'calls_duration', 'messages_count', 'traffic_volume', 'total_bill'],\n",
    "                             aggfunc=sum))\n",
    "\n",
    "df_month_sum = df_month_sum.reset_index(level='month')\n",
    "df_month_sum\n"
   ]
  },
  {
   "cell_type": "markdown",
   "metadata": {
    "scrolled": true
   },
   "source": [
    "\n",
    "df_month_sum.plot( y = 'calls_count', kind = 'bar', figsize = (10,5), title = 'Количество звонков по тарифам')\n",
    "plt.xlabel('Месяц',color='gray')\n",
    "plt.ylabel('Количество звонков',color='gray')\n",
    "plt.legend(['Тариф'])"
   ]
  },
  {
   "cell_type": "code",
   "execution_count": 47,
   "metadata": {},
   "outputs": [
    {
     "data": {
      "text/plain": [
       "<matplotlib.legend.Legend at 0x7fee5740e730>"
      ]
     },
     "execution_count": 47,
     "metadata": {},
     "output_type": "execute_result"
    },
    {
     "data": {
      "image/png": "[encoded data removed]",
      "text/plain": [
       "<Figure size 720x360 with 1 Axes>"
      ]
     },
     "metadata": {
      "needs_background": "light"
     },
     "output_type": "display_data"
    }
   ],
   "source": [
    "\n",
    "df_month_sum.plot( y = 'calls_duration', kind = 'bar', figsize = (10,5), title = 'Продолжительность звонков по тарифам')\n",
    "plt.xlabel('Месяц',color='gray')\n",
    "plt.ylabel('Продолжительность звонков',color='gray')\n",
    "plt.legend(['Тариф'])"
   ]
  },
  {
   "cell_type": "code",
   "execution_count": 48,
   "metadata": {},
   "outputs": [
    {
     "data": {
      "text/plain": [
       "<matplotlib.legend.Legend at 0x7fee58269d00>"
      ]
     },
     "execution_count": 48,
     "metadata": {},
     "output_type": "execute_result"
    },
    {
     "data": {
      "image/png": "[encoded data removed]",
      "text/plain": [
       "<Figure size 720x360 with 1 Axes>"
      ]
     },
     "metadata": {
      "needs_background": "light"
     },
     "output_type": "display_data"
    }
   ],
   "source": [
    "\n",
    "df_month_sum.plot( y = 'messages_count', kind = 'bar', figsize = (10,5), title = 'Количество сообщений по тарифам')\n",
    "plt.xlabel('Месяц',color='gray')\n",
    "plt.ylabel('Количество сообщений',color='gray')\n",
    "plt.legend(['Тариф'])"
   ]
  },
  {
   "cell_type": "code",
   "execution_count": 49,
   "metadata": {},
   "outputs": [
    {
     "data": {
      "text/plain": [
       "<matplotlib.legend.Legend at 0x7fee5730bf40>"
      ]
     },
     "execution_count": 49,
     "metadata": {},
     "output_type": "execute_result"
    },
    {
     "data": {
      "image/png": "[encoded data removed]",
      "text/plain": [
       "<Figure size 720x360 with 1 Axes>"
      ]
     },
     "metadata": {
      "needs_background": "light"
     },
     "output_type": "display_data"
    }
   ],
   "source": [
    "\n",
    "df_month_sum.plot( y = 'traffic_volume', kind = 'bar', figsize = (10,5), title = 'Объем трафика по тарифам')\n",
    "plt.xlabel('Месяц',color='gray')\n",
    "plt.ylabel('Объем трафика',color='gray')\n",
    "plt.legend(['Тариф'])"
   ]
  },
  {
   "cell_type": "code",
   "execution_count": 50,
   "metadata": {},
   "outputs": [
    {
     "data": {
      "text/plain": [
       "<matplotlib.legend.Legend at 0x7fee4e5d9940>"
      ]
     },
     "execution_count": 50,
     "metadata": {},
     "output_type": "execute_result"
    },
    {
     "data": {
      "image/png": "[encoded data removed]",
      "text/plain": [
       "<Figure size 720x360 with 1 Axes>"
      ]
     },
     "metadata": {
      "needs_background": "light"
     },
     "output_type": "display_data"
    }
   ],
   "source": [
    "df_month_sum.plot( y = 'total_bill', kind = 'bar', figsize = (10,5), title = 'Общий счет по тарифам')\n",
    "plt.xlabel('Месяц',color='gray')\n",
    "plt.ylabel('Общий счет',color='gray')\n",
    "plt.legend(['Тариф'])"
   ]
  },
  {
   "cell_type": "markdown",
   "metadata": {},
   "source": [
    "На количественные показатели здесь можно не смотреть, т.к. объем выборок разный:"
   ]
  },
  {
   "cell_type": "code",
   "execution_count": 51,
   "metadata": {},
   "outputs": [
    {
     "data": {
      "text/plain": [
       "2229"
      ]
     },
     "execution_count": 51,
     "metadata": {},
     "output_type": "execute_result"
    }
   ],
   "source": [
    "df_cmiu_pivot[df_cmiu_pivot['tariff']=='smart']['tariff'].count()"
   ]
  },
  {
   "cell_type": "code",
   "execution_count": 52,
   "metadata": {},
   "outputs": [
    {
     "data": {
      "text/plain": [
       "985"
      ]
     },
     "execution_count": 52,
     "metadata": {},
     "output_type": "execute_result"
    }
   ],
   "source": [
    "df_cmiu_pivot[df_cmiu_pivot['tariff']=='ultra']['tariff'].count()"
   ]
  },
  {
   "cell_type": "markdown",
   "metadata": {},
   "source": [
    "### А вот поведение клиентов в течение рассматриваемого периода времени графики показывают очень хорошо:\n",
    "\n",
    "##### Как видим все параметры (количество звонков, продолжительность разговоров, количество сообщений, объем израсходованного интернет-трафика и ежемесячный счет) растут о января к декабрю, причем растут довольно таки линейно и не зависимо от того, какой тариф используют клиенты.\n",
    "\n",
    "##### Январь и декабрь еще могу объяснить - в январе много отдыхают семьями и не до звонков, а в декабре все аврально завершают дела и поздравляют близких. Можно предположить, что постепенный и устойчивый рост объясняется приходом новых пользователей."
   ]
  },
  {
   "cell_type": "markdown",
   "metadata": {},
   "source": [
    "#### Посчитаем среднее, дисперсию и стандартное отклонение для всех пользователей в течение всего периода:\n",
    "Применим цикл, в котором с помощью сводных таблиц раассчитаем необходимые параметры."
   ]
  },
  {
   "cell_type": "code",
   "execution_count": 53,
   "metadata": {
    "scrolled": false
   },
   "outputs": [
    {
     "data": {
      "text/html": [
       "<div>\n",
       "<style scoped>\n",
       "    .dataframe tbody tr th:only-of-type {\n",
       "        vertical-align: middle;\n",
       "    }\n",
       "\n",
       "    .dataframe tbody tr th {\n",
       "        vertical-align: top;\n",
       "    }\n",
       "\n",
       "    .dataframe thead th {\n",
       "        text-align: right;\n",
       "    }\n",
       "</style>\n",
       "<table border=\"1\" class=\"dataframe\">\n",
       "  <thead>\n",
       "    <tr style=\"text-align: right;\">\n",
       "      <th></th>\n",
       "      <th></th>\n",
       "      <th>calls_duration_mean</th>\n",
       "      <th>messages_count_mean</th>\n",
       "      <th>traffic_volume_mean</th>\n",
       "      <th>total_bill_mean</th>\n",
       "    </tr>\n",
       "    <tr>\n",
       "      <th>tariff</th>\n",
       "      <th>month</th>\n",
       "      <th></th>\n",
       "      <th></th>\n",
       "      <th></th>\n",
       "      <th></th>\n",
       "    </tr>\n",
       "  </thead>\n",
       "  <tbody>\n",
       "    <tr>\n",
       "      <th rowspan=\"12\" valign=\"top\">smart</th>\n",
       "      <th>1.0</th>\n",
       "      <td>203.852941</td>\n",
       "      <td>18.235294</td>\n",
       "      <td>721.323529</td>\n",
       "      <td>8.735294</td>\n",
       "    </tr>\n",
       "    <tr>\n",
       "      <th>2.0</th>\n",
       "      <td>298.689655</td>\n",
       "      <td>24.086207</td>\n",
       "      <td>827.603448</td>\n",
       "      <td>11.844828</td>\n",
       "    </tr>\n",
       "    <tr>\n",
       "      <th>3.0</th>\n",
       "      <td>390.051948</td>\n",
       "      <td>31.857143</td>\n",
       "      <td>1164.623377</td>\n",
       "      <td>15.233766</td>\n",
       "    </tr>\n",
       "    <tr>\n",
       "      <th>4.0</th>\n",
       "      <td>367.133929</td>\n",
       "      <td>30.741071</td>\n",
       "      <td>963.089286</td>\n",
       "      <td>13.625000</td>\n",
       "    </tr>\n",
       "    <tr>\n",
       "      <th>5.0</th>\n",
       "      <td>387.361702</td>\n",
       "      <td>33.773050</td>\n",
       "      <td>1197.510638</td>\n",
       "      <td>15.907801</td>\n",
       "    </tr>\n",
       "    <tr>\n",
       "      <th>6.0</th>\n",
       "      <td>395.640244</td>\n",
       "      <td>33.402439</td>\n",
       "      <td>1204.018293</td>\n",
       "      <td>15.951220</td>\n",
       "    </tr>\n",
       "    <tr>\n",
       "      <th>7.0</th>\n",
       "      <td>408.353234</td>\n",
       "      <td>33.751244</td>\n",
       "      <td>1223.950249</td>\n",
       "      <td>15.875622</td>\n",
       "    </tr>\n",
       "    <tr>\n",
       "      <th>8.0</th>\n",
       "      <td>421.468085</td>\n",
       "      <td>33.638298</td>\n",
       "      <td>1320.595745</td>\n",
       "      <td>16.736170</td>\n",
       "    </tr>\n",
       "    <tr>\n",
       "      <th>9.0</th>\n",
       "      <td>428.611538</td>\n",
       "      <td>33.638462</td>\n",
       "      <td>1249.946154</td>\n",
       "      <td>16.392308</td>\n",
       "    </tr>\n",
       "    <tr>\n",
       "      <th>10.0</th>\n",
       "      <td>426.136054</td>\n",
       "      <td>33.765306</td>\n",
       "      <td>1364.853741</td>\n",
       "      <td>16.880952</td>\n",
       "    </tr>\n",
       "    <tr>\n",
       "      <th>11.0</th>\n",
       "      <td>435.265823</td>\n",
       "      <td>34.075949</td>\n",
       "      <td>1343.047468</td>\n",
       "      <td>17.000000</td>\n",
       "    </tr>\n",
       "    <tr>\n",
       "      <th>12.0</th>\n",
       "      <td>478.560831</td>\n",
       "      <td>35.994065</td>\n",
       "      <td>1578.531157</td>\n",
       "      <td>18.201780</td>\n",
       "    </tr>\n",
       "    <tr>\n",
       "      <th rowspan=\"12\" valign=\"top\">ultra</th>\n",
       "      <th>1.0</th>\n",
       "      <td>428.111111</td>\n",
       "      <td>33.777778</td>\n",
       "      <td>1950.000000</td>\n",
       "      <td>13.222222</td>\n",
       "    </tr>\n",
       "    <tr>\n",
       "      <th>2.0</th>\n",
       "      <td>297.125000</td>\n",
       "      <td>21.958333</td>\n",
       "      <td>1975.000000</td>\n",
       "      <td>12.000000</td>\n",
       "    </tr>\n",
       "    <tr>\n",
       "      <th>3.0</th>\n",
       "      <td>489.648649</td>\n",
       "      <td>32.297297</td>\n",
       "      <td>2014.864865</td>\n",
       "      <td>17.648649</td>\n",
       "    </tr>\n",
       "    <tr>\n",
       "      <th>4.0</th>\n",
       "      <td>458.018182</td>\n",
       "      <td>31.563636</td>\n",
       "      <td>2001.818182</td>\n",
       "      <td>16.963636</td>\n",
       "    </tr>\n",
       "    <tr>\n",
       "      <th>5.0</th>\n",
       "      <td>510.328358</td>\n",
       "      <td>37.850746</td>\n",
       "      <td>2059.701493</td>\n",
       "      <td>19.373134</td>\n",
       "    </tr>\n",
       "    <tr>\n",
       "      <th>6.0</th>\n",
       "      <td>479.702381</td>\n",
       "      <td>41.726190</td>\n",
       "      <td>2039.285714</td>\n",
       "      <td>18.940476</td>\n",
       "    </tr>\n",
       "    <tr>\n",
       "      <th>7.0</th>\n",
       "      <td>545.791209</td>\n",
       "      <td>49.846154</td>\n",
       "      <td>2118.131868</td>\n",
       "      <td>20.505495</td>\n",
       "    </tr>\n",
       "    <tr>\n",
       "      <th>8.0</th>\n",
       "      <td>510.775701</td>\n",
       "      <td>48.439252</td>\n",
       "      <td>2083.177570</td>\n",
       "      <td>19.598131</td>\n",
       "    </tr>\n",
       "    <tr>\n",
       "      <th>9.0</th>\n",
       "      <td>539.443478</td>\n",
       "      <td>52.286957</td>\n",
       "      <td>2024.347826</td>\n",
       "      <td>19.243478</td>\n",
       "    </tr>\n",
       "    <tr>\n",
       "      <th>10.0</th>\n",
       "      <td>558.081301</td>\n",
       "      <td>58.430894</td>\n",
       "      <td>2065.853659</td>\n",
       "      <td>20.065041</td>\n",
       "    </tr>\n",
       "    <tr>\n",
       "      <th>11.0</th>\n",
       "      <td>541.380597</td>\n",
       "      <td>55.791045</td>\n",
       "      <td>2092.164179</td>\n",
       "      <td>19.805970</td>\n",
       "    </tr>\n",
       "    <tr>\n",
       "      <th>12.0</th>\n",
       "      <td>592.805755</td>\n",
       "      <td>60.611511</td>\n",
       "      <td>2138.848921</td>\n",
       "      <td>21.741007</td>\n",
       "    </tr>\n",
       "  </tbody>\n",
       "</table>\n",
       "</div>"
      ],
      "text/plain": [
       "              calls_duration_mean  messages_count_mean  traffic_volume_mean  \\\n",
       "tariff month                                                                  \n",
       "smart  1.0             203.852941            18.235294           721.323529   \n",
       "       2.0             298.689655            24.086207           827.603448   \n",
       "       3.0             390.051948            31.857143          1164.623377   \n",
       "       4.0             367.133929            30.741071           963.089286   \n",
       "       5.0             387.361702            33.773050          1197.510638   \n",
       "       6.0             395.640244            33.402439          1204.018293   \n",
       "       7.0             408.353234            33.751244          1223.950249   \n",
       "       8.0             421.468085            33.638298          1320.595745   \n",
       "       9.0             428.611538            33.638462          1249.946154   \n",
       "       10.0            426.136054            33.765306          1364.853741   \n",
       "       11.0            435.265823            34.075949          1343.047468   \n",
       "       12.0            478.560831            35.994065          1578.531157   \n",
       "ultra  1.0             428.111111            33.777778          1950.000000   \n",
       "       2.0             297.125000            21.958333          1975.000000   \n",
       "       3.0             489.648649            32.297297          2014.864865   \n",
       "       4.0             458.018182            31.563636          2001.818182   \n",
       "       5.0             510.328358            37.850746          2059.701493   \n",
       "       6.0             479.702381            41.726190          2039.285714   \n",
       "       7.0             545.791209            49.846154          2118.131868   \n",
       "       8.0             510.775701            48.439252          2083.177570   \n",
       "       9.0             539.443478            52.286957          2024.347826   \n",
       "       10.0            558.081301            58.430894          2065.853659   \n",
       "       11.0            541.380597            55.791045          2092.164179   \n",
       "       12.0            592.805755            60.611511          2138.848921   \n",
       "\n",
       "              total_bill_mean  \n",
       "tariff month                   \n",
       "smart  1.0           8.735294  \n",
       "       2.0          11.844828  \n",
       "       3.0          15.233766  \n",
       "       4.0          13.625000  \n",
       "       5.0          15.907801  \n",
       "       6.0          15.951220  \n",
       "       7.0          15.875622  \n",
       "       8.0          16.736170  \n",
       "       9.0          16.392308  \n",
       "       10.0         16.880952  \n",
       "       11.0         17.000000  \n",
       "       12.0         18.201780  \n",
       "ultra  1.0          13.222222  \n",
       "       2.0          12.000000  \n",
       "       3.0          17.648649  \n",
       "       4.0          16.963636  \n",
       "       5.0          19.373134  \n",
       "       6.0          18.940476  \n",
       "       7.0          20.505495  \n",
       "       8.0          19.598131  \n",
       "       9.0          19.243478  \n",
       "       10.0         20.065041  \n",
       "       11.0         19.805970  \n",
       "       12.0         21.741007  "
      ]
     },
     "metadata": {},
     "output_type": "display_data"
    },
    {
     "data": {
      "text/html": [
       "<div>\n",
       "<style scoped>\n",
       "    .dataframe tbody tr th:only-of-type {\n",
       "        vertical-align: middle;\n",
       "    }\n",
       "\n",
       "    .dataframe tbody tr th {\n",
       "        vertical-align: top;\n",
       "    }\n",
       "\n",
       "    .dataframe thead th {\n",
       "        text-align: right;\n",
       "    }\n",
       "</style>\n",
       "<table border=\"1\" class=\"dataframe\">\n",
       "  <thead>\n",
       "    <tr style=\"text-align: right;\">\n",
       "      <th></th>\n",
       "      <th></th>\n",
       "      <th>calls_duration_var</th>\n",
       "      <th>messages_count_var</th>\n",
       "      <th>traffic_volume_var</th>\n",
       "      <th>total_bill_var</th>\n",
       "    </tr>\n",
       "    <tr>\n",
       "      <th>tariff</th>\n",
       "      <th>month</th>\n",
       "      <th></th>\n",
       "      <th></th>\n",
       "      <th></th>\n",
       "      <th></th>\n",
       "    </tr>\n",
       "  </thead>\n",
       "  <tbody>\n",
       "    <tr>\n",
       "      <th rowspan=\"12\" valign=\"top\">smart</th>\n",
       "      <th>1.0</th>\n",
       "      <td>23787.341355</td>\n",
       "      <td>262.367201</td>\n",
       "      <td>1.925162e+05</td>\n",
       "      <td>39.412656</td>\n",
       "    </tr>\n",
       "    <tr>\n",
       "      <th>2.0</th>\n",
       "      <td>36412.287961</td>\n",
       "      <td>473.097701</td>\n",
       "      <td>2.923587e+05</td>\n",
       "      <td>37.150938</td>\n",
       "    </tr>\n",
       "    <tr>\n",
       "      <th>3.0</th>\n",
       "      <td>36823.155161</td>\n",
       "      <td>718.492481</td>\n",
       "      <td>4.872390e+05</td>\n",
       "      <td>32.549897</td>\n",
       "    </tr>\n",
       "    <tr>\n",
       "      <th>4.0</th>\n",
       "      <td>34778.207127</td>\n",
       "      <td>602.139559</td>\n",
       "      <td>3.159166e+05</td>\n",
       "      <td>31.299550</td>\n",
       "    </tr>\n",
       "    <tr>\n",
       "      <th>5.0</th>\n",
       "      <td>34820.061094</td>\n",
       "      <td>730.990983</td>\n",
       "      <td>5.226902e+05</td>\n",
       "      <td>34.370010</td>\n",
       "    </tr>\n",
       "    <tr>\n",
       "      <th>6.0</th>\n",
       "      <td>30742.918861</td>\n",
       "      <td>806.806374</td>\n",
       "      <td>5.561252e+05</td>\n",
       "      <td>31.911716</td>\n",
       "    </tr>\n",
       "    <tr>\n",
       "      <th>7.0</th>\n",
       "      <td>32250.269602</td>\n",
       "      <td>799.887811</td>\n",
       "      <td>5.453382e+05</td>\n",
       "      <td>33.419453</td>\n",
       "    </tr>\n",
       "    <tr>\n",
       "      <th>8.0</th>\n",
       "      <td>34793.583379</td>\n",
       "      <td>838.257501</td>\n",
       "      <td>6.276194e+05</td>\n",
       "      <td>30.041207</td>\n",
       "    </tr>\n",
       "    <tr>\n",
       "      <th>9.0</th>\n",
       "      <td>33535.342723</td>\n",
       "      <td>790.617820</td>\n",
       "      <td>5.366885e+05</td>\n",
       "      <td>25.884110</td>\n",
       "    </tr>\n",
       "    <tr>\n",
       "      <th>10.0</th>\n",
       "      <td>35392.336375</td>\n",
       "      <td>816.111966</td>\n",
       "      <td>7.102664e+05</td>\n",
       "      <td>32.897042</td>\n",
       "    </tr>\n",
       "    <tr>\n",
       "      <th>11.0</th>\n",
       "      <td>31605.237050</td>\n",
       "      <td>805.937071</td>\n",
       "      <td>6.331858e+05</td>\n",
       "      <td>27.180952</td>\n",
       "    </tr>\n",
       "    <tr>\n",
       "      <th>12.0</th>\n",
       "      <td>39698.622033</td>\n",
       "      <td>934.952346</td>\n",
       "      <td>1.070678e+06</td>\n",
       "      <td>29.786544</td>\n",
       "    </tr>\n",
       "    <tr>\n",
       "      <th rowspan=\"12\" valign=\"top\">ultra</th>\n",
       "      <th>1.0</th>\n",
       "      <td>72769.361111</td>\n",
       "      <td>940.694444</td>\n",
       "      <td>0.000000e+00</td>\n",
       "      <td>44.444444</td>\n",
       "    </tr>\n",
       "    <tr>\n",
       "      <th>2.0</th>\n",
       "      <td>87919.679348</td>\n",
       "      <td>716.824275</td>\n",
       "      <td>7.173913e+03</td>\n",
       "      <td>109.130435</td>\n",
       "    </tr>\n",
       "    <tr>\n",
       "      <th>3.0</th>\n",
       "      <td>111384.900901</td>\n",
       "      <td>1732.381381</td>\n",
       "      <td>4.317568e+04</td>\n",
       "      <td>114.345345</td>\n",
       "    </tr>\n",
       "    <tr>\n",
       "      <th>4.0</th>\n",
       "      <td>71653.870034</td>\n",
       "      <td>1407.287542</td>\n",
       "      <td>3.851515e+04</td>\n",
       "      <td>89.443098</td>\n",
       "    </tr>\n",
       "    <tr>\n",
       "      <th>5.0</th>\n",
       "      <td>83870.193578</td>\n",
       "      <td>1624.644052</td>\n",
       "      <td>1.626696e+05</td>\n",
       "      <td>95.631389</td>\n",
       "    </tr>\n",
       "    <tr>\n",
       "      <th>6.0</th>\n",
       "      <td>91535.946500</td>\n",
       "      <td>1986.297619</td>\n",
       "      <td>9.982358e+04</td>\n",
       "      <td>82.394005</td>\n",
       "    </tr>\n",
       "    <tr>\n",
       "      <th>7.0</th>\n",
       "      <td>94322.278144</td>\n",
       "      <td>2372.042735</td>\n",
       "      <td>1.989176e+05</td>\n",
       "      <td>96.430525</td>\n",
       "    </tr>\n",
       "    <tr>\n",
       "      <th>8.0</th>\n",
       "      <td>97956.496385</td>\n",
       "      <td>2171.739199</td>\n",
       "      <td>1.597615e+05</td>\n",
       "      <td>105.148298</td>\n",
       "    </tr>\n",
       "    <tr>\n",
       "      <th>9.0</th>\n",
       "      <td>105716.775286</td>\n",
       "      <td>2152.855530</td>\n",
       "      <td>6.093707e+04</td>\n",
       "      <td>86.255988</td>\n",
       "    </tr>\n",
       "    <tr>\n",
       "      <th>10.0</th>\n",
       "      <td>106464.583500</td>\n",
       "      <td>2697.181661</td>\n",
       "      <td>1.496851e+05</td>\n",
       "      <td>91.258030</td>\n",
       "    </tr>\n",
       "    <tr>\n",
       "      <th>11.0</th>\n",
       "      <td>96570.057064</td>\n",
       "      <td>2476.948491</td>\n",
       "      <td>1.675885e+05</td>\n",
       "      <td>93.796656</td>\n",
       "    </tr>\n",
       "    <tr>\n",
       "      <th>12.0</th>\n",
       "      <td>117276.331561</td>\n",
       "      <td>2681.978417</td>\n",
       "      <td>2.326103e+05</td>\n",
       "      <td>103.236784</td>\n",
       "    </tr>\n",
       "  </tbody>\n",
       "</table>\n",
       "</div>"
      ],
      "text/plain": [
       "              calls_duration_var  messages_count_var  traffic_volume_var  \\\n",
       "tariff month                                                               \n",
       "smart  1.0          23787.341355          262.367201        1.925162e+05   \n",
       "       2.0          36412.287961          473.097701        2.923587e+05   \n",
       "       3.0          36823.155161          718.492481        4.872390e+05   \n",
       "       4.0          34778.207127          602.139559        3.159166e+05   \n",
       "       5.0          34820.061094          730.990983        5.226902e+05   \n",
       "       6.0          30742.918861          806.806374        5.561252e+05   \n",
       "       7.0          32250.269602          799.887811        5.453382e+05   \n",
       "       8.0          34793.583379          838.257501        6.276194e+05   \n",
       "       9.0          33535.342723          790.617820        5.366885e+05   \n",
       "       10.0         35392.336375          816.111966        7.102664e+05   \n",
       "       11.0         31605.237050          805.937071        6.331858e+05   \n",
       "       12.0         39698.622033          934.952346        1.070678e+06   \n",
       "ultra  1.0          72769.361111          940.694444        0.000000e+00   \n",
       "       2.0          87919.679348          716.824275        7.173913e+03   \n",
       "       3.0         111384.900901         1732.381381        4.317568e+04   \n",
       "       4.0          71653.870034         1407.287542        3.851515e+04   \n",
       "       5.0          83870.193578         1624.644052        1.626696e+05   \n",
       "       6.0          91535.946500         1986.297619        9.982358e+04   \n",
       "       7.0          94322.278144         2372.042735        1.989176e+05   \n",
       "       8.0          97956.496385         2171.739199        1.597615e+05   \n",
       "       9.0         105716.775286         2152.855530        6.093707e+04   \n",
       "       10.0        106464.583500         2697.181661        1.496851e+05   \n",
       "       11.0         96570.057064         2476.948491        1.675885e+05   \n",
       "       12.0        117276.331561         2681.978417        2.326103e+05   \n",
       "\n",
       "              total_bill_var  \n",
       "tariff month                  \n",
       "smart  1.0         39.412656  \n",
       "       2.0         37.150938  \n",
       "       3.0         32.549897  \n",
       "       4.0         31.299550  \n",
       "       5.0         34.370010  \n",
       "       6.0         31.911716  \n",
       "       7.0         33.419453  \n",
       "       8.0         30.041207  \n",
       "       9.0         25.884110  \n",
       "       10.0        32.897042  \n",
       "       11.0        27.180952  \n",
       "       12.0        29.786544  \n",
       "ultra  1.0         44.444444  \n",
       "       2.0        109.130435  \n",
       "       3.0        114.345345  \n",
       "       4.0         89.443098  \n",
       "       5.0         95.631389  \n",
       "       6.0         82.394005  \n",
       "       7.0         96.430525  \n",
       "       8.0        105.148298  \n",
       "       9.0         86.255988  \n",
       "       10.0        91.258030  \n",
       "       11.0        93.796656  \n",
       "       12.0       103.236784  "
      ]
     },
     "metadata": {},
     "output_type": "display_data"
    },
    {
     "data": {
      "text/html": [
       "<div>\n",
       "<style scoped>\n",
       "    .dataframe tbody tr th:only-of-type {\n",
       "        vertical-align: middle;\n",
       "    }\n",
       "\n",
       "    .dataframe tbody tr th {\n",
       "        vertical-align: top;\n",
       "    }\n",
       "\n",
       "    .dataframe thead th {\n",
       "        text-align: right;\n",
       "    }\n",
       "</style>\n",
       "<table border=\"1\" class=\"dataframe\">\n",
       "  <thead>\n",
       "    <tr style=\"text-align: right;\">\n",
       "      <th></th>\n",
       "      <th></th>\n",
       "      <th>calls_duration_std</th>\n",
       "      <th>messages_count_std</th>\n",
       "      <th>traffic_volume_std</th>\n",
       "      <th>total_bill_std</th>\n",
       "    </tr>\n",
       "    <tr>\n",
       "      <th>tariff</th>\n",
       "      <th>month</th>\n",
       "      <th></th>\n",
       "      <th></th>\n",
       "      <th></th>\n",
       "      <th></th>\n",
       "    </tr>\n",
       "  </thead>\n",
       "  <tbody>\n",
       "    <tr>\n",
       "      <th rowspan=\"12\" valign=\"top\">smart</th>\n",
       "      <th>1.0</th>\n",
       "      <td>154.231454</td>\n",
       "      <td>16.197753</td>\n",
       "      <td>438.766641</td>\n",
       "      <td>6.277950</td>\n",
       "    </tr>\n",
       "    <tr>\n",
       "      <th>2.0</th>\n",
       "      <td>190.820041</td>\n",
       "      <td>21.750809</td>\n",
       "      <td>540.702011</td>\n",
       "      <td>6.095157</td>\n",
       "    </tr>\n",
       "    <tr>\n",
       "      <th>3.0</th>\n",
       "      <td>191.893604</td>\n",
       "      <td>26.804710</td>\n",
       "      <td>698.025091</td>\n",
       "      <td>5.705252</td>\n",
       "    </tr>\n",
       "    <tr>\n",
       "      <th>4.0</th>\n",
       "      <td>186.489161</td>\n",
       "      <td>24.538532</td>\n",
       "      <td>562.064543</td>\n",
       "      <td>5.594600</td>\n",
       "    </tr>\n",
       "    <tr>\n",
       "      <th>5.0</th>\n",
       "      <td>186.601343</td>\n",
       "      <td>27.036845</td>\n",
       "      <td>722.973153</td>\n",
       "      <td>5.862594</td>\n",
       "    </tr>\n",
       "    <tr>\n",
       "      <th>6.0</th>\n",
       "      <td>175.336587</td>\n",
       "      <td>28.404337</td>\n",
       "      <td>745.738005</td>\n",
       "      <td>5.649046</td>\n",
       "    </tr>\n",
       "    <tr>\n",
       "      <th>7.0</th>\n",
       "      <td>179.583601</td>\n",
       "      <td>28.282288</td>\n",
       "      <td>738.470208</td>\n",
       "      <td>5.780956</td>\n",
       "    </tr>\n",
       "    <tr>\n",
       "      <th>8.0</th>\n",
       "      <td>186.530382</td>\n",
       "      <td>28.952677</td>\n",
       "      <td>792.224318</td>\n",
       "      <td>5.480986</td>\n",
       "    </tr>\n",
       "    <tr>\n",
       "      <th>9.0</th>\n",
       "      <td>183.126576</td>\n",
       "      <td>28.117927</td>\n",
       "      <td>732.590262</td>\n",
       "      <td>5.087643</td>\n",
       "    </tr>\n",
       "    <tr>\n",
       "      <th>10.0</th>\n",
       "      <td>188.128510</td>\n",
       "      <td>28.567673</td>\n",
       "      <td>842.773037</td>\n",
       "      <td>5.735594</td>\n",
       "    </tr>\n",
       "    <tr>\n",
       "      <th>11.0</th>\n",
       "      <td>177.778618</td>\n",
       "      <td>28.389031</td>\n",
       "      <td>795.729727</td>\n",
       "      <td>5.213535</td>\n",
       "    </tr>\n",
       "    <tr>\n",
       "      <th>12.0</th>\n",
       "      <td>199.245131</td>\n",
       "      <td>30.576990</td>\n",
       "      <td>1034.735951</td>\n",
       "      <td>5.457705</td>\n",
       "    </tr>\n",
       "    <tr>\n",
       "      <th rowspan=\"12\" valign=\"top\">ultra</th>\n",
       "      <th>1.0</th>\n",
       "      <td>269.757968</td>\n",
       "      <td>30.670742</td>\n",
       "      <td>0.000000</td>\n",
       "      <td>6.666667</td>\n",
       "    </tr>\n",
       "    <tr>\n",
       "      <th>2.0</th>\n",
       "      <td>296.512528</td>\n",
       "      <td>26.773574</td>\n",
       "      <td>84.698955</td>\n",
       "      <td>10.446551</td>\n",
       "    </tr>\n",
       "    <tr>\n",
       "      <th>3.0</th>\n",
       "      <td>333.743765</td>\n",
       "      <td>41.621886</td>\n",
       "      <td>207.787573</td>\n",
       "      <td>10.693238</td>\n",
       "    </tr>\n",
       "    <tr>\n",
       "      <th>4.0</th>\n",
       "      <td>267.682405</td>\n",
       "      <td>37.513831</td>\n",
       "      <td>196.252775</td>\n",
       "      <td>9.457436</td>\n",
       "    </tr>\n",
       "    <tr>\n",
       "      <th>5.0</th>\n",
       "      <td>289.603511</td>\n",
       "      <td>40.306874</td>\n",
       "      <td>403.323204</td>\n",
       "      <td>9.779130</td>\n",
       "    </tr>\n",
       "    <tr>\n",
       "      <th>6.0</th>\n",
       "      <td>302.549081</td>\n",
       "      <td>44.567899</td>\n",
       "      <td>315.948698</td>\n",
       "      <td>9.077114</td>\n",
       "    </tr>\n",
       "    <tr>\n",
       "      <th>7.0</th>\n",
       "      <td>307.119322</td>\n",
       "      <td>48.703621</td>\n",
       "      <td>446.001774</td>\n",
       "      <td>9.819905</td>\n",
       "    </tr>\n",
       "    <tr>\n",
       "      <th>8.0</th>\n",
       "      <td>312.980026</td>\n",
       "      <td>46.601923</td>\n",
       "      <td>399.701771</td>\n",
       "      <td>10.254184</td>\n",
       "    </tr>\n",
       "    <tr>\n",
       "      <th>9.0</th>\n",
       "      <td>325.141162</td>\n",
       "      <td>46.398874</td>\n",
       "      <td>246.854352</td>\n",
       "      <td>9.287410</td>\n",
       "    </tr>\n",
       "    <tr>\n",
       "      <th>10.0</th>\n",
       "      <td>326.289110</td>\n",
       "      <td>51.934398</td>\n",
       "      <td>386.891620</td>\n",
       "      <td>9.552907</td>\n",
       "    </tr>\n",
       "    <tr>\n",
       "      <th>11.0</th>\n",
       "      <td>310.757232</td>\n",
       "      <td>49.768951</td>\n",
       "      <td>409.375762</td>\n",
       "      <td>9.684867</td>\n",
       "    </tr>\n",
       "    <tr>\n",
       "      <th>12.0</th>\n",
       "      <td>342.456321</td>\n",
       "      <td>51.787821</td>\n",
       "      <td>482.296858</td>\n",
       "      <td>10.160550</td>\n",
       "    </tr>\n",
       "  </tbody>\n",
       "</table>\n",
       "</div>"
      ],
      "text/plain": [
       "              calls_duration_std  messages_count_std  traffic_volume_std  \\\n",
       "tariff month                                                               \n",
       "smart  1.0            154.231454           16.197753          438.766641   \n",
       "       2.0            190.820041           21.750809          540.702011   \n",
       "       3.0            191.893604           26.804710          698.025091   \n",
       "       4.0            186.489161           24.538532          562.064543   \n",
       "       5.0            186.601343           27.036845          722.973153   \n",
       "       6.0            175.336587           28.404337          745.738005   \n",
       "       7.0            179.583601           28.282288          738.470208   \n",
       "       8.0            186.530382           28.952677          792.224318   \n",
       "       9.0            183.126576           28.117927          732.590262   \n",
       "       10.0           188.128510           28.567673          842.773037   \n",
       "       11.0           177.778618           28.389031          795.729727   \n",
       "       12.0           199.245131           30.576990         1034.735951   \n",
       "ultra  1.0            269.757968           30.670742            0.000000   \n",
       "       2.0            296.512528           26.773574           84.698955   \n",
       "       3.0            333.743765           41.621886          207.787573   \n",
       "       4.0            267.682405           37.513831          196.252775   \n",
       "       5.0            289.603511           40.306874          403.323204   \n",
       "       6.0            302.549081           44.567899          315.948698   \n",
       "       7.0            307.119322           48.703621          446.001774   \n",
       "       8.0            312.980026           46.601923          399.701771   \n",
       "       9.0            325.141162           46.398874          246.854352   \n",
       "       10.0           326.289110           51.934398          386.891620   \n",
       "       11.0           310.757232           49.768951          409.375762   \n",
       "       12.0           342.456321           51.787821          482.296858   \n",
       "\n",
       "              total_bill_std  \n",
       "tariff month                  \n",
       "smart  1.0          6.277950  \n",
       "       2.0          6.095157  \n",
       "       3.0          5.705252  \n",
       "       4.0          5.594600  \n",
       "       5.0          5.862594  \n",
       "       6.0          5.649046  \n",
       "       7.0          5.780956  \n",
       "       8.0          5.480986  \n",
       "       9.0          5.087643  \n",
       "       10.0         5.735594  \n",
       "       11.0         5.213535  \n",
       "       12.0         5.457705  \n",
       "ultra  1.0          6.666667  \n",
       "       2.0         10.446551  \n",
       "       3.0         10.693238  \n",
       "       4.0          9.457436  \n",
       "       5.0          9.779130  \n",
       "       6.0          9.077114  \n",
       "       7.0          9.819905  \n",
       "       8.0         10.254184  \n",
       "       9.0          9.287410  \n",
       "       10.0         9.552907  \n",
       "       11.0         9.684867  \n",
       "       12.0        10.160550  "
      ]
     },
     "metadata": {},
     "output_type": "display_data"
    },
    {
     "data": {
      "image/png": "[encoded data removed]",
      "text/plain": [
       "<Figure size 720x360 with 1 Axes>"
      ]
     },
     "metadata": {
      "needs_background": "light"
     },
     "output_type": "display_data"
    },
    {
     "data": {
      "image/png": "[encoded data removed]",
      "text/plain": [
       "<Figure size 720x360 with 1 Axes>"
      ]
     },
     "metadata": {
      "needs_background": "light"
     },
     "output_type": "display_data"
    },
    {
     "data": {
      "image/png": "[encoded data removed]",
      "text/plain": [
       "<Figure size 720x360 with 1 Axes>"
      ]
     },
     "metadata": {
      "needs_background": "light"
     },
     "output_type": "display_data"
    }
   ],
   "source": [
    "for i in range(0, 3):\n",
    "    functions = ['mean', np.var, np.std]# функции, которые будем применять к значениям\n",
    "    tables = ['total_month_sum_mean', 'total_month_sum_var', 'total_month_sum_std']# названия сводных таблиц\n",
    "    list_of_cols = ['calls_duration', 'messages_count', 'traffic_volume', 'total_bill']# значения\n",
    "    suffix = ['_mean', '_var', '_std']# суффикс, который добавим к именам колонок\n",
    "    \n",
    "\n",
    "    tables[i] = df_cmiu_pivot.pivot_table(index=['tariff', 'month'], values=list_of_cols, aggfunc=functions[i])\n",
    "    tables[i].columns = ['calls_duration'+suffix[i], 'messages_count'+suffix[i],\\\n",
    "                         'traffic_volume'+suffix[i], 'total_bill'+suffix[i]]\n",
    "    display(tables[i])\n",
    "    tables[i].plot( bins=90, kind = 'hist', figsize = (10,5), alpha = 0.4)\n",
    "    plt.ylabel('Частота',color='gray');\n",
    "    "
   ]
  },
  {
   "cell_type": "markdown",
   "metadata": {},
   "source": [
    "##### ––––––––––– Конец ячеек ревьюера ––––––––––– "
   ]
  },
  {
   "cell_type": "markdown",
   "metadata": {},
   "source": [
    "### В среднем пользователи тарифа ультра больше пользуются услугами оператора, чем пользователи тарифа смарт.\n",
    "\n",
    "### Однако рассеяние вокруг среднего значения у ультра также выше, кроме параметра интернет-трафик. Тут можно выделить два момента:\n",
    "\n",
    "##### большая дисперсия у ультра можно объяснить меньшим объемом выборки, чем у смарт;\n",
    "##### меньшая дисперсия в интрнет-трафике говорит о том, что возможно пользователи выбирают тариф ультра из-за большого включенного пакета мегабайт трафика, т.к. сейчас в основном большая часть звонков и сообщений передается посредством сети интрнет. Т.о. пользователи ультра не заботятся об экономии трафика и используют его свободно, что приводит к среднему с меньшим разбросом. В то время как пользователи смарт экономно используют свой лимит и в итоге к концу месяца у многих оставшийся трафик сгорает, а у некоторых, кто \"забылся\" и не следил за лимитом, - перерасход."
   ]
  },
  {
   "cell_type": "markdown",
   "metadata": {},
   "source": [
    "## Посмотрим какое количество пользователей тратит то или иное количество предоставленных услуг. Для этого построим частотные гистограммы:"
   ]
  },
  {
   "cell_type": "code",
   "execution_count": 54,
   "metadata": {},
   "outputs": [
    {
     "data": {
      "text/html": [
       "<div>\n",
       "<style scoped>\n",
       "    .dataframe tbody tr th:only-of-type {\n",
       "        vertical-align: middle;\n",
       "    }\n",
       "\n",
       "    .dataframe tbody tr th {\n",
       "        vertical-align: top;\n",
       "    }\n",
       "\n",
       "    .dataframe thead th {\n",
       "        text-align: right;\n",
       "    }\n",
       "</style>\n",
       "<table border=\"1\" class=\"dataframe\">\n",
       "  <thead>\n",
       "    <tr style=\"text-align: right;\">\n",
       "      <th></th>\n",
       "      <th>tariff</th>\n",
       "      <th>user_id</th>\n",
       "      <th>month</th>\n",
       "      <th>calls_count</th>\n",
       "      <th>calls_duration</th>\n",
       "      <th>messages_count</th>\n",
       "      <th>traffic_volume</th>\n",
       "      <th>total_bill</th>\n",
       "    </tr>\n",
       "  </thead>\n",
       "  <tbody>\n",
       "    <tr>\n",
       "      <th>0</th>\n",
       "      <td>smart</td>\n",
       "      <td>1001</td>\n",
       "      <td>11.0</td>\n",
       "      <td>59.0</td>\n",
       "      <td>430.0</td>\n",
       "      <td>0.0</td>\n",
       "      <td>18.0</td>\n",
       "      <td>1150.0</td>\n",
       "    </tr>\n",
       "    <tr>\n",
       "      <th>1</th>\n",
       "      <td>smart</td>\n",
       "      <td>1001</td>\n",
       "      <td>12.0</td>\n",
       "      <td>63.0</td>\n",
       "      <td>414.0</td>\n",
       "      <td>0.0</td>\n",
       "      <td>14.0</td>\n",
       "      <td>550.0</td>\n",
       "    </tr>\n",
       "    <tr>\n",
       "      <th>2</th>\n",
       "      <td>smart</td>\n",
       "      <td>1002</td>\n",
       "      <td>6.0</td>\n",
       "      <td>15.0</td>\n",
       "      <td>117.0</td>\n",
       "      <td>4.0</td>\n",
       "      <td>11.0</td>\n",
       "      <td>550.0</td>\n",
       "    </tr>\n",
       "    <tr>\n",
       "      <th>3</th>\n",
       "      <td>smart</td>\n",
       "      <td>1002</td>\n",
       "      <td>7.0</td>\n",
       "      <td>26.0</td>\n",
       "      <td>214.0</td>\n",
       "      <td>11.0</td>\n",
       "      <td>18.0</td>\n",
       "      <td>1150.0</td>\n",
       "    </tr>\n",
       "    <tr>\n",
       "      <th>4</th>\n",
       "      <td>smart</td>\n",
       "      <td>1002</td>\n",
       "      <td>8.0</td>\n",
       "      <td>42.0</td>\n",
       "      <td>289.0</td>\n",
       "      <td>13.0</td>\n",
       "      <td>20.0</td>\n",
       "      <td>1550.0</td>\n",
       "    </tr>\n",
       "    <tr>\n",
       "      <th>...</th>\n",
       "      <td>...</td>\n",
       "      <td>...</td>\n",
       "      <td>...</td>\n",
       "      <td>...</td>\n",
       "      <td>...</td>\n",
       "      <td>...</td>\n",
       "      <td>...</td>\n",
       "      <td>...</td>\n",
       "    </tr>\n",
       "    <tr>\n",
       "      <th>3209</th>\n",
       "      <td>ultra</td>\n",
       "      <td>1495</td>\n",
       "      <td>8.0</td>\n",
       "      <td>17.0</td>\n",
       "      <td>92.0</td>\n",
       "      <td>13.0</td>\n",
       "      <td>3.0</td>\n",
       "      <td>1950.0</td>\n",
       "    </tr>\n",
       "    <tr>\n",
       "      <th>3210</th>\n",
       "      <td>ultra</td>\n",
       "      <td>1495</td>\n",
       "      <td>9.0</td>\n",
       "      <td>112.0</td>\n",
       "      <td>813.0</td>\n",
       "      <td>82.0</td>\n",
       "      <td>33.0</td>\n",
       "      <td>2400.0</td>\n",
       "    </tr>\n",
       "    <tr>\n",
       "      <th>3211</th>\n",
       "      <td>ultra</td>\n",
       "      <td>1495</td>\n",
       "      <td>10.0</td>\n",
       "      <td>152.0</td>\n",
       "      <td>1030.0</td>\n",
       "      <td>82.0</td>\n",
       "      <td>29.0</td>\n",
       "      <td>1950.0</td>\n",
       "    </tr>\n",
       "    <tr>\n",
       "      <th>3212</th>\n",
       "      <td>ultra</td>\n",
       "      <td>1495</td>\n",
       "      <td>11.0</td>\n",
       "      <td>129.0</td>\n",
       "      <td>954.0</td>\n",
       "      <td>79.0</td>\n",
       "      <td>39.0</td>\n",
       "      <td>3300.0</td>\n",
       "    </tr>\n",
       "    <tr>\n",
       "      <th>3213</th>\n",
       "      <td>ultra</td>\n",
       "      <td>1495</td>\n",
       "      <td>12.0</td>\n",
       "      <td>155.0</td>\n",
       "      <td>1031.0</td>\n",
       "      <td>84.0</td>\n",
       "      <td>23.0</td>\n",
       "      <td>1950.0</td>\n",
       "    </tr>\n",
       "  </tbody>\n",
       "</table>\n",
       "<p>3214 rows × 8 columns</p>\n",
       "</div>"
      ],
      "text/plain": [
       "     tariff  user_id  month  calls_count  calls_duration  messages_count  \\\n",
       "0     smart     1001   11.0         59.0           430.0             0.0   \n",
       "1     smart     1001   12.0         63.0           414.0             0.0   \n",
       "2     smart     1002    6.0         15.0           117.0             4.0   \n",
       "3     smart     1002    7.0         26.0           214.0            11.0   \n",
       "4     smart     1002    8.0         42.0           289.0            13.0   \n",
       "...     ...      ...    ...          ...             ...             ...   \n",
       "3209  ultra     1495    8.0         17.0            92.0            13.0   \n",
       "3210  ultra     1495    9.0        112.0           813.0            82.0   \n",
       "3211  ultra     1495   10.0        152.0          1030.0            82.0   \n",
       "3212  ultra     1495   11.0        129.0           954.0            79.0   \n",
       "3213  ultra     1495   12.0        155.0          1031.0            84.0   \n",
       "\n",
       "      traffic_volume  total_bill  \n",
       "0               18.0      1150.0  \n",
       "1               14.0       550.0  \n",
       "2               11.0       550.0  \n",
       "3               18.0      1150.0  \n",
       "4               20.0      1550.0  \n",
       "...              ...         ...  \n",
       "3209             3.0      1950.0  \n",
       "3210            33.0      2400.0  \n",
       "3211            29.0      1950.0  \n",
       "3212            39.0      3300.0  \n",
       "3213            23.0      1950.0  \n",
       "\n",
       "[3214 rows x 8 columns]"
      ]
     },
     "execution_count": 54,
     "metadata": {},
     "output_type": "execute_result"
    }
   ],
   "source": [
    "# сгруппируем данных сводной таблицей по тарифу и пользователям:\n",
    "cmit_sum_for_hist = (df_cmiu_pivot\n",
    "                     .pivot_table(index=['tariff', 'user_id', 'month'],values=['calls_count', 'calls_duration', 'messages_count', 'traffic_volume', 'total_bill'],\\\n",
    "                                  aggfunc=sum))\n",
    "\n",
    "# расставим столбцы в удобном порядке:\n",
    "cols = cmit_sum_for_hist.columns.tolist()\n",
    "cols = cols[:3] + cols[-1:] + cols[-2:4]\n",
    "cmit_sum_for_hist = cmit_sum_for_hist[cols]\n",
    "\n",
    "cmit_sum_for_hist.reset_index(inplace=True)\n",
    "\n",
    "cmit_sum_for_hist"
   ]
  },
  {
   "cell_type": "code",
   "execution_count": 55,
   "metadata": {},
   "outputs": [
    {
     "data": {
      "image/png": "[encoded data removed]",
      "text/plain": [
       "<Figure size 720x360 with 1 Axes>"
      ]
     },
     "metadata": {
      "needs_background": "light"
     },
     "output_type": "display_data"
    }
   ],
   "source": [
    "cmit_sum_for_hist[cmit_sum_for_hist['tariff']=='smart']['calls_count'].plot(bins=60, kind = 'hist', figsize = (10,5), title = 'Количество звонков', label = 'Смарт', alpha = 0.6)\n",
    "cmit_sum_for_hist[cmit_sum_for_hist['tariff']=='ultra']['calls_count'].plot(bins=60, kind = 'hist', figsize = (10,5), title = 'Количество звонков', label = 'Ультра', grid=True, legend=True, alpha = 0.6)\n",
    "plt.ylabel('Частота',color='gray')\n",
    "plt.legend(prop={'size': 16}, title = 'Тариф');\n"
   ]
  },
  {
   "cell_type": "code",
   "execution_count": 66,
   "metadata": {},
   "outputs": [
    {
     "data": {
      "text/html": [
       "<div>\n",
       "<style scoped>\n",
       "    .dataframe tbody tr th:only-of-type {\n",
       "        vertical-align: middle;\n",
       "    }\n",
       "\n",
       "    .dataframe tbody tr th {\n",
       "        vertical-align: top;\n",
       "    }\n",
       "\n",
       "    .dataframe thead th {\n",
       "        text-align: right;\n",
       "    }\n",
       "</style>\n",
       "<table border=\"1\" class=\"dataframe\">\n",
       "  <thead>\n",
       "    <tr style=\"text-align: right;\">\n",
       "      <th></th>\n",
       "      <th>calls_duration_mean</th>\n",
       "      <th>messages_count_mean</th>\n",
       "      <th>traffic_volume_mean</th>\n",
       "      <th>total_bill_mean</th>\n",
       "    </tr>\n",
       "    <tr>\n",
       "      <th>tariff</th>\n",
       "      <th></th>\n",
       "      <th></th>\n",
       "      <th></th>\n",
       "      <th></th>\n",
       "    </tr>\n",
       "  </thead>\n",
       "  <tbody>\n",
       "    <tr>\n",
       "      <th>smart</th>\n",
       "      <td>417.934948</td>\n",
       "      <td>33.384029</td>\n",
       "      <td>1289.973531</td>\n",
       "      <td>16.328847</td>\n",
       "    </tr>\n",
       "    <tr>\n",
       "      <th>ultra</th>\n",
       "      <td>526.623350</td>\n",
       "      <td>49.363452</td>\n",
       "      <td>2070.152284</td>\n",
       "      <td>19.494416</td>\n",
       "    </tr>\n",
       "  </tbody>\n",
       "</table>\n",
       "</div>"
      ],
      "text/plain": [
       "        calls_duration_mean  messages_count_mean  traffic_volume_mean  \\\n",
       "tariff                                                                  \n",
       "smart            417.934948            33.384029          1289.973531   \n",
       "ultra            526.623350            49.363452          2070.152284   \n",
       "\n",
       "        total_bill_mean  \n",
       "tariff                   \n",
       "smart         16.328847  \n",
       "ultra         19.494416  "
      ]
     },
     "metadata": {},
     "output_type": "display_data"
    },
    {
     "data": {
      "text/html": [
       "<div>\n",
       "<style scoped>\n",
       "    .dataframe tbody tr th:only-of-type {\n",
       "        vertical-align: middle;\n",
       "    }\n",
       "\n",
       "    .dataframe tbody tr th {\n",
       "        vertical-align: top;\n",
       "    }\n",
       "\n",
       "    .dataframe thead th {\n",
       "        text-align: right;\n",
       "    }\n",
       "</style>\n",
       "<table border=\"1\" class=\"dataframe\">\n",
       "  <thead>\n",
       "    <tr style=\"text-align: right;\">\n",
       "      <th></th>\n",
       "      <th>calls_duration_var</th>\n",
       "      <th>messages_count_var</th>\n",
       "      <th>traffic_volume_var</th>\n",
       "      <th>total_bill_var</th>\n",
       "    </tr>\n",
       "    <tr>\n",
       "      <th>tariff</th>\n",
       "      <th></th>\n",
       "      <th></th>\n",
       "      <th></th>\n",
       "      <th></th>\n",
       "    </tr>\n",
       "  </thead>\n",
       "  <tbody>\n",
       "    <tr>\n",
       "      <th>smart</th>\n",
       "      <td>36219.315784</td>\n",
       "      <td>796.812958</td>\n",
       "      <td>669785.708006</td>\n",
       "      <td>33.028705</td>\n",
       "    </tr>\n",
       "    <tr>\n",
       "      <th>ultra</th>\n",
       "      <td>100873.633397</td>\n",
       "      <td>2285.266143</td>\n",
       "      <td>141516.745079</td>\n",
       "      <td>97.091686</td>\n",
       "    </tr>\n",
       "  </tbody>\n",
       "</table>\n",
       "</div>"
      ],
      "text/plain": [
       "        calls_duration_var  messages_count_var  traffic_volume_var  \\\n",
       "tariff                                                               \n",
       "smart         36219.315784          796.812958       669785.708006   \n",
       "ultra        100873.633397         2285.266143       141516.745079   \n",
       "\n",
       "        total_bill_var  \n",
       "tariff                  \n",
       "smart        33.028705  \n",
       "ultra        97.091686  "
      ]
     },
     "metadata": {},
     "output_type": "display_data"
    },
    {
     "data": {
      "text/html": [
       "<div>\n",
       "<style scoped>\n",
       "    .dataframe tbody tr th:only-of-type {\n",
       "        vertical-align: middle;\n",
       "    }\n",
       "\n",
       "    .dataframe tbody tr th {\n",
       "        vertical-align: top;\n",
       "    }\n",
       "\n",
       "    .dataframe thead th {\n",
       "        text-align: right;\n",
       "    }\n",
       "</style>\n",
       "<table border=\"1\" class=\"dataframe\">\n",
       "  <thead>\n",
       "    <tr style=\"text-align: right;\">\n",
       "      <th></th>\n",
       "      <th>calls_duration_std</th>\n",
       "      <th>messages_count_std</th>\n",
       "      <th>traffic_volume_std</th>\n",
       "      <th>total_bill_std</th>\n",
       "    </tr>\n",
       "    <tr>\n",
       "      <th>tariff</th>\n",
       "      <th></th>\n",
       "      <th></th>\n",
       "      <th></th>\n",
       "      <th></th>\n",
       "    </tr>\n",
       "  </thead>\n",
       "  <tbody>\n",
       "    <tr>\n",
       "      <th>smart</th>\n",
       "      <td>190.313730</td>\n",
       "      <td>28.227876</td>\n",
       "      <td>818.404367</td>\n",
       "      <td>5.747061</td>\n",
       "    </tr>\n",
       "    <tr>\n",
       "      <th>ultra</th>\n",
       "      <td>317.606098</td>\n",
       "      <td>47.804457</td>\n",
       "      <td>376.187114</td>\n",
       "      <td>9.853511</td>\n",
       "    </tr>\n",
       "  </tbody>\n",
       "</table>\n",
       "</div>"
      ],
      "text/plain": [
       "        calls_duration_std  messages_count_std  traffic_volume_std  \\\n",
       "tariff                                                               \n",
       "smart           190.313730           28.227876          818.404367   \n",
       "ultra           317.606098           47.804457          376.187114   \n",
       "\n",
       "        total_bill_std  \n",
       "tariff                  \n",
       "smart         5.747061  \n",
       "ultra         9.853511  "
      ]
     },
     "metadata": {},
     "output_type": "display_data"
    }
   ],
   "source": [
    "for i in range(0, 3):\n",
    "    functions = ['mean', np.var, np.std]# функции, которые будем применять к значениям\n",
    "    tables = ['total_month_sum_mean', 'total_month_sum_var', 'total_month_sum_std']# названия сводных таблиц\n",
    "    list_of_cols = ['calls_duration', 'messages_count', 'traffic_volume', 'total_bill']# значения\n",
    "    suffix = ['_mean', '_var', '_std']# суффикс, который добавим к именам колонок\n",
    "    \n",
    "\n",
    "    tables[i] = df_cmiu_pivot.pivot_table(index=['tariff'], values=list_of_cols, aggfunc=functions[i])\n",
    "    tables[i].columns = ['calls_duration'+suffix[i], 'messages_count'+suffix[i],\\\n",
    "                         'traffic_volume'+suffix[i], 'total_bill'+suffix[i]]\n",
    "    display(tables[i])\n",
    "\n",
    "    "
   ]
  },
  {
   "cell_type": "code",
   "execution_count": 57,
   "metadata": {},
   "outputs": [
    {
     "data": {
      "image/png": "[encoded data removed]",
      "text/plain": [
       "<Figure size 720x360 with 1 Axes>"
      ]
     },
     "metadata": {
      "needs_background": "light"
     },
     "output_type": "display_data"
    }
   ],
   "source": [
    "cmit_sum_for_hist[cmit_sum_for_hist['tariff']=='smart']['calls_duration'].plot(bins=60, kind = 'hist', figsize = (10,5), title = 'Продолжительность звонков', label = 'Смарт',alpha = 0.6)\n",
    "cmit_sum_for_hist[cmit_sum_for_hist['tariff']=='ultra']['calls_duration'].plot(bins=60, kind = 'hist', figsize = (10,5), title = 'Продолжительность звонков', label = 'Ультра', grid=True, legend=True,alpha = 0.6)\n",
    "plt.ylabel('Частота',color='gray')\n",
    "plt.legend(prop={'size': 16}, title = 'Тариф');"
   ]
  },
  {
   "cell_type": "code",
   "execution_count": 56,
   "metadata": {},
   "outputs": [
    {
     "data": {
      "image/png": "[encoded data removed]",
      "text/plain": [
       "<Figure size 720x360 with 1 Axes>"
      ]
     },
     "metadata": {
      "needs_background": "light"
     },
     "output_type": "display_data"
    }
   ],
   "source": [
    "cmit_sum_for_hist[cmit_sum_for_hist['tariff']=='smart']['calls_count'].plot(bins=60, kind = 'hist', figsize = (10,5), title = 'Количество звонков', label = 'Смарт', alpha = 0.6)\n",
    "cmit_sum_for_hist[cmit_sum_for_hist['tariff']=='ultra']['calls_count'].plot(bins=60, kind = 'hist', figsize = (10,5), title = 'Количество звонков', label = 'Ультра', grid=True, legend=True, alpha = 0.6)\n",
    "plt.ylabel('Частота',color='gray')\n",
    "plt.legend(prop={'size': 16}, title = 'Тариф');\n"
   ]
  },
  {
   "cell_type": "code",
   "execution_count": 58,
   "metadata": {
    "scrolled": false
   },
   "outputs": [
    {
     "data": {
      "image/png": "[encoded data removed]",
      "text/plain": [
       "<Figure size 720x360 with 1 Axes>"
      ]
     },
     "metadata": {
      "needs_background": "light"
     },
     "output_type": "display_data"
    }
   ],
   "source": [
    "cmit_sum_for_hist[cmit_sum_for_hist['tariff']=='smart']['messages_count'].plot(bins=60, kind = 'hist', figsize = (10,5), title = 'Количество сообщений', label = 'Смарт', alpha = 0.6)\n",
    "cmit_sum_for_hist[cmit_sum_for_hist['tariff']=='ultra']['messages_count'].plot(bins=60, kind = 'hist', figsize = (10,5), title = 'Количество сообщений', label = 'Ультра', grid=True, legend=True,alpha = 0.6)\n",
    "plt.ylabel('Частота',color='gray')\n",
    "plt.legend(prop={'size': 16}, title = 'Тариф');"
   ]
  },
  {
   "cell_type": "code",
   "execution_count": 59,
   "metadata": {},
   "outputs": [
    {
     "data": {
      "image/png": "[encoded data removed]",
      "text/plain": [
       "<Figure size 720x360 with 1 Axes>"
      ]
     },
     "metadata": {
      "needs_background": "light"
     },
     "output_type": "display_data"
    }
   ],
   "source": [
    "cmit_sum_for_hist[cmit_sum_for_hist['tariff']=='smart']['traffic_volume'].plot(bins=60, kind = 'hist', figsize = (10,5), title = 'Интернет-трафик', label = 'Смарт', alpha = 0.6)\n",
    "cmit_sum_for_hist[cmit_sum_for_hist['tariff']=='ultra']['traffic_volume'].plot(bins=60, kind = 'hist', figsize = (10,5), title = 'Интернет-трафик', label = 'Ультра', grid=True, legend=True, alpha = 0.6)\n",
    "plt.ylabel('Частота',color='gray')\n",
    "plt.legend(prop={'size': 16}, title = 'Тариф');"
   ]
  },
  {
   "cell_type": "code",
   "execution_count": 60,
   "metadata": {},
   "outputs": [
    {
     "data": {
      "image/png": "[encoded data removed]",
      "text/plain": [
       "<Figure size 720x360 with 1 Axes>"
      ]
     },
     "metadata": {
      "needs_background": "light"
     },
     "output_type": "display_data"
    }
   ],
   "source": [
    "cmit_sum_for_hist[cmit_sum_for_hist['tariff']=='smart']['total_bill'].plot(bins=90, kind = 'hist', figsize = (10,5), title = 'Итоговый счет', label = 'Смарт', alpha = 0.6)\n",
    "cmit_sum_for_hist[cmit_sum_for_hist['tariff']=='ultra']['total_bill'].plot(bins=90, kind = 'hist', figsize = (10,5), title = 'Итоговый счет', label = 'Ультра', grid=True, legend=True, alpha = 0.6)\n",
    "plt.ylabel('Частота',color='gray')\n",
    "plt.legend(prop={'size': 16}, title = 'Тариф');"
   ]
  },
  {
   "cell_type": "code",
   "execution_count": 61,
   "metadata": {},
   "outputs": [
    {
     "data": {
      "text/plain": [
       "<AxesSubplot:title={'center':'Итоговый счет'}, ylabel='Frequency'>"
      ]
     },
     "execution_count": 61,
     "metadata": {},
     "output_type": "execute_result"
    },
    {
     "data": {
      "image/png": "[encoded data removed]",
      "text/plain": [
       "<Figure size 720x360 with 1 Axes>"
      ]
     },
     "metadata": {
      "needs_background": "light"
     },
     "output_type": "display_data"
    }
   ],
   "source": [
    "cmit_sum_for_hist['total_bill'].plot(bins=90, kind = 'hist', figsize = (10,5), title = 'Итоговый счет', label = 'Смарт', alpha = 0.4)\n"
   ]
  },
  {
   "cell_type": "markdown",
   "metadata": {},
   "source": [
    "<font color='darkorange'>Видим, что у нас 2 всплеска: чуть выше 500 и около 2000. Теперь попробуем вывести гистограмму отдельно для тарифа Ультра <font>"
   ]
  },
  {
   "cell_type": "code",
   "execution_count": 62,
   "metadata": {},
   "outputs": [
    {
     "data": {
      "text/plain": [
       "<AxesSubplot:title={'center':'Итоговый счет'}, ylabel='Frequency'>"
      ]
     },
     "execution_count": 62,
     "metadata": {},
     "output_type": "execute_result"
    },
    {
     "data": {
      "image/png": "[encoded data removed]",
      "text/plain": [
       "<Figure size 720x360 with 1 Axes>"
      ]
     },
     "metadata": {
      "needs_background": "light"
     },
     "output_type": "display_data"
    }
   ],
   "source": [
    "cmit_sum_for_hist[cmit_sum_for_hist['tariff']=='ultra']['total_bill'].plot(bins=90, kind = 'hist', figsize = (10,5), title = 'Итоговый счет', label = 'Ультра', grid=True, legend=True, alpha = 0.4)\n"
   ]
  },
  {
   "cell_type": "markdown",
   "metadata": {},
   "source": [
    "<font color='darkorange'>Получается что-то странное. Если честно, я сама не до конца понимаю, почему все значения на оси Х резко стали равны 0 (при том, что в таблице по всем строкам у тарифа Ультра значение 1950.0), но что-то мне подсказывает, что это изменится, когда поправишь функцию, чтобы ГБ сравнивались с ГБ, а не с МБ (тк тогда у тарифа Ультра будет больше одного значения)<font>"
   ]
  },
  {
   "cell_type": "markdown",
   "metadata": {},
   "source": [
    "##### –––––––––––– Конец ячеек ревьюера ––––––––––––"
   ]
  },
  {
   "cell_type": "markdown",
   "metadata": {},
   "source": [
    "\n",
    "\n",
    "###### Количество звонков: Пик у смарт приходится на 70, у ультра приближен к 0.\n",
    "\n",
    "###### Продолжительность звонков: У смарт наблюдается два основных пика около 300,400 и 600 минут, у ультра один - около 0. В основном люди тарифа смарт говорят не больше 750 минут в год, в то время как клиенты ультра почти 1750 минут. Также видим, что у ультра есть небольшой пик около 500. Более того, в пакет тарифа смарт входит 500 минут разговора. Можно отметить продолжительность звонков сверх лимита (от 500 до 1000 минут). Что касается тарифа ультра, то все клиенты укладываются в лимит по минутам (3000 минут).\n",
    "\n",
    "\n",
    "###### Количество сообщений: В обоих тарифах высока доля людей крайне мало использующих смс. При этом следует помнить, что ранее мы заменили 500 пропусков в датафрейме нулями и сейчас наблюдаем результаты этого действия. Но в любом случае все сейчас пользуются месенджерами. Но в то же время, количество околонулевых значений у смарт выше, чем у ультра.Более того, в пакет тарифа смарт входит 50 сообщений. Можно отметить количество сообщений сверх лимита (от 50 до 100 сообщений). Что касается тарифа ультра, то все клиенты укладываются в лимит по сообщениям (1000 сообщений).\n",
    "\n",
    "###### Интернет-трафик: У обоих тарифов наблюдается пик значений в районе 20-60 мб. Тем не менее пик у ультра в районе 35 мб, у смарт все пики приходятся на 30-50 мб. Более того, в пакет тарифа смарт входит 15 Гб интернет-трафика. Можно отметить использование интернет-трафика сверх лимита. Такой же вывод можно сделать и про тариф ультра,  клиенты не укладываются в лимит по трафику (более 30 Гб).\n",
    "\n",
    "###### Итоговый счет: Анализируя полученные данные, можно отметить, что тариф ультра более стабилен по выплатам по трафикам. Основной пик приходится на 1950 рублей, что является платой за пакет использования трафика в месяц. Большинство клиентов укладываются в пакет по трафику, используют в пределах пакета продолжительность звонков, количество сообщений, количество звонков. Для тарифа смарт характерено чрезмерное использование тарифа, по всем пунктам клиенты не укладываются в пределы пакета. Пик приходится на 550 рублей, но можно увидеть множество счетов, которые привышают ежемесячную плату за тариф. Так, тариф ультра является более стабильным и выгодным для клиентов."
   ]
  },
  {
   "cell_type": "markdown",
   "metadata": {},
   "source": [
    "### Проверка гипотез\n",
    "##### Первая гипотеза\n",
    "\n",
    "Первая гипотеза которую нужно проверить - средняя выручка пользователей тарифов «Ультра» и «Смарт» различается.\n",
    "\n",
    "Сформулируем нулевую и альтернативную гипотезы:\n",
    "\n",
    "H0 - средняя выручка пользователей тарифов «Ультра» и «Смарт» равны (в H0 всегда используется знак равенства);\n",
    "H1 - средние выручки пользователей тарифов «Ультра» и «Смарт» различаются.\n",
    "Чтобы проверить гипотезу о равенстве среднего применим метод scipy.stats.ttest_ind (array1, array2, equal_var), где equal_var - параметр, задающий считать ли равными дисперсии выборок. Передаётся как \"equal_var = True\" или \"equal_var = False\" (True — считать, False — не считать). Т.к. мы знаем, что дисперсии выборок по смарт и ультра различаются (3.436001e+07 и 9.886460e+07 соответственно), то equal_var зададим как False."
   ]
  },
  {
   "cell_type": "code",
   "execution_count": 63,
   "metadata": {},
   "outputs": [
    {
     "name": "stdout",
     "output_type": "stream",
     "text": [
      "p-значение: 4.2606313931076085e-250\n",
      "Отвергаем нулевую гипотезу\n"
     ]
    }
   ],
   "source": [
    "smart_ttest = df_cmiu_pivot[df_cmiu_pivot['tariff']=='smart']['total_bill']\n",
    "ultra_ttest = df_cmiu_pivot[df_cmiu_pivot['tariff']=='ultra']['total_bill']\n",
    "\n",
    "# уровень значимости зададим равным 5%\n",
    "alpha = 0.05\n",
    "\n",
    "results = st.ttest_ind(smart_ttest, ultra_ttest, equal_var=False)\n",
    "\n",
    "print('p-значение:', results.pvalue)\n",
    "\n",
    "if (results.pvalue < alpha):\n",
    "    print(\"Отвергаем нулевую гипотезу\")\n",
    "else:\n",
    "    print(\"Не получилось отвергнуть нулевую гипотезу\")"
   ]
  },
  {
   "cell_type": "markdown",
   "metadata": {},
   "source": [
    "#### p-уровень значимости слишком мал, гораздо меньше определенного нами порогового значения в 5% => средняя выручка пользователей тарифов смарт и ульра значимо отличаются друг от друга."
   ]
  },
  {
   "cell_type": "markdown",
   "metadata": {},
   "source": [
    "### Вторая гипотеза\n",
    "\n",
    "Вторая гипотеза для проверки звучит так - средняя выручка пользователей из Москвы отличается от выручки пользователей из других регионов.\n",
    "\n",
    "Н0 - средняя выручка пользователей из Москвы равна средней выручке пользователей из других регионов;\n",
    "Н1 - средняя выручка пользователей из Москвы отличается от выручки пользователей из других регионов.\n",
    "Альтернативная гипотеза у нас двусторонняя, т.к. средняя выручка из Москвы может отличаться от других регионов как в большую так и в меньшую сторону.\n",
    "\n",
    "Для проверки гипотезы воспользуемся методом scipy.stats.ttest_1samp (array, popmean), где в качестве массива данных будет выборка выручки по москвичам, а в качестве popmean (предполагаемого среднего, на равенство которому мы делаем тест) будет выступать среднее значение выручки пользователей из других регионов."
   ]
  },
  {
   "cell_type": "code",
   "execution_count": 64,
   "metadata": {},
   "outputs": [
    {
     "name": "stdout",
     "output_type": "stream",
     "text": [
      "p-значение:  0.4744239730695693\n",
      "Не получилось отвергнуть нулевую гипотезу\n"
     ]
    }
   ],
   "source": [
    "moscow_ttest = df_cmiu_pivot[df_cmiu_pivot['city']=='Москва']['total_bill']\n",
    "\n",
    "popmean = df_cmiu_pivot[df_cmiu_pivot['city']!='Москва']['total_bill'].mean()\n",
    "\n",
    "# уровень значимости 5%\n",
    "alpha = 0.05\n",
    "\n",
    "results = st.ttest_1samp(moscow_ttest, popmean)\n",
    "\n",
    "print('p-значение: ', results.pvalue)\n",
    "\n",
    "if results.pvalue < alpha:\n",
    "    print(\"Отвергаем нулевую гипотезу\")\n",
    "else:\n",
    "    print(\"Не получилось отвергнуть нулевую гипотезу\")"
   ]
  },
  {
   "cell_type": "markdown",
   "metadata": {},
   "source": [
    "#### р-уровень значимости составил почти 39%, что значительно выше 5% => средняя выручка по Москве статистически значимо не отличается от средней выручки по другим регионам."
   ]
  },
  {
   "cell_type": "markdown",
   "metadata": {},
   "source": [
    "# Общий вывод "
   ]
  },
  {
   "cell_type": "markdown",
   "metadata": {},
   "source": [
    "\n",
    "Сравнивая дисперсии двух тарифов, можно отметить превышение дисперсии тарифа ультра над тарифом смарт по следующим пунктам: продолжительность звонков, количество сообщений. По выручке дисперсия тарифа ультра также превышает значения смарт. Таким образом, можно сделать вывод, что у тарифа ультра большой разброс данных. Он больше чем у тарифа смарт. Такую дисперсию можно объяснить большим объемом трафика, количества сообщений и звонков, продолжительности звонков. \n",
    "\n",
    "Что касается стандартного отклонения тарифа ультра, то оно также больше стандартного отклонения тарифа смарт по таким пунктам как:продолжительность звонков, количество сообщений. Выручка тарифа ультра также превышает выручку стандартного отклонения тарифа смарт. Многие клиенты пользуются возможностями тарифа ультра, не обращая внимания на количество сообщений, продолжительность звонков. В то время как клиенты тарифа смарт стараются укладываться в пределы пакета тарифа, что характеризуется меньшим стандартным отклонением. \n",
    "\n"
   ]
  },
  {
   "cell_type": "markdown",
   "metadata": {},
   "source": [
    "#### В силу большей дисперсии ультра имеет более длинные хвосты чем смарт.\n",
    "\n",
    "##### Количество звонков: Пик у смарт приходится на 70, у ультра приближен к 0.\n",
    "\n",
    "##### Продолжительность звонков: У смарт наблюдается два основных пика около 300,400 и 600 минут, у ультра один - около 0. В основном люди тарифа смарт говорят не больше 750 минут в год, в то время как клиенты ультра почти 1750 минут. Также видим, что у ультра есть небольшой пик около 500. Более того, в пакет тарифа смарт входит 500 минут разговора. Можно отметить продолжительность звонков сверх лимита (от 500 до 1000 минут). Что касается тарифа ультра, то все клиенты укладываются в лимит по минутам (3000 минут).\n",
    "\n",
    "##### Количество сообщений: В обоих тарифах высока доля людей крайне мало использующих смс. При этом следует помнить, что ранее мы заменили 500 пропусков в датафрейме нулями и сейчас наблюдаем результаты этого действия. Но в любом случае все сейчас пользуются месенджерами. Но в то же время, количество околонулевых значений у смарт выше, чем у ультра.Более того, в пакет тарифа смарт входит 50 сообщений. Можно отметить количество сообщений сверх лимита (от 50 до 100 сообщений). Что касается тарифа ультра, то все клиенты укладываются в лимит по сообщениям (1000 сообщений).\n",
    "\n",
    "##### Интернет-трафик: У обоих тарифов наблюдается пик значений в районе 20-60 мб. Тем не менее пик у ультра в районе 35 мб, у смарт все пики приходятся на 30-50 мб. Более того, в пакет тарифа смарт входит 15 Гб интернет-трафика. Можно отметить использование интернет-трафика сверх лимита. Такой же вывод можно сделать и про тариф ультра, клиенты не укладываются в лимит по трафику (более 30 Гб).\n",
    "\n",
    "##### Итоговый счет: Анализируя полученные данные, можно отметить, что тариф ультра более стабилен по выплатам по трафикам. Основной пик приходится на 1950 рублей, что является платой за пакет использования трафика в месяц. Большинство клиентов укладываются в пакет по трафику, используют в пределах пакета продолжительность звонков, количество сообщений, количество звонков. Для тарифа смарт характерено чрезмерное использование тарифа, по всем пунктам клиенты не укладываются в пределы пакета. Пик приходится на 550 рублей, но можно увидеть множество счетов, которые привышают ежемесячную плату за тариф. Так, тариф ультра является более стабильным и выгодным для клиентов."
   ]
  },
  {
   "cell_type": "markdown",
   "metadata": {},
   "source": [
    "### Первая гипотеза которую нужно было проверить - средняя выручка пользователей тарифов «Ультра» и «Смарт» различается.\n",
    "### p-уровень значимости слишком мал, гораздо меньше определенного нами порогового значения в 5% => средняя выручка пользователей тарифов смарт и ульра значимо отличаются друг от друга."
   ]
  },
  {
   "cell_type": "markdown",
   "metadata": {},
   "source": [
    "### Вторая гипотеза для проверки звучит так - средняя выручка пользователей из Москвы отличается от выручки пользователей из других регионов.\n",
    "### р-уровень значимости составил почти 39%, что значительно выше 5% => средняя выручка по Москве статистически значимо не отличается от средней выручки по другим регионам."
   ]
  },
  {
   "cell_type": "markdown",
   "metadata": {},
   "source": [
    "### Сделав предварительный анализ тарифов на небольшой выборке пользователей можем передать следующие результаты коммерческому отделу:\n",
    "\n",
    "### Средние чеки тарифов смарт и ультра значимо различаются. В среднем пользователи тарифа ультра платят больше;\n",
    "### Т.к. средняя выручка по москве и другим регионам значимо не различаются, то рекламную компанию можно устроить по всей территории распространения сети;\n",
    "### Поведение клиентов в течение года очень хорошо отображено на графиках. Эти графики будут полезны чтобы скорректировать во времени рекламные компании.\n",
    "### В соответствии с проведенным анализом на тариф ультра стоит направить рекламный бюджет. "
   ]
  }
 ],
 "metadata": {
  "ExecuteTimeLog": [
   {
    "duration": 1863,
    "start_time": "2022-04-04T18:10:03.358Z"
   },
   {
    "duration": 102,
    "start_time": "2022-04-04T18:10:37.017Z"
   },
   {
    "duration": 76,
    "start_time": "2022-04-04T18:11:02.938Z"
   },
   {
    "duration": 68,
    "start_time": "2022-04-04T18:11:13.509Z"
   },
   {
    "duration": 64,
    "start_time": "2022-04-04T18:11:36.892Z"
   },
   {
    "duration": 71,
    "start_time": "2022-04-04T18:11:50.460Z"
   },
   {
    "duration": 489,
    "start_time": "2022-04-04T18:13:43.592Z"
   },
   {
    "duration": 479,
    "start_time": "2022-04-04T18:13:52.195Z"
   },
   {
    "duration": 16,
    "start_time": "2022-04-04T18:14:32.506Z"
   },
   {
    "duration": 15,
    "start_time": "2022-04-04T18:15:01.055Z"
   },
   {
    "duration": 16,
    "start_time": "2022-04-04T18:15:15.586Z"
   },
   {
    "duration": 12,
    "start_time": "2022-04-04T18:15:26.411Z"
   },
   {
    "duration": 33,
    "start_time": "2022-04-04T18:15:36.043Z"
   },
   {
    "duration": 11,
    "start_time": "2022-04-04T18:15:46.228Z"
   },
   {
    "duration": 24,
    "start_time": "2022-04-04T18:16:00.379Z"
   },
   {
    "duration": 11,
    "start_time": "2022-04-04T18:16:04.316Z"
   },
   {
    "duration": 39,
    "start_time": "2022-04-04T18:16:13.364Z"
   },
   {
    "duration": 37,
    "start_time": "2022-04-04T18:17:46.205Z"
   },
   {
    "duration": 313,
    "start_time": "2022-04-04T18:21:16.575Z"
   },
   {
    "duration": 18,
    "start_time": "2022-04-04T18:23:55.342Z"
   },
   {
    "duration": 95,
    "start_time": "2022-04-04T18:24:23.145Z"
   },
   {
    "duration": 51,
    "start_time": "2022-04-04T18:24:45.857Z"
   },
   {
    "duration": 52,
    "start_time": "2022-04-04T18:25:07.904Z"
   },
   {
    "duration": 24,
    "start_time": "2022-04-04T18:25:36.395Z"
   },
   {
    "duration": 12,
    "start_time": "2022-04-04T18:26:10.642Z"
   },
   {
    "duration": 72,
    "start_time": "2022-04-04T18:28:40.701Z"
   },
   {
    "duration": 75,
    "start_time": "2022-04-04T18:28:43.569Z"
   },
   {
    "duration": 13,
    "start_time": "2022-04-04T18:28:55.409Z"
   },
   {
    "duration": 11,
    "start_time": "2022-04-04T18:29:05.367Z"
   },
   {
    "duration": 13,
    "start_time": "2022-04-04T18:29:14.584Z"
   },
   {
    "duration": 42,
    "start_time": "2022-04-04T18:29:42.376Z"
   },
   {
    "duration": 34,
    "start_time": "2022-04-04T18:29:50.586Z"
   },
   {
    "duration": 31,
    "start_time": "2022-04-04T18:30:01.108Z"
   },
   {
    "duration": 44,
    "start_time": "2022-04-04T18:30:27.035Z"
   },
   {
    "duration": 23,
    "start_time": "2022-04-04T18:30:36.613Z"
   },
   {
    "duration": 21,
    "start_time": "2022-04-04T18:30:47.853Z"
   },
   {
    "duration": 13,
    "start_time": "2022-04-04T18:30:57.018Z"
   },
   {
    "duration": 26,
    "start_time": "2022-04-04T18:31:06.466Z"
   },
   {
    "duration": 10,
    "start_time": "2022-04-04T18:31:30.997Z"
   },
   {
    "duration": 20,
    "start_time": "2022-04-04T18:31:42.610Z"
   },
   {
    "duration": 16,
    "start_time": "2022-04-04T18:31:51.695Z"
   },
   {
    "duration": 10,
    "start_time": "2022-04-04T18:32:00.236Z"
   },
   {
    "duration": 9,
    "start_time": "2022-04-04T18:32:26.653Z"
   },
   {
    "duration": 225,
    "start_time": "2022-04-04T18:32:36.228Z"
   },
   {
    "duration": 40,
    "start_time": "2022-04-04T18:33:12.506Z"
   },
   {
    "duration": 2557,
    "start_time": "2022-04-04T18:33:23.076Z"
   },
   {
    "duration": 9,
    "start_time": "2022-04-04T18:33:52.262Z"
   },
   {
    "duration": 9,
    "start_time": "2022-04-04T18:33:59.346Z"
   },
   {
    "duration": 141,
    "start_time": "2022-04-04T18:35:08.055Z"
   },
   {
    "duration": 36,
    "start_time": "2022-04-04T18:36:00.510Z"
   },
   {
    "duration": 120,
    "start_time": "2022-04-04T18:36:14.254Z"
   },
   {
    "duration": 48,
    "start_time": "2022-04-04T18:36:35.011Z"
   },
   {
    "duration": 104,
    "start_time": "2022-04-04T18:36:38.050Z"
   },
   {
    "duration": 141,
    "start_time": "2022-04-04T18:37:04.817Z"
   },
   {
    "duration": 160,
    "start_time": "2022-04-04T18:37:25.234Z"
   },
   {
    "duration": 107,
    "start_time": "2022-04-04T18:38:07.639Z"
   },
   {
    "duration": 95,
    "start_time": "2022-04-04T18:38:32.570Z"
   },
   {
    "duration": 3565,
    "start_time": "2022-04-04T18:38:48.021Z"
   },
   {
    "duration": 106,
    "start_time": "2022-04-04T18:39:50.891Z"
   },
   {
    "duration": 3785,
    "start_time": "2022-04-04T18:40:01.380Z"
   },
   {
    "duration": 12,
    "start_time": "2022-04-04T18:41:35.707Z"
   },
   {
    "duration": 12,
    "start_time": "2022-04-04T18:42:28.297Z"
   },
   {
    "duration": 1688,
    "start_time": "2022-04-14T19:48:42.517Z"
   },
   {
    "duration": 9,
    "start_time": "2022-04-14T19:48:44.207Z"
   },
   {
    "duration": 10,
    "start_time": "2022-04-14T19:48:44.217Z"
   },
   {
    "duration": 9,
    "start_time": "2022-04-14T19:48:44.229Z"
   },
   {
    "duration": 8,
    "start_time": "2022-04-14T19:48:44.240Z"
   },
   {
    "duration": 24,
    "start_time": "2022-04-14T19:48:44.249Z"
   },
   {
    "duration": 6,
    "start_time": "2022-04-14T19:48:44.274Z"
   },
   {
    "duration": 15,
    "start_time": "2022-04-14T19:48:44.300Z"
   },
   {
    "duration": 7,
    "start_time": "2022-04-14T19:48:44.317Z"
   },
   {
    "duration": 22,
    "start_time": "2022-04-14T19:48:44.326Z"
   },
   {
    "duration": 20,
    "start_time": "2022-04-14T19:48:44.350Z"
   },
   {
    "duration": 228,
    "start_time": "2022-04-14T19:48:44.372Z"
   },
   {
    "duration": 10,
    "start_time": "2022-04-14T19:48:44.602Z"
   },
   {
    "duration": 45,
    "start_time": "2022-04-14T19:48:44.614Z"
   },
   {
    "duration": 44,
    "start_time": "2022-04-14T19:48:44.660Z"
   },
   {
    "duration": 36,
    "start_time": "2022-04-14T19:48:44.706Z"
   },
   {
    "duration": 15,
    "start_time": "2022-04-14T19:48:44.743Z"
   },
   {
    "duration": 9,
    "start_time": "2022-04-14T19:48:44.759Z"
   },
   {
    "duration": 73,
    "start_time": "2022-04-14T19:48:44.770Z"
   },
   {
    "duration": 8,
    "start_time": "2022-04-14T19:48:44.845Z"
   },
   {
    "duration": 11,
    "start_time": "2022-04-14T19:48:44.854Z"
   },
   {
    "duration": 15,
    "start_time": "2022-04-14T19:48:44.866Z"
   },
   {
    "duration": 41,
    "start_time": "2022-04-14T19:48:44.882Z"
   },
   {
    "duration": 23,
    "start_time": "2022-04-14T19:48:44.925Z"
   },
   {
    "duration": 20,
    "start_time": "2022-04-14T19:48:44.950Z"
   },
   {
    "duration": 53,
    "start_time": "2022-04-14T19:48:44.972Z"
   },
   {
    "duration": 16,
    "start_time": "2022-04-14T19:48:45.027Z"
   },
   {
    "duration": 13,
    "start_time": "2022-04-14T19:48:45.046Z"
   },
   {
    "duration": 7,
    "start_time": "2022-04-14T19:48:45.060Z"
   },
   {
    "duration": 37,
    "start_time": "2022-04-14T19:48:45.068Z"
   },
   {
    "duration": 6,
    "start_time": "2022-04-14T19:48:45.106Z"
   },
   {
    "duration": 11,
    "start_time": "2022-04-14T19:48:45.113Z"
   },
   {
    "duration": 11,
    "start_time": "2022-04-14T19:48:45.126Z"
   },
   {
    "duration": 6,
    "start_time": "2022-04-14T19:48:45.138Z"
   },
   {
    "duration": 5,
    "start_time": "2022-04-14T19:48:45.145Z"
   },
   {
    "duration": 145,
    "start_time": "2022-04-14T19:48:45.151Z"
   },
   {
    "duration": 22,
    "start_time": "2022-04-14T19:48:45.298Z"
   },
   {
    "duration": 1359,
    "start_time": "2022-04-14T19:48:45.321Z"
   },
   {
    "duration": 5,
    "start_time": "2022-04-14T19:48:46.681Z"
   },
   {
    "duration": 14,
    "start_time": "2022-04-14T19:48:46.687Z"
   },
   {
    "duration": 32,
    "start_time": "2022-04-14T19:48:46.702Z"
   },
   {
    "duration": 21,
    "start_time": "2022-04-14T19:48:46.735Z"
   },
   {
    "duration": 1886,
    "start_time": "2022-04-14T19:48:46.757Z"
   },
   {
    "duration": 7,
    "start_time": "2022-04-14T19:48:48.645Z"
   },
   {
    "duration": 8,
    "start_time": "2022-04-14T19:48:48.653Z"
   },
   {
    "duration": 4,
    "start_time": "2022-04-14T20:55:58.731Z"
   },
   {
    "duration": 88,
    "start_time": "2022-04-14T20:57:49.455Z"
   },
   {
    "duration": 4,
    "start_time": "2022-04-14T20:57:57.792Z"
   },
   {
    "duration": 4,
    "start_time": "2022-04-14T20:58:17.907Z"
   },
   {
    "duration": 2303,
    "start_time": "2022-04-16T21:17:05.244Z"
   },
   {
    "duration": 39,
    "start_time": "2022-04-16T21:17:13.598Z"
   },
   {
    "duration": 334,
    "start_time": "2022-04-16T21:17:19.978Z"
   },
   {
    "duration": 21,
    "start_time": "2022-04-16T21:17:24.119Z"
   },
   {
    "duration": 75,
    "start_time": "2022-04-16T21:17:27.622Z"
   },
   {
    "duration": 46,
    "start_time": "2022-04-16T21:17:29.966Z"
   },
   {
    "duration": 56,
    "start_time": "2022-04-16T21:17:32.877Z"
   },
   {
    "duration": 74,
    "start_time": "2022-04-16T21:17:47.495Z"
   },
   {
    "duration": 140,
    "start_time": "2022-04-16T21:17:53.495Z"
   },
   {
    "duration": 13,
    "start_time": "2022-04-16T21:18:06.208Z"
   },
   {
    "duration": 1693,
    "start_time": "2022-04-16T21:18:21.586Z"
   },
   {
    "duration": 49,
    "start_time": "2022-04-16T21:19:05.218Z"
   },
   {
    "duration": 37,
    "start_time": "2022-04-16T21:24:44.635Z"
   },
   {
    "duration": 43,
    "start_time": "2022-04-16T21:28:51.941Z"
   },
   {
    "duration": 11,
    "start_time": "2022-04-16T21:28:57.248Z"
   },
   {
    "duration": 12,
    "start_time": "2022-04-16T21:29:00.275Z"
   },
   {
    "duration": 34,
    "start_time": "2022-04-16T21:30:25.064Z"
   },
   {
    "duration": 36,
    "start_time": "2022-04-16T21:30:27.708Z"
   },
   {
    "duration": 45,
    "start_time": "2022-04-16T21:30:30.683Z"
   },
   {
    "duration": 42,
    "start_time": "2022-04-16T21:30:48.320Z"
   },
   {
    "duration": 41,
    "start_time": "2022-04-16T21:50:57.462Z"
   },
   {
    "duration": 100,
    "start_time": "2022-04-16T21:51:13.243Z"
   },
   {
    "duration": 41,
    "start_time": "2022-04-16T21:51:22.942Z"
   },
   {
    "duration": 43,
    "start_time": "2022-04-16T21:51:30.275Z"
   },
   {
    "duration": 20,
    "start_time": "2022-04-16T21:52:30.150Z"
   },
   {
    "duration": 19,
    "start_time": "2022-04-16T21:52:38.824Z"
   },
   {
    "duration": 39,
    "start_time": "2022-04-16T21:52:54.374Z"
   },
   {
    "duration": 43,
    "start_time": "2022-04-16T21:53:02.250Z"
   },
   {
    "duration": 7,
    "start_time": "2022-04-16T21:53:09.269Z"
   },
   {
    "duration": 14,
    "start_time": "2022-04-16T21:55:39.553Z"
   },
   {
    "duration": 17,
    "start_time": "2022-04-16T21:57:47.133Z"
   },
   {
    "duration": 41,
    "start_time": "2022-04-16T21:57:58.643Z"
   },
   {
    "duration": 29,
    "start_time": "2022-04-16T22:00:11.152Z"
   },
   {
    "duration": 19,
    "start_time": "2022-04-16T22:00:18.510Z"
   },
   {
    "duration": 19,
    "start_time": "2022-04-16T22:03:50.474Z"
   },
   {
    "duration": 110,
    "start_time": "2022-04-16T22:04:00.238Z"
   },
   {
    "duration": 5,
    "start_time": "2022-04-16T22:04:04.066Z"
   },
   {
    "duration": 96,
    "start_time": "2022-04-16T22:04:09.828Z"
   },
   {
    "duration": 6,
    "start_time": "2022-04-16T22:04:40.225Z"
   },
   {
    "duration": 107,
    "start_time": "2022-04-16T22:07:13.224Z"
   },
   {
    "duration": 13,
    "start_time": "2022-04-16T22:07:22.116Z"
   },
   {
    "duration": 14,
    "start_time": "2022-04-16T22:07:57.198Z"
   },
   {
    "duration": 13,
    "start_time": "2022-04-16T22:08:34.326Z"
   },
   {
    "duration": 13,
    "start_time": "2022-04-16T22:08:40.664Z"
   },
   {
    "duration": 13,
    "start_time": "2022-04-16T22:09:04.477Z"
   },
   {
    "duration": 21,
    "start_time": "2022-04-16T22:11:30.246Z"
   },
   {
    "duration": 19,
    "start_time": "2022-04-16T22:11:35.394Z"
   },
   {
    "duration": 13,
    "start_time": "2022-04-16T22:12:32.310Z"
   },
   {
    "duration": 41,
    "start_time": "2022-04-16T22:20:26.281Z"
   },
   {
    "duration": 18,
    "start_time": "2022-04-16T22:22:45.487Z"
   },
   {
    "duration": 23,
    "start_time": "2022-04-16T22:24:22.488Z"
   },
   {
    "duration": 32,
    "start_time": "2022-04-16T22:25:16.126Z"
   },
   {
    "duration": 6,
    "start_time": "2022-04-16T22:25:24.881Z"
   },
   {
    "duration": 13,
    "start_time": "2022-04-16T22:25:28.833Z"
   },
   {
    "duration": 7,
    "start_time": "2022-04-16T22:25:41.993Z"
   },
   {
    "duration": 7,
    "start_time": "2022-04-16T22:26:03.344Z"
   },
   {
    "duration": 7,
    "start_time": "2022-04-16T22:26:07.003Z"
   },
   {
    "duration": 7,
    "start_time": "2022-04-16T22:26:09.983Z"
   },
   {
    "duration": 18,
    "start_time": "2022-04-16T22:27:43.025Z"
   },
   {
    "duration": 32,
    "start_time": "2022-04-16T22:28:00.890Z"
   },
   {
    "duration": 32,
    "start_time": "2022-04-16T22:28:55.834Z"
   },
   {
    "duration": 7,
    "start_time": "2022-04-16T22:29:01.215Z"
   },
   {
    "duration": 7,
    "start_time": "2022-04-16T22:29:04.560Z"
   },
   {
    "duration": 7,
    "start_time": "2022-04-16T22:29:08.013Z"
   },
   {
    "duration": 8,
    "start_time": "2022-04-16T22:31:33.620Z"
   },
   {
    "duration": 13,
    "start_time": "2022-04-16T22:33:23.133Z"
   },
   {
    "duration": 12,
    "start_time": "2022-04-16T22:33:41.093Z"
   },
   {
    "duration": 12,
    "start_time": "2022-04-16T22:33:43.935Z"
   },
   {
    "duration": 18,
    "start_time": "2022-04-16T22:34:31.828Z"
   },
   {
    "duration": 18,
    "start_time": "2022-04-16T22:34:42.213Z"
   },
   {
    "duration": 18,
    "start_time": "2022-04-16T22:35:02.263Z"
   },
   {
    "duration": 18,
    "start_time": "2022-04-16T22:35:14.442Z"
   },
   {
    "duration": 25,
    "start_time": "2022-04-16T22:36:20.503Z"
   },
   {
    "duration": 7,
    "start_time": "2022-04-16T22:36:30.232Z"
   },
   {
    "duration": 12,
    "start_time": "2022-04-16T22:36:50.390Z"
   },
   {
    "duration": 1654,
    "start_time": "2022-04-16T22:37:01.011Z"
   },
   {
    "duration": 8,
    "start_time": "2022-04-16T22:37:38.918Z"
   },
   {
    "duration": 19,
    "start_time": "2022-04-16T22:37:49.980Z"
   },
   {
    "duration": 25,
    "start_time": "2022-04-16T22:37:57.678Z"
   },
   {
    "duration": 7,
    "start_time": "2022-04-16T22:38:02.613Z"
   },
   {
    "duration": 13,
    "start_time": "2022-04-16T22:38:07.782Z"
   },
   {
    "duration": 25,
    "start_time": "2022-04-16T22:38:11.457Z"
   },
   {
    "duration": 10,
    "start_time": "2022-04-16T22:38:14.636Z"
   },
   {
    "duration": 1772,
    "start_time": "2022-04-16T22:38:19.190Z"
   },
   {
    "duration": 1675,
    "start_time": "2022-04-16T22:38:32.479Z"
   },
   {
    "duration": 1822,
    "start_time": "2022-04-16T22:39:07.295Z"
   },
   {
    "duration": 1647,
    "start_time": "2022-04-16T22:40:10.409Z"
   },
   {
    "duration": 1986,
    "start_time": "2022-04-16T22:40:24.504Z"
   },
   {
    "duration": 35,
    "start_time": "2022-04-16T22:40:33.453Z"
   },
   {
    "duration": 13,
    "start_time": "2022-04-16T22:40:36.573Z"
   },
   {
    "duration": 10,
    "start_time": "2022-04-16T22:40:40.074Z"
   },
   {
    "duration": 14,
    "start_time": "2022-04-16T22:40:52.384Z"
   },
   {
    "duration": 13,
    "start_time": "2022-04-16T22:41:05.633Z"
   },
   {
    "duration": 11,
    "start_time": "2022-04-16T22:41:07.912Z"
   },
   {
    "duration": 8,
    "start_time": "2022-04-16T22:41:23.075Z"
   },
   {
    "duration": 1683,
    "start_time": "2022-04-16T22:41:32.879Z"
   },
   {
    "duration": 1709,
    "start_time": "2022-04-16T22:41:56.991Z"
   },
   {
    "duration": 1681,
    "start_time": "2022-04-16T22:42:54.688Z"
   },
   {
    "duration": 15,
    "start_time": "2022-04-16T22:43:07.515Z"
   },
   {
    "duration": 32,
    "start_time": "2022-04-16T22:45:08.162Z"
   },
   {
    "duration": 26,
    "start_time": "2022-04-16T22:45:14.017Z"
   },
   {
    "duration": 6,
    "start_time": "2022-04-16T22:45:17.695Z"
   },
   {
    "duration": 12,
    "start_time": "2022-04-16T22:45:21.328Z"
   },
   {
    "duration": 27,
    "start_time": "2022-04-16T22:45:24.267Z"
   },
   {
    "duration": 11,
    "start_time": "2022-04-16T22:45:26.987Z"
   },
   {
    "duration": 20,
    "start_time": "2022-04-16T22:45:31.350Z"
   },
   {
    "duration": 16,
    "start_time": "2022-04-16T22:45:35.373Z"
   },
   {
    "duration": 7,
    "start_time": "2022-04-16T22:45:39.818Z"
   },
   {
    "duration": 214,
    "start_time": "2022-04-16T22:45:42.258Z"
   },
   {
    "duration": 209,
    "start_time": "2022-04-16T22:45:59.421Z"
   },
   {
    "duration": 220,
    "start_time": "2022-04-16T22:46:10.549Z"
   },
   {
    "duration": 195,
    "start_time": "2022-04-16T22:47:41.470Z"
   },
   {
    "duration": 203,
    "start_time": "2022-04-16T22:48:02.381Z"
   },
   {
    "duration": 197,
    "start_time": "2022-04-16T22:48:27.786Z"
   },
   {
    "duration": 197,
    "start_time": "2022-04-16T22:48:56.018Z"
   },
   {
    "duration": 205,
    "start_time": "2022-04-16T22:49:48.956Z"
   },
   {
    "duration": 212,
    "start_time": "2022-04-16T22:49:58.635Z"
   },
   {
    "duration": 193,
    "start_time": "2022-04-16T22:51:48.124Z"
   },
   {
    "duration": 192,
    "start_time": "2022-04-16T22:52:00.878Z"
   },
   {
    "duration": 197,
    "start_time": "2022-04-16T22:52:06.171Z"
   },
   {
    "duration": 190,
    "start_time": "2022-04-16T22:52:12.934Z"
   },
   {
    "duration": 218,
    "start_time": "2022-04-16T22:54:01.470Z"
   },
   {
    "duration": 39,
    "start_time": "2022-04-16T22:54:08.191Z"
   },
   {
    "duration": 2482,
    "start_time": "2022-04-16T23:01:07.802Z"
   },
   {
    "duration": 2571,
    "start_time": "2022-04-16T23:01:42.718Z"
   },
   {
    "duration": 2488,
    "start_time": "2022-04-16T23:01:47.921Z"
   },
   {
    "duration": 2692,
    "start_time": "2022-04-16T23:03:10.150Z"
   },
   {
    "duration": 144,
    "start_time": "2022-04-16T23:03:32.198Z"
   },
   {
    "duration": 15,
    "start_time": "2022-04-16T23:07:01.678Z"
   },
   {
    "duration": 21,
    "start_time": "2022-04-16T23:07:26.881Z"
   },
   {
    "duration": 20,
    "start_time": "2022-04-16T23:07:29.648Z"
   },
   {
    "duration": 55,
    "start_time": "2022-04-17T13:04:08.637Z"
   },
   {
    "duration": 9,
    "start_time": "2022-04-17T13:04:21.065Z"
   },
   {
    "duration": 8,
    "start_time": "2022-04-17T13:04:31.014Z"
   },
   {
    "duration": 11,
    "start_time": "2022-04-17T13:07:16.752Z"
   },
   {
    "duration": 10,
    "start_time": "2022-04-17T13:07:27.979Z"
   },
   {
    "duration": 2218,
    "start_time": "2022-04-17T13:07:33.859Z"
   },
   {
    "duration": 33,
    "start_time": "2022-04-17T13:07:41.096Z"
   },
   {
    "duration": 454,
    "start_time": "2022-04-17T13:07:43.628Z"
   },
   {
    "duration": 23,
    "start_time": "2022-04-17T13:07:46.910Z"
   },
   {
    "duration": 69,
    "start_time": "2022-04-17T13:07:49.952Z"
   },
   {
    "duration": 58,
    "start_time": "2022-04-17T13:07:52.039Z"
   },
   {
    "duration": 43,
    "start_time": "2022-04-17T13:07:54.780Z"
   },
   {
    "duration": 18,
    "start_time": "2022-04-17T13:07:56.868Z"
   },
   {
    "duration": 10,
    "start_time": "2022-04-17T13:07:59.241Z"
   },
   {
    "duration": 66,
    "start_time": "2022-04-17T13:08:02.244Z"
   },
   {
    "duration": 35,
    "start_time": "2022-04-17T13:08:06.648Z"
   },
   {
    "duration": 33,
    "start_time": "2022-04-17T13:08:09.382Z"
   },
   {
    "duration": 28,
    "start_time": "2022-04-17T13:08:11.960Z"
   },
   {
    "duration": 46,
    "start_time": "2022-04-17T13:08:14.103Z"
   },
   {
    "duration": 19,
    "start_time": "2022-04-17T13:08:18.844Z"
   },
   {
    "duration": 5,
    "start_time": "2022-04-17T13:08:20.960Z"
   },
   {
    "duration": 13,
    "start_time": "2022-04-17T13:08:22.989Z"
   },
   {
    "duration": 18,
    "start_time": "2022-04-17T13:08:24.818Z"
   },
   {
    "duration": 8,
    "start_time": "2022-04-17T13:08:27.345Z"
   },
   {
    "duration": 23,
    "start_time": "2022-04-17T13:08:30.339Z"
   },
   {
    "duration": 21,
    "start_time": "2022-04-17T13:08:32.273Z"
   },
   {
    "duration": 9,
    "start_time": "2022-04-17T13:08:35.766Z"
   },
   {
    "duration": 220,
    "start_time": "2022-04-17T13:08:37.893Z"
   },
   {
    "duration": 31,
    "start_time": "2022-04-17T13:08:40.694Z"
   },
   {
    "duration": 362,
    "start_time": "2022-04-17T13:08:44.724Z"
   },
   {
    "duration": 1605,
    "start_time": "2022-04-17T13:09:15.113Z"
   },
   {
    "duration": 472,
    "start_time": "2022-04-17T13:09:29.435Z"
   },
   {
    "duration": 148,
    "start_time": "2022-04-17T13:09:47.717Z"
   },
   {
    "duration": 171,
    "start_time": "2022-04-17T13:09:56.170Z"
   },
   {
    "duration": 144,
    "start_time": "2022-04-17T13:10:05.614Z"
   },
   {
    "duration": 20,
    "start_time": "2022-04-17T13:10:46.966Z"
   },
   {
    "duration": 352,
    "start_time": "2022-04-17T13:10:56.799Z"
   },
   {
    "duration": 226,
    "start_time": "2022-04-17T13:11:00.176Z"
   },
   {
    "duration": 1664,
    "start_time": "2022-04-17T13:15:35.547Z"
   },
   {
    "duration": 13,
    "start_time": "2022-04-17T13:16:29.325Z"
   },
   {
    "duration": 1600,
    "start_time": "2022-04-17T13:16:40.272Z"
   },
   {
    "duration": 1236,
    "start_time": "2022-04-17T13:19:25.713Z"
   },
   {
    "duration": 3841,
    "start_time": "2022-04-17T13:19:55.820Z"
   },
   {
    "duration": 2785,
    "start_time": "2022-04-17T13:22:25.496Z"
   },
   {
    "duration": 199,
    "start_time": "2022-04-17T13:22:36.185Z"
   },
   {
    "duration": 2885,
    "start_time": "2022-04-17T13:22:56.710Z"
   },
   {
    "duration": 2139,
    "start_time": "2022-04-17T13:25:13.618Z"
   },
   {
    "duration": 17,
    "start_time": "2022-04-17T13:25:33.550Z"
   },
   {
    "duration": 5,
    "start_time": "2022-04-17T13:26:13.474Z"
   },
   {
    "duration": 14,
    "start_time": "2022-04-17T13:26:21.504Z"
   },
   {
    "duration": 17,
    "start_time": "2022-04-17T13:27:54.061Z"
   },
   {
    "duration": 1127,
    "start_time": "2022-04-17T13:28:05.522Z"
   },
   {
    "duration": 2273,
    "start_time": "2022-04-17T13:30:28.341Z"
   },
   {
    "duration": 12080,
    "start_time": "2022-04-17T13:30:38.367Z"
   },
   {
    "duration": 13,
    "start_time": "2022-04-17T13:35:05.014Z"
   },
   {
    "duration": 2933,
    "start_time": "2022-04-17T13:35:14.026Z"
   },
   {
    "duration": 2214,
    "start_time": "2022-04-17T13:36:49.638Z"
   },
   {
    "duration": 262,
    "start_time": "2022-04-17T13:37:01.539Z"
   },
   {
    "duration": 341,
    "start_time": "2022-04-17T13:38:12.735Z"
   },
   {
    "duration": 376,
    "start_time": "2022-04-17T13:41:55.506Z"
   },
   {
    "duration": 429,
    "start_time": "2022-04-17T13:41:59.038Z"
   },
   {
    "duration": 378,
    "start_time": "2022-04-17T13:42:24.514Z"
   },
   {
    "duration": 303,
    "start_time": "2022-04-17T13:42:28.453Z"
   },
   {
    "duration": 322,
    "start_time": "2022-04-17T13:43:21.057Z"
   },
   {
    "duration": 243,
    "start_time": "2022-04-17T13:52:43.828Z"
   },
   {
    "duration": 255,
    "start_time": "2022-04-17T13:52:55.565Z"
   },
   {
    "duration": 240,
    "start_time": "2022-04-17T13:53:09.817Z"
   },
   {
    "duration": 381,
    "start_time": "2022-04-17T13:56:37.601Z"
   },
   {
    "duration": 243,
    "start_time": "2022-04-17T13:56:57.692Z"
   },
   {
    "duration": 255,
    "start_time": "2022-04-17T13:58:21.079Z"
   },
   {
    "duration": 236,
    "start_time": "2022-04-17T13:58:51.414Z"
   },
   {
    "duration": 234,
    "start_time": "2022-04-17T13:59:56.935Z"
   },
   {
    "duration": 316,
    "start_time": "2022-04-17T14:00:22.863Z"
   },
   {
    "duration": 263,
    "start_time": "2022-04-17T14:03:40.543Z"
   },
   {
    "duration": 242,
    "start_time": "2022-04-17T14:04:04.527Z"
   },
   {
    "duration": 353,
    "start_time": "2022-04-17T14:04:18.034Z"
   },
   {
    "duration": 230,
    "start_time": "2022-04-17T14:05:46.651Z"
   },
   {
    "duration": 358,
    "start_time": "2022-04-17T14:06:04.650Z"
   },
   {
    "duration": 240,
    "start_time": "2022-04-17T14:07:34.241Z"
   },
   {
    "duration": 249,
    "start_time": "2022-04-17T14:07:45.258Z"
   },
   {
    "duration": 460,
    "start_time": "2022-04-17T14:23:11.872Z"
   },
   {
    "duration": 686,
    "start_time": "2022-04-17T14:23:25.789Z"
   },
   {
    "duration": 201,
    "start_time": "2022-04-17T14:23:42.272Z"
   },
   {
    "duration": 265,
    "start_time": "2022-04-17T14:23:56.361Z"
   },
   {
    "duration": 2447,
    "start_time": "2022-04-17T14:25:31.234Z"
   },
   {
    "duration": 636,
    "start_time": "2022-04-17T14:25:56.651Z"
   },
   {
    "duration": 22,
    "start_time": "2022-04-17T14:28:51.987Z"
   },
   {
    "duration": 240,
    "start_time": "2022-04-17T14:29:03.005Z"
   },
   {
    "duration": 255,
    "start_time": "2022-04-17T14:29:11.676Z"
   },
   {
    "duration": 237,
    "start_time": "2022-04-17T14:30:57.733Z"
   },
   {
    "duration": 168,
    "start_time": "2022-04-17T14:33:04.529Z"
   },
   {
    "duration": 340,
    "start_time": "2022-04-17T14:33:35.784Z"
   },
   {
    "duration": 164,
    "start_time": "2022-04-17T14:36:18.297Z"
   },
   {
    "duration": 225,
    "start_time": "2022-04-17T14:37:19.961Z"
   },
   {
    "duration": 130,
    "start_time": "2022-04-17T14:37:41.022Z"
   },
   {
    "duration": 162,
    "start_time": "2022-04-17T14:37:59.135Z"
   },
   {
    "duration": 142,
    "start_time": "2022-04-17T14:38:14.464Z"
   },
   {
    "duration": 133,
    "start_time": "2022-04-17T14:38:23.994Z"
   },
   {
    "duration": 159,
    "start_time": "2022-04-17T14:38:34.691Z"
   },
   {
    "duration": 246,
    "start_time": "2022-04-17T14:39:45.781Z"
   },
   {
    "duration": 244,
    "start_time": "2022-04-17T14:40:12.285Z"
   },
   {
    "duration": 226,
    "start_time": "2022-04-17T14:41:01.754Z"
   },
   {
    "duration": 2520,
    "start_time": "2022-04-17T14:41:34.300Z"
   },
   {
    "duration": 244,
    "start_time": "2022-04-17T14:42:03.213Z"
   },
   {
    "duration": 18,
    "start_time": "2022-04-17T14:42:32.697Z"
   },
   {
    "duration": 397,
    "start_time": "2022-04-17T14:42:59.218Z"
   },
   {
    "duration": 245,
    "start_time": "2022-04-17T14:43:21.197Z"
   },
   {
    "duration": 256,
    "start_time": "2022-04-17T14:43:58.121Z"
   },
   {
    "duration": 122,
    "start_time": "2022-04-17T14:45:03.452Z"
   },
   {
    "duration": 125,
    "start_time": "2022-04-17T14:45:21.014Z"
   },
   {
    "duration": 229,
    "start_time": "2022-04-17T14:45:26.340Z"
   },
   {
    "duration": 237,
    "start_time": "2022-04-17T14:45:39.611Z"
   },
   {
    "duration": 154,
    "start_time": "2022-04-17T14:46:00.709Z"
   },
   {
    "duration": 239,
    "start_time": "2022-04-17T14:46:10.318Z"
   },
   {
    "duration": 392,
    "start_time": "2022-04-17T14:46:46.398Z"
   },
   {
    "duration": 285,
    "start_time": "2022-04-17T14:47:52.110Z"
   },
   {
    "duration": 261,
    "start_time": "2022-04-17T14:49:12.407Z"
   },
   {
    "duration": 266,
    "start_time": "2022-04-17T14:50:14.698Z"
   },
   {
    "duration": 374,
    "start_time": "2022-04-17T14:51:32.840Z"
   },
   {
    "duration": 382,
    "start_time": "2022-04-17T14:52:24.359Z"
   },
   {
    "duration": 10,
    "start_time": "2022-04-17T14:56:39.945Z"
   },
   {
    "duration": 26,
    "start_time": "2022-04-17T14:56:50.645Z"
   },
   {
    "duration": 2034,
    "start_time": "2022-04-17T14:56:53.611Z"
   },
   {
    "duration": 6205,
    "start_time": "2022-04-17T14:56:57.748Z"
   },
   {
    "duration": 447,
    "start_time": "2022-04-17T14:57:42.613Z"
   },
   {
    "duration": 274,
    "start_time": "2022-04-17T14:58:40.764Z"
   },
   {
    "duration": 2153,
    "start_time": "2022-04-17T14:58:54.020Z"
   },
   {
    "duration": 248,
    "start_time": "2022-04-17T14:59:04.201Z"
   },
   {
    "duration": 16,
    "start_time": "2022-04-17T15:00:41.526Z"
   },
   {
    "duration": 2178,
    "start_time": "2022-04-17T15:00:52.407Z"
   },
   {
    "duration": 2305,
    "start_time": "2022-04-17T15:37:37.924Z"
   },
   {
    "duration": 127,
    "start_time": "2022-04-17T15:37:59.213Z"
   },
   {
    "duration": 190,
    "start_time": "2022-04-17T15:38:05.185Z"
   },
   {
    "duration": 14,
    "start_time": "2022-04-17T15:40:05.646Z"
   },
   {
    "duration": 103,
    "start_time": "2022-04-17T15:40:13.526Z"
   },
   {
    "duration": 1813,
    "start_time": "2022-04-18T21:43:26.894Z"
   },
   {
    "duration": 11,
    "start_time": "2022-04-18T21:43:28.710Z"
   },
   {
    "duration": 11,
    "start_time": "2022-04-18T21:43:28.722Z"
   },
   {
    "duration": 10,
    "start_time": "2022-04-18T21:43:28.735Z"
   },
   {
    "duration": 9,
    "start_time": "2022-04-18T21:43:28.747Z"
   },
   {
    "duration": 26,
    "start_time": "2022-04-18T21:43:28.758Z"
   },
   {
    "duration": 7,
    "start_time": "2022-04-18T21:43:28.786Z"
   },
   {
    "duration": 18,
    "start_time": "2022-04-18T21:43:28.823Z"
   },
   {
    "duration": 8,
    "start_time": "2022-04-18T21:43:28.842Z"
   },
   {
    "duration": 20,
    "start_time": "2022-04-18T21:43:28.852Z"
   },
   {
    "duration": 50,
    "start_time": "2022-04-18T21:43:28.874Z"
   },
   {
    "duration": 235,
    "start_time": "2022-04-18T21:43:28.925Z"
   },
   {
    "duration": 12,
    "start_time": "2022-04-18T21:43:29.161Z"
   },
   {
    "duration": 57,
    "start_time": "2022-04-18T21:43:29.175Z"
   },
   {
    "duration": 27,
    "start_time": "2022-04-18T21:43:29.234Z"
   },
   {
    "duration": 34,
    "start_time": "2022-04-18T21:43:29.263Z"
   },
   {
    "duration": 36,
    "start_time": "2022-04-18T21:43:29.299Z"
   },
   {
    "duration": 10,
    "start_time": "2022-04-18T21:43:29.336Z"
   },
   {
    "duration": 49,
    "start_time": "2022-04-18T21:43:29.348Z"
   },
   {
    "duration": 24,
    "start_time": "2022-04-18T21:43:29.399Z"
   },
   {
    "duration": 13,
    "start_time": "2022-04-18T21:43:29.424Z"
   },
   {
    "duration": 10,
    "start_time": "2022-04-18T21:43:29.438Z"
   },
   {
    "duration": 33,
    "start_time": "2022-04-18T21:43:29.450Z"
   },
   {
    "duration": 47,
    "start_time": "2022-04-18T21:43:29.485Z"
   },
   {
    "duration": 23,
    "start_time": "2022-04-18T21:43:29.533Z"
   },
   {
    "duration": 20,
    "start_time": "2022-04-18T21:43:29.558Z"
   },
   {
    "duration": 5,
    "start_time": "2022-04-18T21:43:29.579Z"
   },
   {
    "duration": 4,
    "start_time": "2022-04-18T21:43:29.588Z"
   },
   {
    "duration": 5,
    "start_time": "2022-04-18T21:43:29.622Z"
   },
   {
    "duration": 16,
    "start_time": "2022-04-18T21:43:29.628Z"
   },
   {
    "duration": 5,
    "start_time": "2022-04-18T21:43:29.645Z"
   },
   {
    "duration": 8,
    "start_time": "2022-04-18T21:43:29.652Z"
   },
   {
    "duration": 21,
    "start_time": "2022-04-18T21:43:29.662Z"
   },
   {
    "duration": 6,
    "start_time": "2022-04-18T21:43:29.684Z"
   },
   {
    "duration": 11,
    "start_time": "2022-04-18T21:43:29.723Z"
   },
   {
    "duration": 10,
    "start_time": "2022-04-18T21:43:29.736Z"
   },
   {
    "duration": 6,
    "start_time": "2022-04-18T21:43:29.748Z"
   },
   {
    "duration": 5,
    "start_time": "2022-04-18T21:43:29.755Z"
   },
   {
    "duration": 139,
    "start_time": "2022-04-18T21:43:29.761Z"
   },
   {
    "duration": 32,
    "start_time": "2022-04-18T21:43:29.901Z"
   },
   {
    "duration": 236,
    "start_time": "2022-04-18T21:43:29.935Z"
   },
   {
    "duration": 269,
    "start_time": "2022-04-18T21:43:30.172Z"
   },
   {
    "duration": 245,
    "start_time": "2022-04-18T21:43:30.443Z"
   },
   {
    "duration": 242,
    "start_time": "2022-04-18T21:43:30.689Z"
   },
   {
    "duration": 226,
    "start_time": "2022-04-18T21:43:30.932Z"
   },
   {
    "duration": 6,
    "start_time": "2022-04-18T21:43:31.160Z"
   },
   {
    "duration": 8,
    "start_time": "2022-04-18T21:43:31.167Z"
   },
   {
    "duration": 51,
    "start_time": "2022-04-18T21:43:31.177Z"
   },
   {
    "duration": 7,
    "start_time": "2022-04-18T21:43:31.229Z"
   },
   {
    "duration": 7,
    "start_time": "2022-04-18T21:43:31.238Z"
   },
   {
    "duration": 1538,
    "start_time": "2022-04-18T22:58:00.813Z"
   },
   {
    "duration": 10,
    "start_time": "2022-04-18T22:58:02.353Z"
   },
   {
    "duration": 16,
    "start_time": "2022-04-18T22:58:02.365Z"
   },
   {
    "duration": 13,
    "start_time": "2022-04-18T22:58:02.383Z"
   },
   {
    "duration": 13,
    "start_time": "2022-04-18T22:58:02.397Z"
   },
   {
    "duration": 24,
    "start_time": "2022-04-18T22:58:02.423Z"
   },
   {
    "duration": 7,
    "start_time": "2022-04-18T22:58:02.449Z"
   },
   {
    "duration": 32,
    "start_time": "2022-04-18T22:58:02.458Z"
   },
   {
    "duration": 9,
    "start_time": "2022-04-18T22:58:02.491Z"
   },
   {
    "duration": 36,
    "start_time": "2022-04-18T22:58:02.502Z"
   },
   {
    "duration": 26,
    "start_time": "2022-04-18T22:58:02.540Z"
   },
   {
    "duration": 220,
    "start_time": "2022-04-18T22:58:02.568Z"
   },
   {
    "duration": 11,
    "start_time": "2022-04-18T22:58:02.790Z"
   },
   {
    "duration": 56,
    "start_time": "2022-04-18T22:58:02.802Z"
   },
   {
    "duration": 28,
    "start_time": "2022-04-18T22:58:02.859Z"
   },
   {
    "duration": 46,
    "start_time": "2022-04-18T22:58:02.888Z"
   },
   {
    "duration": 14,
    "start_time": "2022-04-18T22:58:02.935Z"
   },
   {
    "duration": 26,
    "start_time": "2022-04-18T22:58:02.951Z"
   },
   {
    "duration": 56,
    "start_time": "2022-04-18T22:58:02.978Z"
   },
   {
    "duration": 8,
    "start_time": "2022-04-18T22:58:03.035Z"
   },
   {
    "duration": 14,
    "start_time": "2022-04-18T22:58:03.045Z"
   },
   {
    "duration": 26,
    "start_time": "2022-04-18T22:58:03.060Z"
   },
   {
    "duration": 31,
    "start_time": "2022-04-18T22:58:03.087Z"
   },
   {
    "duration": 37,
    "start_time": "2022-04-18T22:58:03.119Z"
   },
   {
    "duration": 22,
    "start_time": "2022-04-18T22:58:03.158Z"
   },
   {
    "duration": 23,
    "start_time": "2022-04-18T22:58:03.181Z"
   },
   {
    "duration": 32,
    "start_time": "2022-04-18T22:58:03.205Z"
   },
   {
    "duration": 4,
    "start_time": "2022-04-18T22:58:03.241Z"
   },
   {
    "duration": 16,
    "start_time": "2022-04-18T22:58:03.246Z"
   },
   {
    "duration": 14,
    "start_time": "2022-04-18T22:58:03.264Z"
   },
   {
    "duration": 28,
    "start_time": "2022-04-18T22:58:03.280Z"
   },
   {
    "duration": 9,
    "start_time": "2022-04-18T22:58:03.309Z"
   },
   {
    "duration": 18,
    "start_time": "2022-04-18T22:58:03.319Z"
   },
   {
    "duration": 31,
    "start_time": "2022-04-18T22:58:03.339Z"
   },
   {
    "duration": 11,
    "start_time": "2022-04-18T22:58:03.371Z"
   },
   {
    "duration": 14,
    "start_time": "2022-04-18T22:58:03.383Z"
   },
   {
    "duration": 16,
    "start_time": "2022-04-18T22:58:03.398Z"
   },
   {
    "duration": 11,
    "start_time": "2022-04-18T22:58:03.416Z"
   },
   {
    "duration": 15,
    "start_time": "2022-04-18T22:58:03.428Z"
   },
   {
    "duration": 123,
    "start_time": "2022-04-18T22:58:03.444Z"
   },
   {
    "duration": 23,
    "start_time": "2022-04-18T22:58:03.569Z"
   },
   {
    "duration": 237,
    "start_time": "2022-04-18T22:58:03.593Z"
   },
   {
    "duration": 245,
    "start_time": "2022-04-18T22:58:03.831Z"
   },
   {
    "duration": 248,
    "start_time": "2022-04-18T22:58:04.077Z"
   },
   {
    "duration": 252,
    "start_time": "2022-04-18T22:58:04.327Z"
   },
   {
    "duration": 232,
    "start_time": "2022-04-18T22:58:04.580Z"
   },
   {
    "duration": 11,
    "start_time": "2022-04-18T22:58:04.814Z"
   },
   {
    "duration": 30,
    "start_time": "2022-04-18T22:58:04.827Z"
   },
   {
    "duration": 45,
    "start_time": "2022-04-18T22:58:04.858Z"
   },
   {
    "duration": 8,
    "start_time": "2022-04-18T22:58:04.904Z"
   },
   {
    "duration": 8,
    "start_time": "2022-04-18T22:58:04.914Z"
   },
   {
    "duration": 16,
    "start_time": "2022-04-18T23:26:12.394Z"
   },
   {
    "duration": 247,
    "start_time": "2022-04-19T20:24:21.449Z"
   },
   {
    "duration": 1712,
    "start_time": "2022-04-19T20:24:33.487Z"
   },
   {
    "duration": 27,
    "start_time": "2022-04-19T20:24:39.962Z"
   },
   {
    "duration": 221,
    "start_time": "2022-04-19T20:24:42.728Z"
   },
   {
    "duration": 16,
    "start_time": "2022-04-19T20:24:44.938Z"
   },
   {
    "duration": 54,
    "start_time": "2022-04-19T20:24:47.594Z"
   },
   {
    "duration": 48,
    "start_time": "2022-04-19T20:24:50.716Z"
   },
   {
    "duration": 35,
    "start_time": "2022-04-19T20:24:53.035Z"
   },
   {
    "duration": 19,
    "start_time": "2022-04-19T20:24:56.211Z"
   },
   {
    "duration": 10,
    "start_time": "2022-04-19T20:24:59.084Z"
   },
   {
    "duration": 50,
    "start_time": "2022-04-19T20:25:03.530Z"
   },
   {
    "duration": 35,
    "start_time": "2022-04-19T20:25:08.028Z"
   },
   {
    "duration": 32,
    "start_time": "2022-04-19T20:25:12.406Z"
   },
   {
    "duration": 102,
    "start_time": "2022-04-19T20:25:15.115Z"
   },
   {
    "duration": 9,
    "start_time": "2022-04-19T20:25:20.344Z"
   },
   {
    "duration": 25,
    "start_time": "2022-04-19T20:25:32.908Z"
   },
   {
    "duration": 23,
    "start_time": "2022-04-19T20:25:35.783Z"
   },
   {
    "duration": 25,
    "start_time": "2022-04-19T20:25:38.320Z"
   },
   {
    "duration": 17,
    "start_time": "2022-04-19T20:25:42.205Z"
   },
   {
    "duration": 5,
    "start_time": "2022-04-19T20:25:45.259Z"
   },
   {
    "duration": 8,
    "start_time": "2022-04-19T20:25:49.636Z"
   },
   {
    "duration": 17,
    "start_time": "2022-04-19T20:25:52.043Z"
   },
   {
    "duration": 7,
    "start_time": "2022-04-19T20:25:54.955Z"
   },
   {
    "duration": 15,
    "start_time": "2022-04-19T20:25:57.802Z"
   },
   {
    "duration": 12,
    "start_time": "2022-04-19T20:26:00.473Z"
   },
   {
    "duration": 8,
    "start_time": "2022-04-19T20:26:03.387Z"
   },
   {
    "duration": 5,
    "start_time": "2022-04-19T20:26:05.865Z"
   },
   {
    "duration": 126,
    "start_time": "2022-04-19T20:26:09.927Z"
   },
   {
    "duration": 30,
    "start_time": "2022-04-19T20:26:14.413Z"
   },
   {
    "duration": 37,
    "start_time": "2022-04-19T20:26:44.164Z"
   },
   {
    "duration": 436,
    "start_time": "2022-04-19T20:26:49.923Z"
   },
   {
    "duration": 23,
    "start_time": "2022-04-19T20:27:28.556Z"
   },
   {
    "duration": 5201,
    "start_time": "2022-04-19T20:30:19.105Z"
   },
   {
    "duration": 158,
    "start_time": "2022-04-19T20:30:39.745Z"
   },
   {
    "duration": 917,
    "start_time": "2022-04-19T20:32:05.933Z"
   },
   {
    "duration": 731,
    "start_time": "2022-04-19T20:32:47.159Z"
   },
   {
    "duration": 845,
    "start_time": "2022-04-19T20:33:09.247Z"
   },
   {
    "duration": 17,
    "start_time": "2022-04-19T20:33:40.736Z"
   },
   {
    "duration": 993,
    "start_time": "2022-04-19T20:33:56.422Z"
   },
   {
    "duration": 134,
    "start_time": "2022-04-19T20:34:24.491Z"
   },
   {
    "duration": 1012,
    "start_time": "2022-04-19T20:34:31.633Z"
   },
   {
    "duration": 121,
    "start_time": "2022-04-19T20:34:43.075Z"
   },
   {
    "duration": 846,
    "start_time": "2022-04-19T20:34:49.609Z"
   },
   {
    "duration": 252,
    "start_time": "2022-04-19T20:35:12.110Z"
   },
   {
    "duration": 439,
    "start_time": "2022-04-19T20:35:23.359Z"
   },
   {
    "duration": 237,
    "start_time": "2022-04-19T20:37:13.477Z"
   },
   {
    "duration": 259,
    "start_time": "2022-04-19T20:38:41.578Z"
   },
   {
    "duration": 237,
    "start_time": "2022-04-19T20:38:57.233Z"
   },
   {
    "duration": 472,
    "start_time": "2022-04-19T20:39:06.682Z"
   },
   {
    "duration": 390,
    "start_time": "2022-04-19T20:43:58.015Z"
   },
   {
    "duration": 411,
    "start_time": "2022-04-19T20:44:28.836Z"
   },
   {
    "duration": 2393,
    "start_time": "2022-04-19T20:44:58.079Z"
   },
   {
    "duration": 2151,
    "start_time": "2022-04-19T20:45:34.391Z"
   },
   {
    "duration": 2361,
    "start_time": "2022-04-19T20:46:16.557Z"
   },
   {
    "duration": 2476,
    "start_time": "2022-04-19T20:46:26.758Z"
   },
   {
    "duration": 1949,
    "start_time": "2022-04-19T20:46:47.732Z"
   },
   {
    "duration": 24,
    "start_time": "2022-04-19T20:52:04.557Z"
   },
   {
    "duration": 2346,
    "start_time": "2022-04-19T20:52:16.062Z"
   },
   {
    "duration": 7439,
    "start_time": "2022-04-19T20:55:41.796Z"
   },
   {
    "duration": 2441,
    "start_time": "2022-04-19T20:57:03.442Z"
   },
   {
    "duration": 2499,
    "start_time": "2022-04-19T21:02:05.887Z"
   },
   {
    "duration": 4718,
    "start_time": "2022-04-19T21:03:04.152Z"
   },
   {
    "duration": 2705,
    "start_time": "2022-04-19T21:03:21.000Z"
   },
   {
    "duration": 181,
    "start_time": "2022-04-19T21:05:50.341Z"
   },
   {
    "duration": 194,
    "start_time": "2022-04-19T21:06:26.401Z"
   },
   {
    "duration": 253,
    "start_time": "2022-04-19T21:06:59.024Z"
   },
   {
    "duration": 173,
    "start_time": "2022-04-19T21:07:52.821Z"
   },
   {
    "duration": 171,
    "start_time": "2022-04-19T21:08:09.395Z"
   },
   {
    "duration": 203,
    "start_time": "2022-04-19T21:09:22.003Z"
   },
   {
    "duration": 175,
    "start_time": "2022-04-19T21:09:53.434Z"
   },
   {
    "duration": 177,
    "start_time": "2022-04-19T21:11:03.570Z"
   },
   {
    "duration": 18,
    "start_time": "2022-04-19T21:12:29.180Z"
   },
   {
    "duration": 11,
    "start_time": "2022-04-19T21:14:34.036Z"
   },
   {
    "duration": 182,
    "start_time": "2022-04-19T21:14:54.309Z"
   },
   {
    "duration": 395,
    "start_time": "2022-04-19T21:15:40.503Z"
   },
   {
    "duration": 369,
    "start_time": "2022-04-19T21:17:52.036Z"
   },
   {
    "duration": 685,
    "start_time": "2022-04-19T21:18:11.302Z"
   },
   {
    "duration": 362,
    "start_time": "2022-04-19T21:18:24.101Z"
   },
   {
    "duration": 315,
    "start_time": "2022-04-19T21:19:24.577Z"
   },
   {
    "duration": 309,
    "start_time": "2022-04-19T21:20:45.013Z"
   },
   {
    "duration": 295,
    "start_time": "2022-04-19T21:21:49.922Z"
   },
   {
    "duration": 386,
    "start_time": "2022-04-19T21:22:16.394Z"
   },
   {
    "duration": 53,
    "start_time": "2022-04-20T20:35:27.851Z"
   },
   {
    "duration": 1960,
    "start_time": "2022-04-21T13:19:04.800Z"
   },
   {
    "duration": 35,
    "start_time": "2022-04-21T13:19:13.199Z"
   },
   {
    "duration": 221,
    "start_time": "2022-04-21T13:19:18.803Z"
   },
   {
    "duration": 12,
    "start_time": "2022-04-21T13:19:24.895Z"
   },
   {
    "duration": 51,
    "start_time": "2022-04-21T13:19:30.454Z"
   },
   {
    "duration": 10,
    "start_time": "2022-04-21T13:19:40.174Z"
   },
   {
    "duration": 124,
    "start_time": "2022-04-21T13:19:45.068Z"
   },
   {
    "duration": 211,
    "start_time": "2022-04-21T13:20:01.936Z"
   },
   {
    "duration": 33,
    "start_time": "2022-04-21T13:20:15.252Z"
   },
   {
    "duration": 18,
    "start_time": "2022-04-21T13:20:33.976Z"
   },
   {
    "duration": 12,
    "start_time": "2022-04-21T13:20:43.689Z"
   },
   {
    "duration": 13,
    "start_time": "2022-04-21T13:20:52.945Z"
   },
   {
    "duration": 437,
    "start_time": "2022-04-21T13:21:02.457Z"
   },
   {
    "duration": 11,
    "start_time": "2022-04-21T13:21:06.349Z"
   },
   {
    "duration": 8,
    "start_time": "2022-04-21T13:21:08.462Z"
   },
   {
    "duration": 35,
    "start_time": "2022-04-21T13:21:10.544Z"
   },
   {
    "duration": 29,
    "start_time": "2022-04-21T13:21:13.880Z"
   },
   {
    "duration": 195,
    "start_time": "2022-04-21T13:21:17.112Z"
   },
   {
    "duration": 12,
    "start_time": "2022-04-21T13:21:21.260Z"
   },
   {
    "duration": 47,
    "start_time": "2022-04-21T13:21:23.110Z"
   },
   {
    "duration": 42,
    "start_time": "2022-04-21T13:21:25.698Z"
   },
   {
    "duration": 17,
    "start_time": "2022-04-21T13:21:28.768Z"
   },
   {
    "duration": 10,
    "start_time": "2022-04-21T13:21:30.609Z"
   },
   {
    "duration": 33,
    "start_time": "2022-04-21T13:21:33.665Z"
   },
   {
    "duration": 385,
    "start_time": "2022-04-21T13:22:08.205Z"
   },
   {
    "duration": 10,
    "start_time": "2022-04-21T13:22:10.417Z"
   },
   {
    "duration": 40,
    "start_time": "2022-04-21T13:22:16.925Z"
   },
   {
    "duration": 35,
    "start_time": "2022-04-21T13:22:19.165Z"
   },
   {
    "duration": 19,
    "start_time": "2022-04-21T13:22:22.657Z"
   },
   {
    "duration": 11,
    "start_time": "2022-04-21T13:22:24.326Z"
   },
   {
    "duration": 35,
    "start_time": "2022-04-21T13:22:27.214Z"
   },
   {
    "duration": 9,
    "start_time": "2022-04-21T13:22:30.806Z"
   },
   {
    "duration": 33,
    "start_time": "2022-04-21T13:22:35.519Z"
   },
   {
    "duration": 34,
    "start_time": "2022-04-21T13:22:52.951Z"
   },
   {
    "duration": 34,
    "start_time": "2022-04-21T13:24:47.276Z"
   },
   {
    "duration": 21,
    "start_time": "2022-04-21T13:27:50.896Z"
   },
   {
    "duration": 15,
    "start_time": "2022-04-21T13:27:54.828Z"
   },
   {
    "duration": 33,
    "start_time": "2022-04-21T13:28:05.802Z"
   },
   {
    "duration": 33,
    "start_time": "2022-04-21T13:28:22.442Z"
   },
   {
    "duration": 379,
    "start_time": "2022-04-21T13:28:37.582Z"
   },
   {
    "duration": 10,
    "start_time": "2022-04-21T13:28:41.402Z"
   },
   {
    "duration": 14,
    "start_time": "2022-04-21T13:28:44.590Z"
   },
   {
    "duration": 8,
    "start_time": "2022-04-21T13:28:46.705Z"
   },
   {
    "duration": 33,
    "start_time": "2022-04-21T13:28:48.310Z"
   },
   {
    "duration": 8,
    "start_time": "2022-04-21T13:28:49.742Z"
   },
   {
    "duration": 22,
    "start_time": "2022-04-21T13:28:50.961Z"
   },
   {
    "duration": 30,
    "start_time": "2022-04-21T13:28:57.491Z"
   },
   {
    "duration": 183,
    "start_time": "2022-04-21T13:29:00.106Z"
   },
   {
    "duration": 12,
    "start_time": "2022-04-21T13:29:03.070Z"
   },
   {
    "duration": 83,
    "start_time": "2022-04-21T13:29:06.532Z"
   },
   {
    "duration": 32,
    "start_time": "2022-04-21T13:31:20.623Z"
   },
   {
    "duration": 1968,
    "start_time": "2022-04-22T10:07:16.412Z"
   },
   {
    "duration": 11,
    "start_time": "2022-04-22T10:07:19.039Z"
   },
   {
    "duration": 25,
    "start_time": "2022-04-22T10:07:26.712Z"
   },
   {
    "duration": 219,
    "start_time": "2022-04-22T10:07:30.273Z"
   },
   {
    "duration": 11,
    "start_time": "2022-04-22T10:07:34.523Z"
   },
   {
    "duration": 42,
    "start_time": "2022-04-22T10:07:44.246Z"
   },
   {
    "duration": 31,
    "start_time": "2022-04-22T10:07:50.015Z"
   },
   {
    "duration": 35,
    "start_time": "2022-04-22T10:07:56.300Z"
   },
   {
    "duration": 16,
    "start_time": "2022-04-22T10:08:00.128Z"
   },
   {
    "duration": 9,
    "start_time": "2022-04-22T11:06:39.708Z"
   },
   {
    "duration": 47,
    "start_time": "2022-04-22T11:06:46.336Z"
   },
   {
    "duration": 9,
    "start_time": "2022-04-22T11:06:55.248Z"
   },
   {
    "duration": 32,
    "start_time": "2022-04-22T11:07:04.989Z"
   },
   {
    "duration": 22,
    "start_time": "2022-04-22T11:07:11.443Z"
   },
   {
    "duration": 23,
    "start_time": "2022-04-22T11:07:12.560Z"
   },
   {
    "duration": 20,
    "start_time": "2022-04-22T11:07:20.444Z"
   },
   {
    "duration": 15,
    "start_time": "2022-04-22T11:07:39.741Z"
   },
   {
    "duration": 4,
    "start_time": "2022-04-22T11:07:45.148Z"
   },
   {
    "duration": 8,
    "start_time": "2022-04-22T11:07:51.654Z"
   },
   {
    "duration": 17,
    "start_time": "2022-04-22T11:07:54.394Z"
   },
   {
    "duration": 27,
    "start_time": "2022-04-22T11:08:22.587Z"
   },
   {
    "duration": 7,
    "start_time": "2022-04-22T11:08:25.489Z"
   },
   {
    "duration": 15,
    "start_time": "2022-04-22T11:08:28.649Z"
   },
   {
    "duration": 13,
    "start_time": "2022-04-22T11:08:31.510Z"
   },
   {
    "duration": 7,
    "start_time": "2022-04-22T11:08:34.400Z"
   },
   {
    "duration": 4,
    "start_time": "2022-04-22T11:08:57.849Z"
   },
   {
    "duration": 2570,
    "start_time": "2022-04-22T11:09:02.680Z"
   },
   {
    "duration": 2950,
    "start_time": "2022-04-22T11:09:08.816Z"
   },
   {
    "duration": 22,
    "start_time": "2022-04-22T11:09:24.473Z"
   },
   {
    "duration": 7,
    "start_time": "2022-04-22T11:09:28.439Z"
   },
   {
    "duration": 13,
    "start_time": "2022-04-22T11:09:32.569Z"
   },
   {
    "duration": 16,
    "start_time": "2022-04-22T11:09:34.341Z"
   },
   {
    "duration": 28,
    "start_time": "2022-04-22T11:09:46.047Z"
   },
   {
    "duration": 24,
    "start_time": "2022-04-22T11:09:52.558Z"
   },
   {
    "duration": 24,
    "start_time": "2022-04-22T11:09:53.839Z"
   },
   {
    "duration": 19,
    "start_time": "2022-04-22T11:09:57.085Z"
   },
   {
    "duration": 15,
    "start_time": "2022-04-22T11:10:02.394Z"
   },
   {
    "duration": 5,
    "start_time": "2022-04-22T11:10:06.370Z"
   },
   {
    "duration": 17,
    "start_time": "2022-04-22T11:10:32.288Z"
   },
   {
    "duration": 6,
    "start_time": "2022-04-22T11:10:34.801Z"
   },
   {
    "duration": 11,
    "start_time": "2022-04-22T11:10:37.423Z"
   },
   {
    "duration": 9,
    "start_time": "2022-04-22T11:10:40.090Z"
   },
   {
    "duration": 5,
    "start_time": "2022-04-22T11:10:43.190Z"
   },
   {
    "duration": 109,
    "start_time": "2022-04-22T11:10:45.716Z"
   },
   {
    "duration": 23,
    "start_time": "2022-04-22T11:10:50.291Z"
   },
   {
    "duration": 34,
    "start_time": "2022-04-22T11:11:04.428Z"
   },
   {
    "duration": 21,
    "start_time": "2022-04-22T11:11:08.550Z"
   },
   {
    "duration": 21,
    "start_time": "2022-04-22T11:11:26.006Z"
   },
   {
    "duration": 55,
    "start_time": "2022-04-22T11:15:33.493Z"
   },
   {
    "duration": 404,
    "start_time": "2022-04-22T11:16:17.042Z"
   },
   {
    "duration": 298,
    "start_time": "2022-04-22T11:16:39.034Z"
   },
   {
    "duration": 302,
    "start_time": "2022-04-22T11:18:17.044Z"
   },
   {
    "duration": 547,
    "start_time": "2022-04-22T11:18:20.981Z"
   },
   {
    "duration": 658,
    "start_time": "2022-04-22T11:18:24.507Z"
   },
   {
    "duration": 306,
    "start_time": "2022-04-22T11:18:40.172Z"
   },
   {
    "duration": 364,
    "start_time": "2022-04-22T11:18:44.005Z"
   },
   {
    "duration": 315,
    "start_time": "2022-04-22T11:20:45.046Z"
   },
   {
    "duration": 293,
    "start_time": "2022-04-22T11:21:02.295Z"
   },
   {
    "duration": 400,
    "start_time": "2022-04-22T11:21:12.513Z"
   },
   {
    "duration": 292,
    "start_time": "2022-04-22T11:21:18.362Z"
   },
   {
    "duration": 286,
    "start_time": "2022-04-22T11:21:23.807Z"
   },
   {
    "duration": 369,
    "start_time": "2022-04-22T11:21:29.604Z"
   },
   {
    "duration": 510,
    "start_time": "2022-04-22T11:30:41.364Z"
   },
   {
    "duration": 2296,
    "start_time": "2022-04-23T00:29:12.148Z"
   },
   {
    "duration": 17,
    "start_time": "2022-04-23T00:29:14.447Z"
   },
   {
    "duration": 19,
    "start_time": "2022-04-23T00:29:14.466Z"
   },
   {
    "duration": 44,
    "start_time": "2022-04-23T00:29:14.488Z"
   },
   {
    "duration": 14,
    "start_time": "2022-04-23T00:29:14.534Z"
   },
   {
    "duration": 35,
    "start_time": "2022-04-23T00:29:14.550Z"
   },
   {
    "duration": 11,
    "start_time": "2022-04-23T00:29:14.587Z"
   },
   {
    "duration": 27,
    "start_time": "2022-04-23T00:29:14.624Z"
   },
   {
    "duration": 12,
    "start_time": "2022-04-23T00:29:14.653Z"
   },
   {
    "duration": 63,
    "start_time": "2022-04-23T00:29:14.669Z"
   },
   {
    "duration": 37,
    "start_time": "2022-04-23T00:29:14.734Z"
   },
   {
    "duration": 409,
    "start_time": "2022-04-23T00:29:14.773Z"
   },
   {
    "duration": 18,
    "start_time": "2022-04-23T00:29:15.184Z"
   },
   {
    "duration": 82,
    "start_time": "2022-04-23T00:29:15.204Z"
   },
   {
    "duration": 66,
    "start_time": "2022-04-23T00:29:15.289Z"
   },
   {
    "duration": 73,
    "start_time": "2022-04-23T00:29:15.357Z"
   },
   {
    "duration": 24,
    "start_time": "2022-04-23T00:29:15.432Z"
   },
   {
    "duration": 12,
    "start_time": "2022-04-23T00:29:15.458Z"
   },
   {
    "duration": 107,
    "start_time": "2022-04-23T00:29:15.472Z"
   },
   {
    "duration": 13,
    "start_time": "2022-04-23T00:29:15.581Z"
   },
   {
    "duration": 28,
    "start_time": "2022-04-23T00:29:15.596Z"
   },
   {
    "duration": 15,
    "start_time": "2022-04-23T00:29:15.627Z"
   },
   {
    "duration": 58,
    "start_time": "2022-04-23T00:29:15.644Z"
   },
   {
    "duration": 50,
    "start_time": "2022-04-23T00:29:15.704Z"
   },
   {
    "duration": 37,
    "start_time": "2022-04-23T00:29:15.756Z"
   },
   {
    "duration": 56,
    "start_time": "2022-04-23T00:29:15.795Z"
   },
   {
    "duration": 7,
    "start_time": "2022-04-23T00:29:15.853Z"
   },
   {
    "duration": 15,
    "start_time": "2022-04-23T00:29:15.865Z"
   },
   {
    "duration": 12,
    "start_time": "2022-04-23T00:29:15.882Z"
   },
   {
    "duration": 56,
    "start_time": "2022-04-23T00:29:15.896Z"
   },
   {
    "duration": 6,
    "start_time": "2022-04-23T00:29:15.955Z"
   },
   {
    "duration": 25,
    "start_time": "2022-04-23T00:29:15.964Z"
   },
   {
    "duration": 46,
    "start_time": "2022-04-23T00:29:15.991Z"
   },
   {
    "duration": 9,
    "start_time": "2022-04-23T00:29:16.040Z"
   },
   {
    "duration": 28,
    "start_time": "2022-04-23T00:29:16.051Z"
   },
   {
    "duration": 26,
    "start_time": "2022-04-23T00:29:16.081Z"
   },
   {
    "duration": 23,
    "start_time": "2022-04-23T00:29:16.110Z"
   },
   {
    "duration": 17,
    "start_time": "2022-04-23T00:29:16.136Z"
   },
   {
    "duration": 246,
    "start_time": "2022-04-23T00:29:16.155Z"
   },
   {
    "duration": 50,
    "start_time": "2022-04-23T00:29:16.403Z"
   },
   {
    "duration": 467,
    "start_time": "2022-04-23T00:29:16.455Z"
   },
   {
    "duration": 593,
    "start_time": "2022-04-23T00:29:16.925Z"
   },
   {
    "duration": 540,
    "start_time": "2022-04-23T00:29:17.520Z"
   },
   {
    "duration": 425,
    "start_time": "2022-04-23T00:29:18.062Z"
   },
   {
    "duration": 8,
    "start_time": "2022-04-23T00:29:18.489Z"
   },
   {
    "duration": 25,
    "start_time": "2022-04-23T00:29:18.500Z"
   },
   {
    "duration": 73,
    "start_time": "2022-04-23T00:29:18.528Z"
   },
   {
    "duration": 52,
    "start_time": "2022-04-23T00:29:18.603Z"
   },
   {
    "duration": 628,
    "start_time": "2022-04-23T00:29:18.657Z"
   },
   {
    "duration": 584,
    "start_time": "2022-04-23T00:29:19.287Z"
   },
   {
    "duration": 664,
    "start_time": "2022-04-23T00:29:19.873Z"
   },
   {
    "duration": 568,
    "start_time": "2022-04-23T00:29:20.539Z"
   },
   {
    "duration": 694,
    "start_time": "2022-04-23T00:29:21.109Z"
   },
   {
    "duration": 25,
    "start_time": "2022-04-23T00:29:21.806Z"
   },
   {
    "duration": 13,
    "start_time": "2022-04-23T00:29:21.834Z"
   },
   {
    "duration": 572,
    "start_time": "2022-04-23T00:31:48.073Z"
   },
   {
    "duration": 886,
    "start_time": "2022-04-23T00:31:56.879Z"
   },
   {
    "duration": 570,
    "start_time": "2022-04-23T00:32:01.433Z"
   },
   {
    "duration": 565,
    "start_time": "2022-04-23T00:34:39.608Z"
   },
   {
    "duration": 707,
    "start_time": "2022-04-23T00:34:50.297Z"
   },
   {
    "duration": 697,
    "start_time": "2022-04-23T00:35:16.486Z"
   },
   {
    "duration": 394,
    "start_time": "2022-04-23T00:36:02.024Z"
   },
   {
    "duration": 438,
    "start_time": "2022-04-23T00:36:21.276Z"
   },
   {
    "duration": 10,
    "start_time": "2022-04-23T00:47:55.535Z"
   },
   {
    "duration": 10,
    "start_time": "2022-04-23T00:48:05.587Z"
   },
   {
    "duration": 11,
    "start_time": "2022-04-23T00:48:35.112Z"
   },
   {
    "duration": 10,
    "start_time": "2022-04-23T00:48:43.459Z"
   },
   {
    "duration": 9,
    "start_time": "2022-04-23T00:48:53.322Z"
   },
   {
    "duration": 828,
    "start_time": "2022-04-23T00:49:02.031Z"
   },
   {
    "duration": 243,
    "start_time": "2022-04-23T00:49:18.382Z"
   },
   {
    "duration": 379,
    "start_time": "2022-04-23T00:49:22.545Z"
   },
   {
    "duration": 11,
    "start_time": "2022-04-23T00:49:31.490Z"
   },
   {
    "duration": 278,
    "start_time": "2022-04-23T00:49:42.636Z"
   },
   {
    "duration": 291,
    "start_time": "2022-04-23T00:49:46.921Z"
   },
   {
    "duration": 27,
    "start_time": "2022-04-23T00:50:32.066Z"
   },
   {
    "duration": 549,
    "start_time": "2022-04-23T00:51:00.501Z"
   },
   {
    "duration": 686,
    "start_time": "2022-04-23T00:51:08.661Z"
   },
   {
    "duration": 444,
    "start_time": "2022-04-23T00:51:34.830Z"
   },
   {
    "duration": 437,
    "start_time": "2022-04-23T00:51:39.584Z"
   },
   {
    "duration": 384,
    "start_time": "2022-04-23T00:51:44.127Z"
   },
   {
    "duration": 368,
    "start_time": "2022-04-23T00:51:49.988Z"
   },
   {
    "duration": 203,
    "start_time": "2022-04-23T00:52:00.802Z"
   },
   {
    "duration": 219,
    "start_time": "2022-04-23T00:52:09.983Z"
   },
   {
    "duration": 191,
    "start_time": "2022-04-23T00:52:19.664Z"
   },
   {
    "duration": 212,
    "start_time": "2022-04-23T00:52:35.161Z"
   },
   {
    "duration": 11,
    "start_time": "2022-04-23T00:52:50.423Z"
   },
   {
    "duration": 703,
    "start_time": "2022-04-23T00:53:50.897Z"
   },
   {
    "duration": 393,
    "start_time": "2022-04-23T00:54:03.438Z"
   },
   {
    "duration": 384,
    "start_time": "2022-04-23T00:54:06.926Z"
   },
   {
    "duration": 25,
    "start_time": "2022-04-23T00:54:19.226Z"
   },
   {
    "duration": 208,
    "start_time": "2022-04-23T00:54:28.082Z"
   },
   {
    "duration": 2278,
    "start_time": "2022-04-23T10:38:37.104Z"
   },
   {
    "duration": 17,
    "start_time": "2022-04-23T10:38:39.384Z"
   },
   {
    "duration": 28,
    "start_time": "2022-04-23T10:38:39.403Z"
   },
   {
    "duration": 18,
    "start_time": "2022-04-23T10:38:39.435Z"
   },
   {
    "duration": 43,
    "start_time": "2022-04-23T10:38:39.455Z"
   },
   {
    "duration": 46,
    "start_time": "2022-04-23T10:38:39.501Z"
   },
   {
    "duration": 10,
    "start_time": "2022-04-23T10:38:39.549Z"
   },
   {
    "duration": 46,
    "start_time": "2022-04-23T10:38:39.562Z"
   },
   {
    "duration": 12,
    "start_time": "2022-04-23T10:38:39.610Z"
   },
   {
    "duration": 44,
    "start_time": "2022-04-23T10:38:39.627Z"
   },
   {
    "duration": 59,
    "start_time": "2022-04-23T10:38:39.673Z"
   },
   {
    "duration": 433,
    "start_time": "2022-04-23T10:38:39.735Z"
   },
   {
    "duration": 32,
    "start_time": "2022-04-23T10:38:40.170Z"
   },
   {
    "duration": 116,
    "start_time": "2022-04-23T10:38:40.205Z"
   },
   {
    "duration": 79,
    "start_time": "2022-04-23T10:38:40.323Z"
   },
   {
    "duration": 88,
    "start_time": "2022-04-23T10:38:40.405Z"
   },
   {
    "duration": 33,
    "start_time": "2022-04-23T10:38:40.496Z"
   },
   {
    "duration": 11,
    "start_time": "2022-04-23T10:38:40.531Z"
   },
   {
    "duration": 102,
    "start_time": "2022-04-23T10:38:40.545Z"
   },
   {
    "duration": 12,
    "start_time": "2022-04-23T10:38:40.649Z"
   },
   {
    "duration": 12,
    "start_time": "2022-04-23T10:38:40.663Z"
   },
   {
    "duration": 14,
    "start_time": "2022-04-23T10:38:40.694Z"
   },
   {
    "duration": 88,
    "start_time": "2022-04-23T10:38:40.711Z"
   },
   {
    "duration": 46,
    "start_time": "2022-04-23T10:38:40.801Z"
   },
   {
    "duration": 66,
    "start_time": "2022-04-23T10:38:40.850Z"
   },
   {
    "duration": 42,
    "start_time": "2022-04-23T10:38:40.919Z"
   },
   {
    "duration": 8,
    "start_time": "2022-04-23T10:38:40.963Z"
   },
   {
    "duration": 7,
    "start_time": "2022-04-23T10:38:40.994Z"
   },
   {
    "duration": 9,
    "start_time": "2022-04-23T10:38:41.003Z"
   },
   {
    "duration": 41,
    "start_time": "2022-04-23T10:38:41.014Z"
   },
   {
    "duration": 38,
    "start_time": "2022-04-23T10:38:41.057Z"
   },
   {
    "duration": 14,
    "start_time": "2022-04-23T10:38:41.098Z"
   },
   {
    "duration": 33,
    "start_time": "2022-04-23T10:38:41.114Z"
   },
   {
    "duration": 11,
    "start_time": "2022-04-23T10:38:41.150Z"
   },
   {
    "duration": 23,
    "start_time": "2022-04-23T10:38:41.194Z"
   },
   {
    "duration": 16,
    "start_time": "2022-04-23T10:38:41.219Z"
   },
   {
    "duration": 19,
    "start_time": "2022-04-23T10:38:41.237Z"
   },
   {
    "duration": 8,
    "start_time": "2022-04-23T10:38:41.258Z"
   },
   {
    "duration": 219,
    "start_time": "2022-04-23T10:38:41.294Z"
   },
   {
    "duration": 41,
    "start_time": "2022-04-23T10:38:41.516Z"
   },
   {
    "duration": 458,
    "start_time": "2022-04-23T10:38:41.559Z"
   },
   {
    "duration": 437,
    "start_time": "2022-04-23T10:38:42.019Z"
   },
   {
    "duration": 437,
    "start_time": "2022-04-23T10:38:42.458Z"
   },
   {
    "duration": 418,
    "start_time": "2022-04-23T10:38:42.897Z"
   },
   {
    "duration": 9,
    "start_time": "2022-04-23T10:38:43.318Z"
   },
   {
    "duration": 8,
    "start_time": "2022-04-23T10:38:43.329Z"
   },
   {
    "duration": 94,
    "start_time": "2022-04-23T10:38:43.338Z"
   },
   {
    "duration": 59,
    "start_time": "2022-04-23T10:38:43.435Z"
   },
   {
    "duration": 588,
    "start_time": "2022-04-23T10:38:43.496Z"
   },
   {
    "duration": 593,
    "start_time": "2022-04-23T10:38:44.086Z"
   },
   {
    "duration": 629,
    "start_time": "2022-04-23T10:38:44.681Z"
   },
   {
    "duration": 786,
    "start_time": "2022-04-23T10:38:45.312Z"
   },
   {
    "duration": 997,
    "start_time": "2022-04-23T10:38:46.100Z"
   },
   {
    "duration": 44,
    "start_time": "2022-04-23T10:38:47.099Z"
   },
   {
    "duration": 12,
    "start_time": "2022-04-23T10:38:47.146Z"
   },
   {
    "duration": 36,
    "start_time": "2022-04-23T10:38:47.161Z"
   },
   {
    "duration": 11,
    "start_time": "2022-04-23T10:38:47.200Z"
   },
   {
    "duration": 2016,
    "start_time": "2022-04-23T10:50:18.354Z"
   },
   {
    "duration": 29,
    "start_time": "2022-04-23T10:50:20.373Z"
   },
   {
    "duration": 30,
    "start_time": "2022-04-23T10:50:20.404Z"
   },
   {
    "duration": 21,
    "start_time": "2022-04-23T10:50:20.437Z"
   },
   {
    "duration": 34,
    "start_time": "2022-04-23T10:50:20.461Z"
   },
   {
    "duration": 41,
    "start_time": "2022-04-23T10:50:20.498Z"
   },
   {
    "duration": 10,
    "start_time": "2022-04-23T10:50:20.541Z"
   },
   {
    "duration": 25,
    "start_time": "2022-04-23T10:50:21.090Z"
   },
   {
    "duration": 12,
    "start_time": "2022-04-23T10:50:21.417Z"
   },
   {
    "duration": 28,
    "start_time": "2022-04-23T10:50:21.737Z"
   },
   {
    "duration": 35,
    "start_time": "2022-04-23T10:50:23.174Z"
   },
   {
    "duration": 381,
    "start_time": "2022-04-23T10:50:24.396Z"
   },
   {
    "duration": 19,
    "start_time": "2022-04-23T10:50:25.891Z"
   },
   {
    "duration": 65,
    "start_time": "2022-04-23T10:50:26.732Z"
   },
   {
    "duration": 44,
    "start_time": "2022-04-23T10:50:27.581Z"
   },
   {
    "duration": 53,
    "start_time": "2022-04-23T10:50:28.383Z"
   },
   {
    "duration": 23,
    "start_time": "2022-04-23T10:50:29.924Z"
   },
   {
    "duration": 12,
    "start_time": "2022-04-23T10:50:31.070Z"
   },
   {
    "duration": 70,
    "start_time": "2022-04-23T10:50:32.895Z"
   },
   {
    "duration": 13,
    "start_time": "2022-04-23T10:50:34.577Z"
   },
   {
    "duration": 13,
    "start_time": "2022-04-23T10:50:34.975Z"
   },
   {
    "duration": 13,
    "start_time": "2022-04-23T10:50:35.713Z"
   },
   {
    "duration": 52,
    "start_time": "2022-04-23T10:50:42.335Z"
   },
   {
    "duration": 34,
    "start_time": "2022-04-23T10:50:43.021Z"
   },
   {
    "duration": 37,
    "start_time": "2022-04-23T10:50:43.272Z"
   },
   {
    "duration": 32,
    "start_time": "2022-04-23T10:50:44.668Z"
   },
   {
    "duration": 7,
    "start_time": "2022-04-23T10:50:48.386Z"
   },
   {
    "duration": 7,
    "start_time": "2022-04-23T10:50:48.772Z"
   },
   {
    "duration": 7,
    "start_time": "2022-04-23T10:50:49.054Z"
   },
   {
    "duration": 25,
    "start_time": "2022-04-23T10:50:50.137Z"
   },
   {
    "duration": 7,
    "start_time": "2022-04-23T10:50:50.790Z"
   },
   {
    "duration": 12,
    "start_time": "2022-04-23T10:50:52.294Z"
   },
   {
    "duration": 28,
    "start_time": "2022-04-23T10:50:54.661Z"
   },
   {
    "duration": 37,
    "start_time": "2022-04-23T10:51:02.333Z"
   },
   {
    "duration": 10,
    "start_time": "2022-04-23T10:51:03.222Z"
   },
   {
    "duration": 24,
    "start_time": "2022-04-23T10:51:03.771Z"
   },
   {
    "duration": 21,
    "start_time": "2022-04-23T10:51:05.519Z"
   },
   {
    "duration": 11,
    "start_time": "2022-04-23T10:51:06.799Z"
   },
   {
    "duration": 8,
    "start_time": "2022-04-23T10:51:09.608Z"
   },
   {
    "duration": 3221,
    "start_time": "2022-04-23T10:51:11.734Z"
   },
   {
    "duration": 2584,
    "start_time": "2022-04-23T10:54:39.430Z"
   },
   {
    "duration": 21,
    "start_time": "2022-04-23T10:54:42.017Z"
   },
   {
    "duration": 21,
    "start_time": "2022-04-23T10:54:42.041Z"
   },
   {
    "duration": 38,
    "start_time": "2022-04-23T10:54:42.066Z"
   },
   {
    "duration": 14,
    "start_time": "2022-04-23T10:54:42.106Z"
   },
   {
    "duration": 35,
    "start_time": "2022-04-23T10:54:42.122Z"
   },
   {
    "duration": 39,
    "start_time": "2022-04-23T10:54:42.160Z"
   },
   {
    "duration": 26,
    "start_time": "2022-04-23T10:54:42.356Z"
   },
   {
    "duration": 12,
    "start_time": "2022-04-23T10:54:42.627Z"
   },
   {
    "duration": 29,
    "start_time": "2022-04-23T10:54:42.920Z"
   },
   {
    "duration": 37,
    "start_time": "2022-04-23T10:54:44.122Z"
   },
   {
    "duration": 331,
    "start_time": "2022-04-23T10:54:44.809Z"
   },
   {
    "duration": 19,
    "start_time": "2022-04-23T10:54:45.711Z"
   },
   {
    "duration": 64,
    "start_time": "2022-04-23T10:54:46.181Z"
   },
   {
    "duration": 43,
    "start_time": "2022-04-23T10:54:46.664Z"
   },
   {
    "duration": 52,
    "start_time": "2022-04-23T10:54:47.417Z"
   },
   {
    "duration": 24,
    "start_time": "2022-04-23T10:54:48.907Z"
   },
   {
    "duration": 13,
    "start_time": "2022-04-23T10:54:49.853Z"
   },
   {
    "duration": 72,
    "start_time": "2022-04-23T10:54:51.737Z"
   },
   {
    "duration": 13,
    "start_time": "2022-04-23T10:54:52.496Z"
   },
   {
    "duration": 12,
    "start_time": "2022-04-23T10:54:52.870Z"
   },
   {
    "duration": 12,
    "start_time": "2022-04-23T10:54:53.478Z"
   },
   {
    "duration": 46,
    "start_time": "2022-04-23T10:54:55.331Z"
   },
   {
    "duration": 35,
    "start_time": "2022-04-23T10:54:56.582Z"
   },
   {
    "duration": 36,
    "start_time": "2022-04-23T10:54:57.019Z"
   },
   {
    "duration": 36,
    "start_time": "2022-04-23T10:54:59.292Z"
   },
   {
    "duration": 8,
    "start_time": "2022-04-23T10:55:01.322Z"
   },
   {
    "duration": 7,
    "start_time": "2022-04-23T10:55:01.774Z"
   },
   {
    "duration": 6,
    "start_time": "2022-04-23T10:55:02.508Z"
   },
   {
    "duration": 27,
    "start_time": "2022-04-23T10:55:03.915Z"
   },
   {
    "duration": 6,
    "start_time": "2022-04-23T10:55:05.108Z"
   },
   {
    "duration": 13,
    "start_time": "2022-04-23T10:55:06.774Z"
   },
   {
    "duration": 30,
    "start_time": "2022-04-23T10:55:07.364Z"
   },
   {
    "duration": 9,
    "start_time": "2022-04-23T10:55:08.695Z"
   },
   {
    "duration": 26,
    "start_time": "2022-04-23T10:55:09.362Z"
   },
   {
    "duration": 19,
    "start_time": "2022-04-23T10:55:10.762Z"
   },
   {
    "duration": 11,
    "start_time": "2022-04-23T10:55:11.344Z"
   },
   {
    "duration": 7,
    "start_time": "2022-04-23T10:55:13.197Z"
   },
   {
    "duration": 347,
    "start_time": "2022-04-23T10:55:16.229Z"
   },
   {
    "duration": 34,
    "start_time": "2022-04-23T10:56:59.415Z"
   },
   {
    "duration": 141,
    "start_time": "2022-04-23T10:57:09.286Z"
   },
   {
    "duration": 9,
    "start_time": "2022-04-23T10:57:22.849Z"
   },
   {
    "duration": 13,
    "start_time": "2022-04-23T11:16:52.706Z"
   },
   {
    "duration": 36,
    "start_time": "2022-04-23T11:17:22.198Z"
   },
   {
    "duration": 14,
    "start_time": "2022-04-23T11:33:31.247Z"
   },
   {
    "duration": 1993,
    "start_time": "2022-04-23T11:33:43.360Z"
   },
   {
    "duration": 20,
    "start_time": "2022-04-23T11:33:45.356Z"
   },
   {
    "duration": 20,
    "start_time": "2022-04-23T11:33:45.394Z"
   },
   {
    "duration": 19,
    "start_time": "2022-04-23T11:33:45.418Z"
   },
   {
    "duration": 17,
    "start_time": "2022-04-23T11:33:45.440Z"
   },
   {
    "duration": 48,
    "start_time": "2022-04-23T11:33:45.494Z"
   },
   {
    "duration": 11,
    "start_time": "2022-04-23T11:33:45.544Z"
   },
   {
    "duration": 53,
    "start_time": "2022-04-23T11:33:45.557Z"
   },
   {
    "duration": 12,
    "start_time": "2022-04-23T11:33:45.612Z"
   },
   {
    "duration": 29,
    "start_time": "2022-04-23T11:33:45.629Z"
   },
   {
    "duration": 64,
    "start_time": "2022-04-23T11:33:45.661Z"
   },
   {
    "duration": 343,
    "start_time": "2022-04-23T11:33:45.728Z"
   },
   {
    "duration": 27,
    "start_time": "2022-04-23T11:33:46.074Z"
   },
   {
    "duration": 87,
    "start_time": "2022-04-23T11:33:46.105Z"
   },
   {
    "duration": 44,
    "start_time": "2022-04-23T11:33:46.195Z"
   },
   {
    "duration": 79,
    "start_time": "2022-04-23T11:33:46.241Z"
   },
   {
    "duration": 23,
    "start_time": "2022-04-23T11:33:46.322Z"
   },
   {
    "duration": 11,
    "start_time": "2022-04-23T11:33:46.347Z"
   },
   {
    "duration": 98,
    "start_time": "2022-04-23T11:33:46.360Z"
   },
   {
    "duration": 13,
    "start_time": "2022-04-23T11:33:46.460Z"
   },
   {
    "duration": 20,
    "start_time": "2022-04-23T11:33:46.492Z"
   },
   {
    "duration": 14,
    "start_time": "2022-04-23T11:33:46.514Z"
   },
   {
    "duration": 67,
    "start_time": "2022-04-23T11:33:46.531Z"
   },
   {
    "duration": 37,
    "start_time": "2022-04-23T11:33:46.600Z"
   },
   {
    "duration": 69,
    "start_time": "2022-04-23T11:33:46.639Z"
   },
   {
    "duration": 35,
    "start_time": "2022-04-23T11:33:46.710Z"
   },
   {
    "duration": 8,
    "start_time": "2022-04-23T11:33:46.748Z"
   },
   {
    "duration": 36,
    "start_time": "2022-04-23T11:33:46.762Z"
   },
   {
    "duration": 7,
    "start_time": "2022-04-23T11:33:46.800Z"
   },
   {
    "duration": 25,
    "start_time": "2022-04-23T11:33:46.809Z"
   },
   {
    "duration": 6,
    "start_time": "2022-04-23T11:33:46.837Z"
   },
   {
    "duration": 50,
    "start_time": "2022-04-23T11:33:46.845Z"
   },
   {
    "duration": 30,
    "start_time": "2022-04-23T11:33:46.898Z"
   },
   {
    "duration": 9,
    "start_time": "2022-04-23T11:33:46.930Z"
   },
   {
    "duration": 19,
    "start_time": "2022-04-23T11:33:46.942Z"
   },
   {
    "duration": 21,
    "start_time": "2022-04-23T11:33:46.994Z"
   },
   {
    "duration": 12,
    "start_time": "2022-04-23T11:33:47.018Z"
   },
   {
    "duration": 6,
    "start_time": "2022-04-23T11:33:47.032Z"
   },
   {
    "duration": 261,
    "start_time": "2022-04-23T11:33:47.041Z"
   },
   {
    "duration": 8,
    "start_time": "2022-04-23T11:33:47.304Z"
   },
   {
    "duration": 33,
    "start_time": "2022-04-23T11:33:47.314Z"
   },
   {
    "duration": 71,
    "start_time": "2022-04-23T11:33:47.349Z"
   },
   {
    "duration": 465,
    "start_time": "2022-04-23T11:33:47.422Z"
   },
   {
    "duration": 543,
    "start_time": "2022-04-23T11:33:47.894Z"
   },
   {
    "duration": 434,
    "start_time": "2022-04-23T11:33:48.439Z"
   },
   {
    "duration": 412,
    "start_time": "2022-04-23T11:33:48.875Z"
   },
   {
    "duration": 10,
    "start_time": "2022-04-23T11:33:49.293Z"
   },
   {
    "duration": 21,
    "start_time": "2022-04-23T11:33:49.305Z"
   },
   {
    "duration": 90,
    "start_time": "2022-04-23T11:33:49.328Z"
   },
   {
    "duration": 72,
    "start_time": "2022-04-23T11:33:49.421Z"
   },
   {
    "duration": 812,
    "start_time": "2022-04-23T11:33:49.496Z"
   },
   {
    "duration": 760,
    "start_time": "2022-04-23T11:33:50.311Z"
   },
   {
    "duration": 984,
    "start_time": "2022-04-23T11:33:51.073Z"
   },
   {
    "duration": 773,
    "start_time": "2022-04-23T11:33:52.060Z"
   },
   {
    "duration": 1005,
    "start_time": "2022-04-23T11:33:52.837Z"
   },
   {
    "duration": 651,
    "start_time": "2022-04-23T11:33:53.845Z"
   },
   {
    "duration": 25,
    "start_time": "2022-04-23T11:33:54.499Z"
   },
   {
    "duration": 11,
    "start_time": "2022-04-23T11:33:54.526Z"
   },
   {
    "duration": 11,
    "start_time": "2022-04-23T11:33:54.539Z"
   },
   {
    "duration": 49,
    "start_time": "2022-04-23T11:33:54.552Z"
   },
   {
    "duration": 207,
    "start_time": "2022-04-23T11:34:32.801Z"
   },
   {
    "duration": 224,
    "start_time": "2022-04-23T11:34:46.575Z"
   },
   {
    "duration": 248,
    "start_time": "2022-04-23T11:35:30.905Z"
   },
   {
    "duration": 732,
    "start_time": "2022-04-23T11:38:53.378Z"
   },
   {
    "duration": 545,
    "start_time": "2022-04-23T11:40:07.384Z"
   },
   {
    "duration": 365,
    "start_time": "2022-04-23T11:42:15.809Z"
   },
   {
    "duration": 657,
    "start_time": "2022-04-23T11:43:33.124Z"
   },
   {
    "duration": 416,
    "start_time": "2022-04-23T11:43:43.670Z"
   },
   {
    "duration": 34,
    "start_time": "2022-04-23T11:56:58.918Z"
   },
   {
    "duration": 2003,
    "start_time": "2022-04-23T12:45:28.218Z"
   },
   {
    "duration": 17,
    "start_time": "2022-04-23T12:45:30.224Z"
   },
   {
    "duration": 29,
    "start_time": "2022-04-23T12:45:30.243Z"
   },
   {
    "duration": 25,
    "start_time": "2022-04-23T12:45:30.275Z"
   },
   {
    "duration": 20,
    "start_time": "2022-04-23T12:45:30.303Z"
   },
   {
    "duration": 40,
    "start_time": "2022-04-23T12:45:30.326Z"
   },
   {
    "duration": 33,
    "start_time": "2022-04-23T12:45:30.369Z"
   },
   {
    "duration": 28,
    "start_time": "2022-04-23T12:45:30.405Z"
   },
   {
    "duration": 14,
    "start_time": "2022-04-23T12:45:30.436Z"
   },
   {
    "duration": 30,
    "start_time": "2022-04-23T12:45:30.492Z"
   },
   {
    "duration": 39,
    "start_time": "2022-04-23T12:45:30.525Z"
   },
   {
    "duration": 486,
    "start_time": "2022-04-23T12:45:30.567Z"
   },
   {
    "duration": 17,
    "start_time": "2022-04-23T12:45:31.055Z"
   },
   {
    "duration": 76,
    "start_time": "2022-04-23T12:45:31.074Z"
   },
   {
    "duration": 65,
    "start_time": "2022-04-23T12:45:31.152Z"
   },
   {
    "duration": 53,
    "start_time": "2022-04-23T12:45:31.219Z"
   },
   {
    "duration": 38,
    "start_time": "2022-04-23T12:45:31.274Z"
   },
   {
    "duration": 11,
    "start_time": "2022-04-23T12:45:31.315Z"
   },
   {
    "duration": 99,
    "start_time": "2022-04-23T12:45:31.328Z"
   },
   {
    "duration": 13,
    "start_time": "2022-04-23T12:45:31.429Z"
   },
   {
    "duration": 14,
    "start_time": "2022-04-23T12:45:31.444Z"
   },
   {
    "duration": 39,
    "start_time": "2022-04-23T12:45:31.460Z"
   },
   {
    "duration": 51,
    "start_time": "2022-04-23T12:45:31.501Z"
   },
   {
    "duration": 44,
    "start_time": "2022-04-23T12:45:31.554Z"
   },
   {
    "duration": 35,
    "start_time": "2022-04-23T12:45:31.600Z"
   },
   {
    "duration": 57,
    "start_time": "2022-04-23T12:45:31.637Z"
   },
   {
    "duration": 7,
    "start_time": "2022-04-23T12:45:31.696Z"
   },
   {
    "duration": 7,
    "start_time": "2022-04-23T12:45:31.708Z"
   },
   {
    "duration": 17,
    "start_time": "2022-04-23T12:45:31.717Z"
   },
   {
    "duration": 58,
    "start_time": "2022-04-23T12:45:31.737Z"
   },
   {
    "duration": 8,
    "start_time": "2022-04-23T12:45:31.798Z"
   },
   {
    "duration": 19,
    "start_time": "2022-04-23T12:45:31.808Z"
   },
   {
    "duration": 29,
    "start_time": "2022-04-23T12:45:31.830Z"
   },
   {
    "duration": 40,
    "start_time": "2022-04-23T12:45:31.862Z"
   },
   {
    "duration": 38,
    "start_time": "2022-04-23T12:45:31.904Z"
   },
   {
    "duration": 16,
    "start_time": "2022-04-23T12:45:31.946Z"
   },
   {
    "duration": 33,
    "start_time": "2022-04-23T12:45:31.965Z"
   },
   {
    "duration": 11,
    "start_time": "2022-04-23T12:45:32.001Z"
   },
   {
    "duration": 223,
    "start_time": "2022-04-23T12:45:32.015Z"
   },
   {
    "duration": 10,
    "start_time": "2022-04-23T12:45:32.241Z"
   },
   {
    "duration": 53,
    "start_time": "2022-04-23T12:45:32.254Z"
   },
   {
    "duration": 38,
    "start_time": "2022-04-23T12:45:32.310Z"
   },
   {
    "duration": 441,
    "start_time": "2022-04-23T12:45:32.350Z"
   },
   {
    "duration": 402,
    "start_time": "2022-04-23T12:45:32.793Z"
   },
   {
    "duration": 409,
    "start_time": "2022-04-23T12:45:33.198Z"
   },
   {
    "duration": 395,
    "start_time": "2022-04-23T12:45:33.610Z"
   },
   {
    "duration": 9,
    "start_time": "2022-04-23T12:45:34.007Z"
   },
   {
    "duration": 16,
    "start_time": "2022-04-23T12:45:34.018Z"
   },
   {
    "duration": 83,
    "start_time": "2022-04-23T12:45:34.037Z"
   },
   {
    "duration": 40,
    "start_time": "2022-04-23T12:45:34.122Z"
   },
   {
    "duration": 547,
    "start_time": "2022-04-23T12:45:34.164Z"
   },
   {
    "duration": 546,
    "start_time": "2022-04-23T12:45:34.713Z"
   },
   {
    "duration": 616,
    "start_time": "2022-04-23T12:45:35.261Z"
   },
   {
    "duration": 517,
    "start_time": "2022-04-23T12:45:35.879Z"
   },
   {
    "duration": 525,
    "start_time": "2022-04-23T12:45:36.398Z"
   },
   {
    "duration": 663,
    "start_time": "2022-04-23T12:45:36.925Z"
   },
   {
    "duration": 389,
    "start_time": "2022-04-23T12:45:37.594Z"
   },
   {
    "duration": 541,
    "start_time": "2022-04-23T12:45:37.986Z"
   },
   {
    "duration": 12,
    "start_time": "2022-04-23T12:45:38.530Z"
   },
   {
    "duration": 14,
    "start_time": "2022-04-23T12:45:38.544Z"
   },
   {
    "duration": 2618,
    "start_time": "2022-04-23T18:56:05.978Z"
   },
   {
    "duration": 45,
    "start_time": "2022-04-23T18:56:21.882Z"
   },
   {
    "duration": 423,
    "start_time": "2022-04-23T18:56:24.397Z"
   },
   {
    "duration": 25,
    "start_time": "2022-04-23T18:56:27.561Z"
   },
   {
    "duration": 76,
    "start_time": "2022-04-23T18:56:30.032Z"
   },
   {
    "duration": 43,
    "start_time": "2022-04-23T18:56:33.725Z"
   },
   {
    "duration": 13,
    "start_time": "2022-04-23T18:56:35.978Z"
   },
   {
    "duration": 174,
    "start_time": "2022-04-23T18:56:38.650Z"
   },
   {
    "duration": 18,
    "start_time": "2022-04-23T18:56:47.118Z"
   },
   {
    "duration": 689,
    "start_time": "2022-04-23T19:04:47.343Z"
   },
   {
    "duration": 22,
    "start_time": "2022-04-23T19:04:50.319Z"
   },
   {
    "duration": 28,
    "start_time": "2022-04-23T19:04:53.646Z"
   },
   {
    "duration": 54,
    "start_time": "2022-04-23T19:04:55.736Z"
   },
   {
    "duration": 24,
    "start_time": "2022-04-23T19:04:56.875Z"
   },
   {
    "duration": 26,
    "start_time": "2022-04-23T19:04:58.796Z"
   },
   {
    "duration": 21,
    "start_time": "2022-04-23T19:05:00.179Z"
   },
   {
    "duration": 37,
    "start_time": "2022-04-23T19:05:02.742Z"
   },
   {
    "duration": 53,
    "start_time": "2022-04-23T19:05:06.014Z"
   },
   {
    "duration": 389,
    "start_time": "2022-04-23T19:05:08.679Z"
   },
   {
    "duration": 22,
    "start_time": "2022-04-23T19:05:11.728Z"
   },
   {
    "duration": 73,
    "start_time": "2022-04-23T19:05:13.991Z"
   },
   {
    "duration": 48,
    "start_time": "2022-04-23T19:05:15.408Z"
   },
   {
    "duration": 36,
    "start_time": "2022-04-23T19:05:19.163Z"
   },
   {
    "duration": 16,
    "start_time": "2022-04-23T19:05:20.944Z"
   },
   {
    "duration": 88,
    "start_time": "2022-04-23T19:05:23.313Z"
   },
   {
    "duration": 95,
    "start_time": "2022-04-23T19:06:14.483Z"
   },
   {
    "duration": 21,
    "start_time": "2022-04-23T19:06:26.393Z"
   },
   {
    "duration": 27,
    "start_time": "2022-04-23T19:06:28.027Z"
   },
   {
    "duration": 28,
    "start_time": "2022-04-23T19:06:28.991Z"
   },
   {
    "duration": 64,
    "start_time": "2022-04-23T19:06:32.486Z"
   },
   {
    "duration": 62,
    "start_time": "2022-04-23T19:06:34.157Z"
   },
   {
    "duration": 24,
    "start_time": "2022-04-23T19:06:37.576Z"
   },
   {
    "duration": 87,
    "start_time": "2022-04-23T19:09:24.080Z"
   },
   {
    "duration": 2244,
    "start_time": "2022-04-24T18:28:40.978Z"
   },
   {
    "duration": 16,
    "start_time": "2022-04-24T18:28:43.225Z"
   },
   {
    "duration": 15,
    "start_time": "2022-04-24T18:28:45.613Z"
   },
   {
    "duration": 16,
    "start_time": "2022-04-24T18:28:52.723Z"
   },
   {
    "duration": 15,
    "start_time": "2022-04-24T18:28:54.020Z"
   },
   {
    "duration": 14,
    "start_time": "2022-04-24T18:28:56.431Z"
   },
   {
    "duration": 489,
    "start_time": "2022-04-24T18:28:58.700Z"
   },
   {
    "duration": 16,
    "start_time": "2022-04-24T18:28:59.965Z"
   },
   {
    "duration": 15,
    "start_time": "2022-04-24T18:29:07.062Z"
   },
   {
    "duration": 18,
    "start_time": "2022-04-24T18:29:08.359Z"
   },
   {
    "duration": 13,
    "start_time": "2022-04-24T18:29:14.978Z"
   },
   {
    "duration": 34,
    "start_time": "2022-04-24T18:29:16.867Z"
   },
   {
    "duration": 11,
    "start_time": "2022-04-24T18:29:21.367Z"
   },
   {
    "duration": 27,
    "start_time": "2022-04-24T18:29:22.980Z"
   },
   {
    "duration": 13,
    "start_time": "2022-04-24T18:29:24.885Z"
   },
   {
    "duration": 29,
    "start_time": "2022-04-24T18:29:26.877Z"
   },
   {
    "duration": 37,
    "start_time": "2022-04-24T18:29:32.695Z"
   },
   {
    "duration": 324,
    "start_time": "2022-04-24T18:29:41.041Z"
   },
   {
    "duration": 17,
    "start_time": "2022-04-24T18:29:59.452Z"
   },
   {
    "duration": 67,
    "start_time": "2022-04-24T18:30:06.272Z"
   },
   {
    "duration": 42,
    "start_time": "2022-04-24T18:30:09.744Z"
   },
   {
    "duration": 52,
    "start_time": "2022-04-24T18:30:13.739Z"
   },
   {
    "duration": 22,
    "start_time": "2022-04-24T18:30:18.425Z"
   },
   {
    "duration": 11,
    "start_time": "2022-04-24T18:30:21.515Z"
   },
   {
    "duration": 72,
    "start_time": "2022-04-24T18:30:27.149Z"
   },
   {
    "duration": 14,
    "start_time": "2022-04-24T18:30:30.425Z"
   },
   {
    "duration": 11,
    "start_time": "2022-04-24T18:30:32.483Z"
   },
   {
    "duration": 12,
    "start_time": "2022-04-24T18:30:33.923Z"
   },
   {
    "duration": 46,
    "start_time": "2022-04-24T18:30:37.401Z"
   },
   {
    "duration": 33,
    "start_time": "2022-04-24T18:30:40.743Z"
   },
   {
    "duration": 35,
    "start_time": "2022-04-24T18:30:44.306Z"
   },
   {
    "duration": 33,
    "start_time": "2022-04-24T18:30:47.407Z"
   },
   {
    "duration": 7,
    "start_time": "2022-04-24T18:30:51.676Z"
   },
   {
    "duration": 7,
    "start_time": "2022-04-24T18:30:52.446Z"
   },
   {
    "duration": 7,
    "start_time": "2022-04-24T18:30:52.994Z"
   },
   {
    "duration": 25,
    "start_time": "2022-04-24T18:30:56.277Z"
   },
   {
    "duration": 8,
    "start_time": "2022-04-24T18:31:06.565Z"
   },
   {
    "duration": 13,
    "start_time": "2022-04-24T18:31:13.249Z"
   },
   {
    "duration": 28,
    "start_time": "2022-04-24T18:31:15.085Z"
   },
   {
    "duration": 9,
    "start_time": "2022-04-24T18:31:18.045Z"
   },
   {
    "duration": 21,
    "start_time": "2022-04-24T18:31:20.199Z"
   },
   {
    "duration": 16,
    "start_time": "2022-04-24T18:31:22.816Z"
   },
   {
    "duration": 11,
    "start_time": "2022-04-24T18:31:25.540Z"
   },
   {
    "duration": 7,
    "start_time": "2022-04-24T18:31:30.803Z"
   },
   {
    "duration": 99,
    "start_time": "2022-04-24T18:46:47.776Z"
   },
   {
    "duration": 8,
    "start_time": "2022-04-24T18:47:46.580Z"
   },
   {
    "duration": 9,
    "start_time": "2022-04-24T18:49:01.372Z"
   },
   {
    "duration": 88,
    "start_time": "2022-04-24T18:49:58.630Z"
   },
   {
    "duration": 98,
    "start_time": "2022-04-24T18:50:06.581Z"
   },
   {
    "duration": 95,
    "start_time": "2022-04-24T18:50:13.764Z"
   },
   {
    "duration": 105,
    "start_time": "2022-04-24T18:51:01.520Z"
   },
   {
    "duration": 107,
    "start_time": "2022-04-24T18:51:10.532Z"
   },
   {
    "duration": 97,
    "start_time": "2022-04-24T18:51:28.848Z"
   },
   {
    "duration": 134,
    "start_time": "2022-04-24T18:51:37.690Z"
   },
   {
    "duration": 222,
    "start_time": "2022-04-24T18:51:49.727Z"
   },
   {
    "duration": 3,
    "start_time": "2022-04-24T18:51:58.293Z"
   },
   {
    "duration": 238,
    "start_time": "2022-04-24T18:52:19.758Z"
   },
   {
    "duration": 10,
    "start_time": "2022-04-24T18:52:24.829Z"
   },
   {
    "duration": 38,
    "start_time": "2022-04-24T18:52:42.624Z"
   },
   {
    "duration": 47,
    "start_time": "2022-04-24T18:52:50.933Z"
   },
   {
    "duration": 462,
    "start_time": "2022-04-24T18:52:55.208Z"
   },
   {
    "duration": 418,
    "start_time": "2022-04-24T18:52:58.249Z"
   },
   {
    "duration": 420,
    "start_time": "2022-04-24T18:53:22.400Z"
   },
   {
    "duration": 9,
    "start_time": "2022-04-24T18:53:27.163Z"
   },
   {
    "duration": 8,
    "start_time": "2022-04-24T18:53:29.167Z"
   },
   {
    "duration": 59,
    "start_time": "2022-04-24T18:53:33.962Z"
   },
   {
    "duration": 42,
    "start_time": "2022-04-24T18:53:38.078Z"
   },
   {
    "duration": 582,
    "start_time": "2022-04-24T18:54:29.373Z"
   },
   {
    "duration": 575,
    "start_time": "2022-04-24T18:54:37.199Z"
   },
   {
    "duration": 817,
    "start_time": "2022-04-24T18:55:03.014Z"
   },
   {
    "duration": 646,
    "start_time": "2022-04-24T18:55:27.593Z"
   },
   {
    "duration": 788,
    "start_time": "2022-04-24T18:55:42.404Z"
   },
   {
    "duration": 1042,
    "start_time": "2022-04-24T18:56:03.032Z"
   },
   {
    "duration": 474,
    "start_time": "2022-04-24T18:56:40.367Z"
   },
   {
    "duration": 465,
    "start_time": "2022-04-24T18:56:44.824Z"
   },
   {
    "duration": 151,
    "start_time": "2022-04-24T19:14:18.180Z"
   },
   {
    "duration": 3631,
    "start_time": "2022-04-24T19:15:24.939Z"
   },
   {
    "duration": 32,
    "start_time": "2022-04-24T19:17:16.966Z"
   },
   {
    "duration": 2114,
    "start_time": "2022-04-24T19:17:29.286Z"
   },
   {
    "duration": 1444,
    "start_time": "2022-04-24T19:17:43.443Z"
   },
   {
    "duration": 32,
    "start_time": "2022-04-24T19:18:25.509Z"
   },
   {
    "duration": 3592,
    "start_time": "2022-04-24T19:18:36.931Z"
   },
   {
    "duration": 1560,
    "start_time": "2022-04-24T19:20:13.589Z"
   },
   {
    "duration": 1605,
    "start_time": "2022-04-24T19:21:26.311Z"
   },
   {
    "duration": 3574,
    "start_time": "2022-04-24T19:21:35.053Z"
   },
   {
    "duration": 1182,
    "start_time": "2022-04-24T19:21:56.751Z"
   },
   {
    "duration": 68,
    "start_time": "2022-04-24T19:23:25.464Z"
   },
   {
    "duration": 1365,
    "start_time": "2022-04-24T19:23:34.071Z"
   },
   {
    "duration": 66,
    "start_time": "2022-04-24T19:25:31.584Z"
   },
   {
    "duration": 40,
    "start_time": "2022-04-24T19:25:42.121Z"
   },
   {
    "duration": 1523,
    "start_time": "2022-04-24T19:26:09.497Z"
   },
   {
    "duration": 102,
    "start_time": "2022-04-24T19:27:02.917Z"
   },
   {
    "duration": 107,
    "start_time": "2022-04-24T19:27:20.276Z"
   },
   {
    "duration": 3669,
    "start_time": "2022-04-24T19:27:26.128Z"
   },
   {
    "duration": 408,
    "start_time": "2022-04-24T19:28:30.087Z"
   },
   {
    "duration": 659,
    "start_time": "2022-04-24T19:31:00.235Z"
   },
   {
    "duration": 91,
    "start_time": "2022-04-24T19:32:21.614Z"
   },
   {
    "duration": 1154,
    "start_time": "2022-04-24T19:32:28.131Z"
   },
   {
    "duration": 396,
    "start_time": "2022-04-24T19:34:48.723Z"
   },
   {
    "duration": 1329,
    "start_time": "2022-04-24T19:34:55.885Z"
   },
   {
    "duration": 552,
    "start_time": "2022-04-24T19:35:41.848Z"
   },
   {
    "duration": 394,
    "start_time": "2022-04-24T19:36:25.005Z"
   },
   {
    "duration": 1317,
    "start_time": "2022-04-24T19:36:43.548Z"
   },
   {
    "duration": 1706,
    "start_time": "2022-04-24T19:37:28.023Z"
   },
   {
    "duration": 1627,
    "start_time": "2022-04-24T19:37:35.159Z"
   },
   {
    "duration": 65,
    "start_time": "2022-04-24T19:37:43.742Z"
   },
   {
    "duration": 73,
    "start_time": "2022-04-24T19:37:51.632Z"
   },
   {
    "duration": 1332,
    "start_time": "2022-04-24T19:38:13.630Z"
   },
   {
    "duration": 3649,
    "start_time": "2022-04-24T19:38:23.139Z"
   },
   {
    "duration": 3550,
    "start_time": "2022-04-24T19:41:35.883Z"
   },
   {
    "duration": 229,
    "start_time": "2022-04-24T19:42:13.201Z"
   },
   {
    "duration": 3763,
    "start_time": "2022-04-24T19:42:21.009Z"
   },
   {
    "duration": 4304,
    "start_time": "2022-04-24T19:43:48.047Z"
   },
   {
    "duration": 1158,
    "start_time": "2022-04-24T19:45:36.765Z"
   },
   {
    "duration": 3824,
    "start_time": "2022-04-24T19:46:36.644Z"
   },
   {
    "duration": 464,
    "start_time": "2022-04-24T19:47:15.846Z"
   },
   {
    "duration": 3840,
    "start_time": "2022-04-24T19:47:31.191Z"
   },
   {
    "duration": 264,
    "start_time": "2022-04-24T19:48:34.715Z"
   },
   {
    "duration": 448,
    "start_time": "2022-04-24T19:49:00.757Z"
   },
   {
    "duration": 12253,
    "start_time": "2022-04-24T19:51:12.614Z"
   },
   {
    "duration": 4279,
    "start_time": "2022-04-24T19:51:46.923Z"
   },
   {
    "duration": 3641,
    "start_time": "2022-04-24T19:54:14.958Z"
   },
   {
    "duration": 125,
    "start_time": "2022-04-24T19:55:55.424Z"
   },
   {
    "duration": 108,
    "start_time": "2022-04-24T19:56:26.424Z"
   },
   {
    "duration": 90,
    "start_time": "2022-04-24T19:56:31.352Z"
   },
   {
    "duration": 87,
    "start_time": "2022-04-24T19:56:38.316Z"
   },
   {
    "duration": 124,
    "start_time": "2022-04-24T19:56:52.857Z"
   },
   {
    "duration": 3644,
    "start_time": "2022-04-24T19:56:59.085Z"
   },
   {
    "duration": 42,
    "start_time": "2022-04-24T20:01:48.832Z"
   },
   {
    "duration": 1645,
    "start_time": "2022-04-24T20:02:00.972Z"
   },
   {
    "duration": 43,
    "start_time": "2022-04-24T20:02:51.332Z"
   },
   {
    "duration": 1481,
    "start_time": "2022-04-24T20:03:03.471Z"
   },
   {
    "duration": 1586,
    "start_time": "2022-04-24T20:03:38.907Z"
   },
   {
    "duration": 1463,
    "start_time": "2022-04-24T20:04:09.363Z"
   },
   {
    "duration": 89,
    "start_time": "2022-04-24T20:05:18.129Z"
   },
   {
    "duration": 1378,
    "start_time": "2022-04-24T20:05:24.322Z"
   },
   {
    "duration": 1953,
    "start_time": "2022-04-24T20:05:35.733Z"
   },
   {
    "duration": 1759,
    "start_time": "2022-04-24T20:05:47.074Z"
   },
   {
    "duration": 1599,
    "start_time": "2022-04-24T20:06:07.605Z"
   },
   {
    "duration": 3529,
    "start_time": "2022-04-24T20:06:18.947Z"
   },
   {
    "duration": 51,
    "start_time": "2022-04-24T20:07:58.746Z"
   },
   {
    "duration": 232,
    "start_time": "2022-04-24T20:08:06.155Z"
   },
   {
    "duration": 3551,
    "start_time": "2022-04-24T20:08:14.830Z"
   },
   {
    "duration": 100,
    "start_time": "2022-04-24T20:39:23.597Z"
   },
   {
    "duration": 118,
    "start_time": "2022-04-24T20:39:38.291Z"
   },
   {
    "duration": 119,
    "start_time": "2022-04-24T20:40:25.383Z"
   },
   {
    "duration": 71,
    "start_time": "2022-04-25T21:08:44.066Z"
   },
   {
    "duration": 1947,
    "start_time": "2022-04-25T21:08:50.314Z"
   },
   {
    "duration": 16,
    "start_time": "2022-04-25T21:08:52.263Z"
   },
   {
    "duration": 16,
    "start_time": "2022-04-25T21:08:52.282Z"
   },
   {
    "duration": 14,
    "start_time": "2022-04-25T21:08:52.301Z"
   },
   {
    "duration": 45,
    "start_time": "2022-04-25T21:08:52.318Z"
   },
   {
    "duration": 33,
    "start_time": "2022-04-25T21:08:52.365Z"
   },
   {
    "duration": 10,
    "start_time": "2022-04-25T21:08:52.400Z"
   },
   {
    "duration": 57,
    "start_time": "2022-04-25T21:08:52.413Z"
   },
   {
    "duration": 13,
    "start_time": "2022-04-25T21:08:52.472Z"
   },
   {
    "duration": 28,
    "start_time": "2022-04-25T21:08:52.489Z"
   },
   {
    "duration": 65,
    "start_time": "2022-04-25T21:08:52.519Z"
   },
   {
    "duration": 341,
    "start_time": "2022-04-25T21:08:52.586Z"
   },
   {
    "duration": 29,
    "start_time": "2022-04-25T21:08:52.929Z"
   },
   {
    "duration": 66,
    "start_time": "2022-04-25T21:08:52.960Z"
   },
   {
    "duration": 58,
    "start_time": "2022-04-25T21:08:53.028Z"
   },
   {
    "duration": 67,
    "start_time": "2022-04-25T21:08:53.088Z"
   },
   {
    "duration": 21,
    "start_time": "2022-04-25T21:08:53.157Z"
   },
   {
    "duration": 12,
    "start_time": "2022-04-25T21:08:53.180Z"
   },
   {
    "duration": 102,
    "start_time": "2022-04-25T21:08:53.194Z"
   },
   {
    "duration": 12,
    "start_time": "2022-04-25T21:08:53.298Z"
   },
   {
    "duration": 12,
    "start_time": "2022-04-25T21:08:53.312Z"
   },
   {
    "duration": 33,
    "start_time": "2022-04-25T21:08:53.326Z"
   },
   {
    "duration": 46,
    "start_time": "2022-04-25T21:08:53.361Z"
   },
   {
    "duration": 51,
    "start_time": "2022-04-25T21:08:53.409Z"
   },
   {
    "duration": 34,
    "start_time": "2022-04-25T21:08:53.463Z"
   },
   {
    "duration": 55,
    "start_time": "2022-04-25T21:08:53.499Z"
   },
   {
    "duration": 7,
    "start_time": "2022-04-25T21:08:53.556Z"
   },
   {
    "duration": 6,
    "start_time": "2022-04-25T21:08:53.568Z"
   },
   {
    "duration": 6,
    "start_time": "2022-04-25T21:08:53.577Z"
   },
   {
    "duration": 24,
    "start_time": "2022-04-25T21:08:53.585Z"
   },
   {
    "duration": 44,
    "start_time": "2022-04-25T21:08:53.611Z"
   },
   {
    "duration": 13,
    "start_time": "2022-04-25T21:08:53.657Z"
   },
   {
    "duration": 28,
    "start_time": "2022-04-25T21:08:53.672Z"
   },
   {
    "duration": 9,
    "start_time": "2022-04-25T21:08:53.702Z"
   },
   {
    "duration": 53,
    "start_time": "2022-04-25T21:08:53.713Z"
   },
   {
    "duration": 15,
    "start_time": "2022-04-25T21:08:53.768Z"
   },
   {
    "duration": 14,
    "start_time": "2022-04-25T21:08:53.785Z"
   },
   {
    "duration": 7,
    "start_time": "2022-04-25T21:08:53.801Z"
   },
   {
    "duration": 9,
    "start_time": "2022-04-25T21:08:53.810Z"
   },
   {
    "duration": 222,
    "start_time": "2022-04-25T21:08:53.851Z"
   },
   {
    "duration": 8,
    "start_time": "2022-04-25T21:08:54.075Z"
   },
   {
    "duration": 33,
    "start_time": "2022-04-25T21:08:54.085Z"
   },
   {
    "duration": 67,
    "start_time": "2022-04-25T21:08:54.120Z"
   },
   {
    "duration": 446,
    "start_time": "2022-04-25T21:08:54.189Z"
   },
   {
    "duration": 414,
    "start_time": "2022-04-25T21:08:54.638Z"
   },
   {
    "duration": 423,
    "start_time": "2022-04-25T21:08:55.054Z"
   },
   {
    "duration": 407,
    "start_time": "2022-04-25T21:08:55.480Z"
   },
   {
    "duration": 9,
    "start_time": "2022-04-25T21:08:55.889Z"
   },
   {
    "duration": 13,
    "start_time": "2022-04-25T21:08:55.900Z"
   },
   {
    "duration": 3319,
    "start_time": "2022-04-25T21:08:55.915Z"
   },
   {
    "duration": 47,
    "start_time": "2022-04-25T21:08:59.236Z"
   },
   {
    "duration": 672,
    "start_time": "2022-04-25T21:08:59.285Z"
   },
   {
    "duration": 576,
    "start_time": "2022-04-25T21:08:59.960Z"
   },
   {
    "duration": 606,
    "start_time": "2022-04-25T21:09:00.538Z"
   },
   {
    "duration": 570,
    "start_time": "2022-04-25T21:09:01.146Z"
   },
   {
    "duration": 647,
    "start_time": "2022-04-25T21:09:01.719Z"
   },
   {
    "duration": 812,
    "start_time": "2022-04-25T21:09:02.368Z"
   },
   {
    "duration": 416,
    "start_time": "2022-04-25T21:09:03.182Z"
   },
   {
    "duration": 454,
    "start_time": "2022-04-25T21:09:03.601Z"
   },
   {
    "duration": 14,
    "start_time": "2022-04-25T21:09:04.058Z"
   },
   {
    "duration": 17,
    "start_time": "2022-04-25T21:09:04.074Z"
   },
   {
    "duration": 9,
    "start_time": "2022-04-25T21:10:18.246Z"
   },
   {
    "duration": 195,
    "start_time": "2022-04-25T21:10:58.396Z"
   },
   {
    "duration": 41,
    "start_time": "2022-04-25T21:11:01.469Z"
   },
   {
    "duration": 197,
    "start_time": "2022-04-25T21:11:19.385Z"
   },
   {
    "duration": 43,
    "start_time": "2022-04-25T21:11:20.686Z"
   },
   {
    "duration": 8,
    "start_time": "2022-04-25T21:18:04.342Z"
   },
   {
    "duration": 160,
    "start_time": "2022-04-25T21:18:06.785Z"
   },
   {
    "duration": 9,
    "start_time": "2022-04-25T21:19:00.981Z"
   },
   {
    "duration": 1792,
    "start_time": "2022-04-25T21:19:06.617Z"
   },
   {
    "duration": 13,
    "start_time": "2022-04-25T21:19:16.733Z"
   },
   {
    "duration": 9,
    "start_time": "2022-04-25T21:19:44.239Z"
   },
   {
    "duration": 11,
    "start_time": "2022-04-25T21:19:44.685Z"
   },
   {
    "duration": 9,
    "start_time": "2022-04-25T21:20:06.541Z"
   },
   {
    "duration": 11,
    "start_time": "2022-04-25T21:20:08.376Z"
   },
   {
    "duration": 9,
    "start_time": "2022-04-25T21:21:25.895Z"
   },
   {
    "duration": 11,
    "start_time": "2022-04-25T21:21:26.160Z"
   },
   {
    "duration": 4950,
    "start_time": "2022-04-25T21:21:26.457Z"
   },
   {
    "duration": 11,
    "start_time": "2022-04-25T21:21:44.736Z"
   },
   {
    "duration": 7,
    "start_time": "2022-04-25T21:21:48.911Z"
   },
   {
    "duration": 66,
    "start_time": "2022-04-25T21:22:04.836Z"
   },
   {
    "duration": 40,
    "start_time": "2022-04-25T21:28:55.365Z"
   },
   {
    "duration": 39,
    "start_time": "2022-04-25T21:29:09.234Z"
   },
   {
    "duration": 40,
    "start_time": "2022-04-25T21:29:14.813Z"
   },
   {
    "duration": 38,
    "start_time": "2022-04-25T21:31:59.888Z"
   },
   {
    "duration": 1930,
    "start_time": "2022-04-25T21:32:34.534Z"
   },
   {
    "duration": 15,
    "start_time": "2022-04-25T21:32:36.467Z"
   },
   {
    "duration": 18,
    "start_time": "2022-04-25T21:32:36.484Z"
   },
   {
    "duration": 15,
    "start_time": "2022-04-25T21:32:36.505Z"
   },
   {
    "duration": 40,
    "start_time": "2022-04-25T21:32:36.522Z"
   },
   {
    "duration": 39,
    "start_time": "2022-04-25T21:32:36.564Z"
   },
   {
    "duration": 12,
    "start_time": "2022-04-25T21:32:36.605Z"
   },
   {
    "duration": 59,
    "start_time": "2022-04-25T21:32:36.619Z"
   },
   {
    "duration": 12,
    "start_time": "2022-04-25T21:32:36.680Z"
   },
   {
    "duration": 60,
    "start_time": "2022-04-25T21:32:36.695Z"
   },
   {
    "duration": 36,
    "start_time": "2022-04-25T21:32:36.841Z"
   },
   {
    "duration": 327,
    "start_time": "2022-04-25T21:32:37.361Z"
   },
   {
    "duration": 18,
    "start_time": "2022-04-25T21:32:38.042Z"
   },
   {
    "duration": 68,
    "start_time": "2022-04-25T21:32:38.386Z"
   },
   {
    "duration": 45,
    "start_time": "2022-04-25T21:32:38.716Z"
   },
   {
    "duration": 57,
    "start_time": "2022-04-25T21:32:39.053Z"
   },
   {
    "duration": 28,
    "start_time": "2022-04-25T21:32:40.062Z"
   },
   {
    "duration": 12,
    "start_time": "2022-04-25T21:32:40.655Z"
   },
   {
    "duration": 73,
    "start_time": "2022-04-25T21:32:41.767Z"
   },
   {
    "duration": 12,
    "start_time": "2022-04-25T21:32:42.277Z"
   },
   {
    "duration": 11,
    "start_time": "2022-04-25T21:32:42.525Z"
   },
   {
    "duration": 12,
    "start_time": "2022-04-25T21:32:42.851Z"
   },
   {
    "duration": 48,
    "start_time": "2022-04-25T21:32:44.507Z"
   },
   {
    "duration": 36,
    "start_time": "2022-04-25T21:32:45.199Z"
   },
   {
    "duration": 3,
    "start_time": "2022-04-25T21:32:45.482Z"
   },
   {
    "duration": 32,
    "start_time": "2022-04-25T21:32:47.547Z"
   },
   {
    "duration": 37,
    "start_time": "2022-04-25T21:33:32.219Z"
   },
   {
    "duration": 38,
    "start_time": "2022-04-25T21:35:00.876Z"
   },
   {
    "duration": 32,
    "start_time": "2022-04-25T21:35:03.035Z"
   },
   {
    "duration": 8,
    "start_time": "2022-04-25T21:35:07.608Z"
   },
   {
    "duration": 7,
    "start_time": "2022-04-25T21:35:07.769Z"
   },
   {
    "duration": 7,
    "start_time": "2022-04-25T21:35:08.094Z"
   },
   {
    "duration": 27,
    "start_time": "2022-04-25T21:35:08.685Z"
   },
   {
    "duration": 7,
    "start_time": "2022-04-25T21:35:09.311Z"
   },
   {
    "duration": 13,
    "start_time": "2022-04-25T21:35:10.404Z"
   },
   {
    "duration": 28,
    "start_time": "2022-04-25T21:35:10.832Z"
   },
   {
    "duration": 11,
    "start_time": "2022-04-25T21:35:11.584Z"
   },
   {
    "duration": 20,
    "start_time": "2022-04-25T21:35:11.912Z"
   },
   {
    "duration": 17,
    "start_time": "2022-04-25T21:35:12.678Z"
   },
   {
    "duration": 12,
    "start_time": "2022-04-25T21:35:12.967Z"
   },
   {
    "duration": 8,
    "start_time": "2022-04-25T21:35:14.112Z"
   },
   {
    "duration": 3,
    "start_time": "2022-04-25T21:35:17.332Z"
   },
   {
    "duration": 216,
    "start_time": "2022-04-25T21:35:34.840Z"
   },
   {
    "duration": 10,
    "start_time": "2022-04-25T21:35:46.022Z"
   },
   {
    "duration": 36,
    "start_time": "2022-04-25T21:35:48.098Z"
   },
   {
    "duration": 38,
    "start_time": "2022-04-25T21:35:52.131Z"
   },
   {
    "duration": 433,
    "start_time": "2022-04-25T21:35:54.074Z"
   },
   {
    "duration": 415,
    "start_time": "2022-04-25T21:35:54.510Z"
   },
   {
    "duration": 407,
    "start_time": "2022-04-25T21:35:54.928Z"
   },
   {
    "duration": 403,
    "start_time": "2022-04-25T21:35:55.337Z"
   },
   {
    "duration": 8,
    "start_time": "2022-04-25T21:35:56.649Z"
   },
   {
    "duration": 7,
    "start_time": "2022-04-25T21:35:57.034Z"
   },
   {
    "duration": 3540,
    "start_time": "2022-04-25T21:35:58.885Z"
   },
   {
    "duration": 50,
    "start_time": "2022-04-25T21:36:02.428Z"
   },
   {
    "duration": 994,
    "start_time": "2022-04-25T21:36:02.480Z"
   },
   {
    "duration": 582,
    "start_time": "2022-04-25T21:36:03.478Z"
   },
   {
    "duration": 683,
    "start_time": "2022-04-25T21:36:04.062Z"
   },
   {
    "duration": 567,
    "start_time": "2022-04-25T21:36:04.752Z"
   },
   {
    "duration": 683,
    "start_time": "2022-04-25T21:36:05.321Z"
   },
   {
    "duration": 851,
    "start_time": "2022-04-25T21:36:06.006Z"
   },
   {
    "duration": 398,
    "start_time": "2022-04-25T21:36:06.862Z"
   },
   {
    "duration": 464,
    "start_time": "2022-04-25T21:36:07.262Z"
   },
   {
    "duration": 11,
    "start_time": "2022-04-25T21:36:10.310Z"
   },
   {
    "duration": 11,
    "start_time": "2022-04-25T21:36:11.746Z"
   },
   {
    "duration": 34,
    "start_time": "2022-04-25T21:58:34.286Z"
   },
   {
    "duration": 55,
    "start_time": "2022-04-25T21:59:14.285Z"
   }
  ],
  "kernelspec": {
   "display_name": "Python 3 (ipykernel)",
   "language": "python",
   "name": "python3"
  },
  "language_info": {
   "codemirror_mode": {
    "name": "ipython",
    "version": 3
   },
   "file_extension": ".py",
   "mimetype": "text/x-python",
   "name": "python",
   "nbconvert_exporter": "python",
   "pygments_lexer": "ipython3",
   "version": "3.9.5"
  },
  "toc": {
   "base_numbering": 1,
   "nav_menu": {},
   "number_sections": true,
   "sideBar": true,
   "skip_h1_title": true,
   "title_cell": "Table of Contents",
   "title_sidebar": "Contents",
   "toc_cell": false,
   "toc_position": {},
   "toc_section_display": true,
   "toc_window_display": false
  }
 },
 "nbformat": 4,
 "nbformat_minor": 2
}
