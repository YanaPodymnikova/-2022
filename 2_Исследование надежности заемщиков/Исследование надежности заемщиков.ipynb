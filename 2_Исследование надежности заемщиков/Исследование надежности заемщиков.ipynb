{
 "cells": [
  {
   "cell_type": "markdown",
   "id": "d5e988a3",
   "metadata": {},
   "source": [
    "# Исследование надежности заемщиков."
   ]
  },
  {
   "cell_type": "markdown",
   "id": "489a7006",
   "metadata": {},
   "source": [
    "# Шаг 1. Обзор данных"
   ]
  },
  {
   "cell_type": "code",
   "execution_count": 1,
   "id": "19cb4b34",
   "metadata": {},
   "outputs": [
    {
     "data": {
      "text/html": [
       "<div>\n",
       "<style scoped>\n",
       "    .dataframe tbody tr th:only-of-type {\n",
       "        vertical-align: middle;\n",
       "    }\n",
       "\n",
       "    .dataframe tbody tr th {\n",
       "        vertical-align: top;\n",
       "    }\n",
       "\n",
       "    .dataframe thead th {\n",
       "        text-align: right;\n",
       "    }\n",
       "</style>\n",
       "<table border=\"1\" class=\"dataframe\">\n",
       "  <thead>\n",
       "    <tr style=\"text-align: right;\">\n",
       "      <th></th>\n",
       "      <th>children</th>\n",
       "      <th>days_employed</th>\n",
       "      <th>dob_years</th>\n",
       "      <th>education</th>\n",
       "      <th>education_id</th>\n",
       "      <th>family_status</th>\n",
       "      <th>family_status_id</th>\n",
       "      <th>gender</th>\n",
       "      <th>income_type</th>\n",
       "      <th>debt</th>\n",
       "      <th>total_income</th>\n",
       "      <th>purpose</th>\n",
       "    </tr>\n",
       "  </thead>\n",
       "  <tbody>\n",
       "    <tr>\n",
       "      <th>0</th>\n",
       "      <td>1</td>\n",
       "      <td>-8437.673028</td>\n",
       "      <td>42</td>\n",
       "      <td>высшее</td>\n",
       "      <td>0</td>\n",
       "      <td>женат / замужем</td>\n",
       "      <td>0</td>\n",
       "      <td>F</td>\n",
       "      <td>сотрудник</td>\n",
       "      <td>0</td>\n",
       "      <td>253875.639453</td>\n",
       "      <td>покупка жилья</td>\n",
       "    </tr>\n",
       "    <tr>\n",
       "      <th>1</th>\n",
       "      <td>1</td>\n",
       "      <td>-4024.803754</td>\n",
       "      <td>36</td>\n",
       "      <td>среднее</td>\n",
       "      <td>1</td>\n",
       "      <td>женат / замужем</td>\n",
       "      <td>0</td>\n",
       "      <td>F</td>\n",
       "      <td>сотрудник</td>\n",
       "      <td>0</td>\n",
       "      <td>112080.014102</td>\n",
       "      <td>приобретение автомобиля</td>\n",
       "    </tr>\n",
       "    <tr>\n",
       "      <th>2</th>\n",
       "      <td>0</td>\n",
       "      <td>-5623.422610</td>\n",
       "      <td>33</td>\n",
       "      <td>Среднее</td>\n",
       "      <td>1</td>\n",
       "      <td>женат / замужем</td>\n",
       "      <td>0</td>\n",
       "      <td>M</td>\n",
       "      <td>сотрудник</td>\n",
       "      <td>0</td>\n",
       "      <td>145885.952297</td>\n",
       "      <td>покупка жилья</td>\n",
       "    </tr>\n",
       "    <tr>\n",
       "      <th>3</th>\n",
       "      <td>3</td>\n",
       "      <td>-4124.747207</td>\n",
       "      <td>32</td>\n",
       "      <td>среднее</td>\n",
       "      <td>1</td>\n",
       "      <td>женат / замужем</td>\n",
       "      <td>0</td>\n",
       "      <td>M</td>\n",
       "      <td>сотрудник</td>\n",
       "      <td>0</td>\n",
       "      <td>267628.550329</td>\n",
       "      <td>дополнительное образование</td>\n",
       "    </tr>\n",
       "    <tr>\n",
       "      <th>4</th>\n",
       "      <td>0</td>\n",
       "      <td>340266.072047</td>\n",
       "      <td>53</td>\n",
       "      <td>среднее</td>\n",
       "      <td>1</td>\n",
       "      <td>гражданский брак</td>\n",
       "      <td>1</td>\n",
       "      <td>F</td>\n",
       "      <td>пенсионер</td>\n",
       "      <td>0</td>\n",
       "      <td>158616.077870</td>\n",
       "      <td>сыграть свадьбу</td>\n",
       "    </tr>\n",
       "    <tr>\n",
       "      <th>...</th>\n",
       "      <td>...</td>\n",
       "      <td>...</td>\n",
       "      <td>...</td>\n",
       "      <td>...</td>\n",
       "      <td>...</td>\n",
       "      <td>...</td>\n",
       "      <td>...</td>\n",
       "      <td>...</td>\n",
       "      <td>...</td>\n",
       "      <td>...</td>\n",
       "      <td>...</td>\n",
       "      <td>...</td>\n",
       "    </tr>\n",
       "    <tr>\n",
       "      <th>21520</th>\n",
       "      <td>1</td>\n",
       "      <td>-4529.316663</td>\n",
       "      <td>43</td>\n",
       "      <td>среднее</td>\n",
       "      <td>1</td>\n",
       "      <td>гражданский брак</td>\n",
       "      <td>1</td>\n",
       "      <td>F</td>\n",
       "      <td>компаньон</td>\n",
       "      <td>0</td>\n",
       "      <td>224791.862382</td>\n",
       "      <td>операции с жильем</td>\n",
       "    </tr>\n",
       "    <tr>\n",
       "      <th>21521</th>\n",
       "      <td>0</td>\n",
       "      <td>343937.404131</td>\n",
       "      <td>67</td>\n",
       "      <td>среднее</td>\n",
       "      <td>1</td>\n",
       "      <td>женат / замужем</td>\n",
       "      <td>0</td>\n",
       "      <td>F</td>\n",
       "      <td>пенсионер</td>\n",
       "      <td>0</td>\n",
       "      <td>155999.806512</td>\n",
       "      <td>сделка с автомобилем</td>\n",
       "    </tr>\n",
       "    <tr>\n",
       "      <th>21522</th>\n",
       "      <td>1</td>\n",
       "      <td>-2113.346888</td>\n",
       "      <td>38</td>\n",
       "      <td>среднее</td>\n",
       "      <td>1</td>\n",
       "      <td>гражданский брак</td>\n",
       "      <td>1</td>\n",
       "      <td>M</td>\n",
       "      <td>сотрудник</td>\n",
       "      <td>1</td>\n",
       "      <td>89672.561153</td>\n",
       "      <td>недвижимость</td>\n",
       "    </tr>\n",
       "    <tr>\n",
       "      <th>21523</th>\n",
       "      <td>3</td>\n",
       "      <td>-3112.481705</td>\n",
       "      <td>38</td>\n",
       "      <td>среднее</td>\n",
       "      <td>1</td>\n",
       "      <td>женат / замужем</td>\n",
       "      <td>0</td>\n",
       "      <td>M</td>\n",
       "      <td>сотрудник</td>\n",
       "      <td>1</td>\n",
       "      <td>244093.050500</td>\n",
       "      <td>на покупку своего автомобиля</td>\n",
       "    </tr>\n",
       "    <tr>\n",
       "      <th>21524</th>\n",
       "      <td>2</td>\n",
       "      <td>-1984.507589</td>\n",
       "      <td>40</td>\n",
       "      <td>среднее</td>\n",
       "      <td>1</td>\n",
       "      <td>женат / замужем</td>\n",
       "      <td>0</td>\n",
       "      <td>F</td>\n",
       "      <td>сотрудник</td>\n",
       "      <td>0</td>\n",
       "      <td>82047.418899</td>\n",
       "      <td>на покупку автомобиля</td>\n",
       "    </tr>\n",
       "  </tbody>\n",
       "</table>\n",
       "<p>21525 rows × 12 columns</p>\n",
       "</div>"
      ],
      "text/plain": [
       "       children  days_employed  dob_years education  education_id  \\\n",
       "0             1   -8437.673028         42    высшее             0   \n",
       "1             1   -4024.803754         36   среднее             1   \n",
       "2             0   -5623.422610         33   Среднее             1   \n",
       "3             3   -4124.747207         32   среднее             1   \n",
       "4             0  340266.072047         53   среднее             1   \n",
       "...         ...            ...        ...       ...           ...   \n",
       "21520         1   -4529.316663         43   среднее             1   \n",
       "21521         0  343937.404131         67   среднее             1   \n",
       "21522         1   -2113.346888         38   среднее             1   \n",
       "21523         3   -3112.481705         38   среднее             1   \n",
       "21524         2   -1984.507589         40   среднее             1   \n",
       "\n",
       "          family_status  family_status_id gender income_type  debt  \\\n",
       "0       женат / замужем                 0      F   сотрудник     0   \n",
       "1       женат / замужем                 0      F   сотрудник     0   \n",
       "2       женат / замужем                 0      M   сотрудник     0   \n",
       "3       женат / замужем                 0      M   сотрудник     0   \n",
       "4      гражданский брак                 1      F   пенсионер     0   \n",
       "...                 ...               ...    ...         ...   ...   \n",
       "21520  гражданский брак                 1      F   компаньон     0   \n",
       "21521   женат / замужем                 0      F   пенсионер     0   \n",
       "21522  гражданский брак                 1      M   сотрудник     1   \n",
       "21523   женат / замужем                 0      M   сотрудник     1   \n",
       "21524   женат / замужем                 0      F   сотрудник     0   \n",
       "\n",
       "        total_income                       purpose  \n",
       "0      253875.639453                 покупка жилья  \n",
       "1      112080.014102       приобретение автомобиля  \n",
       "2      145885.952297                 покупка жилья  \n",
       "3      267628.550329    дополнительное образование  \n",
       "4      158616.077870               сыграть свадьбу  \n",
       "...              ...                           ...  \n",
       "21520  224791.862382             операции с жильем  \n",
       "21521  155999.806512          сделка с автомобилем  \n",
       "21522   89672.561153                  недвижимость  \n",
       "21523  244093.050500  на покупку своего автомобиля  \n",
       "21524   82047.418899         на покупку автомобиля  \n",
       "\n",
       "[21525 rows x 12 columns]"
      ]
     },
     "metadata": {},
     "output_type": "display_data"
    }
   ],
   "source": [
    "# **Обзор данных**\n",
    "#### для начала необходимо открыть таблицу и изучить общую информацию о данных\n",
    "#### всего в таблице 12 столцов \n",
    "#*children* — количество детей в семье\n",
    "#*days_employed* — общий трудовой стаж в днях\n",
    "#*dob_years* — возраст клиента в годах\n",
    "#*education* — уровень образования клиента\n",
    "#*education_id* — идентификатор уровня образования\n",
    "#*family_status* — семейное положение\n",
    "#*family_status_id* — идентификатор семейного положения\n",
    "#*gender — пол клиента\n",
    "#income_type — тип занятости\n",
    "#debt — имел ли задолженность по возврату кредитов\n",
    "#total_income — ежемесячный доход\n",
    "#purpose — цель получения кредита*\n",
    "\n",
    "import pandas as pd\n",
    "status = pd.read_csv('/datasets/data.csv')\n",
    "display(status)\n"
   ]
  },
  {
   "cell_type": "markdown",
   "id": "c7b27b4b",
   "metadata": {},
   "source": [
    "# Шаг 2.1 Заполнение пропусков"
   ]
  },
  {
   "cell_type": "code",
   "execution_count": 2,
   "id": "58edee54",
   "metadata": {},
   "outputs": [
    {
     "name": "stdout",
     "output_type": "stream",
     "text": [
      "children            0\n",
      "days_employed       0\n",
      "dob_years           0\n",
      "education           0\n",
      "education_id        0\n",
      "family_status       0\n",
      "family_status_id    0\n",
      "gender              0\n",
      "income_type         0\n",
      "debt                0\n",
      "total_income        0\n",
      "purpose             0\n",
      "dtype: int64\n"
     ]
    }
   ],
   "source": [
    "# Заполнение пропусков\n",
    "### Для начала нахожу два стоблца с пропущенными значениями, это столбцы days_employed  и total_income\n",
    "#### Пропуски значений возможно связаны как с отсутствием данных о ежемесячном доходе и стаже, так и с безответственностью сотрудника\n",
    "####### Так как пропуски не привышают общего числа значений (и все значения коичественные),возможна замена на медианные значения\n",
    "#медианные значения необходимы для качественного заполнения пропусков, т.к. для нахождения медианы мы изначально \n",
    "#должны сгруппировать данные по параметру\n",
    "#status_null = status.isnull().sum()\n",
    "#print(status_null)\n",
    "\n",
    "employed_median = status.groupby('income_type')['days_employed'].transform('mean')\n",
    "income_median = status.groupby('income_type')['total_income'].transform('mean')\n",
    "status['days_employed'] = status['days_employed'].fillna(employed_median)\n",
    "status['total_income'] = status['total_income'].fillna(income_median)\n",
    "status_null = status.isnull().sum()\n",
    "print(status_null)\n"
   ]
  },
  {
   "cell_type": "markdown",
   "id": "7c8457c2",
   "metadata": {},
   "source": [
    "# Шаг 2.2 Проверка данных на аномалии и исправления."
   ]
  },
  {
   "cell_type": "code",
   "execution_count": 3,
   "id": "52acbf63",
   "metadata": {},
   "outputs": [
    {
     "data": {
      "text/plain": [
       "0"
      ]
     },
     "execution_count": 3,
     "metadata": {},
     "output_type": "execute_result"
    }
   ],
   "source": [
    "status.describe()\n",
    "# Дни не могут быть вещественным числом, дни не могут быть отрицательными\n",
    "### есть проблема с выгрузкой, возможно сотрудник некорректно вносил данные\n",
    "#### также стоит обратить внимание на отклонение в столбце days_employed, т.к. оно аномально большое\n",
    "#### максимальное количество детей в стодбце children - 20, что также аномально для данных\n",
    "#### исправим значение -1 для количества детей согласно нашей гипотезы (т.е. заменим на 1)\n",
    "status.loc[status['children'] == -1, 'children'] = 1\n",
    "# проверим, что все хорошо\n",
    "status.loc[status['children'] == -1]['children'].count()\n",
    "# исправим опечатку в purpose\n",
    "status.loc[status['purpose'] == 'ремонт жилью', 'purpose'] = 'ремонт жилья'\n",
    "# проверим, что все хорошо\n",
    "status.loc[status['purpose'] == 'ремонт жилью']['purpose'].count()\n",
    "# исправим значение пола\n",
    "status.loc[status['gender'] == 'XNA', 'gender'] = 'F'\n",
    "# проверим, что все хорошо\n",
    "status.loc[status['gender'] == 'XNA']['gender'].count()\n",
    "# исправим значения 20 для возраста согласно нашей гипотезе\n",
    "status.loc[status['children'] == 20, 'children'] = 2\n",
    "# проверим, что все хорошо\n",
    "status.loc[status['children'] == 20]['children'].count()\n"
   ]
  },
  {
   "cell_type": "markdown",
   "id": "63ef7de9",
   "metadata": {},
   "source": [
    "# Шаг 2.3. Изменение типов данных."
   ]
  },
  {
   "cell_type": "code",
   "execution_count": 4,
   "id": "bcf9bde0",
   "metadata": {},
   "outputs": [
    {
     "name": "stdout",
     "output_type": "stream",
     "text": [
      "<class 'pandas.core.frame.DataFrame'>\n",
      "RangeIndex: 21525 entries, 0 to 21524\n",
      "Data columns (total 12 columns):\n",
      " #   Column            Non-Null Count  Dtype  \n",
      "---  ------            --------------  -----  \n",
      " 0   children          21525 non-null  int64  \n",
      " 1   days_employed     21525 non-null  float64\n",
      " 2   dob_years         21525 non-null  int64  \n",
      " 3   education         21525 non-null  object \n",
      " 4   education_id      21525 non-null  int64  \n",
      " 5   family_status     21525 non-null  object \n",
      " 6   family_status_id  21525 non-null  int64  \n",
      " 7   gender            21525 non-null  object \n",
      " 8   income_type       21525 non-null  object \n",
      " 9   debt              21525 non-null  int64  \n",
      " 10  total_income      21525 non-null  int64  \n",
      " 11  purpose           21525 non-null  object \n",
      "dtypes: float64(1), int64(6), object(5)\n",
      "memory usage: 2.0+ MB\n"
     ]
    }
   ],
   "source": [
    "# **Заменим тип total_income на int, нам нужен конкретный целочисленный тип, а не вещественный, используем именно astype**\n",
    "status['total_income'] = status['total_income'].astype('int')\n",
    "status.info()\n"
   ]
  },
  {
   "cell_type": "markdown",
   "id": "7dfd0552",
   "metadata": {},
   "source": [
    "# Шаг 2.4. Удаление дубликатов."
   ]
  },
  {
   "cell_type": "code",
   "execution_count": 5,
   "id": "470022af",
   "metadata": {
    "scrolled": true
   },
   "outputs": [
    {
     "data": {
      "text/html": [
       "<div>\n",
       "<style scoped>\n",
       "    .dataframe tbody tr th:only-of-type {\n",
       "        vertical-align: middle;\n",
       "    }\n",
       "\n",
       "    .dataframe tbody tr th {\n",
       "        vertical-align: top;\n",
       "    }\n",
       "\n",
       "    .dataframe thead th {\n",
       "        text-align: right;\n",
       "    }\n",
       "</style>\n",
       "<table border=\"1\" class=\"dataframe\">\n",
       "  <thead>\n",
       "    <tr style=\"text-align: right;\">\n",
       "      <th></th>\n",
       "      <th>children</th>\n",
       "      <th>days_employed</th>\n",
       "      <th>dob_years</th>\n",
       "      <th>education</th>\n",
       "      <th>education_id</th>\n",
       "      <th>family_status</th>\n",
       "      <th>family_status_id</th>\n",
       "      <th>gender</th>\n",
       "      <th>income_type</th>\n",
       "      <th>debt</th>\n",
       "      <th>total_income</th>\n",
       "      <th>purpose</th>\n",
       "    </tr>\n",
       "  </thead>\n",
       "  <tbody>\n",
       "    <tr>\n",
       "      <th>0</th>\n",
       "      <td>1</td>\n",
       "      <td>-8437.673028</td>\n",
       "      <td>42</td>\n",
       "      <td>высшее</td>\n",
       "      <td>0</td>\n",
       "      <td>женат / замужем</td>\n",
       "      <td>0</td>\n",
       "      <td>F</td>\n",
       "      <td>сотрудник</td>\n",
       "      <td>0</td>\n",
       "      <td>253875</td>\n",
       "      <td>покупка жилья</td>\n",
       "    </tr>\n",
       "    <tr>\n",
       "      <th>1</th>\n",
       "      <td>1</td>\n",
       "      <td>-4024.803754</td>\n",
       "      <td>36</td>\n",
       "      <td>среднее</td>\n",
       "      <td>1</td>\n",
       "      <td>женат / замужем</td>\n",
       "      <td>0</td>\n",
       "      <td>F</td>\n",
       "      <td>сотрудник</td>\n",
       "      <td>0</td>\n",
       "      <td>112080</td>\n",
       "      <td>приобретение автомобиля</td>\n",
       "    </tr>\n",
       "    <tr>\n",
       "      <th>2</th>\n",
       "      <td>0</td>\n",
       "      <td>-5623.422610</td>\n",
       "      <td>33</td>\n",
       "      <td>среднее</td>\n",
       "      <td>1</td>\n",
       "      <td>женат / замужем</td>\n",
       "      <td>0</td>\n",
       "      <td>M</td>\n",
       "      <td>сотрудник</td>\n",
       "      <td>0</td>\n",
       "      <td>145885</td>\n",
       "      <td>покупка жилья</td>\n",
       "    </tr>\n",
       "    <tr>\n",
       "      <th>3</th>\n",
       "      <td>3</td>\n",
       "      <td>-4124.747207</td>\n",
       "      <td>32</td>\n",
       "      <td>среднее</td>\n",
       "      <td>1</td>\n",
       "      <td>женат / замужем</td>\n",
       "      <td>0</td>\n",
       "      <td>M</td>\n",
       "      <td>сотрудник</td>\n",
       "      <td>0</td>\n",
       "      <td>267628</td>\n",
       "      <td>дополнительное образование</td>\n",
       "    </tr>\n",
       "    <tr>\n",
       "      <th>4</th>\n",
       "      <td>0</td>\n",
       "      <td>340266.072047</td>\n",
       "      <td>53</td>\n",
       "      <td>среднее</td>\n",
       "      <td>1</td>\n",
       "      <td>гражданский брак</td>\n",
       "      <td>1</td>\n",
       "      <td>F</td>\n",
       "      <td>пенсионер</td>\n",
       "      <td>0</td>\n",
       "      <td>158616</td>\n",
       "      <td>сыграть свадьбу</td>\n",
       "    </tr>\n",
       "    <tr>\n",
       "      <th>5</th>\n",
       "      <td>0</td>\n",
       "      <td>-926.185831</td>\n",
       "      <td>27</td>\n",
       "      <td>высшее</td>\n",
       "      <td>0</td>\n",
       "      <td>гражданский брак</td>\n",
       "      <td>1</td>\n",
       "      <td>M</td>\n",
       "      <td>компаньон</td>\n",
       "      <td>0</td>\n",
       "      <td>255763</td>\n",
       "      <td>покупка жилья</td>\n",
       "    </tr>\n",
       "    <tr>\n",
       "      <th>6</th>\n",
       "      <td>0</td>\n",
       "      <td>-2879.202052</td>\n",
       "      <td>43</td>\n",
       "      <td>высшее</td>\n",
       "      <td>0</td>\n",
       "      <td>женат / замужем</td>\n",
       "      <td>0</td>\n",
       "      <td>F</td>\n",
       "      <td>компаньон</td>\n",
       "      <td>0</td>\n",
       "      <td>240525</td>\n",
       "      <td>операции с жильем</td>\n",
       "    </tr>\n",
       "    <tr>\n",
       "      <th>7</th>\n",
       "      <td>0</td>\n",
       "      <td>-152.779569</td>\n",
       "      <td>50</td>\n",
       "      <td>среднее</td>\n",
       "      <td>1</td>\n",
       "      <td>женат / замужем</td>\n",
       "      <td>0</td>\n",
       "      <td>M</td>\n",
       "      <td>сотрудник</td>\n",
       "      <td>0</td>\n",
       "      <td>135823</td>\n",
       "      <td>образование</td>\n",
       "    </tr>\n",
       "    <tr>\n",
       "      <th>8</th>\n",
       "      <td>2</td>\n",
       "      <td>-6929.865299</td>\n",
       "      <td>35</td>\n",
       "      <td>высшее</td>\n",
       "      <td>0</td>\n",
       "      <td>гражданский брак</td>\n",
       "      <td>1</td>\n",
       "      <td>F</td>\n",
       "      <td>сотрудник</td>\n",
       "      <td>0</td>\n",
       "      <td>95856</td>\n",
       "      <td>на проведение свадьбы</td>\n",
       "    </tr>\n",
       "    <tr>\n",
       "      <th>9</th>\n",
       "      <td>0</td>\n",
       "      <td>-2188.756445</td>\n",
       "      <td>41</td>\n",
       "      <td>среднее</td>\n",
       "      <td>1</td>\n",
       "      <td>женат / замужем</td>\n",
       "      <td>0</td>\n",
       "      <td>M</td>\n",
       "      <td>сотрудник</td>\n",
       "      <td>0</td>\n",
       "      <td>144425</td>\n",
       "      <td>покупка жилья для семьи</td>\n",
       "    </tr>\n",
       "  </tbody>\n",
       "</table>\n",
       "</div>"
      ],
      "text/plain": [
       "   children  days_employed  dob_years education  education_id  \\\n",
       "0         1   -8437.673028         42    высшее             0   \n",
       "1         1   -4024.803754         36   среднее             1   \n",
       "2         0   -5623.422610         33   среднее             1   \n",
       "3         3   -4124.747207         32   среднее             1   \n",
       "4         0  340266.072047         53   среднее             1   \n",
       "5         0    -926.185831         27    высшее             0   \n",
       "6         0   -2879.202052         43    высшее             0   \n",
       "7         0    -152.779569         50   среднее             1   \n",
       "8         2   -6929.865299         35    высшее             0   \n",
       "9         0   -2188.756445         41   среднее             1   \n",
       "\n",
       "      family_status  family_status_id gender income_type  debt  total_income  \\\n",
       "0   женат / замужем                 0      F   сотрудник     0        253875   \n",
       "1   женат / замужем                 0      F   сотрудник     0        112080   \n",
       "2   женат / замужем                 0      M   сотрудник     0        145885   \n",
       "3   женат / замужем                 0      M   сотрудник     0        267628   \n",
       "4  гражданский брак                 1      F   пенсионер     0        158616   \n",
       "5  гражданский брак                 1      M   компаньон     0        255763   \n",
       "6   женат / замужем                 0      F   компаньон     0        240525   \n",
       "7   женат / замужем                 0      M   сотрудник     0        135823   \n",
       "8  гражданский брак                 1      F   сотрудник     0         95856   \n",
       "9   женат / замужем                 0      M   сотрудник     0        144425   \n",
       "\n",
       "                      purpose  \n",
       "0               покупка жилья  \n",
       "1     приобретение автомобиля  \n",
       "2               покупка жилья  \n",
       "3  дополнительное образование  \n",
       "4             сыграть свадьбу  \n",
       "5               покупка жилья  \n",
       "6           операции с жильем  \n",
       "7                 образование  \n",
       "8       на проведение свадьбы  \n",
       "9     покупка жилья для семьи  "
      ]
     },
     "execution_count": 5,
     "metadata": {},
     "output_type": "execute_result"
    }
   ],
   "source": [
    "#status.duplicated().sum()\n",
    "\n",
    "##### аргумент drop со значением True,\n",
    "##### чтобы не создавать столбец со\n",
    "##### старыми значениями индексов\n",
    "\n",
    "status = status.drop_duplicates().reset_index(drop = True)\n",
    "#и проверим, что все хорошо\n",
    "status.duplicated().sum()\n",
    "#появление дупликатов возможно с некомпететностью сотрудников\n",
    "# приведем сразу все категории к одному регистру для более удобного анализа\n",
    "status['education'] = status['education'].str.lower()\n",
    "status.head(10)\n",
    "# аргумент drop со значением True,\n",
    "# чтобы не создавать столбец со\n",
    "# старыми значениями индексов\n",
    "#### При вызове метода drop_duplicates() вместе с повторяющимися строками удаляются их индексы, поэтому используется с методом reset_index()\n",
    "#вывод, чтобы проверить результат\n"
   ]
  },
  {
   "cell_type": "markdown",
   "id": "9ea0c6e3",
   "metadata": {},
   "source": [
    "# Шаг 2.5. Формирование дополнительных датафреймов словарей, декомпозиция исходного датафрейма."
   ]
  },
  {
   "cell_type": "code",
   "execution_count": 6,
   "id": "1ec3f3c3",
   "metadata": {},
   "outputs": [
    {
     "data": {
      "text/html": [
       "<div>\n",
       "<style scoped>\n",
       "    .dataframe tbody tr th:only-of-type {\n",
       "        vertical-align: middle;\n",
       "    }\n",
       "\n",
       "    .dataframe tbody tr th {\n",
       "        vertical-align: top;\n",
       "    }\n",
       "\n",
       "    .dataframe thead tr th {\n",
       "        text-align: left;\n",
       "    }\n",
       "\n",
       "    .dataframe thead tr:last-of-type th {\n",
       "        text-align: right;\n",
       "    }\n",
       "</style>\n",
       "<table border=\"1\" class=\"dataframe\">\n",
       "  <thead>\n",
       "    <tr>\n",
       "      <th></th>\n",
       "      <th>sum</th>\n",
       "      <th>count</th>\n",
       "      <th>make_proportion</th>\n",
       "    </tr>\n",
       "    <tr>\n",
       "      <th></th>\n",
       "      <th>debt</th>\n",
       "      <th>debt</th>\n",
       "      <th>debt</th>\n",
       "    </tr>\n",
       "    <tr>\n",
       "      <th>family_status</th>\n",
       "      <th></th>\n",
       "      <th></th>\n",
       "      <th></th>\n",
       "    </tr>\n",
       "  </thead>\n",
       "  <tbody>\n",
       "    <tr>\n",
       "      <th>вдовец / вдова</th>\n",
       "      <td>63</td>\n",
       "      <td>959</td>\n",
       "      <td>6.57%</td>\n",
       "    </tr>\n",
       "    <tr>\n",
       "      <th>в разводе</th>\n",
       "      <td>85</td>\n",
       "      <td>1195</td>\n",
       "      <td>7.11%</td>\n",
       "    </tr>\n",
       "    <tr>\n",
       "      <th>женат / замужем</th>\n",
       "      <td>931</td>\n",
       "      <td>12344</td>\n",
       "      <td>7.54%</td>\n",
       "    </tr>\n",
       "    <tr>\n",
       "      <th>гражданский брак</th>\n",
       "      <td>388</td>\n",
       "      <td>4163</td>\n",
       "      <td>9.32%</td>\n",
       "    </tr>\n",
       "    <tr>\n",
       "      <th>Не женат / не замужем</th>\n",
       "      <td>274</td>\n",
       "      <td>2810</td>\n",
       "      <td>9.75%</td>\n",
       "    </tr>\n",
       "  </tbody>\n",
       "</table>\n",
       "</div>"
      ],
      "text/plain": [
       "                       sum  count make_proportion\n",
       "                      debt   debt            debt\n",
       "family_status                                    \n",
       "вдовец / вдова          63    959           6.57%\n",
       "в разводе               85   1195           7.11%\n",
       "женат / замужем        931  12344           7.54%\n",
       "гражданский брак       388   4163           9.32%\n",
       "Не женат / не замужем  274   2810           9.75%"
      ]
     },
     "execution_count": 6,
     "metadata": {},
     "output_type": "execute_result"
    }
   ],
   "source": [
    "# выделим словарь для education\n",
    "education_dict = status[['education_id', 'education']]\n",
    "# удалим дубликаты из словаря\n",
    "education_dict = education_dict.drop_duplicates().reset_index(drop=True)\n",
    "# проверим содержимое\n",
    "education_dict.head(10)\n",
    "\n",
    "# аналогичным образом поступим для family_status\n",
    "\n",
    "# выделим словарь для family_status\n",
    "family_status_dict = status[['family_status_id', 'family_status']]\n",
    "# удалим дубликаты из словаря\n",
    "family_status_dict = family_status_dict.drop_duplicates().reset_index(drop=True)\n",
    "# проверим содержимое\n",
    "family_status_dict.head(10)\n",
    "\n",
    "def make_proportion(list):\n",
    "    return str(round((list.sum() / list.count()) * 100,2)) + '%'\n",
    "# построим сводную таблицу для ответа на вопрос (по фрейму со значениями из словаря)\n",
    "data_pivot2 = status.pivot_table(index=['family_status'], values=[\"debt\"], aggfunc=['sum', 'count', make_proportion])\n",
    "# сортируем, чтобы сразу видеть у кого ситуация лучше\n",
    "data_pivot2 = data_pivot2.sort_values(by=('make_proportion', 'debt'))\n",
    "data_pivot2\n"
   ]
  },
  {
   "cell_type": "markdown",
   "id": "13b2984c",
   "metadata": {},
   "source": [
    "# Шаг 2.6. Категоризация дохода."
   ]
  },
  {
   "cell_type": "code",
   "execution_count": 7,
   "id": "ce2910b9",
   "metadata": {},
   "outputs": [
    {
     "data": {
      "text/html": [
       "<div>\n",
       "<style scoped>\n",
       "    .dataframe tbody tr th:only-of-type {\n",
       "        vertical-align: middle;\n",
       "    }\n",
       "\n",
       "    .dataframe tbody tr th {\n",
       "        vertical-align: top;\n",
       "    }\n",
       "\n",
       "    .dataframe thead tr th {\n",
       "        text-align: left;\n",
       "    }\n",
       "\n",
       "    .dataframe thead tr:last-of-type th {\n",
       "        text-align: right;\n",
       "    }\n",
       "</style>\n",
       "<table border=\"1\" class=\"dataframe\">\n",
       "  <thead>\n",
       "    <tr>\n",
       "      <th></th>\n",
       "      <th>sum</th>\n",
       "      <th>count</th>\n",
       "      <th>make_proportion</th>\n",
       "    </tr>\n",
       "    <tr>\n",
       "      <th></th>\n",
       "      <th>debt</th>\n",
       "      <th>debt</th>\n",
       "      <th>debt</th>\n",
       "    </tr>\n",
       "    <tr>\n",
       "      <th>total_income_category</th>\n",
       "      <th></th>\n",
       "      <th></th>\n",
       "      <th></th>\n",
       "    </tr>\n",
       "  </thead>\n",
       "  <tbody>\n",
       "    <tr>\n",
       "      <th>D</th>\n",
       "      <td>21</td>\n",
       "      <td>350</td>\n",
       "      <td>6.0%</td>\n",
       "    </tr>\n",
       "    <tr>\n",
       "      <th>B</th>\n",
       "      <td>386</td>\n",
       "      <td>5545</td>\n",
       "      <td>6.96%</td>\n",
       "    </tr>\n",
       "    <tr>\n",
       "      <th>C</th>\n",
       "      <td>1330</td>\n",
       "      <td>15529</td>\n",
       "      <td>8.56%</td>\n",
       "    </tr>\n",
       "    <tr>\n",
       "      <th>E</th>\n",
       "      <td>2</td>\n",
       "      <td>22</td>\n",
       "      <td>9.09%</td>\n",
       "    </tr>\n",
       "  </tbody>\n",
       "</table>\n",
       "</div>"
      ],
      "text/plain": [
       "                        sum  count make_proportion\n",
       "                       debt   debt            debt\n",
       "total_income_category                             \n",
       "D                        21    350            6.0%\n",
       "B                       386   5545           6.96%\n",
       "C                      1330  15529           8.56%\n",
       "E                         2     22           9.09%"
      ]
     },
     "execution_count": 7,
     "metadata": {},
     "output_type": "execute_result"
    }
   ],
   "source": [
    "def make_income_category_by_quantile(total_income):\n",
    "    if 0 <= total_income <= 30000:\n",
    "        return 'E'\n",
    "    if 30001 <= total_income <= 50000:\n",
    "        return 'D'\n",
    "    if 50001 <= total_income <= 200000:\n",
    "        return 'C'\n",
    "    if 200001 <= total_income <= 1000000:\n",
    "        return 'B'\n",
    "    if  total_income <= 1000001:\n",
    "        return 'A'\n",
    "\n",
    "status['total_income_category'] = status['total_income'].apply(make_income_category_by_quantile)\n",
    "\n",
    "# проверим, что все ок\n",
    "status['total_income_category'].value_counts()\n",
    "# построим сводную таблицу для ответа на вопрос\n",
    "data_pivot4 = status.pivot_table(index=['total_income_category'], values=[\"debt\"], aggfunc=['sum', 'count', make_proportion])\n",
    "# сортируем, чтобы сразу видеть у кого ситуация лучше\n",
    "data_pivot4 = data_pivot4.sort_values(by=('make_proportion', 'debt'))\n",
    "data_pivot4"
   ]
  },
  {
   "cell_type": "markdown",
   "id": "7e049b28",
   "metadata": {},
   "source": [
    "# Шаг 2.7. Категоризация целей кредита."
   ]
  },
  {
   "cell_type": "code",
   "execution_count": 8,
   "id": "6fa9f2db",
   "metadata": {},
   "outputs": [
    {
     "data": {
      "text/html": [
       "<div>\n",
       "<style scoped>\n",
       "    .dataframe tbody tr th:only-of-type {\n",
       "        vertical-align: middle;\n",
       "    }\n",
       "\n",
       "    .dataframe tbody tr th {\n",
       "        vertical-align: top;\n",
       "    }\n",
       "\n",
       "    .dataframe thead tr th {\n",
       "        text-align: left;\n",
       "    }\n",
       "\n",
       "    .dataframe thead tr:last-of-type th {\n",
       "        text-align: right;\n",
       "    }\n",
       "</style>\n",
       "<table border=\"1\" class=\"dataframe\">\n",
       "  <thead>\n",
       "    <tr>\n",
       "      <th></th>\n",
       "      <th>sum</th>\n",
       "      <th>count</th>\n",
       "      <th>make_proportion</th>\n",
       "    </tr>\n",
       "    <tr>\n",
       "      <th></th>\n",
       "      <th>debt</th>\n",
       "      <th>debt</th>\n",
       "      <th>debt</th>\n",
       "    </tr>\n",
       "    <tr>\n",
       "      <th>purpose_category</th>\n",
       "      <th></th>\n",
       "      <th></th>\n",
       "      <th></th>\n",
       "    </tr>\n",
       "  </thead>\n",
       "  <tbody>\n",
       "    <tr>\n",
       "      <th>операции с недвижимостью</th>\n",
       "      <td>782</td>\n",
       "      <td>10814</td>\n",
       "      <td>7.23%</td>\n",
       "    </tr>\n",
       "    <tr>\n",
       "      <th>проведение свадьбы</th>\n",
       "      <td>186</td>\n",
       "      <td>2335</td>\n",
       "      <td>7.97%</td>\n",
       "    </tr>\n",
       "    <tr>\n",
       "      <th>получение образования</th>\n",
       "      <td>370</td>\n",
       "      <td>4014</td>\n",
       "      <td>9.22%</td>\n",
       "    </tr>\n",
       "    <tr>\n",
       "      <th>операции с автомобилем</th>\n",
       "      <td>403</td>\n",
       "      <td>4308</td>\n",
       "      <td>9.35%</td>\n",
       "    </tr>\n",
       "  </tbody>\n",
       "</table>\n",
       "</div>"
      ],
      "text/plain": [
       "                          sum  count make_proportion\n",
       "                         debt   debt            debt\n",
       "purpose_category                                    \n",
       "операции с недвижимостью  782  10814           7.23%\n",
       "проведение свадьбы        186   2335           7.97%\n",
       "получение образования     370   4014           9.22%\n",
       "операции с автомобилем    403   4308           9.35%"
      ]
     },
     "execution_count": 8,
     "metadata": {},
     "output_type": "execute_result"
    }
   ],
   "source": [
    "\n",
    "def make_pay(list):\n",
    "    if 'авто' in list:\n",
    "        return 'операции с автомобилем'\n",
    "    if 'жиль' in list or 'недвижимост' in list:\n",
    "        return 'операции с недвижимостью'\n",
    "    if 'свадьб' in list:\n",
    "        return 'проведение свадьбы' \n",
    "    if 'образов' in list:\n",
    "        return 'получение образования'\n",
    "   \n",
    "  \n",
    "    \n",
    "status['purpose_category'] = status['purpose'].apply(make_pay)\n",
    "\n",
    "status['purpose_category'].value_counts()\n",
    "\n",
    "\n",
    "# построим сводную таблицу для ответа на вопрос\n",
    "data_pivot3 = status.pivot_table(index=['purpose_category'], values=[\"debt\"], aggfunc=['sum', 'count', make_proportion])\n",
    "# сортируем, чтобы сразу видеть у кого ситуация лучше\n",
    "data_pivot3 = data_pivot3.sort_values(by=('make_proportion', 'debt'))\n",
    "data_pivot3\n"
   ]
  },
  {
   "cell_type": "code",
   "execution_count": 9,
   "id": "6cb985b8",
   "metadata": {},
   "outputs": [
    {
     "data": {
      "text/html": [
       "<div>\n",
       "<style scoped>\n",
       "    .dataframe tbody tr th:only-of-type {\n",
       "        vertical-align: middle;\n",
       "    }\n",
       "\n",
       "    .dataframe tbody tr th {\n",
       "        vertical-align: top;\n",
       "    }\n",
       "\n",
       "    .dataframe thead tr th {\n",
       "        text-align: left;\n",
       "    }\n",
       "\n",
       "    .dataframe thead tr:last-of-type th {\n",
       "        text-align: right;\n",
       "    }\n",
       "</style>\n",
       "<table border=\"1\" class=\"dataframe\">\n",
       "  <thead>\n",
       "    <tr>\n",
       "      <th></th>\n",
       "      <th>sum</th>\n",
       "      <th>count</th>\n",
       "      <th>make_proportion</th>\n",
       "    </tr>\n",
       "    <tr>\n",
       "      <th></th>\n",
       "      <th>debt</th>\n",
       "      <th>debt</th>\n",
       "      <th>debt</th>\n",
       "    </tr>\n",
       "    <tr>\n",
       "      <th>children_category</th>\n",
       "      <th></th>\n",
       "      <th></th>\n",
       "      <th></th>\n",
       "    </tr>\n",
       "  </thead>\n",
       "  <tbody>\n",
       "    <tr>\n",
       "      <th>Нет детей</th>\n",
       "      <td>1063</td>\n",
       "      <td>14107</td>\n",
       "      <td>7.54%</td>\n",
       "    </tr>\n",
       "    <tr>\n",
       "      <th>Много детей</th>\n",
       "      <td>31</td>\n",
       "      <td>380</td>\n",
       "      <td>8.16%</td>\n",
       "    </tr>\n",
       "    <tr>\n",
       "      <th>1 ребенок</th>\n",
       "      <td>445</td>\n",
       "      <td>4856</td>\n",
       "      <td>9.16%</td>\n",
       "    </tr>\n",
       "    <tr>\n",
       "      <th>2 ребенка</th>\n",
       "      <td>202</td>\n",
       "      <td>2128</td>\n",
       "      <td>9.49%</td>\n",
       "    </tr>\n",
       "  </tbody>\n",
       "</table>\n",
       "</div>"
      ],
      "text/plain": [
       "                    sum  count make_proportion\n",
       "                   debt   debt            debt\n",
       "children_category                             \n",
       "Нет детей          1063  14107           7.54%\n",
       "Много детей          31    380           8.16%\n",
       "1 ребенок           445   4856           9.16%\n",
       "2 ребенка           202   2128           9.49%"
      ]
     },
     "execution_count": 9,
     "metadata": {},
     "output_type": "execute_result"
    }
   ],
   "source": [
    "#status.info()\n",
    "# функция, что посчитает нам отношение в процентах, будем использовать для ответов на все вопросы\n",
    "# функция, что посчитает нам отношение в процентах, будем использовать для ответов на все вопросы\n",
    "def make_children_category(children):\n",
    "    if children == 1:\n",
    "        return '1 ребенок'\n",
    "    if children == 2:\n",
    "        return '2 ребенка'\n",
    "    if children >= 3:\n",
    "        return 'Много детей'\n",
    "    else:\n",
    "        return 'Нет детей'\n",
    "\n",
    "status['children_category'] = status['children'].apply(make_children_category)\n",
    "\n",
    "# проверим, что все ок\n",
    "status['children_category'].value_counts()\n",
    "\n",
    "def make_proportion(list):\n",
    "    return str(round((list.sum() / list.count()) * 100,2)) + '%'\n",
    "\n",
    "# построим сводную таблицу для ответа на вопрос\n",
    "data_pivot1 = status.pivot_table(index=['children_category'], values=[\"debt\"], aggfunc=['sum', 'count', make_proportion])\n",
    "# сортируем, чтобы сразу видеть у кого ситуация лучше\n",
    "data_pivot1 = data_pivot1.sort_values(by=('make_proportion', 'debt'))\n",
    "data_pivot1"
   ]
  },
  {
   "cell_type": "markdown",
   "id": "55588789",
   "metadata": {},
   "source": [
    "# Ответы на вопросы."
   ]
  },
  {
   "cell_type": "markdown",
   "id": "500f5f7c",
   "metadata": {},
   "source": [
    "# Вопрос 1:"
   ]
  },
  {
   "cell_type": "markdown",
   "id": "72813e64",
   "metadata": {},
   "source": [
    "Есть ли зависимость между количеством детей и возвратом кредита в срок?\n",
    "Есть ли зависимость между семейным положением и возвратом кредита в срок?\n",
    "Есть ли зависимость между уровнем дохода и возвратом кредита в срок?\n",
    "Как разные цели кредита влияют на его возврат в срок?"
   ]
  },
  {
   "cell_type": "markdown",
   "id": "f709d80e",
   "metadata": {},
   "source": [
    "# Вывод :"
   ]
  },
  {
   "cell_type": "markdown",
   "id": "6ee3cc59",
   "metadata": {},
   "source": [
    "1. Когда детей нет, вероятность возникновения задолженности чуть ниже, чем если дети есть. Что любопытно, когда детей много, задолженность возникает примерно на том же уровне. В остальных случаях вероятность просрочки выше.\n",
    "2. Интересно, что вдовец/вдова и люди в разводе имеют наименьший риск просрочки. Для меня это даже удивительно. Возможно, это связно с тем, что кредит берется более осознанно. А вот самая \"опасная\" категория - неженатые и состоящие в гражданском браке.\n",
    "3. Тут мы видим, что меньше всего просрочка у самых обеспеченных людей и у тех, у кого денег особо и нет. При чем ни первые, ни вторые не особо любят оформлять заявки на кредит. А вот самыя \"опасная\" группа доходов - у условного среднего класса.\n",
    "4. Выгоднее всего давать кредиты на недвижимость, а автомобиль и образование - в зоне риска. "
   ]
  },
  {
   "cell_type": "markdown",
   "id": "04fded94",
   "metadata": {},
   "source": [
    "# Общий вывод:"
   ]
  },
  {
   "cell_type": "markdown",
   "id": "ff6e73ee",
   "metadata": {},
   "source": [
    "Самый идеальный заемщик - это человек без детей, состоящий или состоявший в официальных отношениях, имеющий уровень дохода выше среднего и берущий деньги на недвижимость.\n",
    "\n",
    "\"Разброс\" просроченных выплат по каждой из категорий примерно одинаковый. В среднем, это диапазоны от 7 до 9 процентов. В остальном разница в абсолютных цифрах не такая большая."
   ]
  }
 ],
 "metadata": {
  "ExecuteTimeLog": [
   {
    "duration": 834,
    "start_time": "2022-03-06T17:11:02.956Z"
   },
   {
    "duration": 690,
    "start_time": "2022-03-06T17:20:10.680Z"
   },
   {
    "duration": 366,
    "start_time": "2022-03-06T17:20:21.184Z"
   },
   {
    "duration": 331,
    "start_time": "2022-03-06T17:20:39.945Z"
   },
   {
    "duration": 360,
    "start_time": "2022-03-06T17:20:45.783Z"
   },
   {
    "duration": 18,
    "start_time": "2022-03-06T17:21:12.629Z"
   },
   {
    "duration": 13,
    "start_time": "2022-03-06T17:21:29.815Z"
   },
   {
    "duration": 463,
    "start_time": "2022-03-06T17:40:48.251Z"
   },
   {
    "duration": 361,
    "start_time": "2022-03-06T17:41:30.769Z"
   },
   {
    "duration": 331,
    "start_time": "2022-03-06T17:42:40.758Z"
   },
   {
    "duration": 325,
    "start_time": "2022-03-06T17:42:56.073Z"
   },
   {
    "duration": 75,
    "start_time": "2022-03-06T17:43:05.295Z"
   },
   {
    "duration": 106247,
    "start_time": "2022-03-06T17:41:28.559Z"
   },
   {
    "duration": 106446,
    "start_time": "2022-03-06T17:41:34.157Z"
   },
   {
    "duration": 4312,
    "start_time": "2022-03-06T17:43:23.286Z"
   },
   {
    "duration": 106335,
    "start_time": "2022-03-06T17:42:28.591Z"
   },
   {
    "duration": 4336,
    "start_time": "2022-03-06T17:44:20.468Z"
   },
   {
    "duration": 4306,
    "start_time": "2022-03-06T17:45:10.849Z"
   },
   {
    "duration": 4214,
    "start_time": "2022-03-06T17:54:50.728Z"
   },
   {
    "duration": 106403,
    "start_time": "2022-03-06T17:54:43.087Z"
   },
   {
    "duration": 106425,
    "start_time": "2022-03-06T17:55:46.365Z"
   },
   {
    "duration": 4100,
    "start_time": "2022-03-06T17:57:37.127Z"
   },
   {
    "duration": 79,
    "start_time": "2022-03-06T17:58:44.776Z"
   },
   {
    "duration": 76,
    "start_time": "2022-03-06T17:58:47.608Z"
   },
   {
    "duration": 24,
    "start_time": "2022-03-06T17:58:51.190Z"
   },
   {
    "duration": 16,
    "start_time": "2022-03-06T17:59:14.154Z"
   },
   {
    "duration": 20,
    "start_time": "2022-03-06T18:00:52.328Z"
   },
   {
    "duration": 19,
    "start_time": "2022-03-06T18:12:29.862Z"
   },
   {
    "duration": 520,
    "start_time": "2022-03-06T18:14:51.434Z"
   },
   {
    "duration": 17,
    "start_time": "2022-03-06T18:15:19.775Z"
   },
   {
    "duration": 21,
    "start_time": "2022-03-06T18:17:50.796Z"
   },
   {
    "duration": 15,
    "start_time": "2022-03-06T18:18:04.427Z"
   },
   {
    "duration": 347,
    "start_time": "2022-03-06T18:20:54.993Z"
   },
   {
    "duration": 328,
    "start_time": "2022-03-06T18:21:34.604Z"
   },
   {
    "duration": 22,
    "start_time": "2022-03-06T18:24:45.701Z"
   },
   {
    "duration": 40,
    "start_time": "2022-03-06T18:42:21.004Z"
   },
   {
    "duration": 38,
    "start_time": "2022-03-06T18:42:25.659Z"
   },
   {
    "duration": 43,
    "start_time": "2022-03-06T18:42:52.778Z"
   },
   {
    "duration": 49,
    "start_time": "2022-03-06T18:46:31.757Z"
   },
   {
    "duration": 57,
    "start_time": "2022-03-06T18:49:47.393Z"
   },
   {
    "duration": 58,
    "start_time": "2022-03-06T18:51:30.939Z"
   },
   {
    "duration": 55,
    "start_time": "2022-03-06T18:52:17.753Z"
   },
   {
    "duration": 60,
    "start_time": "2022-03-06T18:52:42.867Z"
   },
   {
    "duration": 68,
    "start_time": "2022-03-08T14:44:02.336Z"
   },
   {
    "duration": 288,
    "start_time": "2022-03-08T14:44:19.753Z"
   },
   {
    "duration": 651,
    "start_time": "2022-03-08T14:44:27.712Z"
   },
   {
    "duration": 15,
    "start_time": "2022-03-08T14:44:34.525Z"
   },
   {
    "duration": 82,
    "start_time": "2022-03-08T14:44:40.480Z"
   },
   {
    "duration": 54,
    "start_time": "2022-03-08T14:45:23.010Z"
   },
   {
    "duration": 61,
    "start_time": "2022-03-08T14:45:37.128Z"
   },
   {
    "duration": 58,
    "start_time": "2022-03-08T14:45:48.522Z"
   },
   {
    "duration": 289,
    "start_time": "2022-03-08T14:50:48.474Z"
   },
   {
    "duration": 22,
    "start_time": "2022-03-08T14:51:08.355Z"
   },
   {
    "duration": 13,
    "start_time": "2022-03-08T14:51:16.287Z"
   },
   {
    "duration": 13,
    "start_time": "2022-03-08T14:51:26.439Z"
   },
   {
    "duration": 19,
    "start_time": "2022-03-08T14:51:58.054Z"
   },
   {
    "duration": 12,
    "start_time": "2022-03-08T14:52:04.019Z"
   },
   {
    "duration": 40,
    "start_time": "2022-03-08T14:53:07.228Z"
   },
   {
    "duration": 15,
    "start_time": "2022-03-08T14:53:10.999Z"
   },
   {
    "duration": 12,
    "start_time": "2022-03-08T14:53:51.951Z"
   },
   {
    "duration": 17,
    "start_time": "2022-03-08T14:54:21.806Z"
   },
   {
    "duration": 18,
    "start_time": "2022-03-08T14:59:31.587Z"
   },
   {
    "duration": 110,
    "start_time": "2022-03-08T15:19:46.796Z"
   },
   {
    "duration": 785,
    "start_time": "2022-03-08T15:20:36.796Z"
   },
   {
    "duration": 776,
    "start_time": "2022-03-08T15:23:28.840Z"
   },
   {
    "duration": 804,
    "start_time": "2022-03-08T15:27:06.589Z"
   },
   {
    "duration": 1071,
    "start_time": "2022-03-08T15:27:32.687Z"
   },
   {
    "duration": 787,
    "start_time": "2022-03-08T15:27:47.591Z"
   },
   {
    "duration": 727,
    "start_time": "2022-03-08T15:28:29.861Z"
   },
   {
    "duration": 774,
    "start_time": "2022-03-08T15:30:02.420Z"
   },
   {
    "duration": 709,
    "start_time": "2022-03-08T15:30:27.541Z"
   },
   {
    "duration": 799,
    "start_time": "2022-03-08T15:31:36.442Z"
   },
   {
    "duration": 109,
    "start_time": "2022-03-08T15:32:15.111Z"
   },
   {
    "duration": 15,
    "start_time": "2022-03-08T15:34:35.044Z"
   },
   {
    "duration": 15,
    "start_time": "2022-03-08T15:34:37.190Z"
   },
   {
    "duration": 432,
    "start_time": "2022-03-08T15:40:55.574Z"
   },
   {
    "duration": 440,
    "start_time": "2022-03-08T15:44:05.368Z"
   },
   {
    "duration": 16,
    "start_time": "2022-03-08T15:52:04.764Z"
   },
   {
    "duration": 16,
    "start_time": "2022-03-08T15:52:31.215Z"
   },
   {
    "duration": 16,
    "start_time": "2022-03-08T15:53:27.316Z"
   },
   {
    "duration": 16,
    "start_time": "2022-03-08T15:54:21.910Z"
   },
   {
    "duration": 18,
    "start_time": "2022-03-08T15:55:04.500Z"
   },
   {
    "duration": 29,
    "start_time": "2022-03-08T16:00:42.007Z"
   },
   {
    "duration": 18,
    "start_time": "2022-03-08T16:01:33.176Z"
   },
   {
    "duration": 715,
    "start_time": "2022-03-17T07:48:28.712Z"
   },
   {
    "duration": 20,
    "start_time": "2022-03-17T07:48:29.430Z"
   },
   {
    "duration": 32,
    "start_time": "2022-03-17T07:48:29.453Z"
   },
   {
    "duration": 25,
    "start_time": "2022-03-17T07:48:29.488Z"
   },
   {
    "duration": 73,
    "start_time": "2022-03-17T07:48:29.515Z"
   },
   {
    "duration": 24,
    "start_time": "2022-03-17T07:48:29.590Z"
   },
   {
    "duration": 22,
    "start_time": "2022-03-17T07:48:29.617Z"
   },
   {
    "duration": 53,
    "start_time": "2022-03-17T07:48:29.641Z"
   },
   {
    "duration": 22,
    "start_time": "2022-03-17T07:52:02.541Z"
   },
   {
    "duration": 67,
    "start_time": "2022-03-18T09:21:15.039Z"
   },
   {
    "duration": 81,
    "start_time": "2022-03-18T09:21:30.497Z"
   },
   {
    "duration": 19,
    "start_time": "2022-03-18T09:35:16.338Z"
   },
   {
    "duration": 30,
    "start_time": "2022-03-18T09:35:49.942Z"
   },
   {
    "duration": 18,
    "start_time": "2022-03-18T09:36:14.277Z"
   },
   {
    "duration": 21,
    "start_time": "2022-03-18T09:37:27.321Z"
   },
   {
    "duration": 21,
    "start_time": "2022-03-18T09:37:47.004Z"
   },
   {
    "duration": 18,
    "start_time": "2022-03-18T09:40:21.596Z"
   },
   {
    "duration": 85,
    "start_time": "2022-03-18T09:40:29.781Z"
   },
   {
    "duration": 28,
    "start_time": "2022-03-18T09:41:01.510Z"
   },
   {
    "duration": 19,
    "start_time": "2022-03-18T09:41:13.825Z"
   },
   {
    "duration": 12,
    "start_time": "2022-03-18T09:41:22.743Z"
   },
   {
    "duration": 20,
    "start_time": "2022-03-18T09:41:37.024Z"
   },
   {
    "duration": 20,
    "start_time": "2022-03-18T09:42:27.784Z"
   },
   {
    "duration": 28,
    "start_time": "2022-03-18T09:45:33.342Z"
   },
   {
    "duration": 28,
    "start_time": "2022-03-18T09:46:52.039Z"
   },
   {
    "duration": 29,
    "start_time": "2022-03-18T09:47:05.056Z"
   },
   {
    "duration": 29,
    "start_time": "2022-03-18T09:47:10.253Z"
   },
   {
    "duration": 22,
    "start_time": "2022-03-18T09:47:59.356Z"
   },
   {
    "duration": 19,
    "start_time": "2022-03-18T09:48:49.731Z"
   },
   {
    "duration": 19,
    "start_time": "2022-03-18T09:49:33.341Z"
   },
   {
    "duration": 33,
    "start_time": "2022-03-18T09:53:05.709Z"
   },
   {
    "duration": 47,
    "start_time": "2022-03-18T09:53:26.354Z"
   },
   {
    "duration": 32,
    "start_time": "2022-03-18T09:54:30.257Z"
   },
   {
    "duration": 39,
    "start_time": "2022-03-18T10:01:55.954Z"
   },
   {
    "duration": 15,
    "start_time": "2022-03-18T10:05:21.722Z"
   },
   {
    "duration": 18,
    "start_time": "2022-03-18T10:05:29.153Z"
   },
   {
    "duration": 20,
    "start_time": "2022-03-18T10:06:22.042Z"
   },
   {
    "duration": 19,
    "start_time": "2022-03-18T10:06:41.706Z"
   },
   {
    "duration": 15,
    "start_time": "2022-03-18T10:06:45.482Z"
   },
   {
    "duration": 17,
    "start_time": "2022-03-18T10:08:34.118Z"
   },
   {
    "duration": 17,
    "start_time": "2022-03-18T10:09:08.206Z"
   },
   {
    "duration": 17,
    "start_time": "2022-03-18T10:09:14.211Z"
   },
   {
    "duration": 16,
    "start_time": "2022-03-18T10:09:45.622Z"
   },
   {
    "duration": 16,
    "start_time": "2022-03-18T10:09:49.534Z"
   },
   {
    "duration": 15,
    "start_time": "2022-03-18T10:10:41.979Z"
   },
   {
    "duration": 17,
    "start_time": "2022-03-18T10:10:44.135Z"
   },
   {
    "duration": 15,
    "start_time": "2022-03-18T10:11:04.347Z"
   },
   {
    "duration": 17,
    "start_time": "2022-03-18T10:11:06.573Z"
   },
   {
    "duration": 15,
    "start_time": "2022-03-18T10:11:17.369Z"
   },
   {
    "duration": 16,
    "start_time": "2022-03-18T10:11:19.977Z"
   },
   {
    "duration": 14,
    "start_time": "2022-03-18T10:11:29.581Z"
   },
   {
    "duration": 17,
    "start_time": "2022-03-18T10:11:32.432Z"
   },
   {
    "duration": 64,
    "start_time": "2022-03-18T10:13:33.378Z"
   },
   {
    "duration": 64,
    "start_time": "2022-03-18T10:13:52.138Z"
   },
   {
    "duration": 57,
    "start_time": "2022-03-18T10:14:14.294Z"
   },
   {
    "duration": 58,
    "start_time": "2022-03-18T10:14:42.198Z"
   },
   {
    "duration": 60,
    "start_time": "2022-03-18T10:15:15.869Z"
   },
   {
    "duration": 77,
    "start_time": "2022-03-18T10:16:18.057Z"
   },
   {
    "duration": 15,
    "start_time": "2022-03-18T10:17:00.012Z"
   },
   {
    "duration": 15,
    "start_time": "2022-03-18T10:17:02.140Z"
   },
   {
    "duration": 72,
    "start_time": "2022-03-18T10:17:31.779Z"
   },
   {
    "duration": 20,
    "start_time": "2022-03-18T10:17:37.695Z"
   },
   {
    "duration": 19,
    "start_time": "2022-03-18T10:17:46.599Z"
   },
   {
    "duration": 19,
    "start_time": "2022-03-18T10:18:05.060Z"
   },
   {
    "duration": 18,
    "start_time": "2022-03-18T10:18:11.458Z"
   },
   {
    "duration": 19,
    "start_time": "2022-03-18T10:18:26.224Z"
   },
   {
    "duration": 19,
    "start_time": "2022-03-18T10:18:51.794Z"
   },
   {
    "duration": 23,
    "start_time": "2022-03-18T10:19:18.229Z"
   },
   {
    "duration": 22,
    "start_time": "2022-03-18T10:19:21.831Z"
   },
   {
    "duration": 16,
    "start_time": "2022-03-18T10:19:48.303Z"
   },
   {
    "duration": 19,
    "start_time": "2022-03-18T10:25:31.846Z"
   },
   {
    "duration": 16,
    "start_time": "2022-03-18T10:25:37.305Z"
   },
   {
    "duration": 17,
    "start_time": "2022-03-18T10:26:08.693Z"
   },
   {
    "duration": 18,
    "start_time": "2022-03-18T10:26:11.921Z"
   },
   {
    "duration": 31,
    "start_time": "2022-03-18T10:26:41.143Z"
   },
   {
    "duration": 18,
    "start_time": "2022-03-18T10:26:44.742Z"
   },
   {
    "duration": 38,
    "start_time": "2022-03-18T10:26:53.434Z"
   },
   {
    "duration": 19,
    "start_time": "2022-03-18T10:26:56.893Z"
   },
   {
    "duration": 17,
    "start_time": "2022-03-18T10:26:59.807Z"
   },
   {
    "duration": 16,
    "start_time": "2022-03-18T10:27:02.928Z"
   },
   {
    "duration": 19,
    "start_time": "2022-03-18T10:27:05.400Z"
   },
   {
    "duration": 16,
    "start_time": "2022-03-18T10:30:39.698Z"
   },
   {
    "duration": 18,
    "start_time": "2022-03-18T10:30:46.996Z"
   },
   {
    "duration": 17,
    "start_time": "2022-03-18T10:30:49.145Z"
   },
   {
    "duration": 44,
    "start_time": "2022-03-18T10:32:20.045Z"
   },
   {
    "duration": 17,
    "start_time": "2022-03-18T10:32:26.869Z"
   },
   {
    "duration": 19,
    "start_time": "2022-03-18T10:32:36.207Z"
   },
   {
    "duration": 85,
    "start_time": "2022-03-18T10:32:45.436Z"
   },
   {
    "duration": 17,
    "start_time": "2022-03-18T10:32:49.673Z"
   },
   {
    "duration": 31,
    "start_time": "2022-03-18T10:32:58.852Z"
   },
   {
    "duration": 15,
    "start_time": "2022-03-18T10:33:01.454Z"
   },
   {
    "duration": 39,
    "start_time": "2022-03-18T10:33:10.647Z"
   },
   {
    "duration": 21,
    "start_time": "2022-03-18T10:33:15.497Z"
   },
   {
    "duration": 19,
    "start_time": "2022-03-18T10:33:17.997Z"
   },
   {
    "duration": 16,
    "start_time": "2022-03-18T10:33:20.862Z"
   },
   {
    "duration": 17,
    "start_time": "2022-03-18T10:33:23.221Z"
   },
   {
    "duration": 6,
    "start_time": "2022-03-18T10:34:41.601Z"
   },
   {
    "duration": 18,
    "start_time": "2022-03-18T10:37:34.840Z"
   },
   {
    "duration": 16,
    "start_time": "2022-03-18T10:37:58.110Z"
   },
   {
    "duration": 16,
    "start_time": "2022-03-18T10:38:04.105Z"
   },
   {
    "duration": 15,
    "start_time": "2022-03-18T10:38:45.525Z"
   },
   {
    "duration": 17,
    "start_time": "2022-03-18T10:38:47.861Z"
   },
   {
    "duration": 16,
    "start_time": "2022-03-18T10:39:17.918Z"
   },
   {
    "duration": 15,
    "start_time": "2022-03-18T10:39:21.080Z"
   },
   {
    "duration": 21,
    "start_time": "2022-03-18T10:39:24.158Z"
   },
   {
    "duration": 15,
    "start_time": "2022-03-18T10:39:38.345Z"
   },
   {
    "duration": 14,
    "start_time": "2022-03-18T10:39:41.193Z"
   },
   {
    "duration": 76,
    "start_time": "2022-03-18T10:40:30.591Z"
   },
   {
    "duration": 30,
    "start_time": "2022-03-18T10:40:51.936Z"
   },
   {
    "duration": 16,
    "start_time": "2022-03-18T10:40:54.534Z"
   },
   {
    "duration": 13,
    "start_time": "2022-03-18T10:41:00.884Z"
   },
   {
    "duration": 12,
    "start_time": "2022-03-18T10:41:09.964Z"
   },
   {
    "duration": 31,
    "start_time": "2022-03-18T10:41:12.788Z"
   },
   {
    "duration": 13,
    "start_time": "2022-03-18T10:41:17.159Z"
   },
   {
    "duration": 18,
    "start_time": "2022-03-18T10:41:21.563Z"
   },
   {
    "duration": 38,
    "start_time": "2022-03-18T10:41:25.884Z"
   },
   {
    "duration": 16,
    "start_time": "2022-03-18T10:41:28.619Z"
   },
   {
    "duration": 38,
    "start_time": "2022-03-18T10:41:36.837Z"
   },
   {
    "duration": 17,
    "start_time": "2022-03-18T10:41:40.279Z"
   },
   {
    "duration": 17,
    "start_time": "2022-03-18T10:41:42.821Z"
   },
   {
    "duration": 15,
    "start_time": "2022-03-18T10:41:45.353Z"
   },
   {
    "duration": 17,
    "start_time": "2022-03-18T10:41:50.739Z"
   },
   {
    "duration": 10,
    "start_time": "2022-03-18T10:53:09.689Z"
   },
   {
    "duration": 8,
    "start_time": "2022-03-18T10:54:29.898Z"
   },
   {
    "duration": 8,
    "start_time": "2022-03-18T10:55:14.617Z"
   },
   {
    "duration": 20,
    "start_time": "2022-03-18T10:56:03.097Z"
   },
   {
    "duration": 16,
    "start_time": "2022-03-18T10:56:27.784Z"
   },
   {
    "duration": 9,
    "start_time": "2022-03-18T10:57:17.762Z"
   },
   {
    "duration": 14,
    "start_time": "2022-03-18T10:58:01.770Z"
   },
   {
    "duration": 33,
    "start_time": "2022-03-18T10:58:58.841Z"
   },
   {
    "duration": 6,
    "start_time": "2022-03-18T11:01:39.796Z"
   },
   {
    "duration": 9,
    "start_time": "2022-03-18T11:03:17.590Z"
   },
   {
    "duration": 10,
    "start_time": "2022-03-18T11:04:33.129Z"
   },
   {
    "duration": 8,
    "start_time": "2022-03-18T11:06:00.216Z"
   },
   {
    "duration": 18,
    "start_time": "2022-03-18T11:06:06.638Z"
   },
   {
    "duration": 18,
    "start_time": "2022-03-18T11:06:24.007Z"
   },
   {
    "duration": 75,
    "start_time": "2022-03-18T11:06:32.114Z"
   },
   {
    "duration": 16,
    "start_time": "2022-03-18T11:06:38.441Z"
   },
   {
    "duration": 9,
    "start_time": "2022-03-18T11:06:43.432Z"
   },
   {
    "duration": 17,
    "start_time": "2022-03-18T11:06:46.222Z"
   },
   {
    "duration": 40,
    "start_time": "2022-03-18T11:06:51.765Z"
   },
   {
    "duration": 19,
    "start_time": "2022-03-18T11:06:58.120Z"
   },
   {
    "duration": 17,
    "start_time": "2022-03-18T11:07:00.790Z"
   },
   {
    "duration": 16,
    "start_time": "2022-03-18T11:07:03.936Z"
   },
   {
    "duration": 31,
    "start_time": "2022-03-18T11:07:13.297Z"
   },
   {
    "duration": 7,
    "start_time": "2022-03-18T11:07:41.859Z"
   },
   {
    "duration": 8,
    "start_time": "2022-03-18T11:07:49.493Z"
   },
   {
    "duration": 17,
    "start_time": "2022-03-18T11:07:55.974Z"
   },
   {
    "duration": 17,
    "start_time": "2022-03-18T11:08:08.816Z"
   },
   {
    "duration": 72,
    "start_time": "2022-03-18T11:08:21.728Z"
   },
   {
    "duration": 16,
    "start_time": "2022-03-18T11:08:27.272Z"
   },
   {
    "duration": 10,
    "start_time": "2022-03-18T11:08:47.178Z"
   },
   {
    "duration": 13,
    "start_time": "2022-03-18T11:09:00.927Z"
   },
   {
    "duration": 7,
    "start_time": "2022-03-18T11:09:12.793Z"
   },
   {
    "duration": 3,
    "start_time": "2022-03-18T11:09:20.368Z"
   },
   {
    "duration": 15,
    "start_time": "2022-03-18T11:09:27.512Z"
   },
   {
    "duration": 38,
    "start_time": "2022-03-18T11:09:36.056Z"
   },
   {
    "duration": 19,
    "start_time": "2022-03-18T11:09:40.120Z"
   },
   {
    "duration": 18,
    "start_time": "2022-03-18T11:09:43.790Z"
   },
   {
    "duration": 18,
    "start_time": "2022-03-18T11:09:46.943Z"
   },
   {
    "duration": 34,
    "start_time": "2022-03-18T11:09:52.192Z"
   },
   {
    "duration": 1217,
    "start_time": "2022-03-18T11:13:52.932Z"
   },
   {
    "duration": 129,
    "start_time": "2022-03-18T11:14:11.606Z"
   },
   {
    "duration": 1503,
    "start_time": "2022-03-18T11:14:18.915Z"
   },
   {
    "duration": 1222,
    "start_time": "2022-03-18T11:14:31.091Z"
   },
   {
    "duration": 118,
    "start_time": "2022-03-18T11:14:54.460Z"
   },
   {
    "duration": 15,
    "start_time": "2022-03-18T11:15:11.061Z"
   },
   {
    "duration": 43,
    "start_time": "2022-03-18T11:15:26.987Z"
   },
   {
    "duration": 38,
    "start_time": "2022-03-18T11:15:49.894Z"
   },
   {
    "duration": 39,
    "start_time": "2022-03-18T11:16:33.476Z"
   },
   {
    "duration": 38,
    "start_time": "2022-03-18T11:16:45.124Z"
   },
   {
    "duration": 39,
    "start_time": "2022-03-18T11:30:14.331Z"
   },
   {
    "duration": 22,
    "start_time": "2022-03-18T11:33:44.885Z"
   },
   {
    "duration": 1467,
    "start_time": "2022-03-18T11:34:15.911Z"
   },
   {
    "duration": 39,
    "start_time": "2022-03-18T11:35:00.070Z"
   },
   {
    "duration": 22,
    "start_time": "2022-03-18T11:36:44.776Z"
   },
   {
    "duration": 41,
    "start_time": "2022-03-18T11:37:04.658Z"
   },
   {
    "duration": 40,
    "start_time": "2022-03-18T11:39:15.382Z"
   },
   {
    "duration": 470,
    "start_time": "2022-03-19T05:29:34.335Z"
   },
   {
    "duration": 16,
    "start_time": "2022-03-19T05:29:34.807Z"
   },
   {
    "duration": 2,
    "start_time": "2022-03-19T05:29:34.824Z"
   },
   {
    "duration": 14,
    "start_time": "2022-03-19T05:29:34.837Z"
   },
   {
    "duration": 36,
    "start_time": "2022-03-19T05:29:34.853Z"
   },
   {
    "duration": 17,
    "start_time": "2022-03-19T05:29:34.890Z"
   },
   {
    "duration": 37,
    "start_time": "2022-03-19T05:29:34.908Z"
   },
   {
    "duration": 16,
    "start_time": "2022-03-19T05:29:34.946Z"
   },
   {
    "duration": 83,
    "start_time": "2022-03-19T05:29:34.963Z"
   },
   {
    "duration": 105,
    "start_time": "2022-03-19T05:29:59.665Z"
   },
   {
    "duration": 38,
    "start_time": "2022-03-19T05:30:04.623Z"
   },
   {
    "duration": 73,
    "start_time": "2022-03-20T14:34:39.778Z"
   },
   {
    "duration": 670,
    "start_time": "2022-03-20T14:35:08.512Z"
   },
   {
    "duration": 51,
    "start_time": "2022-03-20T14:35:21.388Z"
   },
   {
    "duration": 24,
    "start_time": "2022-03-20T14:35:32.849Z"
   },
   {
    "duration": 61,
    "start_time": "2022-03-20T14:35:39.416Z"
   },
   {
    "duration": 30,
    "start_time": "2022-03-20T14:35:46.301Z"
   },
   {
    "duration": 90,
    "start_time": "2022-03-20T14:35:54.116Z"
   },
   {
    "duration": 25,
    "start_time": "2022-03-20T14:36:02.441Z"
   },
   {
    "duration": 22,
    "start_time": "2022-03-20T14:36:08.570Z"
   },
   {
    "duration": 23,
    "start_time": "2022-03-20T14:36:15.048Z"
   },
   {
    "duration": 58,
    "start_time": "2022-03-20T14:37:22.588Z"
   },
   {
    "duration": 38,
    "start_time": "2022-03-20T14:38:40.012Z"
   },
   {
    "duration": 26,
    "start_time": "2022-03-20T14:43:57.474Z"
   },
   {
    "duration": 30,
    "start_time": "2022-03-20T14:45:27.479Z"
   },
   {
    "duration": 27,
    "start_time": "2022-03-20T14:45:31.615Z"
   },
   {
    "duration": 20,
    "start_time": "2022-03-20T14:45:54.337Z"
   },
   {
    "duration": 20,
    "start_time": "2022-03-20T14:46:20.973Z"
   },
   {
    "duration": 26,
    "start_time": "2022-03-20T14:46:30.693Z"
   },
   {
    "duration": 212,
    "start_time": "2022-03-20T14:48:09.102Z"
   },
   {
    "duration": 191,
    "start_time": "2022-03-20T14:48:37.345Z"
   },
   {
    "duration": 24,
    "start_time": "2022-03-20T14:48:51.102Z"
   },
   {
    "duration": 24,
    "start_time": "2022-03-20T14:49:00.595Z"
   },
   {
    "duration": 38,
    "start_time": "2022-03-20T14:49:08.510Z"
   },
   {
    "duration": 39,
    "start_time": "2022-03-20T14:49:43.745Z"
   },
   {
    "duration": 37,
    "start_time": "2022-03-20T14:51:08.571Z"
   },
   {
    "duration": 36,
    "start_time": "2022-03-20T14:51:21.581Z"
   },
   {
    "duration": 24,
    "start_time": "2022-03-20T14:52:42.334Z"
   },
   {
    "duration": 37,
    "start_time": "2022-03-20T14:52:48.664Z"
   },
   {
    "duration": 56,
    "start_time": "2022-03-20T14:53:47.004Z"
   },
   {
    "duration": 32,
    "start_time": "2022-03-20T14:54:50.886Z"
   },
   {
    "duration": 0,
    "start_time": "2022-03-20T14:55:49.259Z"
   },
   {
    "duration": 37,
    "start_time": "2022-03-20T14:56:03.282Z"
   },
   {
    "duration": 41,
    "start_time": "2022-03-20T14:57:13.252Z"
   },
   {
    "duration": 36,
    "start_time": "2022-03-20T14:57:33.604Z"
   },
   {
    "duration": 246,
    "start_time": "2022-03-20T14:58:49.699Z"
   },
   {
    "duration": 252,
    "start_time": "2022-03-20T15:00:19.728Z"
   },
   {
    "duration": 245,
    "start_time": "2022-03-20T15:00:43.761Z"
   },
   {
    "duration": 64,
    "start_time": "2022-03-20T15:02:53.482Z"
   },
   {
    "duration": 68,
    "start_time": "2022-03-20T15:03:03.317Z"
   },
   {
    "duration": 62,
    "start_time": "2022-03-20T15:03:21.724Z"
   },
   {
    "duration": 95,
    "start_time": "2022-03-20T15:05:36.621Z"
   },
   {
    "duration": 65,
    "start_time": "2022-03-20T15:08:13.051Z"
   },
   {
    "duration": 72,
    "start_time": "2022-03-20T15:08:21.744Z"
   },
   {
    "duration": 65,
    "start_time": "2022-03-20T15:08:39.632Z"
   },
   {
    "duration": 62,
    "start_time": "2022-03-20T15:09:44.647Z"
   },
   {
    "duration": 64,
    "start_time": "2022-03-20T15:09:56.768Z"
   },
   {
    "duration": 66,
    "start_time": "2022-03-20T15:10:10.736Z"
   },
   {
    "duration": 64,
    "start_time": "2022-03-20T15:10:26.997Z"
   },
   {
    "duration": 100,
    "start_time": "2022-03-20T15:28:59.063Z"
   },
   {
    "duration": 200,
    "start_time": "2022-03-20T15:29:14.524Z"
   },
   {
    "duration": 110,
    "start_time": "2022-03-20T15:29:26.111Z"
   },
   {
    "duration": 105,
    "start_time": "2022-03-20T15:30:04.391Z"
   },
   {
    "duration": 24,
    "start_time": "2022-03-20T15:32:38.533Z"
   },
   {
    "duration": 24,
    "start_time": "2022-03-20T15:36:31.072Z"
   },
   {
    "duration": 548,
    "start_time": "2022-03-21T04:13:20.970Z"
   },
   {
    "duration": 137,
    "start_time": "2022-03-21T04:13:21.520Z"
   },
   {
    "duration": 0,
    "start_time": "2022-03-21T04:13:21.659Z"
   },
   {
    "duration": 0,
    "start_time": "2022-03-21T04:13:21.660Z"
   },
   {
    "duration": 0,
    "start_time": "2022-03-21T04:13:21.662Z"
   },
   {
    "duration": 0,
    "start_time": "2022-03-21T04:13:21.663Z"
   },
   {
    "duration": 0,
    "start_time": "2022-03-21T04:13:21.664Z"
   },
   {
    "duration": 0,
    "start_time": "2022-03-21T04:13:21.665Z"
   },
   {
    "duration": 0,
    "start_time": "2022-03-21T04:13:21.667Z"
   },
   {
    "duration": 0,
    "start_time": "2022-03-21T04:13:21.668Z"
   },
   {
    "duration": 0,
    "start_time": "2022-03-21T04:13:21.669Z"
   },
   {
    "duration": 510,
    "start_time": "2022-03-21T04:13:42.810Z"
   },
   {
    "duration": 19,
    "start_time": "2022-03-21T04:13:43.323Z"
   },
   {
    "duration": 57,
    "start_time": "2022-03-21T04:13:43.345Z"
   },
   {
    "duration": 19,
    "start_time": "2022-03-21T04:13:43.404Z"
   },
   {
    "duration": 79,
    "start_time": "2022-03-21T04:13:43.426Z"
   },
   {
    "duration": 50,
    "start_time": "2022-03-21T04:13:43.508Z"
   },
   {
    "duration": 70,
    "start_time": "2022-03-21T04:13:43.561Z"
   },
   {
    "duration": 68,
    "start_time": "2022-03-21T04:13:43.633Z"
   },
   {
    "duration": 47,
    "start_time": "2022-03-21T04:13:43.704Z"
   }
  ],
  "kernelspec": {
   "display_name": "Python 3 (ipykernel)",
   "language": "python",
   "name": "python3"
  },
  "language_info": {
   "codemirror_mode": {
    "name": "ipython",
    "version": 3
   },
   "file_extension": ".py",
   "mimetype": "text/x-python",
   "name": "python",
   "nbconvert_exporter": "python",
   "pygments_lexer": "ipython3",
   "version": "3.9.5"
  },
  "toc": {
   "base_numbering": 1,
   "nav_menu": {},
   "number_sections": true,
   "sideBar": true,
   "skip_h1_title": true,
   "title_cell": "Table of Contents",
   "title_sidebar": "Contents",
   "toc_cell": false,
   "toc_position": {},
   "toc_section_display": true,
   "toc_window_display": false
  }
 },
 "nbformat": 4,
 "nbformat_minor": 5
}
